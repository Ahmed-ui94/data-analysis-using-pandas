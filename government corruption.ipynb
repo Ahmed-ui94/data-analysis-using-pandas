{
 "cells": [
  {
   "cell_type": "code",
   "execution_count": 3,
   "id": "1013d949-3b32-49d6-bd17-fa34449440fd",
   "metadata": {},
   "outputs": [],
   "source": [
    "import pandas as pd\n",
    "import numpy as np\n",
    "import polars as pl"
   ]
  },
  {
   "cell_type": "code",
   "execution_count": 12,
   "id": "6da1655a-463b-426e-86e9-d519211fed41",
   "metadata": {},
   "outputs": [
    {
     "data": {
      "text/html": [
       "<div>\n",
       "<style scoped>\n",
       "    .dataframe tbody tr th:only-of-type {\n",
       "        vertical-align: middle;\n",
       "    }\n",
       "\n",
       "    .dataframe tbody tr th {\n",
       "        vertical-align: top;\n",
       "    }\n",
       "\n",
       "    .dataframe thead th {\n",
       "        text-align: right;\n",
       "    }\n",
       "</style>\n",
       "<table border=\"1\" class=\"dataframe\">\n",
       "  <thead>\n",
       "    <tr style=\"text-align: right;\">\n",
       "      <th></th>\n",
       "      <th>Country / Territory</th>\n",
       "      <th>ISO3</th>\n",
       "      <th>Region</th>\n",
       "      <th>CPI score 2022</th>\n",
       "      <th>Rank</th>\n",
       "      <th>Standard error</th>\n",
       "      <th>Number of sources</th>\n",
       "      <th>Lower CI</th>\n",
       "      <th>Upper CI</th>\n",
       "      <th>African Development Bank CPIA</th>\n",
       "      <th>...</th>\n",
       "      <th>Economist Intelligence Unit Country Ratings</th>\n",
       "      <th>Freedom House Nations in Transit</th>\n",
       "      <th>Global Insights Country Risk Ratings</th>\n",
       "      <th>IMD World Competitiveness Yearbook</th>\n",
       "      <th>PERC Asia Risk Guide</th>\n",
       "      <th>PRS International Country Risk Guide</th>\n",
       "      <th>Varieties of Democracy Project</th>\n",
       "      <th>World Bank CPIA</th>\n",
       "      <th>World Economic Forum EOS</th>\n",
       "      <th>World Justice Project Rule of Law Index</th>\n",
       "    </tr>\n",
       "  </thead>\n",
       "  <tbody>\n",
       "    <tr>\n",
       "      <th>0</th>\n",
       "      <td>Afghanistan</td>\n",
       "      <td>AFG</td>\n",
       "      <td>AP</td>\n",
       "      <td>24</td>\n",
       "      <td>150</td>\n",
       "      <td>6.299999</td>\n",
       "      <td>4</td>\n",
       "      <td>13.66800</td>\n",
       "      <td>34.33200</td>\n",
       "      <td>NaN</td>\n",
       "      <td>...</td>\n",
       "      <td>NaN</td>\n",
       "      <td>NaN</td>\n",
       "      <td>10</td>\n",
       "      <td>NaN</td>\n",
       "      <td>NaN</td>\n",
       "      <td>NaN</td>\n",
       "      <td>43.0</td>\n",
       "      <td>NaN</td>\n",
       "      <td>NaN</td>\n",
       "      <td>16.0</td>\n",
       "    </tr>\n",
       "    <tr>\n",
       "      <th>1</th>\n",
       "      <td>Albania</td>\n",
       "      <td>ALB</td>\n",
       "      <td>ECA</td>\n",
       "      <td>36</td>\n",
       "      <td>101</td>\n",
       "      <td>1.316355</td>\n",
       "      <td>8</td>\n",
       "      <td>33.84118</td>\n",
       "      <td>38.15882</td>\n",
       "      <td>NaN</td>\n",
       "      <td>...</td>\n",
       "      <td>37.0</td>\n",
       "      <td>42.0</td>\n",
       "      <td>35</td>\n",
       "      <td>NaN</td>\n",
       "      <td>NaN</td>\n",
       "      <td>32.0</td>\n",
       "      <td>27.0</td>\n",
       "      <td>NaN</td>\n",
       "      <td>42.0</td>\n",
       "      <td>29.0</td>\n",
       "    </tr>\n",
       "    <tr>\n",
       "      <th>2</th>\n",
       "      <td>Algeria</td>\n",
       "      <td>DZA</td>\n",
       "      <td>MENA</td>\n",
       "      <td>33</td>\n",
       "      <td>116</td>\n",
       "      <td>1.673809</td>\n",
       "      <td>6</td>\n",
       "      <td>30.25495</td>\n",
       "      <td>35.74504</td>\n",
       "      <td>NaN</td>\n",
       "      <td>...</td>\n",
       "      <td>37.0</td>\n",
       "      <td>NaN</td>\n",
       "      <td>35</td>\n",
       "      <td>NaN</td>\n",
       "      <td>NaN</td>\n",
       "      <td>24.0</td>\n",
       "      <td>29.0</td>\n",
       "      <td>NaN</td>\n",
       "      <td>NaN</td>\n",
       "      <td>36.0</td>\n",
       "    </tr>\n",
       "    <tr>\n",
       "      <th>3</th>\n",
       "      <td>Angola</td>\n",
       "      <td>AGO</td>\n",
       "      <td>SSA</td>\n",
       "      <td>33</td>\n",
       "      <td>116</td>\n",
       "      <td>2.807703</td>\n",
       "      <td>7</td>\n",
       "      <td>28.39537</td>\n",
       "      <td>37.60463</td>\n",
       "      <td>NaN</td>\n",
       "      <td>...</td>\n",
       "      <td>20.0</td>\n",
       "      <td>NaN</td>\n",
       "      <td>47</td>\n",
       "      <td>NaN</td>\n",
       "      <td>NaN</td>\n",
       "      <td>32.0</td>\n",
       "      <td>46.0</td>\n",
       "      <td>NaN</td>\n",
       "      <td>22.0</td>\n",
       "      <td>28.0</td>\n",
       "    </tr>\n",
       "    <tr>\n",
       "      <th>4</th>\n",
       "      <td>Argentina</td>\n",
       "      <td>ARG</td>\n",
       "      <td>AME</td>\n",
       "      <td>38</td>\n",
       "      <td>94</td>\n",
       "      <td>2.334808</td>\n",
       "      <td>7</td>\n",
       "      <td>34.17091</td>\n",
       "      <td>41.82909</td>\n",
       "      <td>NaN</td>\n",
       "      <td>...</td>\n",
       "      <td>37.0</td>\n",
       "      <td>NaN</td>\n",
       "      <td>35</td>\n",
       "      <td>24.0</td>\n",
       "      <td>NaN</td>\n",
       "      <td>32.0</td>\n",
       "      <td>47.0</td>\n",
       "      <td>NaN</td>\n",
       "      <td>NaN</td>\n",
       "      <td>44.0</td>\n",
       "    </tr>\n",
       "  </tbody>\n",
       "</table>\n",
       "<p>5 rows × 22 columns</p>\n",
       "</div>"
      ],
      "text/plain": [
       "  Country / Territory ISO3 Region  CPI score 2022  Rank  Standard error  \\\n",
       "0         Afghanistan  AFG     AP              24   150        6.299999   \n",
       "1             Albania  ALB    ECA              36   101        1.316355   \n",
       "2             Algeria  DZA   MENA              33   116        1.673809   \n",
       "3              Angola  AGO    SSA              33   116        2.807703   \n",
       "4           Argentina  ARG    AME              38    94        2.334808   \n",
       "\n",
       "   Number of sources  Lower CI  Upper CI  African Development Bank CPIA  ...  \\\n",
       "0                  4  13.66800  34.33200                            NaN  ...   \n",
       "1                  8  33.84118  38.15882                            NaN  ...   \n",
       "2                  6  30.25495  35.74504                            NaN  ...   \n",
       "3                  7  28.39537  37.60463                            NaN  ...   \n",
       "4                  7  34.17091  41.82909                            NaN  ...   \n",
       "\n",
       "   Economist Intelligence Unit Country Ratings  \\\n",
       "0                                          NaN   \n",
       "1                                         37.0   \n",
       "2                                         37.0   \n",
       "3                                         20.0   \n",
       "4                                         37.0   \n",
       "\n",
       "   Freedom House Nations in Transit  Global Insights Country Risk Ratings  \\\n",
       "0                               NaN                                    10   \n",
       "1                              42.0                                    35   \n",
       "2                               NaN                                    35   \n",
       "3                               NaN                                    47   \n",
       "4                               NaN                                    35   \n",
       "\n",
       "   IMD World Competitiveness Yearbook  PERC Asia Risk Guide  \\\n",
       "0                                 NaN                   NaN   \n",
       "1                                 NaN                   NaN   \n",
       "2                                 NaN                   NaN   \n",
       "3                                 NaN                   NaN   \n",
       "4                                24.0                   NaN   \n",
       "\n",
       "   PRS International Country Risk Guide  Varieties of Democracy Project  \\\n",
       "0                                   NaN                            43.0   \n",
       "1                                  32.0                            27.0   \n",
       "2                                  24.0                            29.0   \n",
       "3                                  32.0                            46.0   \n",
       "4                                  32.0                            47.0   \n",
       "\n",
       "   World Bank CPIA  World Economic Forum EOS  \\\n",
       "0              NaN                       NaN   \n",
       "1              NaN                      42.0   \n",
       "2              NaN                       NaN   \n",
       "3              NaN                      22.0   \n",
       "4              NaN                       NaN   \n",
       "\n",
       "   World Justice Project Rule of Law Index  \n",
       "0                                     16.0  \n",
       "1                                     29.0  \n",
       "2                                     36.0  \n",
       "3                                     28.0  \n",
       "4                                     44.0  \n",
       "\n",
       "[5 rows x 22 columns]"
      ]
     },
     "execution_count": 12,
     "metadata": {},
     "output_type": "execute_result"
    }
   ],
   "source": [
    "df = pd.read_excel(\"/Users/ahmedabukar/Downloads/cpi2022_globalresultstrends.xlsx\",\n",
    "                  sheet_name=\"CPI 2022 (final)\",\n",
    "                  header=2)\n",
    "df.head()"
   ]
  },
  {
   "cell_type": "code",
   "execution_count": 42,
   "id": "8417337b-8d9b-41d9-86da-d12c66bc67b3",
   "metadata": {},
   "outputs": [
    {
     "data": {
      "text/plain": [
       "Country / Territory\n",
       "Denmark        90\n",
       "Finland        87\n",
       "New Zealand    87\n",
       "Norway         84\n",
       "Sweden         83\n",
       "Name: CPI score 2022, dtype: int64"
      ]
     },
     "execution_count": 42,
     "metadata": {},
     "output_type": "execute_result"
    }
   ],
   "source": [
    "# what five countries were least corrupt in 2022\n",
    "df.set_index(\"Country / Territory\")[\"CPI score 2022\"].sort_values(ascending=False).head()"
   ]
  },
  {
   "cell_type": "code",
   "execution_count": 41,
   "id": "1af6ddc8-876c-4550-964d-06f1f86d39f4",
   "metadata": {},
   "outputs": [
    {
     "data": {
      "text/plain": [
       "Country / Territory\n",
       "Somalia        12\n",
       "Syria          13\n",
       "South Sudan    13\n",
       "Venezuela      14\n",
       "Yemen          16\n",
       "Name: CPI score 2022, dtype: int64"
      ]
     },
     "execution_count": 41,
     "metadata": {},
     "output_type": "execute_result"
    }
   ],
   "source": [
    "# what five countries were least corrupt in 2022?\n",
    "df.set_index(\"Country / Territory\")[\"CPI score 2022\"].sort_values().head()"
   ]
  },
  {
   "cell_type": "code",
   "execution_count": 34,
   "id": "a03e3197-ce43-4d4e-b0db-e87b6150621b",
   "metadata": {},
   "outputs": [
    {
     "data": {
      "text/plain": [
       "Region\n",
       "WE/EU    90\n",
       "WE/EU    87\n",
       "AP       87\n",
       "WE/EU    84\n",
       "WE/EU    83\n",
       "Name: CPI score 2022, dtype: int64"
      ]
     },
     "execution_count": 34,
     "metadata": {},
     "output_type": "execute_result"
    }
   ],
   "source": [
    "# which region of the world was least corrupt?\n",
    "(\n",
    "    df\n",
    "    .set_index(\"Region\")\n",
    "    [\"CPI score 2022\"]\n",
    "    .sort_values(ascending=False)\n",
    "    .head()\n",
    ")"
   ]
  },
  {
   "cell_type": "code",
   "execution_count": 38,
   "id": "267b50d7-524b-48b7-b0a3-432a0c1ca5e6",
   "metadata": {},
   "outputs": [
    {
     "data": {
      "text/plain": [
       "0       NaN\n",
       "1      37.0\n",
       "2      37.0\n",
       "3      20.0\n",
       "4      37.0\n",
       "       ... \n",
       "175    20.0\n",
       "176    37.0\n",
       "177    20.0\n",
       "178    37.0\n",
       "179    37.0\n",
       "Name: Economist Intelligence Unit Country Ratings, Length: 180, dtype: float64"
      ]
     },
     "execution_count": 38,
     "metadata": {},
     "output_type": "execute_result"
    }
   ],
   "source": [
    "# which five countries were the greatest improvers in 10 years?\n",
    "df[\"Economist Intelligence Unit Country Ratings\"]"
   ]
  },
  {
   "cell_type": "code",
   "execution_count": 37,
   "id": "f79b5fa4-d7a6-485f-990d-478b8c411c75",
   "metadata": {},
   "outputs": [
    {
     "data": {
      "text/plain": [
       "Index(['Country / Territory', 'ISO3', 'Region', 'CPI score 2022', 'Rank',\n",
       "       'Standard error', 'Number of sources', 'Lower CI', 'Upper CI',\n",
       "       'African Development Bank CPIA',\n",
       "       'Bertelsmann Foundation Sustainable Governance Index',\n",
       "       'Bertelsmann Foundation Transformation Index',\n",
       "       'Economist Intelligence Unit Country Ratings',\n",
       "       'Freedom House Nations in Transit',\n",
       "       'Global Insights Country Risk Ratings',\n",
       "       'IMD World Competitiveness Yearbook', 'PERC Asia Risk Guide',\n",
       "       'PRS International Country Risk Guide',\n",
       "       'Varieties of Democracy Project', 'World Bank CPIA',\n",
       "       'World Economic Forum EOS', 'World Justice Project Rule of Law Index'],\n",
       "      dtype='object')"
      ]
     },
     "execution_count": 37,
     "metadata": {},
     "output_type": "execute_result"
    }
   ],
   "source": [
    "df.columns"
   ]
  },
  {
   "cell_type": "code",
   "execution_count": 31,
   "id": "0589a5b0-29c7-4a5e-ba9e-a18a604c58d2",
   "metadata": {},
   "outputs": [
    {
     "data": {
      "text/plain": [
       "42     90\n",
       "55     87\n",
       "116    87\n",
       "121    84\n",
       "154    83\n",
       "       ..\n",
       "177    16\n",
       "175    14\n",
       "156    13\n",
       "149    13\n",
       "147    12\n",
       "Name: CPI score 2022, Length: 180, dtype: int64"
      ]
     },
     "execution_count": 31,
     "metadata": {},
     "output_type": "execute_result"
    }
   ],
   "source": []
  },
  {
   "cell_type": "code",
   "execution_count": null,
   "id": "a7cda963-e622-423c-b8a3-1a357b1bd36a",
   "metadata": {},
   "outputs": [],
   "source": []
  }
 ],
 "metadata": {
  "kernelspec": {
   "display_name": "Python 3 (ipykernel)",
   "language": "python",
   "name": "python3"
  },
  "language_info": {
   "codemirror_mode": {
    "name": "ipython",
    "version": 3
   },
   "file_extension": ".py",
   "mimetype": "text/x-python",
   "name": "python",
   "nbconvert_exporter": "python",
   "pygments_lexer": "ipython3",
   "version": "3.12.4"
  }
 },
 "nbformat": 4,
 "nbformat_minor": 5
}
