{
 "cells": [
  {
   "cell_type": "code",
   "execution_count": 1,
   "id": "c7753c8f-e040-4618-b590-dbe936b820e0",
   "metadata": {},
   "outputs": [],
   "source": [
    "import pandas as pd\n",
    "import numpy as np"
   ]
  },
  {
   "cell_type": "code",
   "execution_count": 23,
   "id": "efde7bf8-d6ee-48dc-9816-76d00e6be7a1",
   "metadata": {},
   "outputs": [],
   "source": [
    "monthly_prices = pd.read_excel(\"IEA_Energy_Prices_Monthly.xlsx\", sheet_name=\"raw_data\",\n",
    "                              na_values=\"..\")"
   ]
  },
  {
   "cell_type": "code",
   "execution_count": 24,
   "id": "77a7c058-b1cd-43f4-97ba-af9c2f3e7a84",
   "metadata": {},
   "outputs": [
    {
     "data": {
      "text/html": [
       "<div>\n",
       "<style scoped>\n",
       "    .dataframe tbody tr th:only-of-type {\n",
       "        vertical-align: middle;\n",
       "    }\n",
       "\n",
       "    .dataframe tbody tr th {\n",
       "        vertical-align: top;\n",
       "    }\n",
       "\n",
       "    .dataframe thead th {\n",
       "        text-align: right;\n",
       "    }\n",
       "</style>\n",
       "<table border=\"1\" class=\"dataframe\">\n",
       "  <thead>\n",
       "    <tr style=\"text-align: right;\">\n",
       "      <th></th>\n",
       "      <th>COUNTRY</th>\n",
       "      <th>PRODUCT</th>\n",
       "      <th>FLOW</th>\n",
       "      <th>UNIT</th>\n",
       "      <th>TIME</th>\n",
       "      <th>VALUE</th>\n",
       "    </tr>\n",
       "  </thead>\n",
       "  <tbody>\n",
       "    <tr>\n",
       "      <th>0</th>\n",
       "      <td>Austria</td>\n",
       "      <td>Gasoline (unit/litre)</td>\n",
       "      <td>Total Price</td>\n",
       "      <td>National currency</td>\n",
       "      <td>2015-01-01</td>\n",
       "      <td>1.13</td>\n",
       "    </tr>\n",
       "    <tr>\n",
       "      <th>1</th>\n",
       "      <td>Austria</td>\n",
       "      <td>Gasoline (unit/litre)</td>\n",
       "      <td>Total Price</td>\n",
       "      <td>National currency</td>\n",
       "      <td>2015-02-01</td>\n",
       "      <td>1.16</td>\n",
       "    </tr>\n",
       "    <tr>\n",
       "      <th>2</th>\n",
       "      <td>Austria</td>\n",
       "      <td>Gasoline (unit/litre)</td>\n",
       "      <td>Total Price</td>\n",
       "      <td>National currency</td>\n",
       "      <td>2015-03-01</td>\n",
       "      <td>1.21</td>\n",
       "    </tr>\n",
       "    <tr>\n",
       "      <th>3</th>\n",
       "      <td>Austria</td>\n",
       "      <td>Gasoline (unit/litre)</td>\n",
       "      <td>Total Price</td>\n",
       "      <td>National currency</td>\n",
       "      <td>2015-04-01</td>\n",
       "      <td>1.24</td>\n",
       "    </tr>\n",
       "    <tr>\n",
       "      <th>4</th>\n",
       "      <td>Austria</td>\n",
       "      <td>Gasoline (unit/litre)</td>\n",
       "      <td>Total Price</td>\n",
       "      <td>National currency</td>\n",
       "      <td>2015-05-01</td>\n",
       "      <td>1.27</td>\n",
       "    </tr>\n",
       "    <tr>\n",
       "      <th>...</th>\n",
       "      <td>...</td>\n",
       "      <td>...</td>\n",
       "      <td>...</td>\n",
       "      <td>...</td>\n",
       "      <td>...</td>\n",
       "      <td>...</td>\n",
       "    </tr>\n",
       "    <tr>\n",
       "      <th>19795</th>\n",
       "      <td>India</td>\n",
       "      <td>Gasoline (unit/litre)</td>\n",
       "      <td>Total price</td>\n",
       "      <td>US dollars</td>\n",
       "      <td>2023-04-01</td>\n",
       "      <td>1.27</td>\n",
       "    </tr>\n",
       "    <tr>\n",
       "      <th>19796</th>\n",
       "      <td>India</td>\n",
       "      <td>Diesel (unit/litre)</td>\n",
       "      <td>Total price</td>\n",
       "      <td>National currency</td>\n",
       "      <td>2023-04-01</td>\n",
       "      <td>93.80</td>\n",
       "    </tr>\n",
       "    <tr>\n",
       "      <th>19797</th>\n",
       "      <td>India</td>\n",
       "      <td>Diesel (unit/litre)</td>\n",
       "      <td>Total price</td>\n",
       "      <td>US dollars</td>\n",
       "      <td>2023-04-01</td>\n",
       "      <td>1.14</td>\n",
       "    </tr>\n",
       "    <tr>\n",
       "      <th>19798</th>\n",
       "      <td>India</td>\n",
       "      <td>Domestic heating oil (unit/litre)</td>\n",
       "      <td>Total price</td>\n",
       "      <td>National currency</td>\n",
       "      <td>2023-04-01</td>\n",
       "      <td>NaN</td>\n",
       "    </tr>\n",
       "    <tr>\n",
       "      <th>19799</th>\n",
       "      <td>India</td>\n",
       "      <td>Domestic heating oil (unit/litre)</td>\n",
       "      <td>Total price</td>\n",
       "      <td>US dollars</td>\n",
       "      <td>2023-04-01</td>\n",
       "      <td>NaN</td>\n",
       "    </tr>\n",
       "  </tbody>\n",
       "</table>\n",
       "<p>19800 rows × 6 columns</p>\n",
       "</div>"
      ],
      "text/plain": [
       "       COUNTRY                            PRODUCT         FLOW   \n",
       "0      Austria              Gasoline (unit/litre)  Total Price  \\\n",
       "1      Austria              Gasoline (unit/litre)  Total Price   \n",
       "2      Austria              Gasoline (unit/litre)  Total Price   \n",
       "3      Austria              Gasoline (unit/litre)  Total Price   \n",
       "4      Austria              Gasoline (unit/litre)  Total Price   \n",
       "...        ...                                ...          ...   \n",
       "19795    India              Gasoline (unit/litre)  Total price   \n",
       "19796    India                Diesel (unit/litre)  Total price   \n",
       "19797    India                Diesel (unit/litre)  Total price   \n",
       "19798    India  Domestic heating oil (unit/litre)  Total price   \n",
       "19799    India  Domestic heating oil (unit/litre)  Total price   \n",
       "\n",
       "                    UNIT       TIME  VALUE  \n",
       "0      National currency 2015-01-01   1.13  \n",
       "1      National currency 2015-02-01   1.16  \n",
       "2      National currency 2015-03-01   1.21  \n",
       "3      National currency 2015-04-01   1.24  \n",
       "4      National currency 2015-05-01   1.27  \n",
       "...                  ...        ...    ...  \n",
       "19795         US dollars 2023-04-01   1.27  \n",
       "19796  National currency 2023-04-01  93.80  \n",
       "19797         US dollars 2023-04-01   1.14  \n",
       "19798  National currency 2023-04-01    NaN  \n",
       "19799         US dollars 2023-04-01    NaN  \n",
       "\n",
       "[19800 rows x 6 columns]"
      ]
     },
     "execution_count": 24,
     "metadata": {},
     "output_type": "execute_result"
    }
   ],
   "source": [
    "monthly_prices"
   ]
  },
  {
   "cell_type": "code",
   "execution_count": 25,
   "id": "9d88b70b-15e4-4cff-bbb7-d108e2693f16",
   "metadata": {},
   "outputs": [],
   "source": [
    "monthly_prices = monthly_prices[monthly_prices[\"VALUE\"] != \"..\"]"
   ]
  },
  {
   "cell_type": "code",
   "execution_count": 28,
   "id": "23e40b79-4c95-4e34-a9f6-719817c9773c",
   "metadata": {},
   "outputs": [
    {
     "data": {
      "text/html": [
       "<div>\n",
       "<style scoped>\n",
       "    .dataframe tbody tr th:only-of-type {\n",
       "        vertical-align: middle;\n",
       "    }\n",
       "\n",
       "    .dataframe tbody tr th {\n",
       "        vertical-align: top;\n",
       "    }\n",
       "\n",
       "    .dataframe thead th {\n",
       "        text-align: right;\n",
       "    }\n",
       "</style>\n",
       "<table border=\"1\" class=\"dataframe\">\n",
       "  <thead>\n",
       "    <tr style=\"text-align: right;\">\n",
       "      <th></th>\n",
       "      <th>COUNTRY</th>\n",
       "      <th>PRODUCT</th>\n",
       "      <th>FLOW</th>\n",
       "      <th>UNIT</th>\n",
       "      <th>TIME</th>\n",
       "      <th>VALUE</th>\n",
       "    </tr>\n",
       "  </thead>\n",
       "  <tbody>\n",
       "    <tr>\n",
       "      <th>0</th>\n",
       "      <td>Austria</td>\n",
       "      <td>Gasoline (unit/litre)</td>\n",
       "      <td>Total Price</td>\n",
       "      <td>National currency</td>\n",
       "      <td>2015-01-01</td>\n",
       "      <td>1.13</td>\n",
       "    </tr>\n",
       "    <tr>\n",
       "      <th>1</th>\n",
       "      <td>Austria</td>\n",
       "      <td>Gasoline (unit/litre)</td>\n",
       "      <td>Total Price</td>\n",
       "      <td>National currency</td>\n",
       "      <td>2015-02-01</td>\n",
       "      <td>1.16</td>\n",
       "    </tr>\n",
       "    <tr>\n",
       "      <th>2</th>\n",
       "      <td>Austria</td>\n",
       "      <td>Gasoline (unit/litre)</td>\n",
       "      <td>Total Price</td>\n",
       "      <td>National currency</td>\n",
       "      <td>2015-03-01</td>\n",
       "      <td>1.21</td>\n",
       "    </tr>\n",
       "    <tr>\n",
       "      <th>3</th>\n",
       "      <td>Austria</td>\n",
       "      <td>Gasoline (unit/litre)</td>\n",
       "      <td>Total Price</td>\n",
       "      <td>National currency</td>\n",
       "      <td>2015-04-01</td>\n",
       "      <td>1.24</td>\n",
       "    </tr>\n",
       "    <tr>\n",
       "      <th>4</th>\n",
       "      <td>Austria</td>\n",
       "      <td>Gasoline (unit/litre)</td>\n",
       "      <td>Total Price</td>\n",
       "      <td>National currency</td>\n",
       "      <td>2015-05-01</td>\n",
       "      <td>1.27</td>\n",
       "    </tr>\n",
       "    <tr>\n",
       "      <th>...</th>\n",
       "      <td>...</td>\n",
       "      <td>...</td>\n",
       "      <td>...</td>\n",
       "      <td>...</td>\n",
       "      <td>...</td>\n",
       "      <td>...</td>\n",
       "    </tr>\n",
       "    <tr>\n",
       "      <th>19795</th>\n",
       "      <td>India</td>\n",
       "      <td>Gasoline (unit/litre)</td>\n",
       "      <td>Total price</td>\n",
       "      <td>US dollars</td>\n",
       "      <td>2023-04-01</td>\n",
       "      <td>1.27</td>\n",
       "    </tr>\n",
       "    <tr>\n",
       "      <th>19796</th>\n",
       "      <td>India</td>\n",
       "      <td>Diesel (unit/litre)</td>\n",
       "      <td>Total price</td>\n",
       "      <td>National currency</td>\n",
       "      <td>2023-04-01</td>\n",
       "      <td>93.80</td>\n",
       "    </tr>\n",
       "    <tr>\n",
       "      <th>19797</th>\n",
       "      <td>India</td>\n",
       "      <td>Diesel (unit/litre)</td>\n",
       "      <td>Total price</td>\n",
       "      <td>US dollars</td>\n",
       "      <td>2023-04-01</td>\n",
       "      <td>1.14</td>\n",
       "    </tr>\n",
       "    <tr>\n",
       "      <th>19798</th>\n",
       "      <td>India</td>\n",
       "      <td>Domestic heating oil (unit/litre)</td>\n",
       "      <td>Total price</td>\n",
       "      <td>National currency</td>\n",
       "      <td>2023-04-01</td>\n",
       "      <td>NaN</td>\n",
       "    </tr>\n",
       "    <tr>\n",
       "      <th>19799</th>\n",
       "      <td>India</td>\n",
       "      <td>Domestic heating oil (unit/litre)</td>\n",
       "      <td>Total price</td>\n",
       "      <td>US dollars</td>\n",
       "      <td>2023-04-01</td>\n",
       "      <td>NaN</td>\n",
       "    </tr>\n",
       "  </tbody>\n",
       "</table>\n",
       "<p>19800 rows × 6 columns</p>\n",
       "</div>"
      ],
      "text/plain": [
       "       COUNTRY                            PRODUCT         FLOW   \n",
       "0      Austria              Gasoline (unit/litre)  Total Price  \\\n",
       "1      Austria              Gasoline (unit/litre)  Total Price   \n",
       "2      Austria              Gasoline (unit/litre)  Total Price   \n",
       "3      Austria              Gasoline (unit/litre)  Total Price   \n",
       "4      Austria              Gasoline (unit/litre)  Total Price   \n",
       "...        ...                                ...          ...   \n",
       "19795    India              Gasoline (unit/litre)  Total price   \n",
       "19796    India                Diesel (unit/litre)  Total price   \n",
       "19797    India                Diesel (unit/litre)  Total price   \n",
       "19798    India  Domestic heating oil (unit/litre)  Total price   \n",
       "19799    India  Domestic heating oil (unit/litre)  Total price   \n",
       "\n",
       "                    UNIT       TIME  VALUE  \n",
       "0      National currency 2015-01-01   1.13  \n",
       "1      National currency 2015-02-01   1.16  \n",
       "2      National currency 2015-03-01   1.21  \n",
       "3      National currency 2015-04-01   1.24  \n",
       "4      National currency 2015-05-01   1.27  \n",
       "...                  ...        ...    ...  \n",
       "19795         US dollars 2023-04-01   1.27  \n",
       "19796  National currency 2023-04-01  93.80  \n",
       "19797         US dollars 2023-04-01   1.14  \n",
       "19798  National currency 2023-04-01    NaN  \n",
       "19799         US dollars 2023-04-01    NaN  \n",
       "\n",
       "[19800 rows x 6 columns]"
      ]
     },
     "execution_count": 28,
     "metadata": {},
     "output_type": "execute_result"
    }
   ],
   "source": [
    "monthly_prices[monthly_prices['VALUE'] != \"..\"]"
   ]
  },
  {
   "cell_type": "code",
   "execution_count": 27,
   "id": "e4b9a483-b67c-44d6-af27-cc5f6982e2f8",
   "metadata": {},
   "outputs": [],
   "source": [
    "#turn the VALUE column into float\n",
    "monthly_prices['VALUE'] = monthly_prices['VALUE'].astype(np.float64)"
   ]
  },
  {
   "cell_type": "code",
   "execution_count": 29,
   "id": "94005405-0fb0-4c6e-877d-1858eb802a54",
   "metadata": {},
   "outputs": [
    {
     "data": {
      "text/plain": [
       "COUNTRY            object\n",
       "PRODUCT            object\n",
       "FLOW               object\n",
       "UNIT               object\n",
       "TIME       datetime64[ns]\n",
       "VALUE             float64\n",
       "dtype: object"
      ]
     },
     "execution_count": 29,
     "metadata": {},
     "output_type": "execute_result"
    }
   ],
   "source": [
    "monthly_prices.dtypes"
   ]
  },
  {
   "cell_type": "code",
   "execution_count": 32,
   "id": "b3da2a35-0cc4-4f79-a20f-192d224c4bf1",
   "metadata": {},
   "outputs": [],
   "source": [
    "monthly_prices = monthly_prices[monthly_prices[\"UNIT\"] == \"US dollars\"]"
   ]
  },
  {
   "cell_type": "code",
   "execution_count": 36,
   "id": "bfc15203-5465-419d-a796-894b8543ee0a",
   "metadata": {},
   "outputs": [
    {
     "data": {
      "text/plain": [
       "COUNTRY\n",
       "Sweden             2.68\n",
       "Finland            2.67\n",
       "Denmark            2.62\n",
       "Netherlands        2.53\n",
       "Greece             2.53\n",
       "Germany            2.40\n",
       "United Kingdom     2.37\n",
       "Portugal           2.26\n",
       "Estonia            2.26\n",
       "Ireland            2.24\n",
       "France             2.24\n",
       "Italy              2.24\n",
       "Belgium            2.23\n",
       "Spain              2.23\n",
       "Latvia             2.20\n",
       "Lithuania          2.17\n",
       "Austria            2.17\n",
       "Romania            2.15\n",
       "Czech Republic     2.08\n",
       "Luxembourg         2.07\n",
       "Cyprus             2.01\n",
       "Slovak Republic    2.00\n",
       "Croatia            1.97\n",
       "Bulgaria           1.96\n",
       "Hungary            1.91\n",
       "Slovenia           1.87\n",
       "Poland             1.80\n",
       "Canada             1.75\n",
       "Malta              1.65\n",
       "United States      1.58\n",
       "Brazil             1.52\n",
       "India              1.51\n",
       "Japan              1.49\n",
       "Name: VALUE, dtype: float64"
      ]
     },
     "execution_count": 36,
     "metadata": {},
     "output_type": "execute_result"
    }
   ],
   "source": [
    "monthly_prices.groupby(\"COUNTRY\")[\"VALUE\"].max().sort_values(ascending=False)"
   ]
  },
  {
   "cell_type": "code",
   "execution_count": 39,
   "id": "92b2a23d-ac48-4cc8-8fd6-1a9e77c684a4",
   "metadata": {},
   "outputs": [
    {
     "data": {
      "text/html": [
       "<div>\n",
       "<style scoped>\n",
       "    .dataframe tbody tr th:only-of-type {\n",
       "        vertical-align: middle;\n",
       "    }\n",
       "\n",
       "    .dataframe tbody tr th {\n",
       "        vertical-align: top;\n",
       "    }\n",
       "\n",
       "    .dataframe thead th {\n",
       "        text-align: right;\n",
       "    }\n",
       "</style>\n",
       "<table border=\"1\" class=\"dataframe\">\n",
       "  <thead>\n",
       "    <tr style=\"text-align: right;\">\n",
       "      <th></th>\n",
       "      <th>COUNTRY</th>\n",
       "      <th>TIME</th>\n",
       "    </tr>\n",
       "  </thead>\n",
       "  <tbody>\n",
       "    <tr>\n",
       "      <th>17199</th>\n",
       "      <td>Sweden</td>\n",
       "      <td>2022-03-01</td>\n",
       "    </tr>\n",
       "  </tbody>\n",
       "</table>\n",
       "</div>"
      ],
      "text/plain": [
       "      COUNTRY       TIME\n",
       "17199  Sweden 2022-03-01"
      ]
     },
     "execution_count": 39,
     "metadata": {},
     "output_type": "execute_result"
    }
   ],
   "source": [
    "Highest = monthly_prices['VALUE'] == monthly_prices['VALUE'].max()\n",
    "monthly_prices.loc[Highest, ['COUNTRY', 'TIME']]"
   ]
  },
  {
   "cell_type": "code",
   "execution_count": 40,
   "id": "61c2300a-3f16-458d-a5a9-dfe8d0747456",
   "metadata": {},
   "outputs": [
    {
     "data": {
      "text/plain": [
       "PRODUCT\n",
       "Diesel (unit/litre)                  1.388030\n",
       "Domestic heating oil (unit/litre)    0.992507\n",
       "Gasoline (unit/litre)                1.468518\n",
       "Name: VALUE, dtype: float64"
      ]
     },
     "execution_count": 40,
     "metadata": {},
     "output_type": "execute_result"
    }
   ],
   "source": [
    "monthly_prices.groupby(\"PRODUCT\")[\"VALUE\"].mean()"
   ]
  },
  {
   "cell_type": "code",
   "execution_count": 41,
   "id": "05547eb5-7f77-4f35-93ad-c2ba78a72631",
   "metadata": {},
   "outputs": [
    {
     "data": {
      "text/plain": [
       "0"
      ]
     },
     "execution_count": 41,
     "metadata": {},
     "output_type": "execute_result"
    }
   ],
   "source": [
    "monthly_prices.duplicated().sum()"
   ]
  },
  {
   "cell_type": "code",
   "execution_count": null,
   "id": "707eb338-d846-44c3-96f3-e1a7b0d89ad8",
   "metadata": {},
   "outputs": [],
   "source": []
  }
 ],
 "metadata": {
  "kernelspec": {
   "display_name": "Python 3 (ipykernel)",
   "language": "python",
   "name": "python3"
  },
  "language_info": {
   "codemirror_mode": {
    "name": "ipython",
    "version": 3
   },
   "file_extension": ".py",
   "mimetype": "text/x-python",
   "name": "python",
   "nbconvert_exporter": "python",
   "pygments_lexer": "ipython3",
   "version": "3.9.19"
  }
 },
 "nbformat": 4,
 "nbformat_minor": 5
}
