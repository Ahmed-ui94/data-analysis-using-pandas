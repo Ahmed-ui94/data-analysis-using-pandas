{
 "cells": [
  {
   "cell_type": "code",
   "execution_count": 42,
   "id": "25b4c3cc-f28c-4a2f-be88-04fa62748c14",
   "metadata": {},
   "outputs": [],
   "source": [
    "import pandas as pd\n",
    "import numpy as np"
   ]
  },
  {
   "cell_type": "markdown",
   "id": "e04d5bbc-42bd-42ff-90f2-1419b2cef6a9",
   "metadata": {},
   "source": [
    "what does mean to clean data\n",
    "- Rename columns\n",
    "- Rename index\n",
    "- Remove irrevalant columns\n",
    "- Split one column into two\n",
    "- Combine two or more columns\n",
    "- Remove nondata rows\n",
    "- Remove repeated rows\n",
    "- Remove rows with missing data aka nan\n",
    "- Replace NAN data with a single value\n",
    "- Replace NAN data via interpolation\n",
    "- Stardandize strings\n",
    "- Fix typos in strings\n",
    "- Remove whitespaces in strings\n",
    "- Correct the types used in columns\n",
    "- Indentify and remove outliers"
   ]
  },
  {
   "cell_type": "code",
   "execution_count": 43,
   "id": "7f884ea2-8eec-4c42-a7c5-3a253a0e5051",
   "metadata": {},
   "outputs": [
    {
     "data": {
      "text/html": [
       "<div>\n",
       "<style scoped>\n",
       "    .dataframe tbody tr th:only-of-type {\n",
       "        vertical-align: middle;\n",
       "    }\n",
       "\n",
       "    .dataframe tbody tr th {\n",
       "        vertical-align: top;\n",
       "    }\n",
       "\n",
       "    .dataframe thead th {\n",
       "        text-align: right;\n",
       "    }\n",
       "</style>\n",
       "<table border=\"1\" class=\"dataframe\">\n",
       "  <thead>\n",
       "    <tr style=\"text-align: right;\">\n",
       "      <th></th>\n",
       "      <th>Plate ID</th>\n",
       "      <th>Registration State</th>\n",
       "      <th>Vehicle Make</th>\n",
       "      <th>Violation Time</th>\n",
       "      <th>Street Name</th>\n",
       "      <th>Vehicle Color</th>\n",
       "    </tr>\n",
       "  </thead>\n",
       "  <tbody>\n",
       "    <tr>\n",
       "      <th>0</th>\n",
       "      <td>J58JKX</td>\n",
       "      <td>NJ</td>\n",
       "      <td>HONDA</td>\n",
       "      <td>0523P</td>\n",
       "      <td>43 ST</td>\n",
       "      <td>BK</td>\n",
       "    </tr>\n",
       "    <tr>\n",
       "      <th>1</th>\n",
       "      <td>KRE6058</td>\n",
       "      <td>PA</td>\n",
       "      <td>ME/BE</td>\n",
       "      <td>0428P</td>\n",
       "      <td>UNION ST</td>\n",
       "      <td>BLK</td>\n",
       "    </tr>\n",
       "    <tr>\n",
       "      <th>2</th>\n",
       "      <td>444326R</td>\n",
       "      <td>NJ</td>\n",
       "      <td>LEXUS</td>\n",
       "      <td>0625A</td>\n",
       "      <td>CLERMONT AVENUE</td>\n",
       "      <td>BLACK</td>\n",
       "    </tr>\n",
       "    <tr>\n",
       "      <th>3</th>\n",
       "      <td>F728330</td>\n",
       "      <td>OH</td>\n",
       "      <td>CHEVR</td>\n",
       "      <td>1106A</td>\n",
       "      <td>DIVISION AVE</td>\n",
       "      <td>NaN</td>\n",
       "    </tr>\n",
       "    <tr>\n",
       "      <th>4</th>\n",
       "      <td>FMY9090</td>\n",
       "      <td>NY</td>\n",
       "      <td>JEEP</td>\n",
       "      <td>1253A</td>\n",
       "      <td>GRAND ST</td>\n",
       "      <td>GREY</td>\n",
       "    </tr>\n",
       "    <tr>\n",
       "      <th>...</th>\n",
       "      <td>...</td>\n",
       "      <td>...</td>\n",
       "      <td>...</td>\n",
       "      <td>...</td>\n",
       "      <td>...</td>\n",
       "      <td>...</td>\n",
       "    </tr>\n",
       "    <tr>\n",
       "      <th>12495729</th>\n",
       "      <td>62161MM</td>\n",
       "      <td>NY</td>\n",
       "      <td>FORD</td>\n",
       "      <td>1111A</td>\n",
       "      <td>3RD AVE</td>\n",
       "      <td>BR</td>\n",
       "    </tr>\n",
       "    <tr>\n",
       "      <th>12495730</th>\n",
       "      <td>GYE7330</td>\n",
       "      <td>NY</td>\n",
       "      <td>HONDA</td>\n",
       "      <td>0444P</td>\n",
       "      <td>PELHAM PARK DR</td>\n",
       "      <td>BLK</td>\n",
       "    </tr>\n",
       "    <tr>\n",
       "      <th>12495731</th>\n",
       "      <td>HNY4802</td>\n",
       "      <td>NY</td>\n",
       "      <td>FORD</td>\n",
       "      <td>0210A</td>\n",
       "      <td>LYDIG AVE</td>\n",
       "      <td>GY</td>\n",
       "    </tr>\n",
       "    <tr>\n",
       "      <th>12495732</th>\n",
       "      <td>T687081C</td>\n",
       "      <td>NY</td>\n",
       "      <td>TOYOT</td>\n",
       "      <td>0225P</td>\n",
       "      <td>E 68 STREET</td>\n",
       "      <td>BLK</td>\n",
       "    </tr>\n",
       "    <tr>\n",
       "      <th>12495733</th>\n",
       "      <td>3497ZN</td>\n",
       "      <td>WA</td>\n",
       "      <td>UTILI</td>\n",
       "      <td>0456A</td>\n",
       "      <td>W/S/O 182 STREET</td>\n",
       "      <td>WHITE</td>\n",
       "    </tr>\n",
       "  </tbody>\n",
       "</table>\n",
       "<p>12495734 rows × 6 columns</p>\n",
       "</div>"
      ],
      "text/plain": [
       "          Plate ID Registration State Vehicle Make Violation Time  \\\n",
       "0           J58JKX                 NJ        HONDA          0523P   \n",
       "1          KRE6058                 PA        ME/BE          0428P   \n",
       "2          444326R                 NJ        LEXUS          0625A   \n",
       "3          F728330                 OH        CHEVR          1106A   \n",
       "4          FMY9090                 NY         JEEP          1253A   \n",
       "...            ...                ...          ...            ...   \n",
       "12495729   62161MM                 NY         FORD          1111A   \n",
       "12495730   GYE7330                 NY        HONDA          0444P   \n",
       "12495731   HNY4802                 NY         FORD          0210A   \n",
       "12495732  T687081C                 NY        TOYOT          0225P   \n",
       "12495733    3497ZN                 WA        UTILI          0456A   \n",
       "\n",
       "               Street Name Vehicle Color  \n",
       "0                    43 ST            BK  \n",
       "1                 UNION ST           BLK  \n",
       "2          CLERMONT AVENUE         BLACK  \n",
       "3             DIVISION AVE           NaN  \n",
       "4                 GRAND ST          GREY  \n",
       "...                    ...           ...  \n",
       "12495729           3RD AVE            BR  \n",
       "12495730    PELHAM PARK DR           BLK  \n",
       "12495731         LYDIG AVE            GY  \n",
       "12495732       E 68 STREET           BLK  \n",
       "12495733  W/S/O 182 STREET         WHITE  \n",
       "\n",
       "[12495734 rows x 6 columns]"
      ]
     },
     "execution_count": 43,
     "metadata": {},
     "output_type": "execute_result"
    }
   ],
   "source": [
    "df = pd.read_csv(\"/Users/ahmedabukar/Downloads/pandas-workout-data/data/nyc-parking-violations-2020.csv\",\n",
    "                usecols=[\"Plate ID\", \"Registration State\", \"Vehicle Make\", \"Vehicle Color\", \n",
    "                         \"Violation Time\", \"Street Name\"])\n",
    "df"
   ]
  },
  {
   "cell_type": "code",
   "execution_count": 44,
   "id": "a29655ed-4926-4ae7-b151-a86bdb8db1b0",
   "metadata": {},
   "outputs": [
    {
     "data": {
      "text/plain": [
       "12495734"
      ]
     },
     "execution_count": 44,
     "metadata": {},
     "output_type": "execute_result"
    }
   ],
   "source": [
    "# how many rows are in the data frame when its read into memory?\n",
    "df.shape[0]"
   ]
  },
  {
   "cell_type": "code",
   "execution_count": 45,
   "id": "259eb8e6-eaa6-4841-b75a-1b42e5701284",
   "metadata": {},
   "outputs": [],
   "source": [
    "# remove rows with missing data(aka NAN)\n",
    "NaN_free_df = df.dropna()"
   ]
  },
  {
   "cell_type": "code",
   "execution_count": 46,
   "id": "0ba0fcd5-0303-4703-a9e8-c52bd473f44a",
   "metadata": {},
   "outputs": [
    {
     "data": {
      "text/plain": [
       "12048375"
      ]
     },
     "execution_count": 46,
     "metadata": {},
     "output_type": "execute_result"
    }
   ],
   "source": [
    "# how many rows remain after doing this prunning?\n",
    "NaN_free_df.shape[0]"
   ]
  },
  {
   "cell_type": "code",
   "execution_count": 47,
   "id": "f6c4e965-1a05-4f4d-bccd-4a5c2268c32d",
   "metadata": {},
   "outputs": [
    {
     "data": {
      "text/plain": [
       "'44,735,900'"
      ]
     },
     "execution_count": 47,
     "metadata": {},
     "output_type": "execute_result"
    }
   ],
   "source": [
    "#how much money will the city lose due to missing data? each ticket is $100\n",
    "f\"{(df.shape[0] - NaN_free_df.shape[0]) * 100:,}\""
   ]
  },
  {
   "cell_type": "code",
   "execution_count": 48,
   "id": "7f5979a1-9a9a-4bdd-9d4e-ea6829448fd1",
   "metadata": {},
   "outputs": [],
   "source": [
    "# drop NAN values in this columns plate id, state, car maker, and street?\n",
    "drop_with_condition = df.dropna(subset=[\"Plate ID\", \"Registration State\", \"Vehicle Make\", \"Street Name\"])"
   ]
  },
  {
   "cell_type": "code",
   "execution_count": 49,
   "id": "2ae683cc-b070-47ef-a34a-b8757a8020e8",
   "metadata": {},
   "outputs": [
    {
     "data": {
      "text/plain": [
       "'6,378,500'"
      ]
     },
     "execution_count": 49,
     "metadata": {},
     "output_type": "execute_result"
    }
   ],
   "source": [
    "#how much money will the city lose due to missing data? each ticket is $100\n",
    "f\"{(len(df) - len(drop_with_condition)) * 100:,}\""
   ]
  },
  {
   "cell_type": "code",
   "execution_count": 50,
   "id": "e1f254a7-3d39-4127-8530-682e5a200eac",
   "metadata": {},
   "outputs": [],
   "source": [
    "# drop NAN values in this columns plate id, state, and street?\n",
    "drop_with_condition1 = df.dropna(subset=[\"Plate ID\", \"Registration State\", \"Street Name\"])"
   ]
  },
  {
   "cell_type": "code",
   "execution_count": 51,
   "id": "3c7c07f1-2f62-4844-bf75-038754e5a86b",
   "metadata": {},
   "outputs": [
    {
     "data": {
      "text/plain": [
       "'161,800'"
      ]
     },
     "execution_count": 51,
     "metadata": {},
     "output_type": "execute_result"
    }
   ],
   "source": [
    "# how much money will city lose as result of this prunning?\n",
    "f\"{(len(df) - len(drop_with_condition1)) * 100:,}\""
   ]
  },
  {
   "cell_type": "markdown",
   "id": "116b4fc8-b03c-4261-8123-34739333d96c",
   "metadata": {},
   "source": [
    "## beyond exercise"
   ]
  },
  {
   "cell_type": "markdown",
   "id": "188b2453-da50-40a6-88bd-0957918f12c7",
   "metadata": {},
   "source": [
    "So far, you have specified which columns must be all non-null. But sometimes it’s OK for some columns to have null values, as long as it’s not too many. How many rows would you eliminate if you required at least three non-null values from the four columns Plate ID, Registration State, Vehicle Make, and Street Name?"
   ]
  },
  {
   "cell_type": "code",
   "execution_count": 52,
   "id": "2b201b47-f56a-4f1e-ad02-60871cef5f0a",
   "metadata": {},
   "outputs": [
    {
     "data": {
      "text/plain": [
       "253"
      ]
     },
     "execution_count": 52,
     "metadata": {},
     "output_type": "execute_result"
    }
   ],
   "source": [
    "# how many rows will you eliminate if you required at least three non-null values \n",
    "#from the four columns\n",
    "all_3_good_df = df.dropna(subset=[\"Plate ID\", \"Registration State\", \"Vehicle Make\", \"Street Name\"], thresh=3)\n",
    "len(df.index) - len(all_3_good_df.index)"
   ]
  },
  {
   "cell_type": "code",
   "execution_count": 53,
   "id": "9ec0fec9-4bb0-4aa7-9315-340824dbe1ba",
   "metadata": {},
   "outputs": [
    {
     "data": {
      "text/plain": [
       "Plate ID                 202\n",
       "Registration State         0\n",
       "Vehicle Make           62420\n",
       "Violation Time           278\n",
       "Street Name             1417\n",
       "Vehicle Color         391982\n",
       "dtype: int64"
      ]
     },
     "execution_count": 53,
     "metadata": {},
     "output_type": "execute_result"
    }
   ],
   "source": [
    "# which of the columns you have imported have the greatest number of NAN values? --..Vehicle make\n",
    "df.isnull().sum()"
   ]
  },
  {
   "cell_type": "code",
   "execution_count": 54,
   "id": "08ded702-bcc2-41d1-8e8f-51102426e34a",
   "metadata": {},
   "outputs": [],
   "source": [
    "# many cars with BLANKPLATE were ticketed, turn this into NAN values and repeate the previous query\n",
    "#df[\"Plate ID\"] = df.loc[df[\"Plate ID\"] != \"BLANKPLATE\", \"Plate ID\"]"
   ]
  },
  {
   "cell_type": "code",
   "execution_count": 55,
   "id": "5b344b82-d86f-4efa-80a5-f8a7d94fd47c",
   "metadata": {},
   "outputs": [
    {
     "data": {
      "text/plain": [
       "Plate ID                 202\n",
       "Registration State         0\n",
       "Vehicle Make           62420\n",
       "Violation Time           278\n",
       "Street Name             1417\n",
       "Vehicle Color         391982\n",
       "dtype: int64"
      ]
     },
     "execution_count": 55,
     "metadata": {},
     "output_type": "execute_result"
    }
   ],
   "source": [
    "df.isnull().sum()"
   ]
  },
  {
   "cell_type": "code",
   "execution_count": null,
   "id": "8a489a61-d5f6-4cb7-b528-28db10e182ed",
   "metadata": {},
   "outputs": [],
   "source": []
  }
 ],
 "metadata": {
  "kernelspec": {
   "display_name": "Python 3 (ipykernel)",
   "language": "python",
   "name": "python3"
  },
  "language_info": {
   "codemirror_mode": {
    "name": "ipython",
    "version": 3
   },
   "file_extension": ".py",
   "mimetype": "text/x-python",
   "name": "python",
   "nbconvert_exporter": "python",
   "pygments_lexer": "ipython3",
   "version": "3.11.7"
  }
 },
 "nbformat": 4,
 "nbformat_minor": 5
}
