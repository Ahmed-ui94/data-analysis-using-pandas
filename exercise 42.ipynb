{
 "cells": [
  {
   "cell_type": "code",
   "execution_count": 1,
   "id": "a95bedaa-9417-4922-8001-29bdebda6113",
   "metadata": {},
   "outputs": [],
   "source": [
    "import pandas as pd\n",
    "import numpy as np"
   ]
  },
  {
   "cell_type": "code",
   "execution_count": 2,
   "id": "5056e980-7da9-40bc-a4ab-872c18055d00",
   "metadata": {},
   "outputs": [],
   "source": [
    "def load_taxi_data(filename):\n",
    "    return (pd.read_csv(filename,\n",
    "                       usecols=[\"tpep_pickup_datetime\",\n",
    "                               \"passenger_count\",\n",
    "                               \"trip_distance\",\n",
    "                               \"fare_amount\",\n",
    "                               \"extra\",\n",
    "                               \"mta_tax\",\n",
    "                               \"tip_amount\",\n",
    "                               \"tolls_amount\",\n",
    "                               \"improvement_surcharge\",\n",
    "                               \"total_amount\",\n",
    "                               \"congestion_surcharge\"]))"
   ]
  },
  {
   "cell_type": "code",
   "execution_count": 3,
   "id": "37a8a984-27a1-480c-90a5-b6996fcaeef3",
   "metadata": {},
   "outputs": [],
   "source": [
    "filenames = [\"/Users/ahmedabukar/Downloads/:/data/nyc_taxi_2019-01.csv\",\n",
    "            \"/Users/ahmedabukar/Downloads/:/data/nyc_taxi_2019-07.csv\"]\n",
    "all_dfs = [load_taxi_data(filename) for filename in filenames]"
   ]
  },
  {
   "cell_type": "code",
   "execution_count": 4,
   "id": "0028ceab-fdaa-4431-975e-d0e165b447cd",
   "metadata": {},
   "outputs": [
    {
     "data": {
      "text/html": [
       "<div>\n",
       "<style scoped>\n",
       "    .dataframe tbody tr th:only-of-type {\n",
       "        vertical-align: middle;\n",
       "    }\n",
       "\n",
       "    .dataframe tbody tr th {\n",
       "        vertical-align: top;\n",
       "    }\n",
       "\n",
       "    .dataframe thead th {\n",
       "        text-align: right;\n",
       "    }\n",
       "</style>\n",
       "<table border=\"1\" class=\"dataframe\">\n",
       "  <thead>\n",
       "    <tr style=\"text-align: right;\">\n",
       "      <th></th>\n",
       "      <th>tpep_pickup_datetime</th>\n",
       "      <th>passenger_count</th>\n",
       "      <th>trip_distance</th>\n",
       "      <th>fare_amount</th>\n",
       "      <th>extra</th>\n",
       "      <th>mta_tax</th>\n",
       "      <th>tip_amount</th>\n",
       "      <th>tolls_amount</th>\n",
       "      <th>improvement_surcharge</th>\n",
       "      <th>total_amount</th>\n",
       "      <th>congestion_surcharge</th>\n",
       "    </tr>\n",
       "  </thead>\n",
       "  <tbody>\n",
       "    <tr>\n",
       "      <th>0</th>\n",
       "      <td>2019-01-01 00:46:40</td>\n",
       "      <td>1.0</td>\n",
       "      <td>1.5</td>\n",
       "      <td>7.0</td>\n",
       "      <td>0.5</td>\n",
       "      <td>0.5</td>\n",
       "      <td>1.65</td>\n",
       "      <td>0.0</td>\n",
       "      <td>0.3</td>\n",
       "      <td>9.95</td>\n",
       "      <td>NaN</td>\n",
       "    </tr>\n",
       "    <tr>\n",
       "      <th>1</th>\n",
       "      <td>2019-01-01 00:59:47</td>\n",
       "      <td>1.0</td>\n",
       "      <td>2.6</td>\n",
       "      <td>14.0</td>\n",
       "      <td>0.5</td>\n",
       "      <td>0.5</td>\n",
       "      <td>1.00</td>\n",
       "      <td>0.0</td>\n",
       "      <td>0.3</td>\n",
       "      <td>16.30</td>\n",
       "      <td>NaN</td>\n",
       "    </tr>\n",
       "    <tr>\n",
       "      <th>2</th>\n",
       "      <td>2018-12-21 13:48:30</td>\n",
       "      <td>3.0</td>\n",
       "      <td>0.0</td>\n",
       "      <td>4.5</td>\n",
       "      <td>0.5</td>\n",
       "      <td>0.5</td>\n",
       "      <td>0.00</td>\n",
       "      <td>0.0</td>\n",
       "      <td>0.3</td>\n",
       "      <td>5.80</td>\n",
       "      <td>NaN</td>\n",
       "    </tr>\n",
       "    <tr>\n",
       "      <th>3</th>\n",
       "      <td>2018-11-28 15:52:25</td>\n",
       "      <td>5.0</td>\n",
       "      <td>0.0</td>\n",
       "      <td>3.5</td>\n",
       "      <td>0.5</td>\n",
       "      <td>0.5</td>\n",
       "      <td>0.00</td>\n",
       "      <td>0.0</td>\n",
       "      <td>0.3</td>\n",
       "      <td>7.55</td>\n",
       "      <td>NaN</td>\n",
       "    </tr>\n",
       "    <tr>\n",
       "      <th>4</th>\n",
       "      <td>2018-11-28 15:56:57</td>\n",
       "      <td>5.0</td>\n",
       "      <td>0.0</td>\n",
       "      <td>52.0</td>\n",
       "      <td>0.0</td>\n",
       "      <td>0.5</td>\n",
       "      <td>0.00</td>\n",
       "      <td>0.0</td>\n",
       "      <td>0.3</td>\n",
       "      <td>55.55</td>\n",
       "      <td>NaN</td>\n",
       "    </tr>\n",
       "  </tbody>\n",
       "</table>\n",
       "</div>"
      ],
      "text/plain": [
       "  tpep_pickup_datetime  passenger_count  trip_distance  fare_amount  extra  \\\n",
       "0  2019-01-01 00:46:40              1.0            1.5          7.0    0.5   \n",
       "1  2019-01-01 00:59:47              1.0            2.6         14.0    0.5   \n",
       "2  2018-12-21 13:48:30              3.0            0.0          4.5    0.5   \n",
       "3  2018-11-28 15:52:25              5.0            0.0          3.5    0.5   \n",
       "4  2018-11-28 15:56:57              5.0            0.0         52.0    0.0   \n",
       "\n",
       "   mta_tax  tip_amount  tolls_amount  improvement_surcharge  total_amount  \\\n",
       "0      0.5        1.65           0.0                    0.3          9.95   \n",
       "1      0.5        1.00           0.0                    0.3         16.30   \n",
       "2      0.5        0.00           0.0                    0.3          5.80   \n",
       "3      0.5        0.00           0.0                    0.3          7.55   \n",
       "4      0.5        0.00           0.0                    0.3         55.55   \n",
       "\n",
       "   congestion_surcharge  \n",
       "0                   NaN  \n",
       "1                   NaN  \n",
       "2                   NaN  \n",
       "3                   NaN  \n",
       "4                   NaN  "
      ]
     },
     "execution_count": 4,
     "metadata": {},
     "output_type": "execute_result"
    }
   ],
   "source": [
    "df = pd.concat(all_dfs)\n",
    "df.head()"
   ]
  },
  {
   "cell_type": "code",
   "execution_count": 5,
   "id": "008062d6-d174-42ac-b6bd-f29d52cfe99b",
   "metadata": {},
   "outputs": [],
   "source": [
    "# create a new column pre_tip_amount?\n",
    "df[\"pre_tip_amount\"] = (\n",
    "    df[[\"fare_amount\",\n",
    "   \"mta_tax\",\n",
    "   \"extra\",\n",
    "   \"tolls_amount\",\n",
    "   \"improvement_surcharge\",\n",
    "   \"congestion_surcharge\"]]\n",
    "    .sum(axis=\"columns\")\n",
    ")"
   ]
  },
  {
   "cell_type": "code",
   "execution_count": 6,
   "id": "264f761c-0f4a-46f5-8c55-6f5131492ce8",
   "metadata": {},
   "outputs": [],
   "source": [
    "# create a new column, tip_percentage, showing the percentage pre_tip_amount that the tip was?\n",
    "df[\"tip_percentage\"] = (df[\"tip_amount\"] / df[\"pre_tip_amount\"])"
   ]
  },
  {
   "cell_type": "code",
   "execution_count": 7,
   "id": "0b6612b1-8b2d-4a43-bfc6-b39df0328893",
   "metadata": {},
   "outputs": [],
   "source": [
    "df[\"tpep_pickup_datetime\"] = pd.to_datetime(df[\"tpep_pickup_datetime\"])"
   ]
  },
  {
   "cell_type": "code",
   "execution_count": 8,
   "id": "11f3b3aa-e72f-4c45-9260-5d06d18fd54b",
   "metadata": {},
   "outputs": [
    {
     "data": {
      "text/plain": [
       "0.13003974566357937"
      ]
     },
     "execution_count": 8,
     "metadata": {},
     "output_type": "execute_result"
    }
   ],
   "source": [
    "# what was the mean tip percentage across all trips in the data set?\n",
    "df[\"tip_percentage\"].mean()"
   ]
  },
  {
   "cell_type": "code",
   "execution_count": 17,
   "id": "d0c92084-b0e7-4813-a55f-e60486b5085e",
   "metadata": {},
   "outputs": [
    {
     "data": {
      "text/plain": [
       "tip_percentage\n",
       "False    0.67923\n",
       "True     0.32077\n",
       "Name: proportion, dtype: float64"
      ]
     },
     "execution_count": 17,
     "metadata": {},
     "output_type": "execute_result"
    }
   ],
   "source": [
    "# how many times did people tip more than the pre_tip amount?\n",
    "(df[\"tip_percentage\"] == 0).value_counts(normalize=True)"
   ]
  },
  {
   "cell_type": "code",
   "execution_count": 10,
   "id": "00ff17ec-f5b1-4421-b63b-79c2a9d32c28",
   "metadata": {},
   "outputs": [
    {
     "data": {
      "text/plain": [
       "tpep_pickup_datetime\n",
       "Thursday     0.133970\n",
       "Wednesday    0.132221\n",
       "Tuesday      0.131424\n",
       "Friday       0.129136\n",
       "Monday       0.128723\n",
       "Sunday       0.126634\n",
       "Saturday     0.125801\n",
       "Name: tip_percentage, dtype: float64"
      ]
     },
     "execution_count": 10,
     "metadata": {},
     "output_type": "execute_result"
    }
   ],
   "source": [
    "# on which day of the week do people tip greatest percentage of the fare, \n",
    "# on average?\n",
    "(\n",
    "    df\n",
    "    .groupby(df[\"tpep_pickup_datetime\"].dt.day_name())\n",
    "    [\"tip_percentage\"]\n",
    "    .mean()\n",
    "    .sort_values(ascending=False)\n",
    ")"
   ]
  },
  {
   "cell_type": "code",
   "execution_count": 11,
   "id": "ec041f7c-cdf8-4381-9f83-b2d81daf3792",
   "metadata": {},
   "outputs": [
    {
     "data": {
      "text/plain": [
       "tpep_pickup_datetime\n",
       "22    13.881613\n",
       "20    13.816004\n",
       "21    13.768452\n",
       "8     13.711560\n",
       "19    13.517362\n",
       "23    13.497844\n",
       "18    13.329193\n",
       "9     13.301671\n",
       "7     13.213395\n",
       "0     13.149003\n",
       "2     13.091431\n",
       "1     13.070956\n",
       "17    12.863954\n",
       "10    12.719951\n",
       "11    12.502223\n",
       "16    12.465461\n",
       "13    12.456654\n",
       "12    12.437567\n",
       "14    12.372725\n",
       "15    12.354692\n",
       "3     12.105323\n",
       "6     11.991455\n",
       "4     11.898723\n",
       "5     11.202766\n",
       "Name: tip_percentage, dtype: float64"
      ]
     },
     "execution_count": 11,
     "metadata": {},
     "output_type": "execute_result"
    }
   ],
   "source": [
    "# on which hour do people tip greatest percentage?\n",
    "(\n",
    "    df\n",
    "    .groupby(df[\"tpep_pickup_datetime\"].dt.hour)\n",
    "    [\"tip_percentage\"]\n",
    "    .mean()\n",
    "    .sort_values(ascending=False)\n",
    "    * 100\n",
    ")"
   ]
  },
  {
   "cell_type": "code",
   "execution_count": 12,
   "id": "bd19c949-9f83-4ac2-8bc4-215d3e405df8",
   "metadata": {},
   "outputs": [
    {
     "data": {
      "text/plain": [
       "tpep_pickup_datetime\n",
       "5     20.000000\n",
       "8     15.809872\n",
       "3     14.804581\n",
       "9     14.143074\n",
       "1     13.701105\n",
       "2     13.222417\n",
       "7     12.157036\n",
       "12    10.936669\n",
       "6     10.735443\n",
       "10    10.000000\n",
       "4      7.487685\n",
       "11     4.602649\n",
       "Name: tip_percentage, dtype: float64"
      ]
     },
     "execution_count": 12,
     "metadata": {},
     "output_type": "execute_result"
    }
   ],
   "source": [
    "# do people typically tip more in January or July?\n",
    "(\n",
    "    df\n",
    "    .groupby(df[\"tpep_pickup_datetime\"].dt.month)\n",
    "    [\"tip_percentage\"]\n",
    "    .mean()\n",
    "    .sort_values(ascending=False)\n",
    "    * 100\n",
    ")"
   ]
  },
  {
   "cell_type": "code",
   "execution_count": 13,
   "id": "bfc9ab58-ec24-4ff1-bfd2-823ef546d5d8",
   "metadata": {},
   "outputs": [
    {
     "data": {
      "text/plain": [
       "tpep_pickup_datetime\n",
       "Saturday     733.333333\n",
       "Wednesday    700.000000\n",
       "Tuesday      466.666667\n",
       "Sunday       433.333333\n",
       "Thursday     400.000000\n",
       "Friday       350.000000\n",
       "Monday       163.333333\n",
       "Name: tip_percentage, dtype: float64"
      ]
     },
     "execution_count": 13,
     "metadata": {},
     "output_type": "execute_result"
    }
   ],
   "source": [
    "# what was the 1-day period in our data set when people tipped the greatest percentage?\n",
    "(\n",
    "    df\n",
    "    .groupby(df[\"tpep_pickup_datetime\"].dt.day_name())\n",
    "    [\"tip_percentage\"]\n",
    "    .max()\n",
    "    .sort_values(ascending=False)\n",
    ")"
   ]
  },
  {
   "cell_type": "code",
   "execution_count": 19,
   "id": "50dc2af4-fda5-48ce-a89e-6143c1ac56ca",
   "metadata": {},
   "outputs": [
    {
     "data": {
      "text/plain": [
       "0.1914711859863634"
      ]
     },
     "execution_count": 19,
     "metadata": {},
     "output_type": "execute_result"
    }
   ],
   "source": [
    "# we say 32% of the riders don't tip, of those who do, what percentage do they tip on average?\n",
    "(\n",
    "    df.loc[df[\"tip_percentage\"] != 0, \"tip_percentage\"]\n",
    "    .mean()\n",
    ")"
   ]
  },
  {
   "cell_type": "code",
   "execution_count": null,
   "id": "a036c35f-0f6b-472f-bbe0-c1e0cad70688",
   "metadata": {},
   "outputs": [],
   "source": []
  },
  {
   "cell_type": "code",
   "execution_count": 37,
   "id": "a83d38cd-e267-4634-981c-cd7406886fb1",
   "metadata": {},
   "outputs": [
    {
     "data": {
      "text/plain": [
       "816"
      ]
     },
     "execution_count": 37,
     "metadata": {},
     "output_type": "execute_result"
    }
   ],
   "source": [
    "# how many of the rides in the data set, supposedly from january and July 2019\n",
    "# are outside from those dates\n",
    "\n",
    "len(df) - len(\n",
    "    pd.concat([\n",
    "        df.set_index(\"tpep_pickup_datetime\").sort_index()\n",
    "        .loc[\"2019-01-01\" : \"2019-01-31\"],\n",
    "        df.set_index(\"tpep_pickup_datetime\").sort_index()\n",
    "        .loc[\"2019-07-01\" : \"2019-07-31\"]\n",
    "    ]).index\n",
    "    \n",
    ") "
   ]
  },
  {
   "cell_type": "code",
   "execution_count": 39,
   "id": "94d076ea-2ea6-4e28-a5c2-0b82cdf12468",
   "metadata": {},
   "outputs": [],
   "source": [
    "df = df.set_index(\"tpep_pickup_datetime\")"
   ]
  },
  {
   "cell_type": "code",
   "execution_count": 41,
   "id": "d659de29-f789-4ad8-82bd-5f18b2cf50cb",
   "metadata": {},
   "outputs": [],
   "source": [
    "df = df.sort_index()"
   ]
  },
  {
   "cell_type": "code",
   "execution_count": 49,
   "id": "7edcfca2-621e-45e2-9aba-895cbda6aee5",
   "metadata": {},
   "outputs": [
    {
     "data": {
      "text/plain": [
       "tpep_pickup_datetime\n",
       "2019-02-03    14.197924\n",
       "2019-01-27    13.892965\n",
       "2019-01-20    13.853614\n",
       "2019-01-13    13.790113\n",
       "2019-01-06    12.698336\n",
       "2019-08-04    12.491016\n",
       "2019-07-14    12.345926\n",
       "2019-07-21    12.334080\n",
       "2019-07-28    12.303639\n",
       "2019-07-07    11.295174\n",
       "Name: tip_percentage, dtype: float64"
      ]
     },
     "execution_count": 49,
     "metadata": {},
     "output_type": "execute_result"
    }
   ],
   "source": [
    "# looking only at dates of January and July 2019, \n",
    "# in what week did passengers tip the greatest percentage?\n",
    "(\n",
    "    pd.concat(\n",
    "        [\n",
    "            df.loc[\"2019-01-01\" : \"2019-01-31\"],\n",
    "            df.loc[\"2019-07-01\" : \"2019-07-31\"]\n",
    "        ]\n",
    "    )\n",
    "    .resample(\"W\")\n",
    "    [\"tip_percentage\"]\n",
    "    .mean()\n",
    "    .dropna()\n",
    "    .sort_values(ascending=False) * 100\n",
    ")"
   ]
  },
  {
   "cell_type": "code",
   "execution_count": null,
   "id": "77b780e5-30f5-4ba7-a076-077706e3551c",
   "metadata": {},
   "outputs": [],
   "source": []
  }
 ],
 "metadata": {
  "kernelspec": {
   "display_name": "Python 3 (ipykernel)",
   "language": "python",
   "name": "python3"
  },
  "language_info": {
   "codemirror_mode": {
    "name": "ipython",
    "version": 3
   },
   "file_extension": ".py",
   "mimetype": "text/x-python",
   "name": "python",
   "nbconvert_exporter": "python",
   "pygments_lexer": "ipython3",
   "version": "3.12.4"
  }
 },
 "nbformat": 4,
 "nbformat_minor": 5
}
