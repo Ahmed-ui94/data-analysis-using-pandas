{
 "cells": [
  {
   "cell_type": "code",
   "execution_count": 1,
   "id": "a9e07b9f-461a-45aa-ae5e-931a188565fe",
   "metadata": {},
   "outputs": [],
   "source": [
    "import pycountry\n",
    "import holidays\n",
    "import pandas as pd \n",
    "import numpy as np \n",
    "import pprint"
   ]
  },
  {
   "cell_type": "code",
   "execution_count": 2,
   "id": "2c5d49b3-4aa7-4da9-b4ea-1e6bc5b43362",
   "metadata": {},
   "outputs": [
    {
     "data": {
      "text/plain": [
       "{datetime.date(2010, 1, 1): \"New Year's Day\", datetime.date(2010, 4, 2): 'Good Friday', datetime.date(2010, 4, 5): 'Easter Monday', datetime.date(2010, 5, 1): 'Labour Day', datetime.date(2010, 6, 1): 'Madaraka Day', datetime.date(2010, 10, 20): 'Mashujaa Day', datetime.date(2010, 12, 12): 'Jamhuri Day', datetime.date(2010, 12, 13): 'Jamhuri Day (observed)', datetime.date(2010, 12, 25): 'Christmas Day', datetime.date(2010, 12, 26): 'Boxing Day', datetime.date(2010, 12, 27): 'Boxing Day (observed)'}"
      ]
     },
     "execution_count": 2,
     "metadata": {},
     "output_type": "execute_result"
    }
   ],
   "source": [
    "holidays.country_holidays(\"KE\", years=2010)"
   ]
  },
  {
   "cell_type": "code",
   "execution_count": 3,
   "id": "344cccd3-a033-4bf0-81cf-ca201774c8b1",
   "metadata": {},
   "outputs": [],
   "source": [
    "pycountry.countries.remove_entry(alpha_2=\"BG\")"
   ]
  },
  {
   "cell_type": "code",
   "execution_count": 4,
   "id": "d41066fc-bb0a-41fd-97d6-1f71261dfe08",
   "metadata": {},
   "outputs": [
    {
     "name": "stderr",
     "output_type": "stream",
     "text": [
      "/opt/anaconda3/lib/python3.11/site-packages/holidays/countries/marshall_islands.py:38: Warning: Years before 2020 are not available for the Marshall Islands (MH).\n",
      "  warnings.warn(\n"
     ]
    }
   ],
   "source": [
    "dict1 = []\n",
    "for country in pycountry.countries:\n",
    "    try:\n",
    "         for (holiday_date, holiday_name) in holidays.country_holidays(country.alpha_2, years=(2010, 2024)).items():\n",
    "             dict1.append([country.name, country.alpha_2, holiday_date, holiday_name, ])\n",
    "    except NotImplementedError: \n",
    "        pass\n",
    "        "
   ]
  },
  {
   "cell_type": "code",
   "execution_count": 5,
   "id": "33827948-9f4f-46b1-a55f-1e3d63fab74f",
   "metadata": {},
   "outputs": [
    {
     "data": {
      "text/html": [
       "<div>\n",
       "<style scoped>\n",
       "    .dataframe tbody tr th:only-of-type {\n",
       "        vertical-align: middle;\n",
       "    }\n",
       "\n",
       "    .dataframe tbody tr th {\n",
       "        vertical-align: top;\n",
       "    }\n",
       "\n",
       "    .dataframe thead th {\n",
       "        text-align: right;\n",
       "    }\n",
       "</style>\n",
       "<table border=\"1\" class=\"dataframe\">\n",
       "  <thead>\n",
       "    <tr style=\"text-align: right;\">\n",
       "      <th></th>\n",
       "      <th>country_name</th>\n",
       "      <th>alpha_2</th>\n",
       "      <th>holiday_date</th>\n",
       "      <th>holiday_name</th>\n",
       "    </tr>\n",
       "  </thead>\n",
       "  <tbody>\n",
       "    <tr>\n",
       "      <th>0</th>\n",
       "      <td>Aruba</td>\n",
       "      <td>AW</td>\n",
       "      <td>2024-01-01</td>\n",
       "      <td>Aña Nobo</td>\n",
       "    </tr>\n",
       "    <tr>\n",
       "      <th>1</th>\n",
       "      <td>Aruba</td>\n",
       "      <td>AW</td>\n",
       "      <td>2024-01-25</td>\n",
       "      <td>Dia di Betico</td>\n",
       "    </tr>\n",
       "    <tr>\n",
       "      <th>2</th>\n",
       "      <td>Aruba</td>\n",
       "      <td>AW</td>\n",
       "      <td>2024-02-12</td>\n",
       "      <td>Dialuna prome cu diaranson di shinish</td>\n",
       "    </tr>\n",
       "    <tr>\n",
       "      <th>3</th>\n",
       "      <td>Aruba</td>\n",
       "      <td>AW</td>\n",
       "      <td>2024-03-18</td>\n",
       "      <td>Dia di Himno y Bandera</td>\n",
       "    </tr>\n",
       "    <tr>\n",
       "      <th>4</th>\n",
       "      <td>Aruba</td>\n",
       "      <td>AW</td>\n",
       "      <td>2024-03-29</td>\n",
       "      <td>Bierna Santo</td>\n",
       "    </tr>\n",
       "    <tr>\n",
       "      <th>...</th>\n",
       "      <td>...</td>\n",
       "      <td>...</td>\n",
       "      <td>...</td>\n",
       "      <td>...</td>\n",
       "    </tr>\n",
       "    <tr>\n",
       "      <th>4062</th>\n",
       "      <td>Zimbabwe</td>\n",
       "      <td>ZW</td>\n",
       "      <td>2010-08-10</td>\n",
       "      <td>Defense Forces Day</td>\n",
       "    </tr>\n",
       "    <tr>\n",
       "      <th>4063</th>\n",
       "      <td>Zimbabwe</td>\n",
       "      <td>ZW</td>\n",
       "      <td>2010-12-22</td>\n",
       "      <td>Unity Day</td>\n",
       "    </tr>\n",
       "    <tr>\n",
       "      <th>4064</th>\n",
       "      <td>Zimbabwe</td>\n",
       "      <td>ZW</td>\n",
       "      <td>2010-12-25</td>\n",
       "      <td>Christmas Day</td>\n",
       "    </tr>\n",
       "    <tr>\n",
       "      <th>4065</th>\n",
       "      <td>Zimbabwe</td>\n",
       "      <td>ZW</td>\n",
       "      <td>2010-12-26</td>\n",
       "      <td>Boxing Day</td>\n",
       "    </tr>\n",
       "    <tr>\n",
       "      <th>4066</th>\n",
       "      <td>Zimbabwe</td>\n",
       "      <td>ZW</td>\n",
       "      <td>2010-12-27</td>\n",
       "      <td>Boxing Day (observed)</td>\n",
       "    </tr>\n",
       "  </tbody>\n",
       "</table>\n",
       "<p>4067 rows × 4 columns</p>\n",
       "</div>"
      ],
      "text/plain": [
       "     country_name alpha_2 holiday_date                           holiday_name\n",
       "0           Aruba      AW   2024-01-01                               Aña Nobo\n",
       "1           Aruba      AW   2024-01-25                          Dia di Betico\n",
       "2           Aruba      AW   2024-02-12  Dialuna prome cu diaranson di shinish\n",
       "3           Aruba      AW   2024-03-18                 Dia di Himno y Bandera\n",
       "4           Aruba      AW   2024-03-29                           Bierna Santo\n",
       "...           ...     ...          ...                                    ...\n",
       "4062     Zimbabwe      ZW   2010-08-10                     Defense Forces Day\n",
       "4063     Zimbabwe      ZW   2010-12-22                              Unity Day\n",
       "4064     Zimbabwe      ZW   2010-12-25                          Christmas Day\n",
       "4065     Zimbabwe      ZW   2010-12-26                             Boxing Day\n",
       "4066     Zimbabwe      ZW   2010-12-27                  Boxing Day (observed)\n",
       "\n",
       "[4067 rows x 4 columns]"
      ]
     },
     "execution_count": 5,
     "metadata": {},
     "output_type": "execute_result"
    }
   ],
   "source": [
    "df = (pd.DataFrame(data=dict1, columns=[\"country_name\", \"alpha_2\", \"holiday_date\", \"holiday_name\"])\n",
    "      .assign(holiday_date=lambda df_: pd.to_datetime(df_[\"holiday_date\"])))\n",
    "df"
   ]
  },
  {
   "cell_type": "code",
   "execution_count": 6,
   "id": "802cf681-0d18-44b1-a095-8b2bd921bdf7",
   "metadata": {},
   "outputs": [
    {
     "data": {
      "text/html": [
       "<div>\n",
       "<style scoped>\n",
       "    .dataframe tbody tr th:only-of-type {\n",
       "        vertical-align: middle;\n",
       "    }\n",
       "\n",
       "    .dataframe tbody tr th {\n",
       "        vertical-align: top;\n",
       "    }\n",
       "\n",
       "    .dataframe thead th {\n",
       "        text-align: right;\n",
       "    }\n",
       "</style>\n",
       "<table border=\"1\" class=\"dataframe\">\n",
       "  <thead>\n",
       "    <tr style=\"text-align: right;\">\n",
       "      <th></th>\n",
       "      <th>country_name</th>\n",
       "      <th>alpha_2</th>\n",
       "      <th>holiday_date</th>\n",
       "      <th>holiday_name</th>\n",
       "    </tr>\n",
       "  </thead>\n",
       "  <tbody>\n",
       "    <tr>\n",
       "      <th>449</th>\n",
       "      <td>Bahamas</td>\n",
       "      <td>BS</td>\n",
       "      <td>2024-06-07</td>\n",
       "      <td>Randol Fawkes Labour Day</td>\n",
       "    </tr>\n",
       "    <tr>\n",
       "      <th>1595</th>\n",
       "      <td>Isle of Man</td>\n",
       "      <td>IM</td>\n",
       "      <td>2024-06-07</td>\n",
       "      <td>TT Bank Holiday</td>\n",
       "    </tr>\n",
       "    <tr>\n",
       "      <th>2459</th>\n",
       "      <td>Malta</td>\n",
       "      <td>MT</td>\n",
       "      <td>2024-06-07</td>\n",
       "      <td>Sette Giugno</td>\n",
       "    </tr>\n",
       "  </tbody>\n",
       "</table>\n",
       "</div>"
      ],
      "text/plain": [
       "     country_name alpha_2 holiday_date              holiday_name\n",
       "449       Bahamas      BS   2024-06-07  Randol Fawkes Labour Day\n",
       "1595  Isle of Man      IM   2024-06-07           TT Bank Holiday\n",
       "2459        Malta      MT   2024-06-07              Sette Giugno"
      ]
     },
     "execution_count": 6,
     "metadata": {},
     "output_type": "execute_result"
    }
   ],
   "source": [
    "# which countries had holidays on date June 2024\n",
    "df.loc[df[\"holiday_date\"] == \"2024-06-07\"]"
   ]
  },
  {
   "cell_type": "code",
   "execution_count": 9,
   "id": "0e19aa04-66b0-4882-a34a-fc93803a7e98",
   "metadata": {},
   "outputs": [
    {
     "data": {
      "text/plain": [
       "country_name  holiday_name           \n",
       "Sweden        Söndag                     5\n",
       "Türkiye       Kurban Bayramı             4\n",
       "Maldives      Eid al-Adha (estimated)    4\n",
       "Pakistan      Eid-ul-Adha (estimated)    3\n",
       "Saudi Arabia  (تقدير) عطلة عيد الأضحى    3\n",
       "Romania       Rusaliile                  2\n",
       "Jordan        (تقدير) عطلة عيد الأضحى    2\n",
       "India         Eid al-Adha (estimated)    2\n",
       "Morocco       (تقدير) عيد الأضحى         2\n",
       "Egypt         (تقدير) عطلة عيد الأضحى    2\n",
       "Name: count, dtype: int64"
      ]
     },
     "execution_count": 9,
     "metadata": {},
     "output_type": "execute_result"
    }
   ],
   "source": [
    "df.set_index(\"holiday_date\").loc[\"2024-06\", [\"country_name\", \"holiday_name\"]].value_counts().head(10)"
   ]
  },
  {
   "cell_type": "code",
   "execution_count": null,
   "id": "9721b224-6986-47ea-a500-a093a6cf0561",
   "metadata": {},
   "outputs": [],
   "source": []
  }
 ],
 "metadata": {
  "kernelspec": {
   "display_name": "Python 3 (ipykernel)",
   "language": "python",
   "name": "python3"
  },
  "language_info": {
   "codemirror_mode": {
    "name": "ipython",
    "version": 3
   },
   "file_extension": ".py",
   "mimetype": "text/x-python",
   "name": "python",
   "nbconvert_exporter": "python",
   "pygments_lexer": "ipython3",
   "version": "3.11.7"
  }
 },
 "nbformat": 4,
 "nbformat_minor": 5
}
