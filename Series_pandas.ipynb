{
 "cells": [
  {
   "cell_type": "code",
   "execution_count": 1,
   "id": "c93160e4-edc5-4672-b3c0-56ef1a66b95c",
   "metadata": {},
   "outputs": [],
   "source": [
    "import numpy as np\n",
    "import pandas as pd"
   ]
  },
  {
   "cell_type": "code",
   "execution_count": 3,
   "id": "906e3c8e-7872-4bfd-84a7-5b2d217a9acf",
   "metadata": {},
   "outputs": [],
   "source": [
    "tax_passenger = pd.read_csv(\"/Users/ahmedabukar/Downloads/pandas-workout-data/data/taxi-passenger-count.csv\").squeeze(\"columns\")"
   ]
  },
  {
   "cell_type": "code",
   "execution_count": 4,
   "id": "a50ba94a-02ec-4ecf-b380-5459148fc6d6",
   "metadata": {},
   "outputs": [
    {
     "data": {
      "text/plain": [
       "72.0744148829766"
      ]
     },
     "execution_count": 4,
     "metadata": {},
     "output_type": "execute_result"
    }
   ],
   "source": [
    "(tax_passenger.value_counts()[1]/tax_passenger.value_counts().sum()) * 100"
   ]
  },
  {
   "cell_type": "code",
   "execution_count": 5,
   "id": "ac6f5f21-502b-4bf0-ac27-e3f1b3110492",
   "metadata": {},
   "outputs": [
    {
     "data": {
      "text/plain": [
       "1    0.720744\n",
       "6    0.036907\n",
       "Name: 1, dtype: float64"
      ]
     },
     "execution_count": 5,
     "metadata": {},
     "output_type": "execute_result"
    }
   ],
   "source": [
    "tax_passenger.value_counts(normalize=True)[[1,6]]"
   ]
  },
  {
   "cell_type": "code",
   "execution_count": 6,
   "id": "4deaab27-435d-48ee-ab11-16d2c00c7158",
   "metadata": {},
   "outputs": [
    {
     "data": {
      "text/plain": [
       "25%    1.0\n",
       "50%    1.0\n",
       "75%    2.0\n",
       "Name: 1, dtype: float64"
      ]
     },
     "execution_count": 6,
     "metadata": {},
     "output_type": "execute_result"
    }
   ],
   "source": [
    "tax_passenger.describe()[[\"25%\", \"50%\", \"75%\"]]"
   ]
  },
  {
   "cell_type": "code",
   "execution_count": 7,
   "id": "860fa66d-3f0e-44cc-9226-a3e2f8547000",
   "metadata": {},
   "outputs": [
    {
     "data": {
      "text/plain": [
       "0.14772954590918186"
      ]
     },
     "execution_count": 7,
     "metadata": {},
     "output_type": "execute_result"
    }
   ],
   "source": [
    "# what proportion of taxi rides are for two, three or six passengers?\n",
    "tax_passenger.value_counts(normalize=True)[[3, 4, 5, 6]].sum()"
   ]
  },
  {
   "cell_type": "code",
   "execution_count": 8,
   "id": "a0d4ecff-e920-4884-80a7-0626984f6d06",
   "metadata": {},
   "outputs": [],
   "source": [
    "tax_distance = pd.read_csv(\"/Users/ahmedabukar/Downloads/pandas-workout-data/data/taxi-distance.csv\").squeeze(\"columns\")"
   ]
  },
  {
   "cell_type": "code",
   "execution_count": 28,
   "id": "7543bf6a-231d-4f0b-9b90-3aeb3c497ff4",
   "metadata": {},
   "outputs": [],
   "source": [
    "def categorise_values(val):\n",
    "    if val <= 2:\n",
    "        return \"Short\"\n",
    "    elif 2 < val <= 10:\n",
    "        return \"Medium\"\n",
    "    return \"Long\""
   ]
  },
  {
   "cell_type": "code",
   "execution_count": 33,
   "id": "14c59520-02ae-4c25-92b5-b8b7b21b8d80",
   "metadata": {},
   "outputs": [
    {
     "data": {
      "text/plain": [
       "Short     5889\n",
       "Medium    3402\n",
       "Long       707\n",
       "Name: 1.63, dtype: int64"
      ]
     },
     "execution_count": 33,
     "metadata": {},
     "output_type": "execute_result"
    }
   ],
   "source": [
    "#calculate the number of rides in each category\n",
    "tax_distance.apply(categorise_values).value_counts()"
   ]
  },
  {
   "cell_type": "code",
   "execution_count": 49,
   "id": "501f891e-b22b-4271-8767-9f71b6d419f0",
   "metadata": {},
   "outputs": [],
   "source": [
    "short_medium_long = (pd.cut(x=tax_distance, \n",
    "        bins=[0, 2, 10, tax_distance.max()], \n",
    "        labels=[\"short\", \"Medium\", \"Long\"], \n",
    "        include_lowest=True))"
   ]
  },
  {
   "cell_type": "code",
   "execution_count": 50,
   "id": "c44491a6-694b-4576-bb98-b357363f95e7",
   "metadata": {},
   "outputs": [
    {
     "data": {
      "text/plain": [
       "short     5889\n",
       "Medium    3402\n",
       "Long       707\n",
       "Name: 1.63, dtype: int64"
      ]
     },
     "execution_count": 50,
     "metadata": {},
     "output_type": "execute_result"
    }
   ],
   "source": [
    "short_medium_long.value_counts()"
   ]
  },
  {
   "cell_type": "code",
   "execution_count": 44,
   "id": "1054adaf-e08d-4ede-b001-f65300958904",
   "metadata": {},
   "outputs": [
    {
     "data": {
      "text/plain": [
       "0       0.46\n",
       "1       0.87\n",
       "2       2.13\n",
       "3       1.40\n",
       "4       1.40\n",
       "        ... \n",
       "9993    2.70\n",
       "9994    4.50\n",
       "9995    5.59\n",
       "9996    1.54\n",
       "9997    5.80\n",
       "Name: 1.63, Length: 9998, dtype: float64"
      ]
     },
     "execution_count": 44,
     "metadata": {},
     "output_type": "execute_result"
    }
   ],
   "source": [
    "tax_distance"
   ]
  },
  {
   "cell_type": "code",
   "execution_count": 46,
   "id": "cf6d7a4f-3fbc-4c91-802f-f9a11e801bdd",
   "metadata": {},
   "outputs": [
    {
     "data": {
      "text/plain": [
       "3.15866373274654"
      ]
     },
     "execution_count": 46,
     "metadata": {},
     "output_type": "execute_result"
    }
   ],
   "source": [
    "#Compare the mean and median trip distances.\n",
    "#What does that tell you about the distribution of the data?\n",
    "tax_distance.mean()"
   ]
  },
  {
   "cell_type": "code",
   "execution_count": 48,
   "id": "721b22d5-ea49-45f2-a4eb-513fd2493206",
   "metadata": {},
   "outputs": [
    {
     "data": {
      "text/plain": [
       "1.7"
      ]
     },
     "execution_count": 48,
     "metadata": {},
     "output_type": "execute_result"
    }
   ],
   "source": [
    "tax_distance.median() # there is some high values in the data that is making the mean to be high"
   ]
  },
  {
   "cell_type": "code",
   "execution_count": 54,
   "id": "3b222bd0-34a1-4eea-ad1f-80911a45fc8b",
   "metadata": {},
   "outputs": [
    {
     "data": {
      "text/plain": [
       "short     7206\n",
       "Medium       0\n",
       "Long         0\n",
       "Name: 1.63, dtype: int64"
      ]
     },
     "execution_count": 54,
     "metadata": {},
     "output_type": "execute_result"
    }
   ],
   "source": [
    "short_medium_long[tax_passenger.loc[tax_passenger == 1]].value_counts()"
   ]
  },
  {
   "cell_type": "code",
   "execution_count": 56,
   "id": "f6a317eb-25ed-4948-bf03-414d43f515a7",
   "metadata": {},
   "outputs": [
    {
     "data": {
      "text/plain": [
       "0       (-0.006, 2.0]\n",
       "6388    (-0.006, 2.0]\n",
       "6386    (-0.006, 2.0]\n",
       "6385    (-0.006, 2.0]\n",
       "6384    (-0.006, 2.0]\n",
       "            ...      \n",
       "601        (4.0, 6.0]\n",
       "9290       (4.0, 6.0]\n",
       "9291       (4.0, 6.0]\n",
       "613        (4.0, 6.0]\n",
       "1732       (4.0, 6.0]\n",
       "Name: 1, Length: 9998, dtype: category\n",
       "Categories (3, interval[float64, right]): [(-0.006, 2.0] < (2.0, 4.0] < (4.0, 6.0]]"
      ]
     },
     "execution_count": 56,
     "metadata": {},
     "output_type": "execute_result"
    }
   ],
   "source": [
    "pd.cut(x=tax_passenger, bins=3).sort_values()"
   ]
  },
  {
   "cell_type": "code",
   "execution_count": null,
   "id": "32e23713-55d7-4852-9aef-9dd7b180c8db",
   "metadata": {},
   "outputs": [],
   "source": []
  }
 ],
 "metadata": {
  "kernelspec": {
   "display_name": "Python 3 (ipykernel)",
   "language": "python",
   "name": "python3"
  },
  "language_info": {
   "codemirror_mode": {
    "name": "ipython",
    "version": 3
   },
   "file_extension": ".py",
   "mimetype": "text/x-python",
   "name": "python",
   "nbconvert_exporter": "python",
   "pygments_lexer": "ipython3",
   "version": "3.9.7"
  }
 },
 "nbformat": 4,
 "nbformat_minor": 5
}
