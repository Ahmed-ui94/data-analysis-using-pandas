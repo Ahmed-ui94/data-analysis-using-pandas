{
 "cells": [
  {
   "cell_type": "code",
   "execution_count": 1,
   "id": "e8a444d5-461e-47cd-bb2f-155f33f41ec8",
   "metadata": {},
   "outputs": [],
   "source": [
    "import pandas as pd \n",
    "import numpy as np \n",
    "import pyarrow as pyrr "
   ]
  },
  {
   "cell_type": "code",
   "execution_count": 2,
   "id": "7c206d02-69ba-4ed6-88f5-4da1177d4ed7",
   "metadata": {},
   "outputs": [
    {
     "data": {
      "text/html": [
       "<div>\n",
       "<style scoped>\n",
       "    .dataframe tbody tr th:only-of-type {\n",
       "        vertical-align: middle;\n",
       "    }\n",
       "\n",
       "    .dataframe tbody tr th {\n",
       "        vertical-align: top;\n",
       "    }\n",
       "\n",
       "    .dataframe thead th {\n",
       "        text-align: right;\n",
       "    }\n",
       "</style>\n",
       "<table border=\"1\" class=\"dataframe\">\n",
       "  <thead>\n",
       "    <tr style=\"text-align: right;\">\n",
       "      <th></th>\n",
       "      <th>Year</th>\n",
       "      <th>State.Code</th>\n",
       "      <th>Total.Math</th>\n",
       "      <th>Total.Test-takers</th>\n",
       "      <th>Total.Verbal</th>\n",
       "    </tr>\n",
       "  </thead>\n",
       "  <tbody>\n",
       "    <tr>\n",
       "      <th>0</th>\n",
       "      <td>2005</td>\n",
       "      <td>AL</td>\n",
       "      <td>559</td>\n",
       "      <td>3985</td>\n",
       "      <td>567</td>\n",
       "    </tr>\n",
       "    <tr>\n",
       "      <th>1</th>\n",
       "      <td>2005</td>\n",
       "      <td>AK</td>\n",
       "      <td>519</td>\n",
       "      <td>3996</td>\n",
       "      <td>523</td>\n",
       "    </tr>\n",
       "    <tr>\n",
       "      <th>2</th>\n",
       "      <td>2005</td>\n",
       "      <td>AZ</td>\n",
       "      <td>530</td>\n",
       "      <td>18184</td>\n",
       "      <td>526</td>\n",
       "    </tr>\n",
       "    <tr>\n",
       "      <th>3</th>\n",
       "      <td>2005</td>\n",
       "      <td>AR</td>\n",
       "      <td>552</td>\n",
       "      <td>1600</td>\n",
       "      <td>563</td>\n",
       "    </tr>\n",
       "    <tr>\n",
       "      <th>4</th>\n",
       "      <td>2005</td>\n",
       "      <td>CA</td>\n",
       "      <td>522</td>\n",
       "      <td>186552</td>\n",
       "      <td>504</td>\n",
       "    </tr>\n",
       "    <tr>\n",
       "      <th>...</th>\n",
       "      <td>...</td>\n",
       "      <td>...</td>\n",
       "      <td>...</td>\n",
       "      <td>...</td>\n",
       "      <td>...</td>\n",
       "    </tr>\n",
       "    <tr>\n",
       "      <th>572</th>\n",
       "      <td>2015</td>\n",
       "      <td>VA</td>\n",
       "      <td>517</td>\n",
       "      <td>59621</td>\n",
       "      <td>518</td>\n",
       "    </tr>\n",
       "    <tr>\n",
       "      <th>573</th>\n",
       "      <td>2015</td>\n",
       "      <td>WA</td>\n",
       "      <td>511</td>\n",
       "      <td>44423</td>\n",
       "      <td>502</td>\n",
       "    </tr>\n",
       "    <tr>\n",
       "      <th>574</th>\n",
       "      <td>2015</td>\n",
       "      <td>WV</td>\n",
       "      <td>500</td>\n",
       "      <td>2501</td>\n",
       "      <td>509</td>\n",
       "    </tr>\n",
       "    <tr>\n",
       "      <th>575</th>\n",
       "      <td>2015</td>\n",
       "      <td>WI</td>\n",
       "      <td>606</td>\n",
       "      <td>2277</td>\n",
       "      <td>591</td>\n",
       "    </tr>\n",
       "    <tr>\n",
       "      <th>576</th>\n",
       "      <td>2015</td>\n",
       "      <td>WY</td>\n",
       "      <td>587</td>\n",
       "      <td>181</td>\n",
       "      <td>588</td>\n",
       "    </tr>\n",
       "  </tbody>\n",
       "</table>\n",
       "<p>577 rows × 5 columns</p>\n",
       "</div>"
      ],
      "text/plain": [
       "     Year State.Code  Total.Math  Total.Test-takers  Total.Verbal\n",
       "0    2005         AL         559               3985           567\n",
       "1    2005         AK         519               3996           523\n",
       "2    2005         AZ         530              18184           526\n",
       "3    2005         AR         552               1600           563\n",
       "4    2005         CA         522             186552           504\n",
       "..    ...        ...         ...                ...           ...\n",
       "572  2015         VA         517              59621           518\n",
       "573  2015         WA         511              44423           502\n",
       "574  2015         WV         500               2501           509\n",
       "575  2015         WI         606               2277           591\n",
       "576  2015         WY         587                181           588\n",
       "\n",
       "[577 rows x 5 columns]"
      ]
     },
     "execution_count": 2,
     "metadata": {},
     "output_type": "execute_result"
    }
   ],
   "source": [
    "df = pd.read_csv(\"/Users/ahmedabukar/Downloads/pandas-workout-data/data/sat-scores.csv\", \n",
    "                usecols=[\"Year\", \"State.Code\", \"Total.Math\", \"Total.Test-takers\", \"Total.Verbal\"])\n",
    "df"
   ]
  },
  {
   "cell_type": "code",
   "execution_count": 3,
   "id": "6b5659ba-16be-47d1-8dfa-2fdb3eed0701",
   "metadata": {},
   "outputs": [],
   "source": [
    "df = df.set_index([\"Year\", \"State.Code\"])"
   ]
  },
  {
   "cell_type": "code",
   "execution_count": 4,
   "id": "cd88c082-767d-4a54-8e54-2eef2cf249be",
   "metadata": {},
   "outputs": [
    {
     "data": {
      "text/html": [
       "<div>\n",
       "<style scoped>\n",
       "    .dataframe tbody tr th:only-of-type {\n",
       "        vertical-align: middle;\n",
       "    }\n",
       "\n",
       "    .dataframe tbody tr th {\n",
       "        vertical-align: top;\n",
       "    }\n",
       "\n",
       "    .dataframe thead th {\n",
       "        text-align: right;\n",
       "    }\n",
       "</style>\n",
       "<table border=\"1\" class=\"dataframe\">\n",
       "  <thead>\n",
       "    <tr style=\"text-align: right;\">\n",
       "      <th></th>\n",
       "      <th></th>\n",
       "      <th>Total.Math</th>\n",
       "      <th>Total.Test-takers</th>\n",
       "      <th>Total.Verbal</th>\n",
       "    </tr>\n",
       "    <tr>\n",
       "      <th>Year</th>\n",
       "      <th>State.Code</th>\n",
       "      <th></th>\n",
       "      <th></th>\n",
       "      <th></th>\n",
       "    </tr>\n",
       "  </thead>\n",
       "  <tbody>\n",
       "    <tr>\n",
       "      <th rowspan=\"5\" valign=\"top\">2005</th>\n",
       "      <th>AL</th>\n",
       "      <td>559</td>\n",
       "      <td>3985</td>\n",
       "      <td>567</td>\n",
       "    </tr>\n",
       "    <tr>\n",
       "      <th>AK</th>\n",
       "      <td>519</td>\n",
       "      <td>3996</td>\n",
       "      <td>523</td>\n",
       "    </tr>\n",
       "    <tr>\n",
       "      <th>AZ</th>\n",
       "      <td>530</td>\n",
       "      <td>18184</td>\n",
       "      <td>526</td>\n",
       "    </tr>\n",
       "    <tr>\n",
       "      <th>AR</th>\n",
       "      <td>552</td>\n",
       "      <td>1600</td>\n",
       "      <td>563</td>\n",
       "    </tr>\n",
       "    <tr>\n",
       "      <th>CA</th>\n",
       "      <td>522</td>\n",
       "      <td>186552</td>\n",
       "      <td>504</td>\n",
       "    </tr>\n",
       "    <tr>\n",
       "      <th>...</th>\n",
       "      <th>...</th>\n",
       "      <td>...</td>\n",
       "      <td>...</td>\n",
       "      <td>...</td>\n",
       "    </tr>\n",
       "    <tr>\n",
       "      <th rowspan=\"5\" valign=\"top\">2015</th>\n",
       "      <th>VA</th>\n",
       "      <td>517</td>\n",
       "      <td>59621</td>\n",
       "      <td>518</td>\n",
       "    </tr>\n",
       "    <tr>\n",
       "      <th>WA</th>\n",
       "      <td>511</td>\n",
       "      <td>44423</td>\n",
       "      <td>502</td>\n",
       "    </tr>\n",
       "    <tr>\n",
       "      <th>WV</th>\n",
       "      <td>500</td>\n",
       "      <td>2501</td>\n",
       "      <td>509</td>\n",
       "    </tr>\n",
       "    <tr>\n",
       "      <th>WI</th>\n",
       "      <td>606</td>\n",
       "      <td>2277</td>\n",
       "      <td>591</td>\n",
       "    </tr>\n",
       "    <tr>\n",
       "      <th>WY</th>\n",
       "      <td>587</td>\n",
       "      <td>181</td>\n",
       "      <td>588</td>\n",
       "    </tr>\n",
       "  </tbody>\n",
       "</table>\n",
       "<p>577 rows × 3 columns</p>\n",
       "</div>"
      ],
      "text/plain": [
       "                 Total.Math  Total.Test-takers  Total.Verbal\n",
       "Year State.Code                                             \n",
       "2005 AL                 559               3985           567\n",
       "     AK                 519               3996           523\n",
       "     AZ                 530              18184           526\n",
       "     AR                 552               1600           563\n",
       "     CA                 522             186552           504\n",
       "...                     ...                ...           ...\n",
       "2015 VA                 517              59621           518\n",
       "     WA                 511              44423           502\n",
       "     WV                 500               2501           509\n",
       "     WI                 606               2277           591\n",
       "     WY                 587                181           588\n",
       "\n",
       "[577 rows x 3 columns]"
      ]
     },
     "execution_count": 4,
     "metadata": {},
     "output_type": "execute_result"
    }
   ],
   "source": [
    "df"
   ]
  },
  {
   "cell_type": "code",
   "execution_count": 5,
   "id": "dcde442c-f656-440e-951b-d3e9a4d2fcbe",
   "metadata": {},
   "outputs": [
    {
     "data": {
      "text/plain": [
       "1344824"
      ]
     },
     "execution_count": 5,
     "metadata": {},
     "output_type": "execute_result"
    }
   ],
   "source": [
    "#determine how many people took the exam in 2005? \n",
    "df.loc[2005, \"Total.Test-takers\"].sum()"
   ]
  },
  {
   "cell_type": "code",
   "execution_count": 6,
   "id": "dfc268ba-3f10-42e5-8dc3-23b7d19aba1a",
   "metadata": {},
   "outputs": [
    {
     "data": {
      "text/plain": [
       "535.25"
      ]
     },
     "execution_count": 6,
     "metadata": {},
     "output_type": "execute_result"
    }
   ],
   "source": [
    "#determine the average SAT score from new york(NY), new jersey(NJ), \n",
    "#Massachisetts(MA) and illinois(IL)\n",
    "df.loc[(2010, [\"NY\", \"NJ\", \"MA\", \"IL\"]), \"Total.Math\"].mean()"
   ]
  },
  {
   "cell_type": "code",
   "execution_count": 7,
   "id": "4304c5b4-f934-4f16-a210-06d0d317c074",
   "metadata": {},
   "outputs": [
    {
     "data": {
      "text/plain": [
       "Year  State.Code\n",
       "2012  AZ            517\n",
       "      CA            496\n",
       "      TX            474\n",
       "2013  AZ            522\n",
       "      CA            498\n",
       "      TX            476\n",
       "2014  AZ            522\n",
       "      CA            498\n",
       "      TX            476\n",
       "2015  AZ            523\n",
       "      CA            496\n",
       "      TX            470\n",
       "Name: Total.Verbal, dtype: int64"
      ]
     },
     "execution_count": 7,
     "metadata": {},
     "output_type": "execute_result"
    }
   ],
   "source": [
    "#determine the average Verbal-score in 2012-2015 from Arizona(AZ), California(CA) and Texaz(TX)\n",
    "df.loc[(slice(2012, 2015), [\"AZ\", \"CA\", \"TX\"]), \"Total.Verbal\"]"
   ]
  },
  {
   "cell_type": "markdown",
   "id": "70014466-551e-4860-8ba8-14036b8386ba",
   "metadata": {},
   "source": [
    "## beyond 1"
   ]
  },
  {
   "cell_type": "markdown",
   "id": "40f28525-6cab-43d7-b228-bc445cde8662",
   "metadata": {},
   "source": [
    "what were the average math and verbal scores for florida(FL), \"indiana\", and Idaho across all years(Don't break out the values by state)"
   ]
  },
  {
   "cell_type": "code",
   "execution_count": 8,
   "id": "2c7678c1-3a6f-49f6-a1e9-b17d089b52dc",
   "metadata": {},
   "outputs": [
    {
     "data": {
      "text/plain": [
       "Total.Math      507.090909\n",
       "Total.Verbal    504.606061\n",
       "dtype: float64"
      ]
     },
     "execution_count": 8,
     "metadata": {},
     "output_type": "execute_result"
    }
   ],
   "source": [
    "df.loc[(slice(None), [\"FL\", \"IN\", \"ID\"]), [\"Total.Math\", \"Total.Verbal\"]].mean()"
   ]
  },
  {
   "cell_type": "code",
   "execution_count": 9,
   "id": "a612975f-dabd-42f7-b566-83c9115e5238",
   "metadata": {},
   "outputs": [
    {
     "data": {
      "text/plain": [
       "Year  State.Code\n",
       "2013  ND            612\n",
       "Name: Total.Verbal, dtype: int64"
      ]
     },
     "execution_count": 9,
     "metadata": {},
     "output_type": "execute_result"
    }
   ],
   "source": [
    "#which state received the highest verbal score and in which year?\n",
    "df[\"Total.Verbal\"].nlargest(1)"
   ]
  },
  {
   "cell_type": "code",
   "execution_count": 10,
   "id": "04252764-71d1-4b18-943e-5fe96b71e8f0",
   "metadata": {},
   "outputs": [
    {
     "data": {
      "text/plain": [
       "2.559506531204647"
      ]
     },
     "execution_count": 10,
     "metadata": {},
     "output_type": "execute_result"
    }
   ],
   "source": [
    "# was the average math score in 2005 higher or lower than that of 2015?\n",
    "average_for_2005 = df.loc[2005, \"Total.Math\"].mean() # its higher by 2.56\n",
    "average_for_2015 = df.loc[2015, \"Total.Math\"].mean() \n",
    "average_for_2005 - average_for_2015"
   ]
  },
  {
   "cell_type": "code",
   "execution_count": 12,
   "id": "c4360fb7-6945-4f7b-93e5-71142576c54a",
   "metadata": {},
   "outputs": [
    {
     "name": "stdout",
     "output_type": "stream",
     "text": [
      "2.2.2\n"
     ]
    }
   ],
   "source": []
  },
  {
   "cell_type": "code",
   "execution_count": null,
   "id": "b6d5235a-6900-45ac-bec4-b93b32f62420",
   "metadata": {},
   "outputs": [],
   "source": []
  },
  {
   "cell_type": "code",
   "execution_count": null,
   "id": "4e7eafd7-b94f-4459-8d2d-c8627af6207a",
   "metadata": {},
   "outputs": [],
   "source": []
  }
 ],
 "metadata": {
  "kernelspec": {
   "display_name": "Python 3 (ipykernel)",
   "language": "python",
   "name": "python3"
  },
  "language_info": {
   "codemirror_mode": {
    "name": "ipython",
    "version": 3
   },
   "file_extension": ".py",
   "mimetype": "text/x-python",
   "name": "python",
   "nbconvert_exporter": "python",
   "pygments_lexer": "ipython3",
   "version": "3.11.7"
  }
 },
 "nbformat": 4,
 "nbformat_minor": 5
}
