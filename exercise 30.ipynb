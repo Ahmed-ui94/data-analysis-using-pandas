{
 "cells": [
  {
   "cell_type": "code",
   "execution_count": 1,
   "id": "99fe9e65-6f4f-41d0-88e6-c9cb0eb7a955",
   "metadata": {},
   "outputs": [],
   "source": [
    "import pandas as pd\n",
    "import numpy as np"
   ]
  },
  {
   "cell_type": "code",
   "execution_count": 20,
   "id": "02382754-35db-4792-ae43-016ef5c4732e",
   "metadata": {},
   "outputs": [
    {
     "data": {
      "text/html": [
       "<div>\n",
       "<style scoped>\n",
       "    .dataframe tbody tr th:only-of-type {\n",
       "        vertical-align: middle;\n",
       "    }\n",
       "\n",
       "    .dataframe tbody tr th {\n",
       "        vertical-align: top;\n",
       "    }\n",
       "\n",
       "    .dataframe thead th {\n",
       "        text-align: right;\n",
       "    }\n",
       "</style>\n",
       "<table border=\"1\" class=\"dataframe\">\n",
       "  <thead>\n",
       "    <tr style=\"text-align: right;\">\n",
       "      <th></th>\n",
       "      <th>passenger_count</th>\n",
       "      <th>trip_distance</th>\n",
       "      <th>total_amount</th>\n",
       "    </tr>\n",
       "  </thead>\n",
       "  <tbody>\n",
       "    <tr>\n",
       "      <th>0</th>\n",
       "      <td>1</td>\n",
       "      <td>1.50</td>\n",
       "      <td>9.95</td>\n",
       "    </tr>\n",
       "    <tr>\n",
       "      <th>1</th>\n",
       "      <td>1</td>\n",
       "      <td>2.60</td>\n",
       "      <td>16.30</td>\n",
       "    </tr>\n",
       "    <tr>\n",
       "      <th>2</th>\n",
       "      <td>3</td>\n",
       "      <td>0.00</td>\n",
       "      <td>5.80</td>\n",
       "    </tr>\n",
       "    <tr>\n",
       "      <th>3</th>\n",
       "      <td>5</td>\n",
       "      <td>0.00</td>\n",
       "      <td>7.55</td>\n",
       "    </tr>\n",
       "    <tr>\n",
       "      <th>4</th>\n",
       "      <td>5</td>\n",
       "      <td>0.00</td>\n",
       "      <td>55.55</td>\n",
       "    </tr>\n",
       "    <tr>\n",
       "      <th>...</th>\n",
       "      <td>...</td>\n",
       "      <td>...</td>\n",
       "      <td>...</td>\n",
       "    </tr>\n",
       "    <tr>\n",
       "      <th>7667787</th>\n",
       "      <td>1</td>\n",
       "      <td>4.79</td>\n",
       "      <td>23.16</td>\n",
       "    </tr>\n",
       "    <tr>\n",
       "      <th>7667788</th>\n",
       "      <td>1</td>\n",
       "      <td>0.00</td>\n",
       "      <td>0.00</td>\n",
       "    </tr>\n",
       "    <tr>\n",
       "      <th>7667789</th>\n",
       "      <td>1</td>\n",
       "      <td>0.00</td>\n",
       "      <td>0.00</td>\n",
       "    </tr>\n",
       "    <tr>\n",
       "      <th>7667790</th>\n",
       "      <td>1</td>\n",
       "      <td>0.00</td>\n",
       "      <td>0.00</td>\n",
       "    </tr>\n",
       "    <tr>\n",
       "      <th>7667791</th>\n",
       "      <td>1</td>\n",
       "      <td>0.00</td>\n",
       "      <td>0.00</td>\n",
       "    </tr>\n",
       "  </tbody>\n",
       "</table>\n",
       "<p>7667792 rows × 3 columns</p>\n",
       "</div>"
      ],
      "text/plain": [
       "         passenger_count  trip_distance  total_amount\n",
       "0                      1           1.50          9.95\n",
       "1                      1           2.60         16.30\n",
       "2                      3           0.00          5.80\n",
       "3                      5           0.00          7.55\n",
       "4                      5           0.00         55.55\n",
       "...                  ...            ...           ...\n",
       "7667787                1           4.79         23.16\n",
       "7667788                1           0.00          0.00\n",
       "7667789                1           0.00          0.00\n",
       "7667790                1           0.00          0.00\n",
       "7667791                1           0.00          0.00\n",
       "\n",
       "[7667792 rows x 3 columns]"
      ]
     },
     "execution_count": 20,
     "metadata": {},
     "output_type": "execute_result"
    }
   ],
   "source": [
    "df = pd.read_csv(\"/Users/ahmedabukar/Downloads/pandas-workout-data/data/nyc_taxi_2019-01.csv\",\n",
    "                usecols=[\"passenger_count\", \"trip_distance\", \"total_amount\"])\n",
    "df"
   ]
  },
  {
   "cell_type": "code",
   "execution_count": 22,
   "id": "53bee4d4-85dc-4c37-97c2-6b9406476caf",
   "metadata": {},
   "outputs": [
    {
     "data": {
      "text/plain": [
       "passenger_count\n",
       "6    15.437892\n",
       "5    15.546940\n",
       "3    15.604015\n",
       "1    15.609601\n",
       "4    15.650307\n",
       "2    15.831294\n",
       "0    18.663658\n",
       "9    31.094444\n",
       "7    48.278421\n",
       "8    64.105517\n",
       "Name: total_amount, dtype: float64"
      ]
     },
     "execution_count": 22,
     "metadata": {},
     "output_type": "execute_result"
    }
   ],
   "source": [
    "#for each number of passengers, find the mean cost of a taxi ride.\n",
    "#sort this result from the lowest to highest \n",
    "df.groupby(\"passenger_count\")[\"total_amount\"].mean().sort_values()"
   ]
  },
  {
   "cell_type": "code",
   "execution_count": 23,
   "id": "d303687b-c30c-4d21-b091-cdf99df20e8b",
   "metadata": {},
   "outputs": [
    {
     "data": {
      "text/plain": [
       "0           Short\n",
       "1          Medium\n",
       "2           Short\n",
       "3           Short\n",
       "4           Short\n",
       "            ...  \n",
       "7667787    Medium\n",
       "7667788     Short\n",
       "7667789     Short\n",
       "7667790     Short\n",
       "7667791     Short\n",
       "Name: trip_distance_group, Length: 7667792, dtype: category\n",
       "Categories (3, object): ['Short' < 'Medium' < 'Long']"
      ]
     },
     "execution_count": 23,
     "metadata": {},
     "output_type": "execute_result"
    }
   ],
   "source": [
    "#create a new column trip_distance_group in which values are short < 2,\n",
    "#medium >=2 and <=10 and long > 10\n",
    "df[\"trip_distance_group\"] = pd.cut(df[\"trip_distance\"], bins=[df[\"trip_distance\"].min(), 2, 10, df[\"trip_distance\"].max()],\n",
    "                                 labels=[\"Short\", \"Medium\", \"Long\"], include_lowest=True)\n",
    "df[\"trip_distance_group\"]"
   ]
  },
  {
   "cell_type": "code",
   "execution_count": 24,
   "id": "1ad461e7-5b99-4a68-a2b2-2d1726b6ad5b",
   "metadata": {},
   "outputs": [
    {
     "data": {
      "text/plain": [
       "trip_distance_group\n",
       "Short     1.555906\n",
       "Medium    1.585319\n",
       "Long      1.590035\n",
       "Name: passenger_count, dtype: float64"
      ]
     },
     "execution_count": 24,
     "metadata": {},
     "output_type": "execute_result"
    }
   ],
   "source": [
    "#what is the average number of passenger per trip length category?\n",
    "#sort this result from the highest to lowest\n",
    "df.groupby(\"trip_distance_group\", observed=True)[\"passenger_count\"].agg(\"mean\")"
   ]
  },
  {
   "cell_type": "code",
   "execution_count": 25,
   "id": "844b1e6d-65f4-492d-bf64-560c272c4ab7",
   "metadata": {},
   "outputs": [],
   "source": [
    "#create a single data frame containing rides from both january 2019 and january 2020\n",
    "#with column year indicating which year the rides are coming \n",
    "df_2019 = pd.read_csv(\"/Users/ahmedabukar/Downloads/pandas-workout-data/data/nyc_taxi_2019-01.csv\",\n",
    "                     usecols=[\"passenger_count\", \"trip_distance\", \"total_amount\"])\n",
    "df_2019[\"year\"] = 2019"
   ]
  },
  {
   "cell_type": "code",
   "execution_count": 26,
   "id": "40146b41-2d32-42ba-9b2e-4d0b0ac42d53",
   "metadata": {},
   "outputs": [],
   "source": [
    "df_2020 = pd.read_csv(\"/Users/ahmedabukar/Downloads/pandas-workout-data/data/nyc_taxi_2020-01.csv\",\n",
    "                     usecols=[\"passenger_count\", \"trip_distance\", \"total_amount\"])\n",
    "df_2020[\"year\"] = 2020"
   ]
  },
  {
   "cell_type": "code",
   "execution_count": 30,
   "id": "b0c183f4-2dd8-4a08-9fa9-1f144999ae74",
   "metadata": {},
   "outputs": [
    {
     "data": {
      "text/plain": [
       "year\n",
       "2019    15.682222\n",
       "2020    18.663149\n",
       "Name: total_amount, dtype: float64"
      ]
     },
     "execution_count": 30,
     "metadata": {},
     "output_type": "execute_result"
    }
   ],
   "source": [
    "#compare the average cost of a taxi in january from each of these two years\n",
    "df1 = pd.concat([df_2019, df_2020])\n",
    "df1.groupby(\"year\")[\"total_amount\"].mean()"
   ]
  },
  {
   "cell_type": "code",
   "execution_count": 33,
   "id": "dcd08d82-b9ad-4233-b22b-1fa28be47d07",
   "metadata": {},
   "outputs": [
    {
     "data": {
      "text/plain": [
       "<pandas.core.groupby.generic.DataFrameGroupBy object at 0x13a15fc50>"
      ]
     },
     "execution_count": 33,
     "metadata": {},
     "output_type": "execute_result"
    }
   ],
   "source": [
    "#create a two-level grouping, first by year and by passenger_count\n",
    "df1.groupby([\"year\", \"passenger_count\"])"
   ]
  },
  {
   "cell_type": "code",
   "execution_count": 34,
   "id": "d9fff8a5-4e29-467a-8b46-a1339a7d99a3",
   "metadata": {},
   "outputs": [
    {
     "data": {
      "text/html": [
       "<div>\n",
       "<style scoped>\n",
       "    .dataframe tbody tr th:only-of-type {\n",
       "        vertical-align: middle;\n",
       "    }\n",
       "\n",
       "    .dataframe tbody tr th {\n",
       "        vertical-align: top;\n",
       "    }\n",
       "\n",
       "    .dataframe thead th {\n",
       "        text-align: right;\n",
       "    }\n",
       "</style>\n",
       "<table border=\"1\" class=\"dataframe\">\n",
       "  <thead>\n",
       "    <tr style=\"text-align: right;\">\n",
       "      <th></th>\n",
       "      <th>passenger_count</th>\n",
       "      <th>trip_distance</th>\n",
       "      <th>total_amount</th>\n",
       "      <th>year</th>\n",
       "    </tr>\n",
       "  </thead>\n",
       "  <tbody>\n",
       "    <tr>\n",
       "      <th>passenger_count</th>\n",
       "      <td>1.000000</td>\n",
       "      <td>0.008974</td>\n",
       "      <td>-0.000136</td>\n",
       "      <td>-0.021602</td>\n",
       "    </tr>\n",
       "    <tr>\n",
       "      <th>trip_distance</th>\n",
       "      <td>0.008974</td>\n",
       "      <td>1.000000</td>\n",
       "      <td>0.004331</td>\n",
       "      <td>0.001140</td>\n",
       "    </tr>\n",
       "    <tr>\n",
       "      <th>total_amount</th>\n",
       "      <td>-0.000136</td>\n",
       "      <td>0.004331</td>\n",
       "      <td>1.000000</td>\n",
       "      <td>0.007657</td>\n",
       "    </tr>\n",
       "    <tr>\n",
       "      <th>year</th>\n",
       "      <td>-0.021602</td>\n",
       "      <td>0.001140</td>\n",
       "      <td>0.007657</td>\n",
       "      <td>1.000000</td>\n",
       "    </tr>\n",
       "  </tbody>\n",
       "</table>\n",
       "</div>"
      ],
      "text/plain": [
       "                 passenger_count  trip_distance  total_amount      year\n",
       "passenger_count         1.000000       0.008974     -0.000136 -0.021602\n",
       "trip_distance           0.008974       1.000000      0.004331  0.001140\n",
       "total_amount           -0.000136       0.004331      1.000000  0.007657\n",
       "year                   -0.021602       0.001140      0.007657  1.000000"
      ]
     },
     "execution_count": 34,
     "metadata": {},
     "output_type": "execute_result"
    }
   ],
   "source": [
    "#use corr and sort_values to find which columns have the highest correlation\n",
    "df1.corr()."
   ]
  },
  {
   "cell_type": "code",
   "execution_count": null,
   "id": "f06c9cfe-eb65-4851-9478-c380a6ed1ed9",
   "metadata": {},
   "outputs": [],
   "source": []
  }
 ],
 "metadata": {
  "kernelspec": {
   "display_name": "Python 3 (ipykernel)",
   "language": "python",
   "name": "python3"
  },
  "language_info": {
   "codemirror_mode": {
    "name": "ipython",
    "version": 3
   },
   "file_extension": ".py",
   "mimetype": "text/x-python",
   "name": "python",
   "nbconvert_exporter": "python",
   "pygments_lexer": "ipython3",
   "version": "3.12.4"
  }
 },
 "nbformat": 4,
 "nbformat_minor": 5
}
