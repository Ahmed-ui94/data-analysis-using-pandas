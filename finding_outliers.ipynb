{
 "cells": [
  {
   "cell_type": "code",
   "execution_count": 4,
   "id": "e5345d4e-de85-4b08-8bef-2f27f49c6389",
   "metadata": {},
   "outputs": [],
   "source": [
    "import pandas as pd\n",
    "import numpy as np\n",
    "import pyarrow as pyrr\n",
    "import scipy as sci"
   ]
  },
  {
   "cell_type": "code",
   "execution_count": 5,
   "id": "4c387544-1612-49a2-b23a-eadfde0e5db0",
   "metadata": {},
   "outputs": [],
   "source": [
    "passenger_count = pd.read_csv(\"/Users/ahmedabukar/Downloads/pandas-workout-data/data/taxi-passenger-count.csv\",\n",
    "                              header=None, names=[\"passenger_count\"])\n"
   ]
  },
  {
   "cell_type": "code",
   "execution_count": 6,
   "id": "dc35f8a2-2ac3-43f6-b64d-bf7f4f58618a",
   "metadata": {},
   "outputs": [],
   "source": [
    "trip_distance = pd.read_csv(\"/Users/ahmedabukar/Downloads/pandas-workout-data/data/taxi-distance.csv\",\n",
    "                            header=None, names=[\"Distance_trip\"])\n"
   ]
  },
  {
   "cell_type": "code",
   "execution_count": 7,
   "id": "b115bee9-ab99-4913-8ebc-a67c2be25e82",
   "metadata": {},
   "outputs": [],
   "source": [
    "trip_data = pd.concat([passenger_count, trip_distance], axis=1)"
   ]
  },
  {
   "cell_type": "code",
   "execution_count": 8,
   "id": "468fec4e-0e58-4faa-a325-8220e582d896",
   "metadata": {},
   "outputs": [
    {
     "data": {
      "text/plain": [
       "2.3"
      ]
     },
     "execution_count": 8,
     "metadata": {},
     "output_type": "execute_result"
    }
   ],
   "source": [
    "#find interquantile range for the data\n",
    "interquantile_range = trip_data[\"Distance_trip\"].quantile(0.75) - trip_data[\"Distance_trip\"].quantile(0.25)\n",
    "interquantile_range"
   ]
  },
  {
   "cell_type": "code",
   "execution_count": 9,
   "id": "d5cffb1e-874c-471b-81ba-0f17b32373d2",
   "metadata": {},
   "outputs": [],
   "source": [
    "outliers = trip_data[\"Distance_trip\"].quantile(0.75) + (1.5 * interquantile_range)"
   ]
  },
  {
   "cell_type": "code",
   "execution_count": 10,
   "id": "084ecf09-fb03-4b36-9fcb-d145367679db",
   "metadata": {},
   "outputs": [
    {
     "data": {
      "text/plain": [
       "7       11.90\n",
       "60       9.30\n",
       "73      12.65\n",
       "82      10.24\n",
       "88      23.76\n",
       "        ...  \n",
       "9975     7.60\n",
       "9976    12.60\n",
       "9979    11.30\n",
       "9980     9.13\n",
       "9982     9.30\n",
       "Name: Distance_trip, Length: 1219, dtype: float64"
      ]
     },
     "execution_count": 10,
     "metadata": {},
     "output_type": "execute_result"
    }
   ],
   "source": [
    "#Count how many trip distances were outliers.\n",
    "trip_data.loc[trip_distance[\"Distance_trip\"] > outliers, \"Distance_trip\"]"
   ]
  },
  {
   "cell_type": "code",
   "execution_count": 11,
   "id": "4a997c7f-1f6f-4635-baef-8e5b163d9d1f",
   "metadata": {},
   "outputs": [
    {
     "data": {
      "text/plain": [
       "1.7301066447908122"
      ]
     },
     "execution_count": 11,
     "metadata": {},
     "output_type": "execute_result"
    }
   ],
   "source": [
    "trip_data[\"passenger_count\"][trip_distance[\"Distance_trip\"] \n",
    "> outliers].mean()"
   ]
  },
  {
   "cell_type": "code",
   "execution_count": 18,
   "id": "4d8b59d1",
   "metadata": {},
   "outputs": [
    {
     "data": {
      "text/plain": [
       "array([[1.  , 0.63],\n",
       "       [1.  , 0.63],\n",
       "       [1.  , 0.63],\n",
       "       ...,\n",
       "       [4.  , 8.2 ],\n",
       "       [4.  , 8.2 ],\n",
       "       [4.  , 8.2 ]])"
      ]
     },
     "execution_count": 18,
     "metadata": {},
     "output_type": "execute_result"
    }
   ],
   "source": [
    "sci.stats.trimboth(trip_data, proportiontocut=0.1)"
   ]
  },
  {
   "cell_type": "code",
   "execution_count": 23,
   "id": "1f976c9d",
   "metadata": {},
   "outputs": [
    {
     "data": {
      "text/plain": [
       "88      23.76\n",
       "238     18.32\n",
       "379     16.38\n",
       "509     16.82\n",
       "641     19.72\n",
       "        ...  \n",
       "9897    16.11\n",
       "9899    17.48\n",
       "9906    17.70\n",
       "9955    15.49\n",
       "9964    18.55\n",
       "Name: Distance_trip, Length: 306, dtype: float64"
      ]
     },
     "execution_count": 23,
     "metadata": {},
     "output_type": "execute_result"
    }
   ],
   "source": [
    "trip_data.loc[sci.stats.zscore(trip_data[\"Distance_trip\"]) > 3][\"Distance_trip\"]"
   ]
  },
  {
   "cell_type": "code",
   "execution_count": 22,
   "id": "0cd0fede",
   "metadata": {},
   "outputs": [
    {
     "data": {
      "text/plain": [
       "(9999, 2)"
      ]
     },
     "execution_count": 22,
     "metadata": {},
     "output_type": "execute_result"
    }
   ],
   "source": [
    "trip_data.shape"
   ]
  },
  {
   "cell_type": "code",
   "execution_count": null,
   "id": "e24f96e6",
   "metadata": {},
   "outputs": [],
   "source": []
  }
 ],
 "metadata": {
  "kernelspec": {
   "display_name": "Python 3 (ipykernel)",
   "language": "python",
   "name": "python3"
  },
  "language_info": {
   "codemirror_mode": {
    "name": "ipython",
    "version": 3
   },
   "file_extension": ".py",
   "mimetype": "text/x-python",
   "name": "python",
   "nbconvert_exporter": "python",
   "pygments_lexer": "ipython3",
   "version": "3.9.12"
  }
 },
 "nbformat": 4,
 "nbformat_minor": 5
}
