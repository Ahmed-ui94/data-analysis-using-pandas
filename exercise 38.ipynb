{
 "cells": [
  {
   "cell_type": "code",
   "execution_count": 1,
   "id": "78a741d4-9f8c-4557-a765-844a5f3f6cfa",
   "metadata": {},
   "outputs": [],
   "source": [
    "import pandas as pd\n",
    "import numpy as np"
   ]
  },
  {
   "cell_type": "code",
   "execution_count": 26,
   "id": "1d9b4d88-73a9-4ee6-85ff-d0d53a637949",
   "metadata": {},
   "outputs": [
    {
     "data": {
      "text/plain": [
       "(83439, 4)"
      ]
     },
     "execution_count": 26,
     "metadata": {},
     "output_type": "execute_result"
    }
   ],
   "source": [
    "filename = \"/Users/ahmedabukar/Downloads/:/data/so_2021_survey_results.csv\"\n",
    "df = pd.read_csv(filename,\n",
    "                usecols=[\"LanguageHaveWorkedWith\",\n",
    "                        \"LanguageWantToWorkWith\",\n",
    "                        \"Country\", \"CompTotal\"])\n",
    "df.shape"
   ]
  },
  {
   "cell_type": "code",
   "execution_count": 3,
   "id": "def4717c-d38a-4270-8f0b-d72831006f70",
   "metadata": {},
   "outputs": [
    {
     "data": {
      "text/plain": [
       "0               C++\n",
       "0          HTML/CSS\n",
       "0        JavaScript\n",
       "0       Objective-C\n",
       "0               PHP\n",
       "0             Swift\n",
       "1            Python\n",
       "2          Assembly\n",
       "2                 C\n",
       "2                 R\n",
       "2              Rust\n",
       "3        TypeScript\n",
       "4        Bash/Shell\n",
       "4               SQL\n",
       "5                C#\n",
       "5              Java\n",
       "5           Node.js\n",
       "5        PowerShell\n",
       "7              Ruby\n",
       "12             Perl\n",
       "19           Matlab\n",
       "24           Kotlin\n",
       "25            Julia\n",
       "28          Haskell\n",
       "29           Delphi\n",
       "31               Go\n",
       "31            Scala\n",
       "38             Dart\n",
       "46              NaN\n",
       "50              VBA\n",
       "85           Groovy\n",
       "88          Clojure\n",
       "133             APL\n",
       "133            LISP\n",
       "143              F#\n",
       "371          Elixir\n",
       "439          Erlang\n",
       "522         Crystal\n",
       "8054          COBOL\n",
       "Name: LanguageHaveWorkedWith, dtype: object"
      ]
     },
     "execution_count": 3,
     "metadata": {},
     "output_type": "execute_result"
    }
   ],
   "source": [
    "# what are the different programming langauges that developers currently use?\n",
    "def explode_strings(s):\n",
    "    return (\n",
    "        s.str.split(\";\")\n",
    "        .explode()\n",
    "    )\n",
    "\n",
    "(\n",
    "    df\n",
    "    [\"LanguageHaveWorkedWith\"]\n",
    "    .pipe(explode_strings)\n",
    "    .drop_duplicates()\n",
    ")"
   ]
  },
  {
   "cell_type": "code",
   "execution_count": 4,
   "id": "9d6e286a-3ac7-4d2e-801c-6a2064de66ff",
   "metadata": {},
   "outputs": [
    {
     "data": {
      "text/plain": [
       "LanguageHaveWorkedWith\n",
       "JavaScript    53587\n",
       "HTML/CSS      46259\n",
       "Python        39792\n",
       "SQL           38835\n",
       "Java          29162\n",
       "Node.js       27975\n",
       "TypeScript    24909\n",
       "C#            22984\n",
       "Bash/Shell    22385\n",
       "C++           20057\n",
       "Name: count, dtype: int64"
      ]
     },
     "execution_count": 4,
     "metadata": {},
     "output_type": "execute_result"
    }
   ],
   "source": [
    "# what are the 10 the programming languages most commonly used?\n",
    "top_10_have_work_with = (\n",
    "    df[\"LanguageHaveWorkedWith\"]\n",
    "    .pipe(explode_strings)\n",
    "    .value_counts()\n",
    "    .head(10)\n",
    ")\n",
    "\n",
    "top_10_have_work_with"
   ]
  },
  {
   "cell_type": "code",
   "execution_count": 5,
   "id": "1f68030f-02ed-46de-95dc-24a204a37c46",
   "metadata": {},
   "outputs": [
    {
     "data": {
      "text/plain": [
       "LanguageWantToWorkWith\n",
       "JavaScript    37008\n",
       "Python        34929\n",
       "HTML/CSS      29353\n",
       "TypeScript    26905\n",
       "SQL           26631\n",
       "Node.js       24100\n",
       "C#            17999\n",
       "Java          17222\n",
       "Rust          15865\n",
       "Go            15788\n",
       "Name: count, dtype: int64"
      ]
     },
     "execution_count": 5,
     "metadata": {},
     "output_type": "execute_result"
    }
   ],
   "source": [
    "# what are the 10 programming languages people most want to use?\n",
    "top_10_want_to_work = (\n",
    "    df[\"LanguageWantToWorkWith\"]\n",
    "    .pipe(explode_strings)\n",
    "    .value_counts()\n",
    "    .head(10)\n",
    ")\n",
    "\n",
    "top_10_want_to_work"
   ]
  },
  {
   "cell_type": "code",
   "execution_count": 6,
   "id": "24fb82e6-9385-40ee-bf68-8b179ab1505f",
   "metadata": {},
   "outputs": [
    {
     "data": {
      "text/plain": [
       "Index(['JavaScript', 'Python', 'HTML/CSS', 'TypeScript', 'SQL', 'Node.js',\n",
       "       'C#', 'Java'],\n",
       "      dtype='object')"
      ]
     },
     "execution_count": 6,
     "metadata": {},
     "output_type": "execute_result"
    }
   ],
   "source": [
    "# what languages are on both top-10 lists?\n",
    "top_10_want_to_work.index.intersection(top_10_have_work_with.index)"
   ]
  },
  {
   "cell_type": "code",
   "execution_count": 7,
   "id": "fba5d201-b448-493d-b6dd-c03b96a9ae64",
   "metadata": {},
   "outputs": [
    {
     "data": {
      "text/plain": [
       "Index(['Bash/Shell', 'C++'], dtype='object')"
      ]
     },
     "execution_count": 7,
     "metadata": {},
     "output_type": "execute_result"
    }
   ],
   "source": [
    "# what languages in the top 10 have people worked with but don't want to work with in the future?\n",
    "top_10_have_work_with.index.difference(top_10_want_to_work.index)"
   ]
  },
  {
   "cell_type": "code",
   "execution_count": 20,
   "id": "3129312b-70bb-4b35-99f1-1c73b9c8c40d",
   "metadata": {},
   "outputs": [
    {
     "data": {
      "text/plain": [
       "Country\n",
       "Afghanistan                                         JavaScript\n",
       "Albania                                             JavaScript\n",
       "Algeria                                             JavaScript\n",
       "Andorra                                 [HTML/CSS, JavaScript]\n",
       "Angola                                  [HTML/CSS, JavaScript]\n",
       "                                                 ...          \n",
       "Venezuela, Bolivarian Republic of...                JavaScript\n",
       "Viet Nam                                            JavaScript\n",
       "Yemen                                                      PHP\n",
       "Zambia                                              JavaScript\n",
       "Zimbabwe                                            JavaScript\n",
       "Name: LanguageHaveWorkedWith, Length: 170, dtype: object"
      ]
     },
     "execution_count": 20,
     "metadata": {},
     "output_type": "execute_result"
    }
   ],
   "source": [
    "# what is the most popular(current) language used by people in each country?\n",
    "(\n",
    "    df\n",
    "    [\"LanguageHaveWorkedWith\"]\n",
    "    .pipe(explode_strings)\n",
    "    .groupby(df[\"Country\"])\n",
    "    .agg(pd.Series.mode)\n",
    ")"
   ]
  },
  {
   "cell_type": "code",
   "execution_count": 19,
   "id": "7142cff6-236f-4966-97ec-112e6380cf2b",
   "metadata": {},
   "outputs": [
    {
     "data": {
      "text/plain": [
       "5.307487409065473"
      ]
     },
     "execution_count": 19,
     "metadata": {},
     "output_type": "execute_result"
    }
   ],
   "source": [
    "# what is th mean number of languages used in the last year?\n",
    "languages = pd.read_csv(\"/Users/ahmedabukar/Downloads/languages.csv\",\n",
    "                       usecols=[\"title\"])\n",
    "\n",
    "(\n",
    "    df\n",
    "    [\"LanguageHaveWorkedWith\"]\n",
    "    .str.split(\";\")\n",
    "    .str.len()\n",
    "    .mean()\n",
    ")"
   ]
  },
  {
   "cell_type": "code",
   "execution_count": 10,
   "id": "60c4e1d2-8a57-45b3-bc47-715d322cdfe0",
   "metadata": {},
   "outputs": [
    {
     "data": {
      "text/plain": [
       "38.0"
      ]
     },
     "execution_count": 10,
     "metadata": {},
     "output_type": "execute_result"
    }
   ],
   "source": [
    "# what is the greatest number of languages people listed as having used in the last year?\n",
    "(\n",
    "    df\n",
    "    [\"LanguageHaveWorkedWith\"]\n",
    "    .str.split(\";\")\n",
    "    .str.len()\n",
    "    .max()\n",
    "    \n",
    ")"
   ]
  },
  {
   "cell_type": "code",
   "execution_count": 24,
   "id": "3ad33214-15ff-4949-aa63-51c119c32d00",
   "metadata": {},
   "outputs": [
    {
     "data": {
      "text/plain": [
       "5"
      ]
     },
     "execution_count": 24,
     "metadata": {},
     "output_type": "execute_result"
    }
   ],
   "source": [
    "# how many people chose that largest number?\n",
    "(\n",
    "    df\n",
    "    .loc[df\n",
    "    [\"LanguageHaveWorkedWith\"]\n",
    "    .str.split(\";\")\n",
    "    .str.len() == 38,\n",
    "    \"LanguageHaveWorkedWith\"]\n",
    "    .count()\n",
    ")"
   ]
  },
  {
   "cell_type": "code",
   "execution_count": 12,
   "id": "cf1fad48-9198-4a8a-a512-f2afc0e0f3ea",
   "metadata": {},
   "outputs": [
    {
     "data": {
      "text/plain": [
       "2369"
      ]
     },
     "execution_count": 12,
     "metadata": {},
     "output_type": "execute_result"
    }
   ],
   "source": [
    "# how many people in the survey claim salaries of $2 million or more?\n",
    "(\n",
    "    df\n",
    "    [df[\"CompTotal\"] >= 2000000]\n",
    "    [\"CompTotal\"]\n",
    "    .count()\n",
    ")"
   ]
  },
  {
   "cell_type": "code",
   "execution_count": 13,
   "id": "4f7c41b8-9a17-4c51-b456-b3f5c1adb096",
   "metadata": {},
   "outputs": [],
   "source": [
    "# remove rows in which salaries are less $2 million ?\n",
    "df = df.loc[df[\"CompTotal\"] < 2000000]"
   ]
  },
  {
   "cell_type": "code",
   "execution_count": 14,
   "id": "9cdc09a9-468c-4873-b327-eff574e48e1b",
   "metadata": {},
   "outputs": [],
   "source": [
    "# turn the LangugaeWorkedWith column to 'dummy' columns in df\n",
    "# such that each language is its own columns\n",
    "languages_dummies = df[\"LanguageHaveWorkedWith\"].str.get_dummies(sep=\";\")"
   ]
  },
  {
   "cell_type": "code",
   "execution_count": 15,
   "id": "46da2f4f-bdfc-4c7f-a770-a7fb38f41cfe",
   "metadata": {},
   "outputs": [],
   "source": [
    "# determine what combinations is best if you want to maximise your salary \n",
    "# and have to chose two programming languages from python, Javascript and java.\n",
    "df = pd.concat([df, languages_dummies], axis=\"columns\")"
   ]
  },
  {
   "cell_type": "code",
   "execution_count": 16,
   "id": "47714dc7-11c5-416e-8004-0ad883d5bc88",
   "metadata": {},
   "outputs": [
    {
     "data": {
      "text/plain": [
       "126817.99470235605"
      ]
     },
     "execution_count": 16,
     "metadata": {},
     "output_type": "execute_result"
    }
   ],
   "source": [
    "# what is the salary of someone who knowns python and javascript?\n",
    "\n",
    "df['CompTotal'][(df['Python'] == 1) &\n",
    "                (df['JavaScript'] == 1) &\n",
    "                (df['Java'] == 0)].mean()"
   ]
  },
  {
   "cell_type": "code",
   "execution_count": 17,
   "id": "2e7030b4-9293-43ac-8e57-e80e2daf36dd",
   "metadata": {},
   "outputs": [
    {
     "data": {
      "text/plain": [
       "162737.10379596677"
      ]
     },
     "execution_count": 17,
     "metadata": {},
     "output_type": "execute_result"
    }
   ],
   "source": [
    "# salary for python and Java without JavaScript?\n",
    "df[\"CompTotal\"][(df[\"Python\"] == 1) &\n",
    "(df[\"Java\"] == 1) &\n",
    "(df[\"JavaScript\"] == 0)].mean()"
   ]
  },
  {
   "cell_type": "code",
   "execution_count": 18,
   "id": "0eab54d6-ffbc-44c4-abd0-7dec0c3f8465",
   "metadata": {},
   "outputs": [
    {
     "data": {
      "text/plain": [
       "140867.65981559738"
      ]
     },
     "execution_count": 18,
     "metadata": {},
     "output_type": "execute_result"
    }
   ],
   "source": [
    "# salary for Java and JavaScript without Python?\n",
    "df[\"CompTotal\"][(df[\"Python\"] == 0) &\n",
    "(df[\"Java\"] == 1) &\n",
    "(df[\"JavaScript\"] == 1)].mean()"
   ]
  },
  {
   "cell_type": "code",
   "execution_count": 44,
   "id": "3a58b978-87de-4e97-96e0-8af66f45a8a9",
   "metadata": {},
   "outputs": [
    {
     "data": {
      "text/html": [
       "<div>\n",
       "<style scoped>\n",
       "    .dataframe tbody tr th:only-of-type {\n",
       "        vertical-align: middle;\n",
       "    }\n",
       "\n",
       "    .dataframe tbody tr th {\n",
       "        vertical-align: top;\n",
       "    }\n",
       "\n",
       "    .dataframe thead th {\n",
       "        text-align: right;\n",
       "    }\n",
       "</style>\n",
       "<table border=\"1\" class=\"dataframe\">\n",
       "  <thead>\n",
       "    <tr style=\"text-align: right;\">\n",
       "      <th></th>\n",
       "      <th>YearsCode</th>\n",
       "      <th>YearsCodePro</th>\n",
       "      <th>NEWStuck</th>\n",
       "      <th>Gender</th>\n",
       "    </tr>\n",
       "  </thead>\n",
       "  <tbody>\n",
       "    <tr>\n",
       "      <th>0</th>\n",
       "      <td>NaN</td>\n",
       "      <td>NaN</td>\n",
       "      <td>Call a coworker or friend;Visit Stack Overflow...</td>\n",
       "      <td>Man</td>\n",
       "    </tr>\n",
       "    <tr>\n",
       "      <th>1</th>\n",
       "      <td>7</td>\n",
       "      <td>NaN</td>\n",
       "      <td>Visit Stack Overflow;Google it</td>\n",
       "      <td>Man</td>\n",
       "    </tr>\n",
       "    <tr>\n",
       "      <th>2</th>\n",
       "      <td>NaN</td>\n",
       "      <td>NaN</td>\n",
       "      <td>Visit Stack Overflow;Google it;Watch help / tu...</td>\n",
       "      <td>Man</td>\n",
       "    </tr>\n",
       "    <tr>\n",
       "      <th>3</th>\n",
       "      <td>NaN</td>\n",
       "      <td>NaN</td>\n",
       "      <td>Call a coworker or friend;Visit Stack Overflow...</td>\n",
       "      <td>Man</td>\n",
       "    </tr>\n",
       "    <tr>\n",
       "      <th>4</th>\n",
       "      <td>17</td>\n",
       "      <td>10</td>\n",
       "      <td>Visit Stack Overflow;Go for a walk or other ph...</td>\n",
       "      <td>Man</td>\n",
       "    </tr>\n",
       "  </tbody>\n",
       "</table>\n",
       "</div>"
      ],
      "text/plain": [
       "  YearsCode YearsCodePro                                           NEWStuck  \\\n",
       "0       NaN          NaN  Call a coworker or friend;Visit Stack Overflow...   \n",
       "1         7          NaN                     Visit Stack Overflow;Google it   \n",
       "2       NaN          NaN  Visit Stack Overflow;Google it;Watch help / tu...   \n",
       "3       NaN          NaN  Call a coworker or friend;Visit Stack Overflow...   \n",
       "4        17           10  Visit Stack Overflow;Go for a walk or other ph...   \n",
       "\n",
       "  Gender  \n",
       "0    Man  \n",
       "1    Man  \n",
       "2    Man  \n",
       "3    Man  \n",
       "4    Man  "
      ]
     },
     "execution_count": 44,
     "metadata": {},
     "output_type": "execute_result"
    }
   ],
   "source": [
    "# load the data with NEWStuch column?\n",
    "df = pd.read_csv(filename,\n",
    "                usecols=[\"NEWStuck\", \"Gender\", \"YearsCodePro\", \"YearsCode\"])\n",
    "df.head()"
   ]
  },
  {
   "cell_type": "code",
   "execution_count": 32,
   "id": "66406df8-9b2c-43c6-a2f1-c4650f42d908",
   "metadata": {},
   "outputs": [
    {
     "data": {
      "text/plain": [
       "NEWStuck\n",
       "Google it                            74491\n",
       "Visit Stack Overflow                 66410\n",
       "Do other work and come back later    39871\n",
       "Name: count, dtype: int64"
      ]
     },
     "execution_count": 32,
     "metadata": {},
     "output_type": "execute_result"
    }
   ],
   "source": [
    "# when developers are stuck what are the three things that they likely to do?\n",
    "(\n",
    "    df[\"NEWStuck\"]\n",
    "    .str.split(\";\")\n",
    "    .explode()\n",
    "    .value_counts()\n",
    "    .head(3)\n",
    ")"
   ]
  },
  {
   "cell_type": "code",
   "execution_count": 40,
   "id": "88459a47-757f-4df5-b825-58b10430d445",
   "metadata": {},
   "outputs": [
    {
     "data": {
      "text/plain": [
       "Gender\n",
       "Man                                                  0.906957\n",
       "Woman                                                0.052570\n",
       "Prefer not to say                                    0.017339\n",
       "Non-binary, genderqueer, or gender non-conforming    0.014044\n",
       "Or, in your own words:                               0.009090\n",
       "Name: proportion, dtype: float64"
      ]
     },
     "execution_count": 40,
     "metadata": {},
     "output_type": "execute_result"
    }
   ],
   "source": [
    "# what proportion of the survey respondonts marked their gender as Man?\n",
    "# Does that proportion seem similar to your real-life experience?\n",
    "(\n",
    "    df[\"Gender\"]\n",
    "    .str.split(\";\")\n",
    "    .explode()\n",
    "    .value_counts(normalize=True)\n",
    ")"
   ]
  },
  {
   "cell_type": "code",
   "execution_count": 52,
   "id": "fdce3889-ddf5-44c2-8eb4-7135eab9d4b1",
   "metadata": {},
   "outputs": [
    {
     "data": {
      "text/plain": [
       "2.0714732301931247"
      ]
     },
     "execution_count": 52,
     "metadata": {},
     "output_type": "execute_result"
    }
   ],
   "source": [
    "# on average, what proportion of their years coding have been done proffesionally?\n",
    "df.loc[df[\"YearsCode\"] == \"Less than 1 year\", \"YearsCode\"] = 0\n",
    "df.loc[df[\"YearsCode\"] == \"More than 50 years\", \"YearsCode\"] = 51\n",
    "\n",
    "df.loc[df[\"YearsCodePro\"] == \"Less than 1 year\", \"YearsCodePro\"] = 0\n",
    "df.loc[df[\"YearsCodePro\"] == \"More than 50 years\", \"YearsCodePro\"] = 51\n",
    "\n",
    "# drop Nan\n",
    "df = df.dropna(subset=[\"YearsCode\", \"YearsCodePro\"])\n",
    "\n",
    "# turn into integers\n",
    "df[\"YearsCode\"] = df[\"YearsCode\"].astype(np.int16)\n",
    "df[\"YearsCodePro\"] = df[\"YearsCodePro\"].astype(np.int16)\n",
    "df = df[df[\"YearsCode\"] != 0]\n",
    "\n",
    "(df[\"YearsCode\"] / df[\"YearsCodePro\"]).mean()"
   ]
  },
  {
   "cell_type": "code",
   "execution_count": 54,
   "id": "aa56d9a2-1f83-4d67-a2bf-67b17940efe8",
   "metadata": {},
   "outputs": [
    {
     "data": {
      "text/html": [
       "<div>\n",
       "<style scoped>\n",
       "    .dataframe tbody tr th:only-of-type {\n",
       "        vertical-align: middle;\n",
       "    }\n",
       "\n",
       "    .dataframe tbody tr th {\n",
       "        vertical-align: top;\n",
       "    }\n",
       "\n",
       "    .dataframe thead th {\n",
       "        text-align: right;\n",
       "    }\n",
       "</style>\n",
       "<table border=\"1\" class=\"dataframe\">\n",
       "  <thead>\n",
       "    <tr style=\"text-align: right;\">\n",
       "      <th></th>\n",
       "      <th>YearsCode</th>\n",
       "      <th>YearsCodePro</th>\n",
       "      <th>NEWStuck</th>\n",
       "      <th>Gender</th>\n",
       "    </tr>\n",
       "  </thead>\n",
       "  <tbody>\n",
       "    <tr>\n",
       "      <th>4</th>\n",
       "      <td>17</td>\n",
       "      <td>10</td>\n",
       "      <td>Visit Stack Overflow;Go for a walk or other ph...</td>\n",
       "      <td>Man</td>\n",
       "    </tr>\n",
       "    <tr>\n",
       "      <th>8</th>\n",
       "      <td>6</td>\n",
       "      <td>4</td>\n",
       "      <td>Visit Stack Overflow;Google it;Panic</td>\n",
       "      <td>Man</td>\n",
       "    </tr>\n",
       "    <tr>\n",
       "      <th>9</th>\n",
       "      <td>7</td>\n",
       "      <td>4</td>\n",
       "      <td>Call a coworker or friend;Visit Stack Overflow...</td>\n",
       "      <td>Man</td>\n",
       "    </tr>\n",
       "    <tr>\n",
       "      <th>10</th>\n",
       "      <td>16</td>\n",
       "      <td>10</td>\n",
       "      <td>Visit Stack Overflow;Google it</td>\n",
       "      <td>Man</td>\n",
       "    </tr>\n",
       "    <tr>\n",
       "      <th>11</th>\n",
       "      <td>12</td>\n",
       "      <td>5</td>\n",
       "      <td>Call a coworker or friend;Visit Stack Overflow...</td>\n",
       "      <td>Man</td>\n",
       "    </tr>\n",
       "    <tr>\n",
       "      <th>...</th>\n",
       "      <td>...</td>\n",
       "      <td>...</td>\n",
       "      <td>...</td>\n",
       "      <td>...</td>\n",
       "    </tr>\n",
       "    <tr>\n",
       "      <th>83434</th>\n",
       "      <td>6</td>\n",
       "      <td>5</td>\n",
       "      <td>Call a coworker or friend;Google it</td>\n",
       "      <td>Man</td>\n",
       "    </tr>\n",
       "    <tr>\n",
       "      <th>83435</th>\n",
       "      <td>4</td>\n",
       "      <td>2</td>\n",
       "      <td>Call a coworker or friend;Visit Stack Overflow...</td>\n",
       "      <td>Man</td>\n",
       "    </tr>\n",
       "    <tr>\n",
       "      <th>83436</th>\n",
       "      <td>10</td>\n",
       "      <td>4</td>\n",
       "      <td>Call a coworker or friend;Visit Stack Overflow...</td>\n",
       "      <td>Man</td>\n",
       "    </tr>\n",
       "    <tr>\n",
       "      <th>83437</th>\n",
       "      <td>5</td>\n",
       "      <td>3</td>\n",
       "      <td>Call a coworker or friend;Visit Stack Overflow...</td>\n",
       "      <td>Man</td>\n",
       "    </tr>\n",
       "    <tr>\n",
       "      <th>83438</th>\n",
       "      <td>14</td>\n",
       "      <td>4</td>\n",
       "      <td>Call a coworker or friend;Visit Stack Overflow...</td>\n",
       "      <td>Man</td>\n",
       "    </tr>\n",
       "  </tbody>\n",
       "</table>\n",
       "<p>58292 rows × 4 columns</p>\n",
       "</div>"
      ],
      "text/plain": [
       "       YearsCode  YearsCodePro  \\\n",
       "4             17            10   \n",
       "8              6             4   \n",
       "9              7             4   \n",
       "10            16            10   \n",
       "11            12             5   \n",
       "...          ...           ...   \n",
       "83434          6             5   \n",
       "83435          4             2   \n",
       "83436         10             4   \n",
       "83437          5             3   \n",
       "83438         14             4   \n",
       "\n",
       "                                                NEWStuck Gender  \n",
       "4      Visit Stack Overflow;Go for a walk or other ph...    Man  \n",
       "8                   Visit Stack Overflow;Google it;Panic    Man  \n",
       "9      Call a coworker or friend;Visit Stack Overflow...    Man  \n",
       "10                        Visit Stack Overflow;Google it    Man  \n",
       "11     Call a coworker or friend;Visit Stack Overflow...    Man  \n",
       "...                                                  ...    ...  \n",
       "83434                Call a coworker or friend;Google it    Man  \n",
       "83435  Call a coworker or friend;Visit Stack Overflow...    Man  \n",
       "83436  Call a coworker or friend;Visit Stack Overflow...    Man  \n",
       "83437  Call a coworker or friend;Visit Stack Overflow...    Man  \n",
       "83438  Call a coworker or friend;Visit Stack Overflow...    Man  \n",
       "\n",
       "[58292 rows x 4 columns]"
      ]
     },
     "execution_count": 54,
     "metadata": {},
     "output_type": "execute_result"
    }
   ],
   "source": [
    "df[df[\"YearsCode\"] != 0]"
   ]
  },
  {
   "cell_type": "code",
   "execution_count": null,
   "id": "1b7292f2-c16e-408f-8fac-e591d8802b85",
   "metadata": {},
   "outputs": [],
   "source": []
  }
 ],
 "metadata": {
  "kernelspec": {
   "display_name": "Python 3 (ipykernel)",
   "language": "python",
   "name": "python3"
  },
  "language_info": {
   "codemirror_mode": {
    "name": "ipython",
    "version": 3
   },
   "file_extension": ".py",
   "mimetype": "text/x-python",
   "name": "python",
   "nbconvert_exporter": "python",
   "pygments_lexer": "ipython3",
   "version": "3.12.4"
  }
 },
 "nbformat": 4,
 "nbformat_minor": 5
}
