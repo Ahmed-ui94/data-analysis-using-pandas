{
 "cells": [
  {
   "cell_type": "code",
   "execution_count": 21,
   "id": "965034e2-79e9-4f55-b480-26c8b6a677f7",
   "metadata": {},
   "outputs": [],
   "source": [
    "import pandas as pd\n",
    "import numpy as np\n",
    "import glob"
   ]
  },
  {
   "cell_type": "code",
   "execution_count": 30,
   "id": "0ab5474b-d537-4f39-9cb9-2041330b8ace",
   "metadata": {},
   "outputs": [
    {
     "name": "stdout",
     "output_type": "stream",
     "text": [
      "working on san+francisco,ca.csv\n",
      "working on new+york,ny.csv\n",
      "working on springfield,ma.csv\n",
      "working on boston,ma.csv\n",
      "working on springfield,il.csv\n",
      "working on albany,ny.csv\n",
      "working on los+angeles,ca.csv\n",
      "working on chicago,il.csv\n"
     ]
    }
   ],
   "source": [
    "file_dfs = []\n",
    "for onefile in glob.glob(\"/Users/ahmedabukar/Downloads/:/data/*,*.csv\"):\n",
    "    filename = onefile.removeprefix(\"/Users/ahmedabukar/Downloads/:/data/\")\n",
    "    print(f\"working on {filename}\")\n",
    "    \n",
    "    city, state = (filename.removesuffix(\".csv\").split(\",\"))\n",
    "    city = city.replace(\"+\", \" \")\n",
    "\n",
    "\n",
    "    df = (pd.read_csv(onefile, \n",
    "                     usecols=[1, 2, 19],                    \n",
    "                      header=0, \n",
    "                      names=[\"max_temp\", \"min_temp\", \"precipMM\"])\n",
    "          .assign(city=city.title(), state=state.upper()))\n",
    "    file_dfs.append(df)"
   ]
  },
  {
   "cell_type": "code",
   "execution_count": 31,
   "id": "16f27859-c191-4d41-a040-3937610c2c0d",
   "metadata": {},
   "outputs": [
    {
     "data": {
      "text/html": [
       "<div>\n",
       "<style scoped>\n",
       "    .dataframe tbody tr th:only-of-type {\n",
       "        vertical-align: middle;\n",
       "    }\n",
       "\n",
       "    .dataframe tbody tr th {\n",
       "        vertical-align: top;\n",
       "    }\n",
       "\n",
       "    .dataframe thead th {\n",
       "        text-align: right;\n",
       "    }\n",
       "</style>\n",
       "<table border=\"1\" class=\"dataframe\">\n",
       "  <thead>\n",
       "    <tr style=\"text-align: right;\">\n",
       "      <th></th>\n",
       "      <th>max_temp</th>\n",
       "      <th>min_temp</th>\n",
       "      <th>precipMM</th>\n",
       "      <th>city</th>\n",
       "      <th>state</th>\n",
       "    </tr>\n",
       "  </thead>\n",
       "  <tbody>\n",
       "    <tr>\n",
       "      <th>0</th>\n",
       "      <td>13</td>\n",
       "      <td>8</td>\n",
       "      <td>0.0</td>\n",
       "      <td>San Francisco</td>\n",
       "      <td>CA</td>\n",
       "    </tr>\n",
       "    <tr>\n",
       "      <th>1</th>\n",
       "      <td>13</td>\n",
       "      <td>8</td>\n",
       "      <td>0.0</td>\n",
       "      <td>San Francisco</td>\n",
       "      <td>CA</td>\n",
       "    </tr>\n",
       "    <tr>\n",
       "      <th>2</th>\n",
       "      <td>13</td>\n",
       "      <td>8</td>\n",
       "      <td>0.0</td>\n",
       "      <td>San Francisco</td>\n",
       "      <td>CA</td>\n",
       "    </tr>\n",
       "    <tr>\n",
       "      <th>3</th>\n",
       "      <td>13</td>\n",
       "      <td>8</td>\n",
       "      <td>0.0</td>\n",
       "      <td>San Francisco</td>\n",
       "      <td>CA</td>\n",
       "    </tr>\n",
       "    <tr>\n",
       "      <th>4</th>\n",
       "      <td>13</td>\n",
       "      <td>8</td>\n",
       "      <td>0.0</td>\n",
       "      <td>San Francisco</td>\n",
       "      <td>CA</td>\n",
       "    </tr>\n",
       "    <tr>\n",
       "      <th>...</th>\n",
       "      <td>...</td>\n",
       "      <td>...</td>\n",
       "      <td>...</td>\n",
       "      <td>...</td>\n",
       "      <td>...</td>\n",
       "    </tr>\n",
       "    <tr>\n",
       "      <th>723</th>\n",
       "      <td>3</td>\n",
       "      <td>-2</td>\n",
       "      <td>0.0</td>\n",
       "      <td>Chicago</td>\n",
       "      <td>IL</td>\n",
       "    </tr>\n",
       "    <tr>\n",
       "      <th>724</th>\n",
       "      <td>3</td>\n",
       "      <td>-2</td>\n",
       "      <td>0.0</td>\n",
       "      <td>Chicago</td>\n",
       "      <td>IL</td>\n",
       "    </tr>\n",
       "    <tr>\n",
       "      <th>725</th>\n",
       "      <td>3</td>\n",
       "      <td>-2</td>\n",
       "      <td>0.0</td>\n",
       "      <td>Chicago</td>\n",
       "      <td>IL</td>\n",
       "    </tr>\n",
       "    <tr>\n",
       "      <th>726</th>\n",
       "      <td>3</td>\n",
       "      <td>-2</td>\n",
       "      <td>0.0</td>\n",
       "      <td>Chicago</td>\n",
       "      <td>IL</td>\n",
       "    </tr>\n",
       "    <tr>\n",
       "      <th>727</th>\n",
       "      <td>3</td>\n",
       "      <td>-2</td>\n",
       "      <td>0.0</td>\n",
       "      <td>Chicago</td>\n",
       "      <td>IL</td>\n",
       "    </tr>\n",
       "  </tbody>\n",
       "</table>\n",
       "<p>5824 rows × 5 columns</p>\n",
       "</div>"
      ],
      "text/plain": [
       "     max_temp  min_temp  precipMM           city state\n",
       "0          13         8       0.0  San Francisco    CA\n",
       "1          13         8       0.0  San Francisco    CA\n",
       "2          13         8       0.0  San Francisco    CA\n",
       "3          13         8       0.0  San Francisco    CA\n",
       "4          13         8       0.0  San Francisco    CA\n",
       "..        ...       ...       ...            ...   ...\n",
       "723         3        -2       0.0        Chicago    IL\n",
       "724         3        -2       0.0        Chicago    IL\n",
       "725         3        -2       0.0        Chicago    IL\n",
       "726         3        -2       0.0        Chicago    IL\n",
       "727         3        -2       0.0        Chicago    IL\n",
       "\n",
       "[5824 rows x 5 columns]"
      ]
     },
     "execution_count": 31,
     "metadata": {},
     "output_type": "execute_result"
    }
   ],
   "source": [
    "df = pd.concat(file_dfs)\n",
    "df"
   ]
  },
  {
   "cell_type": "code",
   "execution_count": 48,
   "id": "2030f6e8-7159-499a-8357-c9b1b57c75e8",
   "metadata": {},
   "outputs": [],
   "source": [
    "def precipitation_atleast_15(df, min_mm, times):\n",
    "    return df.loc[df['precipMM'] >= min_mm, \"precipMM\"].count() >= times"
   ]
  },
  {
   "cell_type": "code",
   "execution_count": 63,
   "id": "1c336f95-51dc-41a3-b220-ff21d5167e28",
   "metadata": {},
   "outputs": [],
   "source": [
    "def has_low_temp(df):\n",
    "    return (df.loc[(\n",
    "        df[\"precipMM\"] > 15) & (df[\"min_temp\"] <= 0),\n",
    "            \"precipMM\"]\n",
    "            .count() > 3) "
   ]
  },
  {
   "cell_type": "code",
   "execution_count": 64,
   "id": "69dffdcc-4b19-42b8-881d-f57d9d1bfade",
   "metadata": {},
   "outputs": [
    {
     "data": {
      "text/html": [
       "<div>\n",
       "<style scoped>\n",
       "    .dataframe tbody tr th:only-of-type {\n",
       "        vertical-align: middle;\n",
       "    }\n",
       "\n",
       "    .dataframe tbody tr th {\n",
       "        vertical-align: top;\n",
       "    }\n",
       "\n",
       "    .dataframe thead th {\n",
       "        text-align: right;\n",
       "    }\n",
       "</style>\n",
       "<table border=\"1\" class=\"dataframe\">\n",
       "  <thead>\n",
       "    <tr style=\"text-align: right;\">\n",
       "      <th></th>\n",
       "      <th>max_temp</th>\n",
       "      <th>min_temp</th>\n",
       "      <th>precipMM</th>\n",
       "      <th>city</th>\n",
       "      <th>state</th>\n",
       "    </tr>\n",
       "  </thead>\n",
       "  <tbody>\n",
       "  </tbody>\n",
       "</table>\n",
       "</div>"
      ],
      "text/plain": [
       "Empty DataFrame\n",
       "Columns: [max_temp, min_temp, precipMM, city, state]\n",
       "Index: []"
      ]
     },
     "execution_count": 64,
     "metadata": {},
     "output_type": "execute_result"
    }
   ],
   "source": [
    "#find cities that had at least three measurements of 10mm of precipitation or more \n",
    "#when the temperatures was at at or below 0 celsius\n",
    "df.groupby([\"state\", \"city\"]).filter(has_low_temp)"
   ]
  },
  {
   "cell_type": "code",
   "execution_count": 74,
   "id": "cc62a697-eba2-4824-b8c5-e7c2db1d4d59",
   "metadata": {},
   "outputs": [],
   "source": [
    "# for each precipitation measurement, calculate the proportion of that city's total\n",
    "# precipitation\n",
    "df[\"precip_pct\"] = (df.groupby([\"state\", \"city\"])\n",
    " [\"precipMM\"]\n",
    " .transform(lambda x : x / x.sum()))"
   ]
  },
  {
   "cell_type": "code",
   "execution_count": 83,
   "id": "b6d10c68-ad4c-4b9f-bd95-6e3a5a8e5a5d",
   "metadata": {},
   "outputs": [
    {
     "data": {
      "text/plain": [
       "0      0.056509\n",
       "1      0.056509\n",
       "2      0.056509\n",
       "3      0.056509\n",
       "4      0.056509\n",
       "         ...   \n",
       "723    0.057257\n",
       "724    0.057257\n",
       "725    0.057257\n",
       "726    0.057257\n",
       "727    0.057257\n",
       "Name: precip_pct, Length: 5824, dtype: float64"
      ]
     },
     "execution_count": 83,
     "metadata": {},
     "output_type": "execute_result"
    }
   ],
   "source": [
    "# for each city, determine the greatest proportion of that city's total precipitaion\n",
    "# to fall in a given period\n",
    "df.groupby([\"state\", \"city\"])[\"precip_pct\"].transform(lambda x : x.max())"
   ]
  },
  {
   "cell_type": "code",
   "execution_count": 84,
   "id": "a81dcbb9-62ca-438f-bb10-d2bf0a2e383c",
   "metadata": {},
   "outputs": [
    {
     "data": {
      "text/plain": [
       "state  city         \n",
       "CA     Los Angeles      0.059242\n",
       "       San Francisco    0.056509\n",
       "IL     Chicago          0.057257\n",
       "       Springfield      0.050540\n",
       "MA     Boston           0.048302\n",
       "       Springfield      0.060606\n",
       "NY     Albany           0.029228\n",
       "       New York         0.055149\n",
       "Name: precip_pct, dtype: float64"
      ]
     },
     "execution_count": 84,
     "metadata": {},
     "output_type": "execute_result"
    }
   ],
   "source": [
    "df.groupby([\"state\", \"city\"])[\"precip_pct\"].max()"
   ]
  },
  {
   "cell_type": "code",
   "execution_count": 86,
   "id": "0cc54d28-2ee3-4dd4-8bb5-4f9002bca913",
   "metadata": {},
   "outputs": [
    {
     "data": {
      "text/html": [
       "<div>\n",
       "<style scoped>\n",
       "    .dataframe tbody tr th:only-of-type {\n",
       "        vertical-align: middle;\n",
       "    }\n",
       "\n",
       "    .dataframe tbody tr th {\n",
       "        vertical-align: top;\n",
       "    }\n",
       "\n",
       "    .dataframe thead th {\n",
       "        text-align: right;\n",
       "    }\n",
       "</style>\n",
       "<table border=\"1\" class=\"dataframe\">\n",
       "  <thead>\n",
       "    <tr style=\"text-align: right;\">\n",
       "      <th></th>\n",
       "      <th>max_temp</th>\n",
       "      <th>min_temp</th>\n",
       "      <th>precipMM</th>\n",
       "      <th>city</th>\n",
       "      <th>state</th>\n",
       "      <th>precip_pct</th>\n",
       "    </tr>\n",
       "  </thead>\n",
       "  <tbody>\n",
       "  </tbody>\n",
       "</table>\n",
       "</div>"
      ],
      "text/plain": [
       "Empty DataFrame\n",
       "Columns: [max_temp, min_temp, precipMM, city, state, precip_pct]\n",
       "Index: []"
      ]
     },
     "execution_count": 86,
     "metadata": {},
     "output_type": "execute_result"
    }
   ],
   "source": [
    "#implement the first version of precipitation_atleast_15 using lambda?\n",
    "df.groupby([\"state\", \"city\"]).filter(lambda df_ : (df_.loc[(\n",
    "        df_[\"precipMM\"] > 15) & (df_[\"min_temp\"] <= 0),\n",
    "            \"precipMM\"]\n",
    "            .count() > 3))"
   ]
  },
  {
   "cell_type": "code",
   "execution_count": 88,
   "id": "492a8bc0-b343-498b-b77b-f9b88b12446a",
   "metadata": {},
   "outputs": [
    {
     "data": {
      "text/html": [
       "<div>\n",
       "<style scoped>\n",
       "    .dataframe tbody tr th:only-of-type {\n",
       "        vertical-align: middle;\n",
       "    }\n",
       "\n",
       "    .dataframe tbody tr th {\n",
       "        vertical-align: top;\n",
       "    }\n",
       "\n",
       "    .dataframe thead th {\n",
       "        text-align: right;\n",
       "    }\n",
       "</style>\n",
       "<table border=\"1\" class=\"dataframe\">\n",
       "  <thead>\n",
       "    <tr style=\"text-align: right;\">\n",
       "      <th></th>\n",
       "      <th>max_temp</th>\n",
       "      <th>min_temp</th>\n",
       "      <th>precipMM</th>\n",
       "      <th>city</th>\n",
       "      <th>state</th>\n",
       "      <th>precip_pct</th>\n",
       "    </tr>\n",
       "  </thead>\n",
       "  <tbody>\n",
       "  </tbody>\n",
       "</table>\n",
       "</div>"
      ],
      "text/plain": [
       "Empty DataFrame\n",
       "Columns: [max_temp, min_temp, precipMM, city, state, precip_pct]\n",
       "Index: []"
      ]
     },
     "execution_count": 88,
     "metadata": {},
     "output_type": "execute_result"
    }
   ],
   "source": [
    "#implement the second version of precipitation_atleast_15 using lambda?\n",
    "df.groupby([\"state\", \"city\"]).filter(lambda df_, precip_mm, min_temp, times: (df_.loc[(\n",
    "        df_[\"precipMM\"] > precip_mm) & (df_[\"min_temp\"] <= min_temp),\n",
    "            \"precipMM\"]\n",
    "            .count() > times), precip_mm=15, min_temp=10, times=3)"
   ]
  },
  {
   "cell_type": "code",
   "execution_count": null,
   "id": "b6806817-9ecf-4474-a72b-68e082ebbc8d",
   "metadata": {},
   "outputs": [],
   "source": []
  }
 ],
 "metadata": {
  "kernelspec": {
   "display_name": "Python 3 (ipykernel)",
   "language": "python",
   "name": "python3"
  },
  "language_info": {
   "codemirror_mode": {
    "name": "ipython",
    "version": 3
   },
   "file_extension": ".py",
   "mimetype": "text/x-python",
   "name": "python",
   "nbconvert_exporter": "python",
   "pygments_lexer": "ipython3",
   "version": "3.12.4"
  }
 },
 "nbformat": 4,
 "nbformat_minor": 5
}
