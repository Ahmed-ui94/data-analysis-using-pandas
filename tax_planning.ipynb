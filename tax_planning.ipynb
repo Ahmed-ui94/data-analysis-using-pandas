{
 "cells": [
  {
   "cell_type": "code",
   "execution_count": 3,
   "id": "7ed2a2e4-3d20-4328-af88-4f8ba50e20b7",
   "metadata": {},
   "outputs": [
    {
     "name": "stderr",
     "output_type": "stream",
     "text": [
      "/Users/ahmedabukar/opt/anaconda3/lib/python3.9/site-packages/pandas/core/arrays/masked.py:60: UserWarning: Pandas requires version '1.3.6' or newer of 'bottleneck' (version '1.3.2' currently installed).\n",
      "  from pandas.core import (\n"
     ]
    }
   ],
   "source": [
    "import pandas as pd\n",
    "import numpy as np"
   ]
  },
  {
   "cell_type": "code",
   "execution_count": 4,
   "id": "5513d995-9851-48a5-b491-76830cb9a9a5",
   "metadata": {},
   "outputs": [],
   "source": [
    "df = pd.DataFrame([{'product_id':23, 'name':'computer', 'wholesale_price': 500, \n",
    "                 'retail_price':1000, 'sales':100},\n",
    "               {'product_id':96, 'name':'Python Workout', 'wholesale_price': 35,\n",
    "                'retail_price':75, 'sales':1000},\n",
    "               {'product_id':97, 'name':'Pandas Workout', 'wholesale_price': 35,\n",
    "                'retail_price':75, 'sales':500},\n",
    "               {'product_id':15, 'name':'banana', 'wholesale_price': 0.5,\n",
    "                'retail_price':1, 'sales':200},\n",
    "               {'product_id':87, 'name':'sandwich', 'wholesale_price': 3,\n",
    "                'retail_price':5, 'sales':300},\n",
    "               ])\n",
    "df1 = df.copy()"
   ]
  },
  {
   "cell_type": "code",
   "execution_count": 5,
   "id": "a751cc07-5294-4d82-9a5e-09eb8a82fb2f",
   "metadata": {},
   "outputs": [],
   "source": [
    "df[\"current_net\"] = ((df[\"retail_price\"] * df[\"wholesale_price\"]) * df[\"sales\"])"
   ]
  },
  {
   "cell_type": "code",
   "execution_count": 6,
   "id": "59106625-0f0a-43c8-b240-60a9ed724b03",
   "metadata": {},
   "outputs": [
    {
     "data": {
      "text/html": [
       "<div>\n",
       "<style scoped>\n",
       "    .dataframe tbody tr th:only-of-type {\n",
       "        vertical-align: middle;\n",
       "    }\n",
       "\n",
       "    .dataframe tbody tr th {\n",
       "        vertical-align: top;\n",
       "    }\n",
       "\n",
       "    .dataframe thead th {\n",
       "        text-align: right;\n",
       "    }\n",
       "</style>\n",
       "<table border=\"1\" class=\"dataframe\">\n",
       "  <thead>\n",
       "    <tr style=\"text-align: right;\">\n",
       "      <th></th>\n",
       "      <th>product_id</th>\n",
       "      <th>name</th>\n",
       "      <th>wholesale_price</th>\n",
       "      <th>retail_price</th>\n",
       "      <th>sales</th>\n",
       "      <th>current_net</th>\n",
       "    </tr>\n",
       "  </thead>\n",
       "  <tbody>\n",
       "    <tr>\n",
       "      <th>0</th>\n",
       "      <td>23</td>\n",
       "      <td>computer</td>\n",
       "      <td>500.0</td>\n",
       "      <td>1000</td>\n",
       "      <td>100</td>\n",
       "      <td>50000000.0</td>\n",
       "    </tr>\n",
       "    <tr>\n",
       "      <th>1</th>\n",
       "      <td>96</td>\n",
       "      <td>Python Workout</td>\n",
       "      <td>35.0</td>\n",
       "      <td>75</td>\n",
       "      <td>1000</td>\n",
       "      <td>2625000.0</td>\n",
       "    </tr>\n",
       "    <tr>\n",
       "      <th>2</th>\n",
       "      <td>97</td>\n",
       "      <td>Pandas Workout</td>\n",
       "      <td>35.0</td>\n",
       "      <td>75</td>\n",
       "      <td>500</td>\n",
       "      <td>1312500.0</td>\n",
       "    </tr>\n",
       "    <tr>\n",
       "      <th>3</th>\n",
       "      <td>15</td>\n",
       "      <td>banana</td>\n",
       "      <td>0.5</td>\n",
       "      <td>1</td>\n",
       "      <td>200</td>\n",
       "      <td>100.0</td>\n",
       "    </tr>\n",
       "    <tr>\n",
       "      <th>4</th>\n",
       "      <td>87</td>\n",
       "      <td>sandwich</td>\n",
       "      <td>3.0</td>\n",
       "      <td>5</td>\n",
       "      <td>300</td>\n",
       "      <td>4500.0</td>\n",
       "    </tr>\n",
       "  </tbody>\n",
       "</table>\n",
       "</div>"
      ],
      "text/plain": [
       "   product_id            name  wholesale_price  retail_price  sales  \\\n",
       "0          23        computer            500.0          1000    100   \n",
       "1          96  Python Workout             35.0            75   1000   \n",
       "2          97  Pandas Workout             35.0            75    500   \n",
       "3          15          banana              0.5             1    200   \n",
       "4          87        sandwich              3.0             5    300   \n",
       "\n",
       "   current_net  \n",
       "0   50000000.0  \n",
       "1    2625000.0  \n",
       "2    1312500.0  \n",
       "3        100.0  \n",
       "4       4500.0  "
      ]
     },
     "execution_count": 6,
     "metadata": {},
     "output_type": "execute_result"
    }
   ],
   "source": [
    "df"
   ]
  },
  {
   "cell_type": "code",
   "execution_count": 7,
   "id": "d6a42ca9-f113-4bd6-84b5-43b39d1ab72a",
   "metadata": {},
   "outputs": [
    {
     "data": {
      "text/plain": [
       "0    37500000.0\n",
       "1     1968750.0\n",
       "2      984375.0\n",
       "Name: current_net, dtype: float64"
      ]
     },
     "execution_count": 7,
     "metadata": {},
     "output_type": "execute_result"
    }
   ],
   "source": [
    "df.loc[df[\"current_net\"] > 20000, \"current_net\"] * 0.75"
   ]
  },
  {
   "cell_type": "code",
   "execution_count": 8,
   "id": "bfaaadae-ff0a-4045-a2a0-d4ee4ecafc0d",
   "metadata": {},
   "outputs": [],
   "source": [
    "def create_with_condition(val):\n",
    "    if val > 20000:\n",
    "        return val * 0.75\n",
    "    return val"
   ]
  },
  {
   "cell_type": "code",
   "execution_count": 9,
   "id": "bbe04d53-dd19-4f87-9bc6-36a2b76fd1f1",
   "metadata": {},
   "outputs": [],
   "source": [
    "df[\"after_25\"] = df[\"current_net\"].apply(create_with_condition)"
   ]
  },
  {
   "cell_type": "code",
   "execution_count": 10,
   "id": "7e5926b6-f4b0-4881-94c5-3390008fc0c4",
   "metadata": {},
   "outputs": [
    {
     "data": {
      "text/plain": [
       "current_net    53942100.0\n",
       "after_25       40457725.0\n",
       "dtype: float64"
      ]
     },
     "execution_count": 10,
     "metadata": {},
     "output_type": "execute_result"
    }
   ],
   "source": [
    "df[[\"current_net\", \"after_25\"]].sum()"
   ]
  },
  {
   "cell_type": "code",
   "execution_count": 11,
   "id": "5fd4d167-8ff2-4a48-ba00-fc0ffe920061",
   "metadata": {},
   "outputs": [],
   "source": [
    "def create_with_two_conditions(val):\n",
    "    if val > 80:\n",
    "        return val * 0.75\n",
    "    elif 80 > val > 30:\n",
    "        return val * 0.90\n",
    "    return val"
   ]
  },
  {
   "cell_type": "code",
   "execution_count": 12,
   "id": "e5616b48-ff55-4de3-9f7b-6b82f8789aa3",
   "metadata": {},
   "outputs": [],
   "source": [
    "df[\"after_25_10\"] = df[\"retail_price\"].apply(create_with_two_conditions)"
   ]
  },
  {
   "cell_type": "code",
   "execution_count": 13,
   "id": "f6f4349b-6f86-4dda-be59-5f30d6195445",
   "metadata": {},
   "outputs": [
    {
     "data": {
      "text/plain": [
       "after_25_10         891.0\n",
       "current_net    53942100.0\n",
       "dtype: float64"
      ]
     },
     "execution_count": 13,
     "metadata": {},
     "output_type": "execute_result"
    }
   ],
   "source": [
    "df[[\"after_25_10\", \"current_net\"]].sum()"
   ]
  },
  {
   "cell_type": "code",
   "execution_count": 14,
   "id": "a8d4e70f-5c0f-4c78-976f-27f2226e2f20",
   "metadata": {},
   "outputs": [
    {
     "data": {
      "text/plain": [
       "0    0.75\n",
       "1    0.90\n",
       "2    0.90\n",
       "3    1.00\n",
       "4    1.00\n",
       "Name: after_tax, dtype: float64"
      ]
     },
     "execution_count": 14,
     "metadata": {},
     "output_type": "execute_result"
    }
   ],
   "source": [
    "df['after_tax'] = pd.cut(df['retail_price'], \n",
    "                   bins=[0, 30, 80, df['retail_price'].max()],\n",
    "                   labels=[1, 0.9, 0.75]).astype(np.float64)\n",
    "df[\"after_tax\"]"
   ]
  },
  {
   "cell_type": "code",
   "execution_count": 15,
   "id": "afaf1d4f-af18-4ce2-97a1-882baf5930ac",
   "metadata": {},
   "outputs": [],
   "source": [
    "pd.options.display.float_format = '{:,.2f}'.format"
   ]
  },
  {
   "cell_type": "code",
   "execution_count": 16,
   "id": "6e999461-9420-4999-a6b2-866e3e1d97fc",
   "metadata": {},
   "outputs": [
    {
     "data": {
      "text/html": [
       "<div>\n",
       "<style scoped>\n",
       "    .dataframe tbody tr th:only-of-type {\n",
       "        vertical-align: middle;\n",
       "    }\n",
       "\n",
       "    .dataframe tbody tr th {\n",
       "        vertical-align: top;\n",
       "    }\n",
       "\n",
       "    .dataframe thead th {\n",
       "        text-align: right;\n",
       "    }\n",
       "</style>\n",
       "<table border=\"1\" class=\"dataframe\">\n",
       "  <thead>\n",
       "    <tr style=\"text-align: right;\">\n",
       "      <th></th>\n",
       "      <th>product_id</th>\n",
       "      <th>name</th>\n",
       "      <th>wholesale_price</th>\n",
       "      <th>retail_price</th>\n",
       "      <th>sales</th>\n",
       "    </tr>\n",
       "  </thead>\n",
       "  <tbody>\n",
       "    <tr>\n",
       "      <th>0</th>\n",
       "      <td>23</td>\n",
       "      <td>computer</td>\n",
       "      <td>500.00</td>\n",
       "      <td>1000</td>\n",
       "      <td>100</td>\n",
       "    </tr>\n",
       "    <tr>\n",
       "      <th>1</th>\n",
       "      <td>96</td>\n",
       "      <td>Python Workout</td>\n",
       "      <td>35.00</td>\n",
       "      <td>75</td>\n",
       "      <td>1000</td>\n",
       "    </tr>\n",
       "    <tr>\n",
       "      <th>2</th>\n",
       "      <td>97</td>\n",
       "      <td>Pandas Workout</td>\n",
       "      <td>35.00</td>\n",
       "      <td>75</td>\n",
       "      <td>500</td>\n",
       "    </tr>\n",
       "    <tr>\n",
       "      <th>3</th>\n",
       "      <td>15</td>\n",
       "      <td>banana</td>\n",
       "      <td>0.50</td>\n",
       "      <td>1</td>\n",
       "      <td>200</td>\n",
       "    </tr>\n",
       "    <tr>\n",
       "      <th>4</th>\n",
       "      <td>87</td>\n",
       "      <td>sandwich</td>\n",
       "      <td>3.00</td>\n",
       "      <td>5</td>\n",
       "      <td>300</td>\n",
       "    </tr>\n",
       "  </tbody>\n",
       "</table>\n",
       "</div>"
      ],
      "text/plain": [
       "   product_id            name  wholesale_price  retail_price  sales\n",
       "0          23        computer           500.00          1000    100\n",
       "1          96  Python Workout            35.00            75   1000\n",
       "2          97  Pandas Workout            35.00            75    500\n",
       "3          15          banana             0.50             1    200\n",
       "4          87        sandwich             3.00             5    300"
      ]
     },
     "execution_count": 16,
     "metadata": {},
     "output_type": "execute_result"
    }
   ],
   "source": [
    "df1"
   ]
  },
  {
   "cell_type": "code",
   "execution_count": 17,
   "id": "7f51f5ac-8721-4cbf-987b-3459c4c48782",
   "metadata": {},
   "outputs": [],
   "source": [
    "dict_values = {\"product_id\" : [24, 16, 17],\n",
    "               \"name\" : [\"Phone\", \"Apple\", \"Pear\"],\n",
    "               \"wholesale_price\" : [200, 0.5, 0.6],\n",
    "               \"retail_price\" : [500, 1, 1.2]}"
   ]
  },
  {
   "cell_type": "code",
   "execution_count": 18,
   "id": "4fa93f33-b7a3-4799-9bb1-db3025027372",
   "metadata": {},
   "outputs": [],
   "source": [
    "df2 = pd.DataFrame(dict_values)"
   ]
  },
  {
   "cell_type": "code",
   "execution_count": 19,
   "id": "74ceb5d0-4bd7-44f5-b584-9b24a49af342",
   "metadata": {},
   "outputs": [
    {
     "data": {
      "text/html": [
       "<div>\n",
       "<style scoped>\n",
       "    .dataframe tbody tr th:only-of-type {\n",
       "        vertical-align: middle;\n",
       "    }\n",
       "\n",
       "    .dataframe tbody tr th {\n",
       "        vertical-align: top;\n",
       "    }\n",
       "\n",
       "    .dataframe thead th {\n",
       "        text-align: right;\n",
       "    }\n",
       "</style>\n",
       "<table border=\"1\" class=\"dataframe\">\n",
       "  <thead>\n",
       "    <tr style=\"text-align: right;\">\n",
       "      <th></th>\n",
       "      <th>product_id</th>\n",
       "      <th>name</th>\n",
       "      <th>wholesale_price</th>\n",
       "      <th>retail_price</th>\n",
       "    </tr>\n",
       "  </thead>\n",
       "  <tbody>\n",
       "    <tr>\n",
       "      <th>0</th>\n",
       "      <td>24</td>\n",
       "      <td>Phone</td>\n",
       "      <td>200.00</td>\n",
       "      <td>500.00</td>\n",
       "    </tr>\n",
       "    <tr>\n",
       "      <th>1</th>\n",
       "      <td>16</td>\n",
       "      <td>Apple</td>\n",
       "      <td>0.50</td>\n",
       "      <td>1.00</td>\n",
       "    </tr>\n",
       "    <tr>\n",
       "      <th>2</th>\n",
       "      <td>17</td>\n",
       "      <td>Pear</td>\n",
       "      <td>0.60</td>\n",
       "      <td>1.20</td>\n",
       "    </tr>\n",
       "  </tbody>\n",
       "</table>\n",
       "</div>"
      ],
      "text/plain": [
       "   product_id   name  wholesale_price  retail_price\n",
       "0          24  Phone           200.00        500.00\n",
       "1          16  Apple             0.50          1.00\n",
       "2          17   Pear             0.60          1.20"
      ]
     },
     "execution_count": 19,
     "metadata": {},
     "output_type": "execute_result"
    }
   ],
   "source": [
    "df2"
   ]
  },
  {
   "cell_type": "code",
   "execution_count": 20,
   "id": "32e8fb1d-b889-4b73-9ff7-eb17d20ed649",
   "metadata": {},
   "outputs": [],
   "source": [
    "df2[\"sales\"] = [600, 1.5, 2.5]"
   ]
  },
  {
   "cell_type": "code",
   "execution_count": 21,
   "id": "a9d12e37-0887-4e3b-9c3a-af5425e696ef",
   "metadata": {},
   "outputs": [],
   "source": [
    "new_df = pd.concat([df1, df2], ignore_index=True)"
   ]
  },
  {
   "cell_type": "code",
   "execution_count": 22,
   "id": "0a419ea3-0adb-4e01-979c-bbb4ae008697",
   "metadata": {},
   "outputs": [],
   "source": [
    "new_df.loc[8,\"product_id\"] = 99"
   ]
  },
  {
   "cell_type": "code",
   "execution_count": 23,
   "id": "2c3fb65a-192b-4a08-b708-759cfdc53cc8",
   "metadata": {},
   "outputs": [],
   "source": [
    "new_df.loc[8, \"name\":\"sales\"] = [\"pineapple\", 20, 25, 500]"
   ]
  },
  {
   "cell_type": "code",
   "execution_count": 24,
   "id": "20782372-cbe5-412a-815b-8bfa35f5200a",
   "metadata": {},
   "outputs": [],
   "source": [
    "new_df[\"product_id\"] = new_df[\"product_id\"].astype(np.int32)"
   ]
  },
  {
   "cell_type": "code",
   "execution_count": 25,
   "id": "fe4300d7-44c3-42a4-b39d-ca0a654f8d93",
   "metadata": {},
   "outputs": [
    {
     "data": {
      "text/html": [
       "<div>\n",
       "<style scoped>\n",
       "    .dataframe tbody tr th:only-of-type {\n",
       "        vertical-align: middle;\n",
       "    }\n",
       "\n",
       "    .dataframe tbody tr th {\n",
       "        vertical-align: top;\n",
       "    }\n",
       "\n",
       "    .dataframe thead th {\n",
       "        text-align: right;\n",
       "    }\n",
       "</style>\n",
       "<table border=\"1\" class=\"dataframe\">\n",
       "  <thead>\n",
       "    <tr style=\"text-align: right;\">\n",
       "      <th></th>\n",
       "      <th>product_id</th>\n",
       "      <th>name</th>\n",
       "      <th>wholesale_price</th>\n",
       "      <th>retail_price</th>\n",
       "      <th>sales</th>\n",
       "    </tr>\n",
       "  </thead>\n",
       "  <tbody>\n",
       "    <tr>\n",
       "      <th>0</th>\n",
       "      <td>23</td>\n",
       "      <td>computer</td>\n",
       "      <td>500.00</td>\n",
       "      <td>1,000.00</td>\n",
       "      <td>100.00</td>\n",
       "    </tr>\n",
       "    <tr>\n",
       "      <th>1</th>\n",
       "      <td>96</td>\n",
       "      <td>Python Workout</td>\n",
       "      <td>35.00</td>\n",
       "      <td>75.00</td>\n",
       "      <td>1,000.00</td>\n",
       "    </tr>\n",
       "    <tr>\n",
       "      <th>2</th>\n",
       "      <td>97</td>\n",
       "      <td>Pandas Workout</td>\n",
       "      <td>35.00</td>\n",
       "      <td>75.00</td>\n",
       "      <td>500.00</td>\n",
       "    </tr>\n",
       "    <tr>\n",
       "      <th>3</th>\n",
       "      <td>15</td>\n",
       "      <td>banana</td>\n",
       "      <td>0.50</td>\n",
       "      <td>1.00</td>\n",
       "      <td>200.00</td>\n",
       "    </tr>\n",
       "    <tr>\n",
       "      <th>4</th>\n",
       "      <td>87</td>\n",
       "      <td>sandwich</td>\n",
       "      <td>3.00</td>\n",
       "      <td>5.00</td>\n",
       "      <td>300.00</td>\n",
       "    </tr>\n",
       "    <tr>\n",
       "      <th>5</th>\n",
       "      <td>24</td>\n",
       "      <td>Phone</td>\n",
       "      <td>200.00</td>\n",
       "      <td>500.00</td>\n",
       "      <td>600.00</td>\n",
       "    </tr>\n",
       "    <tr>\n",
       "      <th>6</th>\n",
       "      <td>16</td>\n",
       "      <td>Apple</td>\n",
       "      <td>0.50</td>\n",
       "      <td>1.00</td>\n",
       "      <td>1.50</td>\n",
       "    </tr>\n",
       "    <tr>\n",
       "      <th>7</th>\n",
       "      <td>17</td>\n",
       "      <td>Pear</td>\n",
       "      <td>0.60</td>\n",
       "      <td>1.20</td>\n",
       "      <td>2.50</td>\n",
       "    </tr>\n",
       "    <tr>\n",
       "      <th>8</th>\n",
       "      <td>99</td>\n",
       "      <td>pineapple</td>\n",
       "      <td>20.00</td>\n",
       "      <td>25.00</td>\n",
       "      <td>500.00</td>\n",
       "    </tr>\n",
       "  </tbody>\n",
       "</table>\n",
       "</div>"
      ],
      "text/plain": [
       "   product_id            name  wholesale_price  retail_price    sales\n",
       "0          23        computer           500.00      1,000.00   100.00\n",
       "1          96  Python Workout            35.00         75.00 1,000.00\n",
       "2          97  Pandas Workout            35.00         75.00   500.00\n",
       "3          15          banana             0.50          1.00   200.00\n",
       "4          87        sandwich             3.00          5.00   300.00\n",
       "5          24           Phone           200.00        500.00   600.00\n",
       "6          16           Apple             0.50          1.00     1.50\n",
       "7          17            Pear             0.60          1.20     2.50\n",
       "8          99       pineapple            20.00         25.00   500.00"
      ]
     },
     "execution_count": 25,
     "metadata": {},
     "output_type": "execute_result"
    }
   ],
   "source": [
    "new_df"
   ]
  },
  {
   "cell_type": "code",
   "execution_count": 26,
   "id": "018d3eee-3ef6-468f-8294-64db067c275f",
   "metadata": {},
   "outputs": [],
   "source": [
    "new_df[\"department\"] = [\"electronics\", \"books\", \"books\", \"food\", \"food\", \"electronics\", \n",
    "                        \"electronics\", \"food\", \"food\"]"
   ]
  },
  {
   "cell_type": "code",
   "execution_count": 27,
   "id": "417a877d-f040-4259-907a-a975de27ce49",
   "metadata": {},
   "outputs": [],
   "source": [
    "new_df[\"current_net\"] = (new_df[\"retail_price\"] - new_df[\"wholesale_price\"]) * new_df[\"sales\"]"
   ]
  },
  {
   "cell_type": "code",
   "execution_count": 28,
   "id": "30135e04-776d-46bd-94f5-99b7f9dad295",
   "metadata": {},
   "outputs": [
    {
     "data": {
      "text/plain": [
       "count       4.00\n",
       "mean      800.38\n",
       "std     1,162.98\n",
       "min         1.50\n",
       "25%        75.38\n",
       "50%       350.00\n",
       "75%     1,075.00\n",
       "max     2,500.00\n",
       "Name: current_net, dtype: float64"
      ]
     },
     "execution_count": 28,
     "metadata": {},
     "output_type": "execute_result"
    }
   ],
   "source": [
    "#then show descriptive statistics for the current_net on food products.\n",
    "new_df.loc[new_df[\"department\"] == \"food\", \"current_net\"].describe()"
   ]
  },
  {
   "cell_type": "code",
   "execution_count": 29,
   "id": "309640e6-667e-482e-9ee9-472b6ad45c8d",
   "metadata": {},
   "outputs": [
    {
     "data": {
      "text/html": [
       "<div>\n",
       "<style scoped>\n",
       "    .dataframe tbody tr th:only-of-type {\n",
       "        vertical-align: middle;\n",
       "    }\n",
       "\n",
       "    .dataframe tbody tr th {\n",
       "        vertical-align: top;\n",
       "    }\n",
       "\n",
       "    .dataframe thead th {\n",
       "        text-align: right;\n",
       "    }\n",
       "</style>\n",
       "<table border=\"1\" class=\"dataframe\">\n",
       "  <thead>\n",
       "    <tr style=\"text-align: right;\">\n",
       "      <th></th>\n",
       "      <th>product_id</th>\n",
       "      <th>name</th>\n",
       "      <th>wholesale_price</th>\n",
       "      <th>retail_price</th>\n",
       "      <th>sales</th>\n",
       "      <th>department</th>\n",
       "      <th>current_net</th>\n",
       "    </tr>\n",
       "  </thead>\n",
       "  <tbody>\n",
       "    <tr>\n",
       "      <th>0</th>\n",
       "      <td>23</td>\n",
       "      <td>computer</td>\n",
       "      <td>500.00</td>\n",
       "      <td>1,000.00</td>\n",
       "      <td>100.00</td>\n",
       "      <td>electronics</td>\n",
       "      <td>50,000.00</td>\n",
       "    </tr>\n",
       "    <tr>\n",
       "      <th>1</th>\n",
       "      <td>96</td>\n",
       "      <td>Python Workout</td>\n",
       "      <td>35.00</td>\n",
       "      <td>75.00</td>\n",
       "      <td>1,000.00</td>\n",
       "      <td>books</td>\n",
       "      <td>40,000.00</td>\n",
       "    </tr>\n",
       "    <tr>\n",
       "      <th>2</th>\n",
       "      <td>97</td>\n",
       "      <td>Pandas Workout</td>\n",
       "      <td>35.00</td>\n",
       "      <td>75.00</td>\n",
       "      <td>500.00</td>\n",
       "      <td>books</td>\n",
       "      <td>20,000.00</td>\n",
       "    </tr>\n",
       "    <tr>\n",
       "      <th>3</th>\n",
       "      <td>15</td>\n",
       "      <td>banana</td>\n",
       "      <td>0.50</td>\n",
       "      <td>1.00</td>\n",
       "      <td>200.00</td>\n",
       "      <td>food</td>\n",
       "      <td>100.00</td>\n",
       "    </tr>\n",
       "    <tr>\n",
       "      <th>4</th>\n",
       "      <td>87</td>\n",
       "      <td>sandwich</td>\n",
       "      <td>3.00</td>\n",
       "      <td>5.00</td>\n",
       "      <td>300.00</td>\n",
       "      <td>food</td>\n",
       "      <td>600.00</td>\n",
       "    </tr>\n",
       "    <tr>\n",
       "      <th>5</th>\n",
       "      <td>24</td>\n",
       "      <td>Phone</td>\n",
       "      <td>200.00</td>\n",
       "      <td>500.00</td>\n",
       "      <td>600.00</td>\n",
       "      <td>electronics</td>\n",
       "      <td>180,000.00</td>\n",
       "    </tr>\n",
       "    <tr>\n",
       "      <th>6</th>\n",
       "      <td>16</td>\n",
       "      <td>Apple</td>\n",
       "      <td>0.50</td>\n",
       "      <td>1.00</td>\n",
       "      <td>1.50</td>\n",
       "      <td>electronics</td>\n",
       "      <td>0.75</td>\n",
       "    </tr>\n",
       "    <tr>\n",
       "      <th>7</th>\n",
       "      <td>17</td>\n",
       "      <td>Pear</td>\n",
       "      <td>0.60</td>\n",
       "      <td>1.20</td>\n",
       "      <td>2.50</td>\n",
       "      <td>food</td>\n",
       "      <td>1.50</td>\n",
       "    </tr>\n",
       "    <tr>\n",
       "      <th>8</th>\n",
       "      <td>99</td>\n",
       "      <td>pineapple</td>\n",
       "      <td>20.00</td>\n",
       "      <td>25.00</td>\n",
       "      <td>500.00</td>\n",
       "      <td>food</td>\n",
       "      <td>2,500.00</td>\n",
       "    </tr>\n",
       "  </tbody>\n",
       "</table>\n",
       "</div>"
      ],
      "text/plain": [
       "   product_id            name  wholesale_price  retail_price    sales  \\\n",
       "0          23        computer           500.00      1,000.00   100.00   \n",
       "1          96  Python Workout            35.00         75.00 1,000.00   \n",
       "2          97  Pandas Workout            35.00         75.00   500.00   \n",
       "3          15          banana             0.50          1.00   200.00   \n",
       "4          87        sandwich             3.00          5.00   300.00   \n",
       "5          24           Phone           200.00        500.00   600.00   \n",
       "6          16           Apple             0.50          1.00     1.50   \n",
       "7          17            Pear             0.60          1.20     2.50   \n",
       "8          99       pineapple            20.00         25.00   500.00   \n",
       "\n",
       "    department  current_net  \n",
       "0  electronics    50,000.00  \n",
       "1        books    40,000.00  \n",
       "2        books    20,000.00  \n",
       "3         food       100.00  \n",
       "4         food       600.00  \n",
       "5  electronics   180,000.00  \n",
       "6  electronics         0.75  \n",
       "7         food         1.50  \n",
       "8         food     2,500.00  "
      ]
     },
     "execution_count": 29,
     "metadata": {},
     "output_type": "execute_result"
    }
   ],
   "source": [
    "new_df"
   ]
  },
  {
   "cell_type": "code",
   "execution_count": 30,
   "id": "003342ed-4663-4f28-8429-6106740189be",
   "metadata": {},
   "outputs": [
    {
     "data": {
      "text/html": [
       "<div>\n",
       "<style scoped>\n",
       "    .dataframe tbody tr th:only-of-type {\n",
       "        vertical-align: middle;\n",
       "    }\n",
       "\n",
       "    .dataframe tbody tr th {\n",
       "        vertical-align: top;\n",
       "    }\n",
       "\n",
       "    .dataframe thead th {\n",
       "        text-align: right;\n",
       "    }\n",
       "</style>\n",
       "<table border=\"1\" class=\"dataframe\">\n",
       "  <thead>\n",
       "    <tr style=\"text-align: right;\">\n",
       "      <th></th>\n",
       "      <th>product_id</th>\n",
       "      <th>name</th>\n",
       "    </tr>\n",
       "  </thead>\n",
       "  <tbody>\n",
       "    <tr>\n",
       "      <th>1</th>\n",
       "      <td>96</td>\n",
       "      <td>Python Workout</td>\n",
       "    </tr>\n",
       "    <tr>\n",
       "      <th>2</th>\n",
       "      <td>97</td>\n",
       "      <td>Pandas Workout</td>\n",
       "    </tr>\n",
       "    <tr>\n",
       "      <th>5</th>\n",
       "      <td>24</td>\n",
       "      <td>Phone</td>\n",
       "    </tr>\n",
       "    <tr>\n",
       "      <th>8</th>\n",
       "      <td>99</td>\n",
       "      <td>pineapple</td>\n",
       "    </tr>\n",
       "  </tbody>\n",
       "</table>\n",
       "</div>"
      ],
      "text/plain": [
       "   product_id            name\n",
       "1          96  Python Workout\n",
       "2          97  Pandas Workout\n",
       "5          24           Phone\n",
       "8          99       pineapple"
      ]
     },
     "execution_count": 30,
     "metadata": {},
     "output_type": "execute_result"
    }
   ],
   "source": [
    "#find the IDs and names of products that have sold more than the average number of units.\n",
    "new_df.loc[new_df[\"sales\"] > new_df[\"sales\"].mean(), [\"product_id\", \"name\"]]"
   ]
  },
  {
   "cell_type": "code",
   "execution_count": 31,
   "id": "d09f80d8-2b2a-4d2e-ace2-aea8708d262f",
   "metadata": {},
   "outputs": [
    {
     "data": {
      "text/html": [
       "<div>\n",
       "<style scoped>\n",
       "    .dataframe tbody tr th:only-of-type {\n",
       "        vertical-align: middle;\n",
       "    }\n",
       "\n",
       "    .dataframe tbody tr th {\n",
       "        vertical-align: top;\n",
       "    }\n",
       "\n",
       "    .dataframe thead th {\n",
       "        text-align: right;\n",
       "    }\n",
       "</style>\n",
       "<table border=\"1\" class=\"dataframe\">\n",
       "  <thead>\n",
       "    <tr style=\"text-align: right;\">\n",
       "      <th></th>\n",
       "      <th>product_id</th>\n",
       "      <th>name</th>\n",
       "    </tr>\n",
       "  </thead>\n",
       "  <tbody>\n",
       "    <tr>\n",
       "      <th>1</th>\n",
       "      <td>96</td>\n",
       "      <td>Python Workout</td>\n",
       "    </tr>\n",
       "    <tr>\n",
       "      <th>2</th>\n",
       "      <td>97</td>\n",
       "      <td>Pandas Workout</td>\n",
       "    </tr>\n",
       "    <tr>\n",
       "      <th>5</th>\n",
       "      <td>24</td>\n",
       "      <td>Phone</td>\n",
       "    </tr>\n",
       "    <tr>\n",
       "      <th>8</th>\n",
       "      <td>99</td>\n",
       "      <td>pineapple</td>\n",
       "    </tr>\n",
       "  </tbody>\n",
       "</table>\n",
       "</div>"
      ],
      "text/plain": [
       "   product_id            name\n",
       "1          96  Python Workout\n",
       "2          97  Pandas Workout\n",
       "5          24           Phone\n",
       "8          99       pineapple"
      ]
     },
     "execution_count": 31,
     "metadata": {},
     "output_type": "execute_result"
    }
   ],
   "source": [
    "new_df.query(\"sales > sales.mean()\")[[\"product_id\", \"name\"]]"
   ]
  },
  {
   "cell_type": "code",
   "execution_count": 32,
   "id": "c572a298-fcd2-4e9a-9f8e-d2d5392fe0b2",
   "metadata": {},
   "outputs": [
    {
     "data": {
      "text/html": [
       "<div>\n",
       "<style scoped>\n",
       "    .dataframe tbody tr th:only-of-type {\n",
       "        vertical-align: middle;\n",
       "    }\n",
       "\n",
       "    .dataframe tbody tr th {\n",
       "        vertical-align: top;\n",
       "    }\n",
       "\n",
       "    .dataframe thead th {\n",
       "        text-align: right;\n",
       "    }\n",
       "</style>\n",
       "<table border=\"1\" class=\"dataframe\">\n",
       "  <thead>\n",
       "    <tr style=\"text-align: right;\">\n",
       "      <th></th>\n",
       "      <th>product_id</th>\n",
       "      <th>name</th>\n",
       "    </tr>\n",
       "  </thead>\n",
       "  <tbody>\n",
       "    <tr>\n",
       "      <th>6</th>\n",
       "      <td>16</td>\n",
       "      <td>Apple</td>\n",
       "    </tr>\n",
       "    <tr>\n",
       "      <th>7</th>\n",
       "      <td>17</td>\n",
       "      <td>Pear</td>\n",
       "    </tr>\n",
       "  </tbody>\n",
       "</table>\n",
       "</div>"
      ],
      "text/plain": [
       "   product_id   name\n",
       "6          16  Apple\n",
       "7          17   Pear"
      ]
     },
     "execution_count": 32,
     "metadata": {},
     "output_type": "execute_result"
    }
   ],
   "source": [
    "#Show the ID and name of products whose net income is in the top 25% quantile.\n",
    "new_df.query(\"current_net < current_net.quantile(0.25)\")[[\"product_id\", \"name\"]]"
   ]
  },
  {
   "cell_type": "code",
   "execution_count": 33,
   "id": "1dcd97ce-c0a3-4467-8ae2-a9394f93c782",
   "metadata": {},
   "outputs": [
    {
     "data": {
      "text/html": [
       "<div>\n",
       "<style scoped>\n",
       "    .dataframe tbody tr th:only-of-type {\n",
       "        vertical-align: middle;\n",
       "    }\n",
       "\n",
       "    .dataframe tbody tr th {\n",
       "        vertical-align: top;\n",
       "    }\n",
       "\n",
       "    .dataframe thead th {\n",
       "        text-align: right;\n",
       "    }\n",
       "</style>\n",
       "<table border=\"1\" class=\"dataframe\">\n",
       "  <thead>\n",
       "    <tr style=\"text-align: right;\">\n",
       "      <th></th>\n",
       "      <th>product_id</th>\n",
       "      <th>name</th>\n",
       "    </tr>\n",
       "  </thead>\n",
       "  <tbody>\n",
       "    <tr>\n",
       "      <th>0</th>\n",
       "      <td>23</td>\n",
       "      <td>computer</td>\n",
       "    </tr>\n",
       "  </tbody>\n",
       "</table>\n",
       "</div>"
      ],
      "text/plain": [
       "   product_id      name\n",
       "0          23  computer"
      ]
     },
     "execution_count": 33,
     "metadata": {},
     "output_type": "execute_result"
    }
   ],
   "source": [
    "#Show the ID and name of products with lower-than-average sales numbers \n",
    "#and whose wholesale price is greater than the average\n",
    "(new_df.query(\"sales < sales.mean() & wholesale_price > wholesale_price.mean()\")\n",
    " [[\"product_id\", \"name\"]])"
   ]
  },
  {
   "cell_type": "code",
   "execution_count": 34,
   "id": "68ab2948-e2a7-42bc-8c95-642f3751d68e",
   "metadata": {},
   "outputs": [
    {
     "data": {
      "text/html": [
       "<div>\n",
       "<style scoped>\n",
       "    .dataframe tbody tr th:only-of-type {\n",
       "        vertical-align: middle;\n",
       "    }\n",
       "\n",
       "    .dataframe tbody tr th {\n",
       "        vertical-align: top;\n",
       "    }\n",
       "\n",
       "    .dataframe thead th {\n",
       "        text-align: right;\n",
       "    }\n",
       "</style>\n",
       "<table border=\"1\" class=\"dataframe\">\n",
       "  <thead>\n",
       "    <tr style=\"text-align: right;\">\n",
       "      <th></th>\n",
       "      <th>product_id</th>\n",
       "      <th>name</th>\n",
       "      <th>wholesale_price</th>\n",
       "      <th>retail_price</th>\n",
       "      <th>sales</th>\n",
       "      <th>department</th>\n",
       "      <th>current_net</th>\n",
       "    </tr>\n",
       "  </thead>\n",
       "  <tbody>\n",
       "    <tr>\n",
       "      <th>4</th>\n",
       "      <td>87</td>\n",
       "      <td>sandwich</td>\n",
       "      <td>3.00</td>\n",
       "      <td>5.00</td>\n",
       "      <td>300.00</td>\n",
       "      <td>food</td>\n",
       "      <td>600.00</td>\n",
       "    </tr>\n",
       "  </tbody>\n",
       "</table>\n",
       "</div>"
      ],
      "text/plain": [
       "   product_id      name  wholesale_price  retail_price  sales department  \\\n",
       "4          87  sandwich             3.00          5.00 300.00       food   \n",
       "\n",
       "   current_net  \n",
       "4       600.00  "
      ]
     },
     "execution_count": 34,
     "metadata": {},
     "output_type": "execute_result"
    }
   ],
   "source": [
    "#Show the name and wholesale and retail prices of products with IDs between 80 and 100 \n",
    "#and that sold fewer than 400 units.\n",
    "new_df.query(\"(100 > product_id > 80) & (sales < 400)\")"
   ]
  },
  {
   "cell_type": "code",
   "execution_count": null,
   "id": "6cbcae9a-4986-4b6a-b533-affa3d009e7c",
   "metadata": {},
   "outputs": [],
   "source": []
  }
 ],
 "metadata": {
  "kernelspec": {
   "display_name": "Python 3 (ipykernel)",
   "language": "python",
   "name": "python3"
  },
  "language_info": {
   "codemirror_mode": {
    "name": "ipython",
    "version": 3
   },
   "file_extension": ".py",
   "mimetype": "text/x-python",
   "name": "python",
   "nbconvert_exporter": "python",
   "pygments_lexer": "ipython3",
   "version": "3.9.18"
  }
 },
 "nbformat": 4,
 "nbformat_minor": 5
}
