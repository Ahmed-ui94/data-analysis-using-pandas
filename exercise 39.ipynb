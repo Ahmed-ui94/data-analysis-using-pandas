{
 "cells": [
  {
   "cell_type": "code",
   "execution_count": 2,
   "id": "5db61024-f241-4a28-86d8-affb68b102ec",
   "metadata": {},
   "outputs": [],
   "source": [
    "import pandas as pd\n",
    "import numpy as np"
   ]
  },
  {
   "cell_type": "code",
   "execution_count": 4,
   "id": "b0dce84b-2a7c-4bd1-a7ec-4961f2542fcf",
   "metadata": {},
   "outputs": [
    {
     "data": {
      "text/html": [
       "<div>\n",
       "<style scoped>\n",
       "    .dataframe tbody tr th:only-of-type {\n",
       "        vertical-align: middle;\n",
       "    }\n",
       "\n",
       "    .dataframe tbody tr th {\n",
       "        vertical-align: top;\n",
       "    }\n",
       "\n",
       "    .dataframe thead th {\n",
       "        text-align: right;\n",
       "    }\n",
       "</style>\n",
       "<table border=\"1\" class=\"dataframe\">\n",
       "  <thead>\n",
       "    <tr style=\"text-align: right;\">\n",
       "      <th></th>\n",
       "      <th>tpep_pickup_datetime</th>\n",
       "      <th>tpep_dropoff_datetime</th>\n",
       "      <th>passenger_count</th>\n",
       "      <th>trip_distance</th>\n",
       "      <th>total_amount</th>\n",
       "    </tr>\n",
       "  </thead>\n",
       "  <tbody>\n",
       "    <tr>\n",
       "      <th>0</th>\n",
       "      <td>2019-07-01 00:51:04</td>\n",
       "      <td>2019-07-01 00:51:33</td>\n",
       "      <td>1.0</td>\n",
       "      <td>0.00</td>\n",
       "      <td>4.94</td>\n",
       "    </tr>\n",
       "    <tr>\n",
       "      <th>1</th>\n",
       "      <td>2019-07-01 00:46:04</td>\n",
       "      <td>2019-07-01 01:05:46</td>\n",
       "      <td>1.0</td>\n",
       "      <td>4.16</td>\n",
       "      <td>20.30</td>\n",
       "    </tr>\n",
       "    <tr>\n",
       "      <th>2</th>\n",
       "      <td>2019-07-01 00:25:09</td>\n",
       "      <td>2019-07-01 01:00:56</td>\n",
       "      <td>1.0</td>\n",
       "      <td>18.80</td>\n",
       "      <td>70.67</td>\n",
       "    </tr>\n",
       "    <tr>\n",
       "      <th>3</th>\n",
       "      <td>2019-07-01 00:33:32</td>\n",
       "      <td>2019-07-01 01:15:27</td>\n",
       "      <td>1.0</td>\n",
       "      <td>18.46</td>\n",
       "      <td>66.36</td>\n",
       "    </tr>\n",
       "    <tr>\n",
       "      <th>4</th>\n",
       "      <td>2019-07-01 00:00:55</td>\n",
       "      <td>2019-07-01 00:13:05</td>\n",
       "      <td>0.0</td>\n",
       "      <td>1.70</td>\n",
       "      <td>15.30</td>\n",
       "    </tr>\n",
       "  </tbody>\n",
       "</table>\n",
       "</div>"
      ],
      "text/plain": [
       "  tpep_pickup_datetime tpep_dropoff_datetime  passenger_count  trip_distance  \\\n",
       "0  2019-07-01 00:51:04   2019-07-01 00:51:33              1.0           0.00   \n",
       "1  2019-07-01 00:46:04   2019-07-01 01:05:46              1.0           4.16   \n",
       "2  2019-07-01 00:25:09   2019-07-01 01:00:56              1.0          18.80   \n",
       "3  2019-07-01 00:33:32   2019-07-01 01:15:27              1.0          18.46   \n",
       "4  2019-07-01 00:00:55   2019-07-01 00:13:05              0.0           1.70   \n",
       "\n",
       "   total_amount  \n",
       "0          4.94  \n",
       "1         20.30  \n",
       "2         70.67  \n",
       "3         66.36  \n",
       "4         15.30  "
      ]
     },
     "execution_count": 4,
     "metadata": {},
     "output_type": "execute_result"
    }
   ],
   "source": [
    "filename = \"/Users/ahmedabukar/Downloads/:/data/nyc_taxi_2019-07.csv\"\n",
    "df = pd.read_csv(filename,\n",
    "                usecols=[\"tpep_pickup_datetime\", \"tpep_dropoff_datetime\",\n",
    "                        \"passenger_count\", \"trip_distance\",\n",
    "                        \"total_amount\"],\n",
    "                parse_dates=[\"tpep_pickup_datetime\", \"tpep_dropoff_datetime\"])\n",
    "\n",
    "df.head()"
   ]
  },
  {
   "cell_type": "code",
   "execution_count": 3,
   "id": "b668e3b0-274b-4178-bc3e-9e474281fec4",
   "metadata": {},
   "outputs": [],
   "source": [
    "# create a new column, trip_time, containing the amount of time each taxi ride took as timedelta\n",
    "df[\"trip_time\"] = df[\"tpep_dropoff_datetime\"] - df[\"tpep_pickup_datetime\"]"
   ]
  },
  {
   "cell_type": "code",
   "execution_count": 4,
   "id": "30ffc6a1-a6e6-4a71-b9e7-d0b97fe18477",
   "metadata": {},
   "outputs": [
    {
     "data": {
      "text/plain": [
       "1.1126361022936828"
      ]
     },
     "execution_count": 4,
     "metadata": {},
     "output_type": "execute_result"
    }
   ],
   "source": [
    "# determine the number and percentage of rides that took less than 1 minute\n",
    "rides_that_took_1 = df.loc[df[\"trip_time\"] < '1 minute', \"trip_time\"]\n",
    "len(rides_that_took_1) / len(df) * 100"
   ]
  },
  {
   "cell_type": "code",
   "execution_count": 5,
   "id": "70963e30-c602-467d-b76b-fa9f7a162dc7",
   "metadata": {},
   "outputs": [
    {
     "data": {
      "text/plain": [
       "30.397584031219733"
      ]
     },
     "execution_count": 5,
     "metadata": {},
     "output_type": "execute_result"
    }
   ],
   "source": [
    "# determine the average fare paid by people taking this trips?\n",
    "(\n",
    "    df\n",
    "    .loc[\n",
    "    df[\"trip_time\"] < \"1 minute\", \n",
    "    \"total_amount\"]\n",
    "    .mean()\n",
    ")"
   ]
  },
  {
   "cell_type": "code",
   "execution_count": 6,
   "id": "f4ef4d4e-619c-408b-80ae-6cb2c829894d",
   "metadata": {},
   "outputs": [
    {
     "data": {
      "text/plain": [
       "0.2646100045020782"
      ]
     },
     "execution_count": 6,
     "metadata": {},
     "output_type": "execute_result"
    }
   ],
   "source": [
    "# determine the number and percentage of rides that took less than 10 hours?\n",
    "(\n",
    "    len(df\n",
    "    .loc[df[\"trip_time\"] > \"10 hours\", \"trip_time\"])\n",
    "    / len(df)\n",
    ") * 100"
   ]
  },
  {
   "cell_type": "code",
   "execution_count": 7,
   "id": "efa75f66-721d-4894-bb58-2f21948da41e",
   "metadata": {},
   "outputs": [],
   "source": [
    "# create a new column, trip_time_group, in which the values are short(<10 minutes),\n",
    "# medium (≥ between 10 minutes and 1 hour) and long (1 > hour)\n",
    "df[\"trip_time_group\"] = (\n",
    "    pd.cut(\n",
    "        df[\"trip_time\"], \n",
    "        bins=[pd.to_timedelta(value) \n",
    "              for value in [\"0 seconds\", \"10 minutes\", \"60 minutes\", \"100 hours\"]],\n",
    "      labels=[\"Short\", \"Medium\", \"Long\"])\n",
    ")"
   ]
  },
  {
   "cell_type": "code",
   "execution_count": 8,
   "id": "4a059389-d783-4bc0-ba76-02d8a0cc7b72",
   "metadata": {},
   "outputs": [
    {
     "data": {
      "text/plain": [
       "trip_time_group\n",
       "Medium    55.323890\n",
       "Short     43.461438\n",
       "Long       1.214672\n",
       "Name: proportion, dtype: float64"
      ]
     },
     "execution_count": 8,
     "metadata": {},
     "output_type": "execute_result"
    }
   ],
   "source": [
    "# determine the propotion of rides in each group\n",
    "df[\"trip_time_group\"].value_counts(normalize=True) * 100"
   ]
  },
  {
   "cell_type": "code",
   "execution_count": 9,
   "id": "a058848a-1ec0-405f-834e-e61c085b5813",
   "metadata": {},
   "outputs": [
    {
     "data": {
      "text/plain": [
       "trip_time_group\n",
       "Short     1.552411\n",
       "Medium    1.585806\n",
       "Long      1.700859\n",
       "Name: passenger_count, dtype: float64"
      ]
     },
     "execution_count": 9,
     "metadata": {},
     "output_type": "execute_result"
    }
   ],
   "source": [
    "# for each value in trip_time_group, determine the average number of passengers.\n",
    "(\n",
    "    df.groupby(\"trip_time_group\", observed=True)\n",
    "    [\"passenger_count\"]\n",
    "    .mean()\n",
    ")"
   ]
  },
  {
   "cell_type": "code",
   "execution_count": 10,
   "id": "fa2544e3-6ba0-4e50-afc3-d9481add7621",
   "metadata": {},
   "outputs": [
    {
     "data": {
      "text/plain": [
       "56"
      ]
     },
     "execution_count": 10,
     "metadata": {},
     "output_type": "execute_result"
    }
   ],
   "source": [
    "# how many trips are not from july 2019\n",
    "(\n",
    "    df\n",
    "    .query(\"(tpep_pickup_datetime.dt.year != 2019) and (tpep_pickup_datetime.dt.month != 7)\")\n",
    "    [\"tpep_pickup_datetime\"]\n",
    "    .count()\n",
    ")"
   ]
  },
  {
   "cell_type": "code",
   "execution_count": 12,
   "id": "92804bb9-7d21-4095-bc7b-957812c7a674",
   "metadata": {},
   "outputs": [
    {
     "data": {
      "text/plain": [
       "passenger_count\n",
       "8.0      0 days 00:11:00.500000\n",
       "0.0   0 days 00:14:18.929810752\n",
       "7.0   0 days 00:16:38.206896551\n",
       "1.0   0 days 00:17:46.148103924\n",
       "2.0   0 days 00:18:34.024342704\n",
       "3.0   0 days 00:19:02.079604271\n",
       "4.0   0 days 00:20:10.057290100\n",
       "6.0   0 days 00:20:54.109564300\n",
       "5.0   0 days 00:22:29.870464324\n",
       "9.0      0 days 00:49:16.125000\n",
       "Name: trip_time, dtype: timedelta64[ns]"
      ]
     },
     "execution_count": 12,
     "metadata": {},
     "output_type": "execute_result"
    }
   ],
   "source": [
    "# what was the mean trip time for each number of passengers?\n",
    "(\n",
    "    df\n",
    "    .groupby(\"passenger_count\")\n",
    "    [\"trip_time\"]\n",
    "    .mean()\n",
    "    .sort_values()\n",
    ")"
   ]
  },
  {
   "cell_type": "code",
   "execution_count": 11,
   "id": "18cbda70-694b-42f4-989b-4121bd88f8a9",
   "metadata": {},
   "outputs": [
    {
     "data": {
      "text/plain": [
       "year  passenger_count\n",
       "2002  1.0                18.002500\n",
       "      2.0                18.800000\n",
       "2008  1.0                18.340000\n",
       "      2.0                42.860000\n",
       "      5.0                11.966667\n",
       "2009  1.0                23.923571\n",
       "      2.0                45.316000\n",
       "2010  2.0                18.360000\n",
       "2019  0.0                18.981793\n",
       "      1.0                19.284646\n",
       "      2.0                20.097442\n",
       "      3.0                20.208111\n",
       "      4.0                21.063172\n",
       "      5.0                19.419311\n",
       "      6.0                19.386516\n",
       "      7.0                70.080690\n",
       "      8.0                74.760455\n",
       "      9.0                93.509375\n",
       "2020  0.0                16.538912\n",
       "      1.0                16.856554\n",
       "      2.0                17.188322\n",
       "      3.0                17.103106\n",
       "      4.0                17.964939\n",
       "      5.0                16.725836\n",
       "      6.0                16.812911\n",
       "      7.0                22.456000\n",
       "      8.0                10.300000\n",
       "      9.0                11.760000\n",
       "Name: total_amount, dtype: float64"
      ]
     },
     "execution_count": 11,
     "metadata": {},
     "output_type": "execute_result"
    }
   ],
   "source": [
    "# load the taxi data from july 2020 and 2019. for each year and then for each number of passengers\n",
    "# what was the mean amount paid?\n",
    "def load_taxi_data(filename):\n",
    "    return (pd.read_csv(filename,\n",
    "                          usecols=[\"tpep_pickup_datetime\", \"passenger_count\", \"total_amount\"],\n",
    "                           parse_dates=[\"tpep_pickup_datetime\"])\n",
    "               .assign(year=lambda df_ : df_[\"tpep_pickup_datetime\"].dt.year)\n",
    "               )\n",
    "    \n",
    "df_july_2020 = load_taxi_data(\"/Users/ahmedabukar/Downloads/:/data/nyc_taxi_2020-07.csv\")\n",
    "\n",
    "df_july_2019 = load_taxi_data(filename)\n",
    "\n",
    "(\n",
    "    pd.concat(\n",
    "        [df_july_2019, df_july_2020], ignore_index=True)\n",
    "    .groupby([\"year\", \"passenger_count\"])\n",
    "    [\"total_amount\"]\n",
    "    .mean()\n",
    ")"
   ]
  },
  {
   "cell_type": "code",
   "execution_count": 10,
   "id": "ed70f574-1ead-4031-bd18-35cf2cd2eeb8",
   "metadata": {},
   "outputs": [
    {
     "data": {
      "text/plain": [
       "year  passenger_count\n",
       "2002  1.0                18.002500\n",
       "      2.0                18.800000\n",
       "2008  1.0                18.340000\n",
       "      2.0                42.860000\n",
       "      5.0                11.966667\n",
       "2009  1.0                23.923571\n",
       "      2.0                45.316000\n",
       "2010  2.0                18.360000\n",
       "2019  0.0                18.981793\n",
       "      1.0                19.284646\n",
       "      2.0                20.097442\n",
       "      3.0                20.208111\n",
       "      4.0                21.063172\n",
       "      5.0                19.419311\n",
       "      6.0                19.386516\n",
       "      7.0                70.080690\n",
       "      8.0                74.760455\n",
       "      9.0                93.509375\n",
       "2020  0.0                16.538912\n",
       "      1.0                16.856554\n",
       "      2.0                17.188322\n",
       "      3.0                17.103106\n",
       "      4.0                17.964939\n",
       "      5.0                16.725836\n",
       "      6.0                16.812911\n",
       "      7.0                22.456000\n",
       "      8.0                10.300000\n",
       "      9.0                11.760000\n",
       "Name: total_amount, dtype: float64"
      ]
     },
     "execution_count": 10,
     "metadata": {},
     "output_type": "execute_result"
    }
   ],
   "source": [
    "(\n",
    "    \n",
    ")"
   ]
  },
  {
   "cell_type": "code",
   "execution_count": 9,
   "id": "0a544b99-25f4-4b2f-a1fe-d7acb78749ff",
   "metadata": {},
   "outputs": [
    {
     "data": {
      "text/plain": [
       "0         1.0\n",
       "1         1.0\n",
       "2         1.0\n",
       "3         1.0\n",
       "4         1.0\n",
       "         ... \n",
       "800407    NaN\n",
       "800408    NaN\n",
       "800409    NaN\n",
       "800410    NaN\n",
       "800411    NaN\n",
       "Name: passenger_count, Length: 800412, dtype: float64"
      ]
     },
     "execution_count": 9,
     "metadata": {},
     "output_type": "execute_result"
    }
   ],
   "source": [
    "df_july_2020[\"passenger_count\"]"
   ]
  },
  {
   "cell_type": "code",
   "execution_count": null,
   "id": "8c9f98a2-1148-4bbd-959c-d7af4006b104",
   "metadata": {},
   "outputs": [],
   "source": []
  }
 ],
 "metadata": {
  "kernelspec": {
   "display_name": "Python 3 (ipykernel)",
   "language": "python",
   "name": "python3"
  },
  "language_info": {
   "codemirror_mode": {
    "name": "ipython",
    "version": 3
   },
   "file_extension": ".py",
   "mimetype": "text/x-python",
   "name": "python",
   "nbconvert_exporter": "python",
   "pygments_lexer": "ipython3",
   "version": "3.12.4"
  }
 },
 "nbformat": 4,
 "nbformat_minor": 5
}
