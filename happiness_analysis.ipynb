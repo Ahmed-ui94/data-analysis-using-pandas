{
 "cells": [
  {
   "cell_type": "code",
   "execution_count": 1,
   "id": "3aec79fc",
   "metadata": {
    "scrolled": true
   },
   "outputs": [],
   "source": [
    "import pandas as pd\n",
    "import numpy as np"
   ]
  },
  {
   "cell_type": "code",
   "execution_count": 5,
   "id": "4e5f12c3",
   "metadata": {
    "scrolled": true
   },
   "outputs": [],
   "source": [
    "happiness = pd.read_excel(\"DataForTable2.1WHR2023.xls\")"
   ]
  },
  {
   "cell_type": "code",
   "execution_count": 6,
   "id": "44d8791e",
   "metadata": {
    "scrolled": true
   },
   "outputs": [
    {
     "data": {
      "text/plain": [
       "Index(['Country name', 'year', 'Life Ladder', 'Log GDP per capita',\n",
       "       'Social support', 'Healthy life expectancy at birth',\n",
       "       'Freedom to make life choices', 'Generosity',\n",
       "       'Perceptions of corruption', 'Positive affect', 'Negative affect'],\n",
       "      dtype='object')"
      ]
     },
     "execution_count": 6,
     "metadata": {},
     "output_type": "execute_result"
    }
   ],
   "source": [
    "happiness.columns"
   ]
  },
  {
   "cell_type": "code",
   "execution_count": 15,
   "id": "be5f7b65",
   "metadata": {
    "scrolled": true
   },
   "outputs": [
    {
     "data": {
      "text/plain": [
       "Life Ladder  Country name\n",
       "7.776209     Switzerland     1\n",
       "7.780348     Finland         1\n",
       "7.788232     Denmark         1\n",
       "7.788252     Finland         1\n",
       "7.794378     Finland         1\n",
       "7.834233     Denmark         1\n",
       "7.858107     Finland         1\n",
       "7.889350     Finland         1\n",
       "7.970892     Denmark         1\n",
       "8.018934     Denmark         1\n",
       "Name: Country name, dtype: int64"
      ]
     },
     "execution_count": 15,
     "metadata": {},
     "output_type": "execute_result"
    }
   ],
   "source": [
    "#which 10 countries are happiest?\n",
    "happiness.groupby(\"Life Ladder\")[\"Country name\"].value_counts().tail(10)"
   ]
  },
  {
   "cell_type": "code",
   "execution_count": 46,
   "id": "8f1c00ef",
   "metadata": {
    "scrolled": true
   },
   "outputs": [
    {
     "data": {
      "text/plain": [
       "Country name\n",
       "New Zealand    7.123023\n",
       "Luxembourg     7.227935\n",
       "Switzerland    7.239984\n",
       "Norway         7.315403\n",
       "Sweden         7.394945\n",
       "Netherlands    7.402745\n",
       "Israel         7.478285\n",
       "Iceland        7.529636\n",
       "Denmark        7.586114\n",
       "Finland        7.804242\n",
       "Name: Life Ladder, dtype: float64"
      ]
     },
     "execution_count": 46,
     "metadata": {},
     "output_type": "execute_result"
    }
   ],
   "source": [
    "#averaging the results from the three most recent years (i.e., 2020, 2021, and 2022). \n",
    "#Given that measure, what are the 10 happiest countries in the world?\n",
    "\n",
    "df = happiness[happiness[\"year\"].isin([2020, 2021, 2022])]\n",
    "df.groupby(\"Country name\")[\"Life Ladder\"].mean().sort_values().tail(10)"
   ]
  },
  {
   "cell_type": "code",
   "execution_count": 56,
   "id": "3b47b89a",
   "metadata": {
    "scrolled": true
   },
   "outputs": [],
   "source": [
    "df1 = happiness[happiness[\"year\"].isin([2021, 2022])]"
   ]
  },
  {
   "cell_type": "code",
   "execution_count": 66,
   "id": "114fe97b",
   "metadata": {
    "scrolled": true
   },
   "outputs": [],
   "source": [
    "ranked = df1.groupby(\"Country name\")[\"Life Ladder\"].mean().rank(method='min', ascending=False)"
   ]
  },
  {
   "cell_type": "code",
   "execution_count": 67,
   "id": "a482ea25",
   "metadata": {},
   "outputs": [
    {
     "data": {
      "text/plain": [
       "Country name\n",
       "Finland      -125.0\n",
       "Costa Rica   -111.0\n",
       "Belgium      -108.0\n",
       "Lithuania    -107.0\n",
       "Singapore    -107.0\n",
       "Name: Life Ladder, dtype: float64"
      ]
     },
     "execution_count": 67,
     "metadata": {},
     "output_type": "execute_result"
    }
   ],
   "source": [
    "ranked.diff().sort_values().head()"
   ]
  },
  {
   "cell_type": "code",
   "execution_count": null,
   "id": "f55bc0d8",
   "metadata": {},
   "outputs": [],
   "source": []
  }
 ],
 "metadata": {
  "kernelspec": {
   "display_name": "Python 3 (ipykernel)",
   "language": "python",
   "name": "python3"
  },
  "language_info": {
   "codemirror_mode": {
    "name": "ipython",
    "version": 3
   },
   "file_extension": ".py",
   "mimetype": "text/x-python",
   "name": "python",
   "nbconvert_exporter": "python",
   "pygments_lexer": "ipython3",
   "version": "3.9.19"
  }
 },
 "nbformat": 4,
 "nbformat_minor": 5
}
