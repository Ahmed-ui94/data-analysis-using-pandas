{
 "cells": [
  {
   "cell_type": "code",
   "execution_count": 1,
   "id": "2f26ef5b-26b4-4399-827c-9b0172b2881d",
   "metadata": {},
   "outputs": [],
   "source": [
    "import pandas as pd \n",
    "import numpy as np "
   ]
  },
  {
   "cell_type": "code",
   "execution_count": 2,
   "id": "6e77f9f6-7b61-4d5f-9692-6e02877706fb",
   "metadata": {},
   "outputs": [
    {
     "data": {
      "text/html": [
       "<div>\n",
       "<style scoped>\n",
       "    .dataframe tbody tr th:only-of-type {\n",
       "        vertical-align: middle;\n",
       "    }\n",
       "\n",
       "    .dataframe tbody tr th {\n",
       "        vertical-align: top;\n",
       "    }\n",
       "\n",
       "    .dataframe thead th {\n",
       "        text-align: right;\n",
       "    }\n",
       "</style>\n",
       "<table border=\"1\" class=\"dataframe\">\n",
       "  <thead>\n",
       "    <tr style=\"text-align: right;\">\n",
       "      <th></th>\n",
       "      <th></th>\n",
       "      <th></th>\n",
       "      <th></th>\n",
       "      <th>Age</th>\n",
       "      <th>Height</th>\n",
       "      <th>Team</th>\n",
       "      <th>City</th>\n",
       "      <th>Medal</th>\n",
       "    </tr>\n",
       "    <tr>\n",
       "      <th>Year</th>\n",
       "      <th>Season</th>\n",
       "      <th>Sport</th>\n",
       "      <th>Event</th>\n",
       "      <th></th>\n",
       "      <th></th>\n",
       "      <th></th>\n",
       "      <th></th>\n",
       "      <th></th>\n",
       "    </tr>\n",
       "  </thead>\n",
       "  <tbody>\n",
       "    <tr>\n",
       "      <th>1992</th>\n",
       "      <th>Summer</th>\n",
       "      <th>Basketball</th>\n",
       "      <th>Basketball Men's Basketball</th>\n",
       "      <td>24.0</td>\n",
       "      <td>180.0</td>\n",
       "      <td>China</td>\n",
       "      <td>Barcelona</td>\n",
       "      <td>NaN</td>\n",
       "    </tr>\n",
       "    <tr>\n",
       "      <th>2012</th>\n",
       "      <th>Summer</th>\n",
       "      <th>Judo</th>\n",
       "      <th>Judo Men's Extra-Lightweight</th>\n",
       "      <td>23.0</td>\n",
       "      <td>170.0</td>\n",
       "      <td>China</td>\n",
       "      <td>London</td>\n",
       "      <td>NaN</td>\n",
       "    </tr>\n",
       "    <tr>\n",
       "      <th>1920</th>\n",
       "      <th>Summer</th>\n",
       "      <th>Football</th>\n",
       "      <th>Football Men's Football</th>\n",
       "      <td>24.0</td>\n",
       "      <td>NaN</td>\n",
       "      <td>Denmark</td>\n",
       "      <td>Antwerpen</td>\n",
       "      <td>NaN</td>\n",
       "    </tr>\n",
       "    <tr>\n",
       "      <th>1900</th>\n",
       "      <th>Summer</th>\n",
       "      <th>Tug-Of-War</th>\n",
       "      <th>Tug-Of-War Men's Tug-Of-War</th>\n",
       "      <td>34.0</td>\n",
       "      <td>NaN</td>\n",
       "      <td>Denmark/Sweden</td>\n",
       "      <td>Paris</td>\n",
       "      <td>Gold</td>\n",
       "    </tr>\n",
       "    <tr>\n",
       "      <th>1988</th>\n",
       "      <th>Winter</th>\n",
       "      <th>Speed Skating</th>\n",
       "      <th>Speed Skating Women's 500 metres</th>\n",
       "      <td>21.0</td>\n",
       "      <td>185.0</td>\n",
       "      <td>Netherlands</td>\n",
       "      <td>Calgary</td>\n",
       "      <td>NaN</td>\n",
       "    </tr>\n",
       "    <tr>\n",
       "      <th>...</th>\n",
       "      <th>...</th>\n",
       "      <th>...</th>\n",
       "      <th>...</th>\n",
       "      <td>...</td>\n",
       "      <td>...</td>\n",
       "      <td>...</td>\n",
       "      <td>...</td>\n",
       "      <td>...</td>\n",
       "    </tr>\n",
       "    <tr>\n",
       "      <th>1976</th>\n",
       "      <th>Winter</th>\n",
       "      <th>Luge</th>\n",
       "      <th>Luge Mixed (Men)'s Doubles</th>\n",
       "      <td>29.0</td>\n",
       "      <td>179.0</td>\n",
       "      <td>Poland-1</td>\n",
       "      <td>Innsbruck</td>\n",
       "      <td>NaN</td>\n",
       "    </tr>\n",
       "    <tr>\n",
       "      <th rowspan=\"2\" valign=\"top\">2014</th>\n",
       "      <th rowspan=\"2\" valign=\"top\">Winter</th>\n",
       "      <th rowspan=\"2\" valign=\"top\">Ski Jumping</th>\n",
       "      <th>Ski Jumping Men's Large Hill, Individual</th>\n",
       "      <td>27.0</td>\n",
       "      <td>176.0</td>\n",
       "      <td>Poland</td>\n",
       "      <td>Sochi</td>\n",
       "      <td>NaN</td>\n",
       "    </tr>\n",
       "    <tr>\n",
       "      <th>Ski Jumping Men's Large Hill, Team</th>\n",
       "      <td>27.0</td>\n",
       "      <td>176.0</td>\n",
       "      <td>Poland</td>\n",
       "      <td>Sochi</td>\n",
       "      <td>NaN</td>\n",
       "    </tr>\n",
       "    <tr>\n",
       "      <th>1998</th>\n",
       "      <th>Winter</th>\n",
       "      <th>Bobsleigh</th>\n",
       "      <th>Bobsleigh Men's Four</th>\n",
       "      <td>30.0</td>\n",
       "      <td>185.0</td>\n",
       "      <td>Poland</td>\n",
       "      <td>Nagano</td>\n",
       "      <td>NaN</td>\n",
       "    </tr>\n",
       "    <tr>\n",
       "      <th>2002</th>\n",
       "      <th>Winter</th>\n",
       "      <th>Bobsleigh</th>\n",
       "      <th>Bobsleigh Men's Four</th>\n",
       "      <td>34.0</td>\n",
       "      <td>185.0</td>\n",
       "      <td>Poland</td>\n",
       "      <td>Salt Lake City</td>\n",
       "      <td>NaN</td>\n",
       "    </tr>\n",
       "  </tbody>\n",
       "</table>\n",
       "<p>271116 rows × 5 columns</p>\n",
       "</div>"
      ],
      "text/plain": [
       "                                                                     Age  \\\n",
       "Year Season Sport         Event                                            \n",
       "1992 Summer Basketball    Basketball Men's Basketball               24.0   \n",
       "2012 Summer Judo          Judo Men's Extra-Lightweight              23.0   \n",
       "1920 Summer Football      Football Men's Football                   24.0   \n",
       "1900 Summer Tug-Of-War    Tug-Of-War Men's Tug-Of-War               34.0   \n",
       "1988 Winter Speed Skating Speed Skating Women's 500 metres          21.0   \n",
       "...                                                                  ...   \n",
       "1976 Winter Luge          Luge Mixed (Men)'s Doubles                29.0   \n",
       "2014 Winter Ski Jumping   Ski Jumping Men's Large Hill, Individual  27.0   \n",
       "                          Ski Jumping Men's Large Hill, Team        27.0   \n",
       "1998 Winter Bobsleigh     Bobsleigh Men's Four                      30.0   \n",
       "2002 Winter Bobsleigh     Bobsleigh Men's Four                      34.0   \n",
       "\n",
       "                                                                    Height  \\\n",
       "Year Season Sport         Event                                              \n",
       "1992 Summer Basketball    Basketball Men's Basketball                180.0   \n",
       "2012 Summer Judo          Judo Men's Extra-Lightweight               170.0   \n",
       "1920 Summer Football      Football Men's Football                      NaN   \n",
       "1900 Summer Tug-Of-War    Tug-Of-War Men's Tug-Of-War                  NaN   \n",
       "1988 Winter Speed Skating Speed Skating Women's 500 metres           185.0   \n",
       "...                                                                    ...   \n",
       "1976 Winter Luge          Luge Mixed (Men)'s Doubles                 179.0   \n",
       "2014 Winter Ski Jumping   Ski Jumping Men's Large Hill, Individual   176.0   \n",
       "                          Ski Jumping Men's Large Hill, Team         176.0   \n",
       "1998 Winter Bobsleigh     Bobsleigh Men's Four                       185.0   \n",
       "2002 Winter Bobsleigh     Bobsleigh Men's Four                       185.0   \n",
       "\n",
       "                                                                              Team  \\\n",
       "Year Season Sport         Event                                                      \n",
       "1992 Summer Basketball    Basketball Men's Basketball                        China   \n",
       "2012 Summer Judo          Judo Men's Extra-Lightweight                       China   \n",
       "1920 Summer Football      Football Men's Football                          Denmark   \n",
       "1900 Summer Tug-Of-War    Tug-Of-War Men's Tug-Of-War               Denmark/Sweden   \n",
       "1988 Winter Speed Skating Speed Skating Women's 500 metres             Netherlands   \n",
       "...                                                                            ...   \n",
       "1976 Winter Luge          Luge Mixed (Men)'s Doubles                      Poland-1   \n",
       "2014 Winter Ski Jumping   Ski Jumping Men's Large Hill, Individual          Poland   \n",
       "                          Ski Jumping Men's Large Hill, Team                Poland   \n",
       "1998 Winter Bobsleigh     Bobsleigh Men's Four                              Poland   \n",
       "2002 Winter Bobsleigh     Bobsleigh Men's Four                              Poland   \n",
       "\n",
       "                                                                              City  \\\n",
       "Year Season Sport         Event                                                      \n",
       "1992 Summer Basketball    Basketball Men's Basketball                    Barcelona   \n",
       "2012 Summer Judo          Judo Men's Extra-Lightweight                      London   \n",
       "1920 Summer Football      Football Men's Football                        Antwerpen   \n",
       "1900 Summer Tug-Of-War    Tug-Of-War Men's Tug-Of-War                        Paris   \n",
       "1988 Winter Speed Skating Speed Skating Women's 500 metres                 Calgary   \n",
       "...                                                                            ...   \n",
       "1976 Winter Luge          Luge Mixed (Men)'s Doubles                     Innsbruck   \n",
       "2014 Winter Ski Jumping   Ski Jumping Men's Large Hill, Individual           Sochi   \n",
       "                          Ski Jumping Men's Large Hill, Team                 Sochi   \n",
       "1998 Winter Bobsleigh     Bobsleigh Men's Four                              Nagano   \n",
       "2002 Winter Bobsleigh     Bobsleigh Men's Four                      Salt Lake City   \n",
       "\n",
       "                                                                   Medal  \n",
       "Year Season Sport         Event                                           \n",
       "1992 Summer Basketball    Basketball Men's Basketball                NaN  \n",
       "2012 Summer Judo          Judo Men's Extra-Lightweight               NaN  \n",
       "1920 Summer Football      Football Men's Football                    NaN  \n",
       "1900 Summer Tug-Of-War    Tug-Of-War Men's Tug-Of-War               Gold  \n",
       "1988 Winter Speed Skating Speed Skating Women's 500 metres           NaN  \n",
       "...                                                                  ...  \n",
       "1976 Winter Luge          Luge Mixed (Men)'s Doubles                 NaN  \n",
       "2014 Winter Ski Jumping   Ski Jumping Men's Large Hill, Individual   NaN  \n",
       "                          Ski Jumping Men's Large Hill, Team         NaN  \n",
       "1998 Winter Bobsleigh     Bobsleigh Men's Four                       NaN  \n",
       "2002 Winter Bobsleigh     Bobsleigh Men's Four                       NaN  \n",
       "\n",
       "[271116 rows x 5 columns]"
      ]
     },
     "execution_count": 2,
     "metadata": {},
     "output_type": "execute_result"
    }
   ],
   "source": [
    "df = pd.read_csv(\"/Users/ahmedabukar/Downloads/pandas-workout-data/data/olympic_athlete_events.csv\", \n",
    "                usecols=[\"Age\", \"Height\", \"Team\", \"Year\", \"Season\", \"City\", \"Sport\", \"Event\", \"Medal\"], \n",
    "                index_col=[\"Year\", \"Season\", \"Sport\", \"Event\"])\n",
    "df"
   ]
  },
  {
   "cell_type": "code",
   "execution_count": 3,
   "id": "81e40a03-7c55-418f-9903-53f60cd2416f",
   "metadata": {},
   "outputs": [
    {
     "data": {
      "text/plain": [
       "25.026883940421765"
      ]
     },
     "execution_count": 3,
     "metadata": {},
     "output_type": "execute_result"
    }
   ],
   "source": [
    "#what is average the age of winning athletes in summer games held between 1936 to 2000? \n",
    "(df.sort_index().loc[(slice(1936, 2000), \"Summer\"), \"Age\"].mean())"
   ]
  },
  {
   "cell_type": "code",
   "execution_count": 4,
   "id": "cec335e2-eb7e-4b6d-b78f-1304d521f7aa",
   "metadata": {},
   "outputs": [
    {
     "data": {
      "text/plain": [
       "Team              \n",
       "South Korea           69\n",
       "Belgium               52\n",
       "France                48\n",
       "United States         41\n",
       "China                 19\n",
       "Italy                 15\n",
       "Great Britain         13\n",
       "Chinese Taipei         9\n",
       "Netherlands            9\n",
       "Ukraine                8\n",
       "Cincinnati Archers     8\n",
       "Soviet Union           7\n",
       "Japan                  7\n",
       "Germany                7\n",
       "Finland                6\n",
       "Australia              5\n",
       "Poland                 4\n",
       "Potomac Archers        4\n",
       "Russia                 4\n",
       "Boston Archers         4\n",
       "Unified Team           4\n",
       "Indonesia              3\n",
       "Spain                  3\n",
       "Mexico                 2\n",
       "Sweden                 2\n",
       "Name: count, dtype: int64"
      ]
     },
     "execution_count": 4,
     "metadata": {},
     "output_type": "execute_result"
    }
   ],
   "source": [
    "#what team has won the most medals in all achery events?\n",
    "df = df.sort_index()\n",
    "(df.dropna(subset=\"Medal\").loc[(slice(None), slice(None), \"Archery\"), [\"Team\"]].value_counts())"
   ]
  },
  {
   "cell_type": "code",
   "execution_count": 5,
   "id": "5c5288c3-c25e-4af5-935c-70f8807099ac",
   "metadata": {},
   "outputs": [
    {
     "data": {
      "text/plain": [
       "Team\n",
       "30. Februar         0\n",
       "Mystery             0\n",
       "Mythilus            0\n",
       "Naiad               0\n",
       "Nan-2               0\n",
       "                 ... \n",
       "France           1550\n",
       "Great Britain    1673\n",
       "Germany          1984\n",
       "Soviet Union     2451\n",
       "United States    5219\n",
       "Name: Medal, Length: 1184, dtype: int64"
      ]
     },
     "execution_count": 5,
     "metadata": {},
     "output_type": "execute_result"
    }
   ],
   "source": [
    "df.groupby(\"Team\")[\"Medal\"].count().sort_values()"
   ]
  },
  {
   "cell_type": "code",
   "execution_count": 12,
   "id": "d8936fc9-35e8-4061-b02a-329e6c6a8655",
   "metadata": {},
   "outputs": [
    {
     "data": {
      "text/plain": [
       "165.04827586206898"
      ]
     },
     "execution_count": 12,
     "metadata": {},
     "output_type": "execute_result"
    }
   ],
   "source": [
    "#starting in 1980, what is the average height of \"Table Tennis Women's Team\"?\n",
    "df.loc[(slice(1980, 2016), \"Summer\", slice(None), \"Table Tennis Women's Team\"), \"Height\"].mean()"
   ]
  },
  {
   "cell_type": "code",
   "execution_count": 19,
   "id": "1b93afce-f069-4b03-8f7b-04d3c2b9d9e2",
   "metadata": {},
   "outputs": [
    {
     "data": {
      "text/plain": [
       "208.0"
      ]
     },
     "execution_count": 19,
     "metadata": {},
     "output_type": "execute_result"
    }
   ],
   "source": [
    "#how tall was the tallest tennis player in olympic games from 1980 to 2016?\n",
    "df.loc[(slice(1980, 2016), slice(None), \"Tennis\"), \"Height\"].max()"
   ]
  },
  {
   "cell_type": "code",
   "execution_count": 26,
   "id": "1fc5164e-5e99-427a-a1b0-fa3f4636263a",
   "metadata": {},
   "outputs": [
    {
     "data": {
      "text/html": [
       "<div>\n",
       "<style scoped>\n",
       "    .dataframe tbody tr th:only-of-type {\n",
       "        vertical-align: middle;\n",
       "    }\n",
       "\n",
       "    .dataframe tbody tr th {\n",
       "        vertical-align: top;\n",
       "    }\n",
       "\n",
       "    .dataframe thead th {\n",
       "        text-align: right;\n",
       "    }\n",
       "</style>\n",
       "<table border=\"1\" class=\"dataframe\">\n",
       "  <thead>\n",
       "    <tr style=\"text-align: right;\">\n",
       "      <th></th>\n",
       "      <th></th>\n",
       "      <th>Age</th>\n",
       "      <th>Height</th>\n",
       "      <th>Team</th>\n",
       "      <th>City</th>\n",
       "      <th>Medal</th>\n",
       "    </tr>\n",
       "    <tr>\n",
       "      <th>Year</th>\n",
       "      <th>Sport</th>\n",
       "      <th></th>\n",
       "      <th></th>\n",
       "      <th></th>\n",
       "      <th></th>\n",
       "      <th></th>\n",
       "    </tr>\n",
       "  </thead>\n",
       "  <tbody>\n",
       "    <tr>\n",
       "      <th rowspan=\"5\" valign=\"top\">2008</th>\n",
       "      <th>Table Tennis</th>\n",
       "      <td>26.0</td>\n",
       "      <td>181.0</td>\n",
       "      <td>Croatia</td>\n",
       "      <td>Beijing</td>\n",
       "      <td>NaN</td>\n",
       "    </tr>\n",
       "    <tr>\n",
       "      <th>Table Tennis</th>\n",
       "      <td>21.0</td>\n",
       "      <td>164.0</td>\n",
       "      <td>Germany</td>\n",
       "      <td>Beijing</td>\n",
       "      <td>NaN</td>\n",
       "    </tr>\n",
       "    <tr>\n",
       "      <th>Table Tennis</th>\n",
       "      <td>36.0</td>\n",
       "      <td>171.0</td>\n",
       "      <td>Croatia</td>\n",
       "      <td>Beijing</td>\n",
       "      <td>NaN</td>\n",
       "    </tr>\n",
       "    <tr>\n",
       "      <th>Table Tennis</th>\n",
       "      <td>27.0</td>\n",
       "      <td>158.0</td>\n",
       "      <td>South Korea</td>\n",
       "      <td>Beijing</td>\n",
       "      <td>Bronze</td>\n",
       "    </tr>\n",
       "    <tr>\n",
       "      <th>Table Tennis</th>\n",
       "      <td>20.0</td>\n",
       "      <td>169.0</td>\n",
       "      <td>Spain</td>\n",
       "      <td>Beijing</td>\n",
       "      <td>NaN</td>\n",
       "    </tr>\n",
       "    <tr>\n",
       "      <th>...</th>\n",
       "      <th>...</th>\n",
       "      <td>...</td>\n",
       "      <td>...</td>\n",
       "      <td>...</td>\n",
       "      <td>...</td>\n",
       "      <td>...</td>\n",
       "    </tr>\n",
       "    <tr>\n",
       "      <th rowspan=\"5\" valign=\"top\">2016</th>\n",
       "      <th>Table Tennis</th>\n",
       "      <td>26.0</td>\n",
       "      <td>166.0</td>\n",
       "      <td>Singapore</td>\n",
       "      <td>Rio de Janeiro</td>\n",
       "      <td>NaN</td>\n",
       "    </tr>\n",
       "    <tr>\n",
       "      <th>Table Tennis</th>\n",
       "      <td>20.0</td>\n",
       "      <td>166.0</td>\n",
       "      <td>United States</td>\n",
       "      <td>Rio de Janeiro</td>\n",
       "      <td>NaN</td>\n",
       "    </tr>\n",
       "    <tr>\n",
       "      <th>Table Tennis</th>\n",
       "      <td>25.0</td>\n",
       "      <td>162.0</td>\n",
       "      <td>Australia</td>\n",
       "      <td>Rio de Janeiro</td>\n",
       "      <td>NaN</td>\n",
       "    </tr>\n",
       "    <tr>\n",
       "      <th>Table Tennis</th>\n",
       "      <td>28.0</td>\n",
       "      <td>165.0</td>\n",
       "      <td>United States</td>\n",
       "      <td>Rio de Janeiro</td>\n",
       "      <td>NaN</td>\n",
       "    </tr>\n",
       "    <tr>\n",
       "      <th>Table Tennis</th>\n",
       "      <td>22.0</td>\n",
       "      <td>168.0</td>\n",
       "      <td>Singapore</td>\n",
       "      <td>Rio de Janeiro</td>\n",
       "      <td>NaN</td>\n",
       "    </tr>\n",
       "  </tbody>\n",
       "</table>\n",
       "<p>145 rows × 5 columns</p>\n",
       "</div>"
      ],
      "text/plain": [
       "                    Age  Height           Team            City   Medal\n",
       "Year Sport                                                            \n",
       "2008 Table Tennis  26.0   181.0        Croatia         Beijing     NaN\n",
       "     Table Tennis  21.0   164.0        Germany         Beijing     NaN\n",
       "     Table Tennis  36.0   171.0        Croatia         Beijing     NaN\n",
       "     Table Tennis  27.0   158.0    South Korea         Beijing  Bronze\n",
       "     Table Tennis  20.0   169.0          Spain         Beijing     NaN\n",
       "...                 ...     ...            ...             ...     ...\n",
       "2016 Table Tennis  26.0   166.0      Singapore  Rio de Janeiro     NaN\n",
       "     Table Tennis  20.0   166.0  United States  Rio de Janeiro     NaN\n",
       "     Table Tennis  25.0   162.0      Australia  Rio de Janeiro     NaN\n",
       "     Table Tennis  28.0   165.0  United States  Rio de Janeiro     NaN\n",
       "     Table Tennis  22.0   168.0      Singapore  Rio de Janeiro     NaN\n",
       "\n",
       "[145 rows x 5 columns]"
      ]
     },
     "execution_count": 26,
     "metadata": {},
     "output_type": "execute_result"
    }
   ],
   "source": [
    "df.xs((\"Table Tennis Women's Team\", \"Summer\"), level=[\"Event\", \"Season\"])"
   ]
  },
  {
   "cell_type": "code",
   "execution_count": 27,
   "id": "850cb079-e8ed-4a07-9028-e0efacd579b6",
   "metadata": {},
   "outputs": [],
   "source": [
    "#remove the season level and then find the height of the tallest tennis player for 1980? \n",
    "df = df.reset_index(). set_index([\"Year\", \"Sport\", \"Event\"])"
   ]
  },
  {
   "cell_type": "code",
   "execution_count": 30,
   "id": "8b3402de-d7b5-4384-8baa-3334753295b4",
   "metadata": {},
   "outputs": [
    {
     "data": {
      "text/plain": [
       "208.0"
      ]
     },
     "execution_count": 30,
     "metadata": {},
     "output_type": "execute_result"
    }
   ],
   "source": [
    "df.xs(\"Tennis\", level=\"Sport\")[\"Height\"].max()"
   ]
  },
  {
   "cell_type": "code",
   "execution_count": 43,
   "id": "0c42f07c-c84e-4def-928e-84865d2f5284",
   "metadata": {},
   "outputs": [
    {
     "data": {
      "text/plain": [
       "City\n",
       "Beijing           671\n",
       "Rio de Janeiro    665\n",
       "Athina            664\n",
       "Sydney            663\n",
       "London            632\n",
       "Atlanta           608\n",
       "Barcelona         559\n",
       "Seoul             520\n",
       "Los Angeles       497\n",
       "Moskva            457\n",
       "Sochi             202\n",
       "Torino            176\n",
       "Vancouver         174\n",
       "Salt Lake City    162\n",
       "Nagano            145\n",
       "Lillehammer       110\n",
       "Albertville       104\n",
       "Calgary            87\n",
       "Sarajevo           74\n",
       "Lake Placid        72\n",
       "Name: count, dtype: int64"
      ]
     },
     "execution_count": 43,
     "metadata": {},
     "output_type": "execute_result"
    }
   ],
   "source": [
    "#in which city were most gold medals awarded from 1980? ... Beijing got 671 gold medals\n",
    "df_subset = df.loc[1980:2016]\n",
    "df_subset.loc[df_subset[\"Medal\"] == \"Gold\", \"City\"].value_counts()"
   ]
  },
  {
   "cell_type": "code",
   "execution_count": 47,
   "id": "fdd657c0-e1e4-4741-9006-6dd258fcc9a8",
   "metadata": {},
   "outputs": [
    {
     "data": {
      "text/plain": [
       "Team\n",
       "United States           1257\n",
       "Germany                  425\n",
       "Soviet Union             396\n",
       "Russia                   365\n",
       "China                    308\n",
       "                        ... \n",
       "United Arab Emirates       1\n",
       "Israel                     1\n",
       "Hong Kong                  1\n",
       "Costa Rica                 1\n",
       "Puerto Rico                1\n",
       "Name: count, Length: 132, dtype: int64"
      ]
     },
     "execution_count": 47,
     "metadata": {},
     "output_type": "execute_result"
    }
   ],
   "source": [
    "#how many gold medals were received by the United States from 1980 onward? \n",
    "df_subset.loc[df_subset[\"Medal\"] == \"Gold\", \"Team\"].value_counts()"
   ]
  },
  {
   "cell_type": "code",
   "execution_count": null,
   "id": "a1ff9eff-2010-4061-af94-980c9019ab03",
   "metadata": {},
   "outputs": [],
   "source": []
  }
 ],
 "metadata": {
  "kernelspec": {
   "display_name": "Python 3 (ipykernel)",
   "language": "python",
   "name": "python3"
  },
  "language_info": {
   "codemirror_mode": {
    "name": "ipython",
    "version": 3
   },
   "file_extension": ".py",
   "mimetype": "text/x-python",
   "name": "python",
   "nbconvert_exporter": "python",
   "pygments_lexer": "ipython3",
   "version": "3.11.7"
  }
 },
 "nbformat": 4,
 "nbformat_minor": 5
}
