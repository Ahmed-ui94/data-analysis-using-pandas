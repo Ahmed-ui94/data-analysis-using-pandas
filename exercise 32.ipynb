{
 "cells": [
  {
   "cell_type": "code",
   "execution_count": 1,
   "id": "1e3ee5b9-eddc-4542-81c5-79020716e741",
   "metadata": {},
   "outputs": [],
   "source": [
    "import pandas as pd\n",
    "import numpy as np\n",
    "import glob"
   ]
  },
  {
   "cell_type": "code",
   "execution_count": 5,
   "id": "c1a327b9-f000-4bc3-bdf1-2ac2bae874bc",
   "metadata": {},
   "outputs": [
    {
     "data": {
      "text/plain": [
       "Index(['date_time', 'san+francisco,ca_maxtempC', 'san+francisco,ca_mintempC',\n",
       "       'san+francisco,ca_totalSnow_cm', 'san+francisco,ca_sunHour',\n",
       "       'san+francisco,ca_uvIndex', 'san+francisco,ca_uvIndex.1',\n",
       "       'san+francisco,ca_moon_illumination', 'san+francisco,ca_moonrise',\n",
       "       'san+francisco,ca_moonset', 'san+francisco,ca_sunrise',\n",
       "       'san+francisco,ca_sunset', 'san+francisco,ca_DewPointC',\n",
       "       'san+francisco,ca_FeelsLikeC', 'san+francisco,ca_HeatIndexC',\n",
       "       'san+francisco,ca_WindChillC', 'san+francisco,ca_WindGustKmph',\n",
       "       'san+francisco,ca_cloudcover', 'san+francisco,ca_humidity',\n",
       "       'san+francisco,ca_precipMM', 'san+francisco,ca_pressure',\n",
       "       'san+francisco,ca_tempC', 'san+francisco,ca_visibility',\n",
       "       'san+francisco,ca_winddirDegree', 'san+francisco,ca_windspeedKmph'],\n",
       "      dtype='object')"
      ]
     },
     "execution_count": 5,
     "metadata": {},
     "output_type": "execute_result"
    }
   ],
   "source": [
    "san_francisco_df = pd.read_csv(\"/Users/ahmedabukar/Downloads/:/data/san+francisco,ca.csv\",)\n",
    "san_francisco_df.columns"
   ]
  },
  {
   "cell_type": "code",
   "execution_count": 3,
   "id": "a8a3b0cd-dd60-4639-9992-43d95951608a",
   "metadata": {},
   "outputs": [],
   "source": [
    "# add city and state?\n",
    "san_francisco_df[[\"city\", \"state\"]] = [\"san francisco\", \"California\"]"
   ]
  },
  {
   "cell_type": "code",
   "execution_count": 4,
   "id": "02256171-0300-4c12-9db8-b26cee092716",
   "metadata": {},
   "outputs": [
    {
     "ename": "FileNotFoundError",
     "evalue": "[Errno 2] No such file or directory: '/Users/ahmedabukar/Downloads/pandas-workout-data/data/new+york,ny.csv'",
     "output_type": "error",
     "traceback": [
      "\u001b[0;31m---------------------------------------------------------------------------\u001b[0m",
      "\u001b[0;31mFileNotFoundError\u001b[0m                         Traceback (most recent call last)",
      "Cell \u001b[0;32mIn[4], line 1\u001b[0m\n\u001b[0;32m----> 1\u001b[0m new_york_df \u001b[38;5;241m=\u001b[39m pd\u001b[38;5;241m.\u001b[39mread_csv(\u001b[38;5;124m\"\u001b[39m\u001b[38;5;124m/Users/ahmedabukar/Downloads/pandas-workout-data/data/new+york,ny.csv\u001b[39m\u001b[38;5;124m\"\u001b[39m,\n\u001b[1;32m      2\u001b[0m                          usecols\u001b[38;5;241m=\u001b[39m[\u001b[38;5;241m0\u001b[39m, \u001b[38;5;241m1\u001b[39m, \u001b[38;5;241m2\u001b[39m], header\u001b[38;5;241m=\u001b[39m\u001b[38;5;241m0\u001b[39m, \n\u001b[1;32m      3\u001b[0m                                  names\u001b[38;5;241m=\u001b[39m[\u001b[38;5;124m\"\u001b[39m\u001b[38;5;124mdate_time\u001b[39m\u001b[38;5;124m\"\u001b[39m, \u001b[38;5;124m\"\u001b[39m\u001b[38;5;124mmax_temp\u001b[39m\u001b[38;5;124m\"\u001b[39m, \u001b[38;5;124m\"\u001b[39m\u001b[38;5;124mmin_temp\u001b[39m\u001b[38;5;124m\"\u001b[39m])\n\u001b[1;32m      4\u001b[0m new_york_df[[\u001b[38;5;124m\"\u001b[39m\u001b[38;5;124mcity\u001b[39m\u001b[38;5;124m\"\u001b[39m, \u001b[38;5;124m\"\u001b[39m\u001b[38;5;124mstate\u001b[39m\u001b[38;5;124m\"\u001b[39m]] \u001b[38;5;241m=\u001b[39m [\u001b[38;5;124m\"\u001b[39m\u001b[38;5;124mNew york\u001b[39m\u001b[38;5;124m\"\u001b[39m, \u001b[38;5;124m\"\u001b[39m\u001b[38;5;124mNew york\u001b[39m\u001b[38;5;124m\"\u001b[39m]\n\u001b[1;32m      5\u001b[0m new_york_df\n",
      "File \u001b[0;32m~/.pyenv/versions/anaconda3-2024.06-1/lib/python3.12/site-packages/pandas/io/parsers/readers.py:1026\u001b[0m, in \u001b[0;36mread_csv\u001b[0;34m(filepath_or_buffer, sep, delimiter, header, names, index_col, usecols, dtype, engine, converters, true_values, false_values, skipinitialspace, skiprows, skipfooter, nrows, na_values, keep_default_na, na_filter, verbose, skip_blank_lines, parse_dates, infer_datetime_format, keep_date_col, date_parser, date_format, dayfirst, cache_dates, iterator, chunksize, compression, thousands, decimal, lineterminator, quotechar, quoting, doublequote, escapechar, comment, encoding, encoding_errors, dialect, on_bad_lines, delim_whitespace, low_memory, memory_map, float_precision, storage_options, dtype_backend)\u001b[0m\n\u001b[1;32m   1013\u001b[0m kwds_defaults \u001b[38;5;241m=\u001b[39m _refine_defaults_read(\n\u001b[1;32m   1014\u001b[0m     dialect,\n\u001b[1;32m   1015\u001b[0m     delimiter,\n\u001b[0;32m   (...)\u001b[0m\n\u001b[1;32m   1022\u001b[0m     dtype_backend\u001b[38;5;241m=\u001b[39mdtype_backend,\n\u001b[1;32m   1023\u001b[0m )\n\u001b[1;32m   1024\u001b[0m kwds\u001b[38;5;241m.\u001b[39mupdate(kwds_defaults)\n\u001b[0;32m-> 1026\u001b[0m \u001b[38;5;28;01mreturn\u001b[39;00m _read(filepath_or_buffer, kwds)\n",
      "File \u001b[0;32m~/.pyenv/versions/anaconda3-2024.06-1/lib/python3.12/site-packages/pandas/io/parsers/readers.py:620\u001b[0m, in \u001b[0;36m_read\u001b[0;34m(filepath_or_buffer, kwds)\u001b[0m\n\u001b[1;32m    617\u001b[0m _validate_names(kwds\u001b[38;5;241m.\u001b[39mget(\u001b[38;5;124m\"\u001b[39m\u001b[38;5;124mnames\u001b[39m\u001b[38;5;124m\"\u001b[39m, \u001b[38;5;28;01mNone\u001b[39;00m))\n\u001b[1;32m    619\u001b[0m \u001b[38;5;66;03m# Create the parser.\u001b[39;00m\n\u001b[0;32m--> 620\u001b[0m parser \u001b[38;5;241m=\u001b[39m TextFileReader(filepath_or_buffer, \u001b[38;5;241m*\u001b[39m\u001b[38;5;241m*\u001b[39mkwds)\n\u001b[1;32m    622\u001b[0m \u001b[38;5;28;01mif\u001b[39;00m chunksize \u001b[38;5;129;01mor\u001b[39;00m iterator:\n\u001b[1;32m    623\u001b[0m     \u001b[38;5;28;01mreturn\u001b[39;00m parser\n",
      "File \u001b[0;32m~/.pyenv/versions/anaconda3-2024.06-1/lib/python3.12/site-packages/pandas/io/parsers/readers.py:1620\u001b[0m, in \u001b[0;36mTextFileReader.__init__\u001b[0;34m(self, f, engine, **kwds)\u001b[0m\n\u001b[1;32m   1617\u001b[0m     \u001b[38;5;28mself\u001b[39m\u001b[38;5;241m.\u001b[39moptions[\u001b[38;5;124m\"\u001b[39m\u001b[38;5;124mhas_index_names\u001b[39m\u001b[38;5;124m\"\u001b[39m] \u001b[38;5;241m=\u001b[39m kwds[\u001b[38;5;124m\"\u001b[39m\u001b[38;5;124mhas_index_names\u001b[39m\u001b[38;5;124m\"\u001b[39m]\n\u001b[1;32m   1619\u001b[0m \u001b[38;5;28mself\u001b[39m\u001b[38;5;241m.\u001b[39mhandles: IOHandles \u001b[38;5;241m|\u001b[39m \u001b[38;5;28;01mNone\u001b[39;00m \u001b[38;5;241m=\u001b[39m \u001b[38;5;28;01mNone\u001b[39;00m\n\u001b[0;32m-> 1620\u001b[0m \u001b[38;5;28mself\u001b[39m\u001b[38;5;241m.\u001b[39m_engine \u001b[38;5;241m=\u001b[39m \u001b[38;5;28mself\u001b[39m\u001b[38;5;241m.\u001b[39m_make_engine(f, \u001b[38;5;28mself\u001b[39m\u001b[38;5;241m.\u001b[39mengine)\n",
      "File \u001b[0;32m~/.pyenv/versions/anaconda3-2024.06-1/lib/python3.12/site-packages/pandas/io/parsers/readers.py:1880\u001b[0m, in \u001b[0;36mTextFileReader._make_engine\u001b[0;34m(self, f, engine)\u001b[0m\n\u001b[1;32m   1878\u001b[0m     \u001b[38;5;28;01mif\u001b[39;00m \u001b[38;5;124m\"\u001b[39m\u001b[38;5;124mb\u001b[39m\u001b[38;5;124m\"\u001b[39m \u001b[38;5;129;01mnot\u001b[39;00m \u001b[38;5;129;01min\u001b[39;00m mode:\n\u001b[1;32m   1879\u001b[0m         mode \u001b[38;5;241m+\u001b[39m\u001b[38;5;241m=\u001b[39m \u001b[38;5;124m\"\u001b[39m\u001b[38;5;124mb\u001b[39m\u001b[38;5;124m\"\u001b[39m\n\u001b[0;32m-> 1880\u001b[0m \u001b[38;5;28mself\u001b[39m\u001b[38;5;241m.\u001b[39mhandles \u001b[38;5;241m=\u001b[39m get_handle(\n\u001b[1;32m   1881\u001b[0m     f,\n\u001b[1;32m   1882\u001b[0m     mode,\n\u001b[1;32m   1883\u001b[0m     encoding\u001b[38;5;241m=\u001b[39m\u001b[38;5;28mself\u001b[39m\u001b[38;5;241m.\u001b[39moptions\u001b[38;5;241m.\u001b[39mget(\u001b[38;5;124m\"\u001b[39m\u001b[38;5;124mencoding\u001b[39m\u001b[38;5;124m\"\u001b[39m, \u001b[38;5;28;01mNone\u001b[39;00m),\n\u001b[1;32m   1884\u001b[0m     compression\u001b[38;5;241m=\u001b[39m\u001b[38;5;28mself\u001b[39m\u001b[38;5;241m.\u001b[39moptions\u001b[38;5;241m.\u001b[39mget(\u001b[38;5;124m\"\u001b[39m\u001b[38;5;124mcompression\u001b[39m\u001b[38;5;124m\"\u001b[39m, \u001b[38;5;28;01mNone\u001b[39;00m),\n\u001b[1;32m   1885\u001b[0m     memory_map\u001b[38;5;241m=\u001b[39m\u001b[38;5;28mself\u001b[39m\u001b[38;5;241m.\u001b[39moptions\u001b[38;5;241m.\u001b[39mget(\u001b[38;5;124m\"\u001b[39m\u001b[38;5;124mmemory_map\u001b[39m\u001b[38;5;124m\"\u001b[39m, \u001b[38;5;28;01mFalse\u001b[39;00m),\n\u001b[1;32m   1886\u001b[0m     is_text\u001b[38;5;241m=\u001b[39mis_text,\n\u001b[1;32m   1887\u001b[0m     errors\u001b[38;5;241m=\u001b[39m\u001b[38;5;28mself\u001b[39m\u001b[38;5;241m.\u001b[39moptions\u001b[38;5;241m.\u001b[39mget(\u001b[38;5;124m\"\u001b[39m\u001b[38;5;124mencoding_errors\u001b[39m\u001b[38;5;124m\"\u001b[39m, \u001b[38;5;124m\"\u001b[39m\u001b[38;5;124mstrict\u001b[39m\u001b[38;5;124m\"\u001b[39m),\n\u001b[1;32m   1888\u001b[0m     storage_options\u001b[38;5;241m=\u001b[39m\u001b[38;5;28mself\u001b[39m\u001b[38;5;241m.\u001b[39moptions\u001b[38;5;241m.\u001b[39mget(\u001b[38;5;124m\"\u001b[39m\u001b[38;5;124mstorage_options\u001b[39m\u001b[38;5;124m\"\u001b[39m, \u001b[38;5;28;01mNone\u001b[39;00m),\n\u001b[1;32m   1889\u001b[0m )\n\u001b[1;32m   1890\u001b[0m \u001b[38;5;28;01massert\u001b[39;00m \u001b[38;5;28mself\u001b[39m\u001b[38;5;241m.\u001b[39mhandles \u001b[38;5;129;01mis\u001b[39;00m \u001b[38;5;129;01mnot\u001b[39;00m \u001b[38;5;28;01mNone\u001b[39;00m\n\u001b[1;32m   1891\u001b[0m f \u001b[38;5;241m=\u001b[39m \u001b[38;5;28mself\u001b[39m\u001b[38;5;241m.\u001b[39mhandles\u001b[38;5;241m.\u001b[39mhandle\n",
      "File \u001b[0;32m~/.pyenv/versions/anaconda3-2024.06-1/lib/python3.12/site-packages/pandas/io/common.py:873\u001b[0m, in \u001b[0;36mget_handle\u001b[0;34m(path_or_buf, mode, encoding, compression, memory_map, is_text, errors, storage_options)\u001b[0m\n\u001b[1;32m    868\u001b[0m \u001b[38;5;28;01melif\u001b[39;00m \u001b[38;5;28misinstance\u001b[39m(handle, \u001b[38;5;28mstr\u001b[39m):\n\u001b[1;32m    869\u001b[0m     \u001b[38;5;66;03m# Check whether the filename is to be opened in binary mode.\u001b[39;00m\n\u001b[1;32m    870\u001b[0m     \u001b[38;5;66;03m# Binary mode does not support 'encoding' and 'newline'.\u001b[39;00m\n\u001b[1;32m    871\u001b[0m     \u001b[38;5;28;01mif\u001b[39;00m ioargs\u001b[38;5;241m.\u001b[39mencoding \u001b[38;5;129;01mand\u001b[39;00m \u001b[38;5;124m\"\u001b[39m\u001b[38;5;124mb\u001b[39m\u001b[38;5;124m\"\u001b[39m \u001b[38;5;129;01mnot\u001b[39;00m \u001b[38;5;129;01min\u001b[39;00m ioargs\u001b[38;5;241m.\u001b[39mmode:\n\u001b[1;32m    872\u001b[0m         \u001b[38;5;66;03m# Encoding\u001b[39;00m\n\u001b[0;32m--> 873\u001b[0m         handle \u001b[38;5;241m=\u001b[39m \u001b[38;5;28mopen\u001b[39m(\n\u001b[1;32m    874\u001b[0m             handle,\n\u001b[1;32m    875\u001b[0m             ioargs\u001b[38;5;241m.\u001b[39mmode,\n\u001b[1;32m    876\u001b[0m             encoding\u001b[38;5;241m=\u001b[39mioargs\u001b[38;5;241m.\u001b[39mencoding,\n\u001b[1;32m    877\u001b[0m             errors\u001b[38;5;241m=\u001b[39merrors,\n\u001b[1;32m    878\u001b[0m             newline\u001b[38;5;241m=\u001b[39m\u001b[38;5;124m\"\u001b[39m\u001b[38;5;124m\"\u001b[39m,\n\u001b[1;32m    879\u001b[0m         )\n\u001b[1;32m    880\u001b[0m     \u001b[38;5;28;01melse\u001b[39;00m:\n\u001b[1;32m    881\u001b[0m         \u001b[38;5;66;03m# Binary mode\u001b[39;00m\n\u001b[1;32m    882\u001b[0m         handle \u001b[38;5;241m=\u001b[39m \u001b[38;5;28mopen\u001b[39m(handle, ioargs\u001b[38;5;241m.\u001b[39mmode)\n",
      "\u001b[0;31mFileNotFoundError\u001b[0m: [Errno 2] No such file or directory: '/Users/ahmedabukar/Downloads/pandas-workout-data/data/new+york,ny.csv'"
     ]
    }
   ],
   "source": [
    "new_york_df = pd.read_csv(\"/Users/ahmedabukar/Downloads/pandas-workout-data/data/new+york,ny.csv\",\n",
    "                         usecols=[0, 1, 2], header=0, \n",
    "                                 names=[\"date_time\", \"max_temp\", \"min_temp\"])\n",
    "new_york_df[[\"city\", \"state\"]] = [\"New york\", \"New york\"]\n",
    "new_york_df"
   ]
  },
  {
   "cell_type": "code",
   "execution_count": null,
   "id": "7d4eb498-ba38-4c09-ab62-1ccc409ce9df",
   "metadata": {},
   "outputs": [],
   "source": [
    "spring_field_df = pd.read_csv(\"/Users/ahmedabukar/Downloads/pandas-workout-data/data/springfield,ma.csv\",\n",
    "                             usecols=[0, 1, 2], header=0, \n",
    "                                 names=[\"date_time\", \"max_temp\", \"min_temp\"])\n",
    "spring_field_df[[\"city\", \"state\"]] = [\"Spring field\", \"Massachusetts\"]\n",
    "spring_field_df"
   ]
  },
  {
   "cell_type": "code",
   "execution_count": null,
   "id": "5770e5b3-2ebf-4839-820b-f8534357fc37",
   "metadata": {},
   "outputs": [],
   "source": [
    "boston_df = pd.read_csv(\"/Users/ahmedabukar/Downloads/pandas-workout-data/data/boston,ma.csv\",\n",
    "                       usecols=[0, 1, 2],\n",
    "                       header=0, \n",
    "                       names=[\"date_time\", \"max_temp\", \"min_temp\"])\n",
    "boston_df[[\"city\", \"state\"]] = [\"Boston\", \"Massachusetts\"]\n",
    "boston_df"
   ]
  },
  {
   "cell_type": "code",
   "execution_count": null,
   "id": "9224ebc7-a5da-486a-862d-4913d6b8ae97",
   "metadata": {},
   "outputs": [],
   "source": [
    "spring_field_il_df = pd.read_csv(\"/Users/ahmedabukar/Downloads/pandas-workout-data/data/springfield,il.csv\",\n",
    "                                usecols=[0, 1, 2], \n",
    "                                 header=0, \n",
    "                                 names=[\"date_time\", \"max_temp\", \"min_temp\"],\n",
    "                                skiprows=0)\n",
    "spring_field_il_df[[\"city\", \"state\"]] = [\"Spring field\", \"Illinois\"]\n",
    "spring_field_il_df"
   ]
  },
  {
   "cell_type": "code",
   "execution_count": null,
   "id": "e24073f8-e6c0-424a-82fa-a681411fe27e",
   "metadata": {},
   "outputs": [],
   "source": [
    "albany_df = pd.read_csv(\"/Users/ahmedabukar/Downloads/pandas-workout-data/data/albany,ny.csv\",\n",
    "                       usecols=[0, 1, 2], header=0, \n",
    "                                 names=[\"date_time\", \"max_temp\", \"min_temp\"],\n",
    "                                skiprows=0)\n",
    "albany_df[[\"city\", \"state\"]] = [\"Albany\", \"New york\"]\n",
    "albany_df"
   ]
  },
  {
   "cell_type": "code",
   "execution_count": null,
   "id": "07920850-b333-428e-abd1-f014ef8d7cc4",
   "metadata": {},
   "outputs": [],
   "source": [
    "los_angeles_df = pd.read_csv(\"/Users/ahmedabukar/Downloads/pandas-workout-data/data/los+angeles,ca.csv\",\n",
    "                            usecols=[0, 1, 2], header=0, \n",
    "                                 names=[\"date_time\", \"max_temp\", \"min_temp\"])\n",
    "los_angeles_df[[\"city\", \"state\"]] = [\"Los angeles\", \"California\"]\n",
    "los_angeles_df"
   ]
  },
  {
   "cell_type": "code",
   "execution_count": null,
   "id": "d01a0dea-8749-4eaf-beec-369c50f320b7",
   "metadata": {},
   "outputs": [],
   "source": [
    "chicago_df = pd.read_csv(\"/Users/ahmedabukar/Downloads/pandas-workout-data/data/chicago,il.csv\",\n",
    "                        usecols=[0, 1, 2], \n",
    "                         header=0, \n",
    "                         names=[\"date_time\", \"max_temp\", \"min_temp\"])\n",
    "chicago_df[[\"city\", \"state\"]] = [\"Chicago\", \"Illinois\"]\n",
    "chicago_df"
   ]
  },
  {
   "cell_type": "code",
   "execution_count": null,
   "id": "e55c59db-2b4b-4341-bf5f-bee59d5cae26",
   "metadata": {},
   "outputs": [],
   "source": [
    "#what is the lowest minimum temperature recorded for each city in the data set?\n",
    "cities_df = pd.concat([chicago_df, \n",
    "                       los_angeles_df, \n",
    "                       albany_df, \n",
    "                       spring_field_il_df, \n",
    "                       boston_df, \n",
    "                       spring_field_df,\n",
    "                      new_york_df,\n",
    "                      san_francisco_df])\n",
    "cities_df.groupby([\"city\", \"state\"])[\"min_temp\"].min().sort_values()"
   ]
  },
  {
   "cell_type": "code",
   "execution_count": null,
   "id": "dfd79b53-6df1-4176-95b4-bfa7fcb37dcd",
   "metadata": {},
   "outputs": [],
   "source": [
    "#what is the highest temperature recorded for each state?\n",
    "cities_df.groupby(\"state\")[\"max_temp\"].max().sort_values()"
   ]
  },
  {
   "cell_type": "code",
   "execution_count": null,
   "id": "2fe9f7eb-b6de-44d7-8f2d-3289ed69b68a",
   "metadata": {},
   "outputs": [],
   "source": [
    "#run describe on the minimum and maximum temperature for each state-city combination?\n",
    "cities_df.groupby([\"state\", \"city\"])[[\"max_temp\", \"min_temp\"]].apply(pd.DataFrame.describe)"
   ]
  },
  {
   "cell_type": "code",
   "execution_count": null,
   "id": "b9f62655-51cb-4b70-9659-6fb9d0ec1862",
   "metadata": {},
   "outputs": [],
   "source": [
    "# Using pd.set_option to change the value of display_max_rows makes it possible to see all the results\n",
    "#in Jupyter. Then reset the option to 10 rows.\n",
    "pd.set_option.display_max_rows = 10"
   ]
  },
  {
   "cell_type": "code",
   "execution_count": null,
   "id": "7fb61660-8a80-4840-b57f-911e73c94405",
   "metadata": {},
   "outputs": [],
   "source": [
    "#what is the average difference in temperature for each of the cities?\n",
    "cities_df.groupby([\"state\", \"city\"])[[\"max_temp\", \"min_temp\"]].apply(lambda g : np.mean(g.max() - g.min()))"
   ]
  },
  {
   "cell_type": "code",
   "execution_count": null,
   "id": "032df558-924e-45bb-b647-4a559c68a099",
   "metadata": {},
   "outputs": [],
   "source": []
  }
 ],
 "metadata": {
  "kernelspec": {
   "display_name": "Python 3 (ipykernel)",
   "language": "python",
   "name": "python3"
  },
  "language_info": {
   "codemirror_mode": {
    "name": "ipython",
    "version": 3
   },
   "file_extension": ".py",
   "mimetype": "text/x-python",
   "name": "python",
   "nbconvert_exporter": "python",
   "pygments_lexer": "ipython3",
   "version": "3.12.4"
  }
 },
 "nbformat": 4,
 "nbformat_minor": 5
}
