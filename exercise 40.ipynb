{
 "cells": [
  {
   "cell_type": "code",
   "execution_count": 6,
   "id": "8a6c4c34-39f4-4323-a036-1e19c215c92c",
   "metadata": {},
   "outputs": [],
   "source": [
    "import pandas as pd\n",
    "import numpy as np\n",
    "import polars as pl\n",
    "from datetime import datetime"
   ]
  },
  {
   "cell_type": "code",
   "execution_count": 2,
   "id": "bac3f154-c739-45e1-b917-05a9177a09c7",
   "metadata": {},
   "outputs": [
    {
     "data": {
      "text/html": [
       "<div>\n",
       "<style scoped>\n",
       "    .dataframe tbody tr th:only-of-type {\n",
       "        vertical-align: middle;\n",
       "    }\n",
       "\n",
       "    .dataframe tbody tr th {\n",
       "        vertical-align: top;\n",
       "    }\n",
       "\n",
       "    .dataframe thead th {\n",
       "        text-align: right;\n",
       "    }\n",
       "</style>\n",
       "<table border=\"1\" class=\"dataframe\">\n",
       "  <thead>\n",
       "    <tr style=\"text-align: right;\">\n",
       "      <th></th>\n",
       "      <th>tpep_pickup_datetime</th>\n",
       "      <th>passenger_count</th>\n",
       "      <th>trip_distance</th>\n",
       "      <th>total_amount</th>\n",
       "    </tr>\n",
       "  </thead>\n",
       "  <tbody>\n",
       "    <tr>\n",
       "      <th>0</th>\n",
       "      <td>2019-07-01 00:51:04</td>\n",
       "      <td>1.0</td>\n",
       "      <td>0.00</td>\n",
       "      <td>4.94</td>\n",
       "    </tr>\n",
       "    <tr>\n",
       "      <th>1</th>\n",
       "      <td>2019-07-01 00:46:04</td>\n",
       "      <td>1.0</td>\n",
       "      <td>4.16</td>\n",
       "      <td>20.30</td>\n",
       "    </tr>\n",
       "    <tr>\n",
       "      <th>2</th>\n",
       "      <td>2019-07-01 00:25:09</td>\n",
       "      <td>1.0</td>\n",
       "      <td>18.80</td>\n",
       "      <td>70.67</td>\n",
       "    </tr>\n",
       "    <tr>\n",
       "      <th>3</th>\n",
       "      <td>2019-07-01 00:33:32</td>\n",
       "      <td>1.0</td>\n",
       "      <td>18.46</td>\n",
       "      <td>66.36</td>\n",
       "    </tr>\n",
       "    <tr>\n",
       "      <th>4</th>\n",
       "      <td>2019-07-01 00:00:55</td>\n",
       "      <td>0.0</td>\n",
       "      <td>1.70</td>\n",
       "      <td>15.30</td>\n",
       "    </tr>\n",
       "  </tbody>\n",
       "</table>\n",
       "</div>"
      ],
      "text/plain": [
       "  tpep_pickup_datetime  passenger_count  trip_distance  total_amount\n",
       "0  2019-07-01 00:51:04              1.0           0.00          4.94\n",
       "1  2019-07-01 00:46:04              1.0           4.16         20.30\n",
       "2  2019-07-01 00:25:09              1.0          18.80         70.67\n",
       "3  2019-07-01 00:33:32              1.0          18.46         66.36\n",
       "4  2019-07-01 00:00:55              0.0           1.70         15.30"
      ]
     },
     "execution_count": 2,
     "metadata": {},
     "output_type": "execute_result"
    }
   ],
   "source": [
    "df = pd.read_csv(\"/Users/ahmedabukar/Downloads/:/data/nyc_taxi_2019-07.csv\",\n",
    "                usecols=[\"tpep_pickup_datetime\",\n",
    "                        \"passenger_count\",\n",
    "                        \"total_amount\",\n",
    "                        \"trip_distance\"],\n",
    "                parse_dates=[\"tpep_pickup_datetime\"])\n",
    "df.head()"
   ]
  },
  {
   "cell_type": "code",
   "execution_count": 3,
   "id": "7991788d-7eb8-4651-8e73-52b0c3bb5236",
   "metadata": {},
   "outputs": [],
   "source": [
    "date_format = \"%d/%m/%Y %Hh:%Mm:%Ss\"\n",
    "\n",
    "df.to_csv(\"formated_taxi_datetime.csv\", sep=\"\\t\",\n",
    "         date_format=date_format)"
   ]
  },
  {
   "cell_type": "code",
   "execution_count": 4,
   "id": "f416d4c4-7083-480a-ad68-fc6c06c2876a",
   "metadata": {},
   "outputs": [
    {
     "data": {
      "text/html": [
       "<div>\n",
       "<style scoped>\n",
       "    .dataframe tbody tr th:only-of-type {\n",
       "        vertical-align: middle;\n",
       "    }\n",
       "\n",
       "    .dataframe tbody tr th {\n",
       "        vertical-align: top;\n",
       "    }\n",
       "\n",
       "    .dataframe thead th {\n",
       "        text-align: right;\n",
       "    }\n",
       "</style>\n",
       "<table border=\"1\" class=\"dataframe\">\n",
       "  <thead>\n",
       "    <tr style=\"text-align: right;\">\n",
       "      <th></th>\n",
       "      <th>Unnamed: 0</th>\n",
       "      <th>tpep_pickup_datetime</th>\n",
       "      <th>passenger_count</th>\n",
       "      <th>trip_distance</th>\n",
       "      <th>total_amount</th>\n",
       "    </tr>\n",
       "  </thead>\n",
       "  <tbody>\n",
       "    <tr>\n",
       "      <th>0</th>\n",
       "      <td>0</td>\n",
       "      <td>2019-07-01 00:51:04</td>\n",
       "      <td>1.0</td>\n",
       "      <td>0.00</td>\n",
       "      <td>4.94</td>\n",
       "    </tr>\n",
       "    <tr>\n",
       "      <th>1</th>\n",
       "      <td>1</td>\n",
       "      <td>2019-07-01 00:46:04</td>\n",
       "      <td>1.0</td>\n",
       "      <td>4.16</td>\n",
       "      <td>20.30</td>\n",
       "    </tr>\n",
       "    <tr>\n",
       "      <th>2</th>\n",
       "      <td>2</td>\n",
       "      <td>2019-07-01 00:25:09</td>\n",
       "      <td>1.0</td>\n",
       "      <td>18.80</td>\n",
       "      <td>70.67</td>\n",
       "    </tr>\n",
       "    <tr>\n",
       "      <th>3</th>\n",
       "      <td>3</td>\n",
       "      <td>2019-07-01 00:33:32</td>\n",
       "      <td>1.0</td>\n",
       "      <td>18.46</td>\n",
       "      <td>66.36</td>\n",
       "    </tr>\n",
       "    <tr>\n",
       "      <th>4</th>\n",
       "      <td>4</td>\n",
       "      <td>2019-07-01 00:00:55</td>\n",
       "      <td>0.0</td>\n",
       "      <td>1.70</td>\n",
       "      <td>15.30</td>\n",
       "    </tr>\n",
       "  </tbody>\n",
       "</table>\n",
       "</div>"
      ],
      "text/plain": [
       "   Unnamed: 0 tpep_pickup_datetime  passenger_count  trip_distance  \\\n",
       "0           0  2019-07-01 00:51:04              1.0           0.00   \n",
       "1           1  2019-07-01 00:46:04              1.0           4.16   \n",
       "2           2  2019-07-01 00:25:09              1.0          18.80   \n",
       "3           3  2019-07-01 00:33:32              1.0          18.46   \n",
       "4           4  2019-07-01 00:00:55              0.0           1.70   \n",
       "\n",
       "   total_amount  \n",
       "0          4.94  \n",
       "1         20.30  \n",
       "2         70.67  \n",
       "3         66.36  \n",
       "4         15.30  "
      ]
     },
     "execution_count": 4,
     "metadata": {},
     "output_type": "execute_result"
    }
   ],
   "source": [
    "df_2 = pd.read_csv(\"formated_taxi_datetime.csv\",\n",
    "                  sep=\"\\t\",\n",
    "                  parse_dates=[\"tpep_pickup_datetime\"],\n",
    "                  date_format=date_format)\n",
    "df_2.head()"
   ]
  },
  {
   "cell_type": "code",
   "execution_count": 5,
   "id": "673db8b6-e86f-4a5b-8e54-eda2b909a452",
   "metadata": {},
   "outputs": [
    {
     "data": {
      "text/plain": [
       "Unnamed: 0                       int64\n",
       "tpep_pickup_datetime    datetime64[ns]\n",
       "passenger_count                float64\n",
       "trip_distance                  float64\n",
       "total_amount                   float64\n",
       "dtype: object"
      ]
     },
     "execution_count": 5,
     "metadata": {},
     "output_type": "execute_result"
    }
   ],
   "source": [
    "df_2.dtypes"
   ]
  },
  {
   "cell_type": "code",
   "execution_count": 18,
   "id": "12590be2-25d4-4f08-aa48-1c29d280c8c1",
   "metadata": {},
   "outputs": [],
   "source": [
    "# export tpep_pickup_datetime date in Unix time -i.e the number of seconds since 1 january \n",
    "# this is an integer value\n",
    "s = (df[\"tpep_pickup_datetime\"] - datetime(1970, 1, 1)).dt.seconds"
   ]
  },
  {
   "cell_type": "code",
   "execution_count": 19,
   "id": "e21fc408-bb8d-4b97-9b50-72dc523434f4",
   "metadata": {},
   "outputs": [],
   "source": [
    "s.to_csv(\"unix_timedelta.csv\")"
   ]
  },
  {
   "cell_type": "code",
   "execution_count": 21,
   "id": "290bac2e-3c20-4d13-b8fe-46e425e580ac",
   "metadata": {},
   "outputs": [
    {
     "data": {
      "text/html": [
       "<div>\n",
       "<style scoped>\n",
       "    .dataframe tbody tr th:only-of-type {\n",
       "        vertical-align: middle;\n",
       "    }\n",
       "\n",
       "    .dataframe tbody tr th {\n",
       "        vertical-align: top;\n",
       "    }\n",
       "\n",
       "    .dataframe thead th {\n",
       "        text-align: right;\n",
       "    }\n",
       "</style>\n",
       "<table border=\"1\" class=\"dataframe\">\n",
       "  <thead>\n",
       "    <tr style=\"text-align: right;\">\n",
       "      <th></th>\n",
       "      <th>tpep_pickup_datetime</th>\n",
       "    </tr>\n",
       "  </thead>\n",
       "  <tbody>\n",
       "    <tr>\n",
       "      <th>0</th>\n",
       "      <td>3064</td>\n",
       "    </tr>\n",
       "    <tr>\n",
       "      <th>1</th>\n",
       "      <td>2764</td>\n",
       "    </tr>\n",
       "    <tr>\n",
       "      <th>2</th>\n",
       "      <td>1509</td>\n",
       "    </tr>\n",
       "    <tr>\n",
       "      <th>3</th>\n",
       "      <td>2012</td>\n",
       "    </tr>\n",
       "    <tr>\n",
       "      <th>4</th>\n",
       "      <td>55</td>\n",
       "    </tr>\n",
       "    <tr>\n",
       "      <th>...</th>\n",
       "      <td>...</td>\n",
       "    </tr>\n",
       "    <tr>\n",
       "      <th>6310414</th>\n",
       "      <td>59693</td>\n",
       "    </tr>\n",
       "    <tr>\n",
       "      <th>6310415</th>\n",
       "      <td>58077</td>\n",
       "    </tr>\n",
       "    <tr>\n",
       "      <th>6310416</th>\n",
       "      <td>57691</td>\n",
       "    </tr>\n",
       "    <tr>\n",
       "      <th>6310417</th>\n",
       "      <td>61080</td>\n",
       "    </tr>\n",
       "    <tr>\n",
       "      <th>6310418</th>\n",
       "      <td>58560</td>\n",
       "    </tr>\n",
       "  </tbody>\n",
       "</table>\n",
       "<p>6310419 rows × 1 columns</p>\n",
       "</div>"
      ],
      "text/plain": [
       "         tpep_pickup_datetime\n",
       "0                        3064\n",
       "1                        2764\n",
       "2                        1509\n",
       "3                        2012\n",
       "4                          55\n",
       "...                       ...\n",
       "6310414                 59693\n",
       "6310415                 58077\n",
       "6310416                 57691\n",
       "6310417                 61080\n",
       "6310418                 58560\n",
       "\n",
       "[6310419 rows x 1 columns]"
      ]
     },
     "execution_count": 21,
     "metadata": {},
     "output_type": "execute_result"
    }
   ],
   "source": [
    "load_s = pd.read_csv(\"unix_timedelta.csv\", \n",
    "                    usecols=[\"tpep_pickup_datetime\"])\n",
    "load_s"
   ]
  },
  {
   "cell_type": "code",
   "execution_count": 22,
   "id": "d68d140f-5475-40b2-ac40-c47446c387a5",
   "metadata": {},
   "outputs": [
    {
     "data": {
      "text/plain": [
       "0         1970-01-01 00:00:00.000003064\n",
       "1         1970-01-01 00:00:00.000002764\n",
       "2         1970-01-01 00:00:00.000001509\n",
       "3         1970-01-01 00:00:00.000002012\n",
       "4         1970-01-01 00:00:00.000000055\n",
       "                       ...             \n",
       "6310414   1970-01-01 00:00:00.000059693\n",
       "6310415   1970-01-01 00:00:00.000058077\n",
       "6310416   1970-01-01 00:00:00.000057691\n",
       "6310417   1970-01-01 00:00:00.000061080\n",
       "6310418   1970-01-01 00:00:00.000058560\n",
       "Name: tpep_pickup_datetime, Length: 6310419, dtype: datetime64[ns]"
      ]
     },
     "execution_count": 22,
     "metadata": {},
     "output_type": "execute_result"
    }
   ],
   "source": [
    "pd.to_datetime(load_s[\"tpep_pickup_datetime\"])"
   ]
  },
  {
   "cell_type": "code",
   "execution_count": 23,
   "id": "e49cbcf8-fbf7-4845-8334-0eab424e6a42",
   "metadata": {},
   "outputs": [
    {
     "name": "stdout",
     "output_type": "stream",
     "text": [
      "8.8 s ± 79.6 ms per loop (mean ± std. dev. of 7 runs, 1 loop each)\n"
     ]
    }
   ],
   "source": [
    "%%timeit\n",
    "pd.read_csv(\"/Users/ahmedabukar/Downloads/:/data/nyc_taxi_2019-07.csv\",\n",
    "           usecols=[\"tpep_pickup_datetime\"],\n",
    "           parse_dates=[\"tpep_pickup_datetime\"])"
   ]
  },
  {
   "cell_type": "code",
   "execution_count": 24,
   "id": "e0d8616d-044f-4492-af7f-83c23cec3e17",
   "metadata": {},
   "outputs": [],
   "source": [
    "\n",
    "df = pd.read_csv(\"/Users/ahmedabukar/Downloads/:/data/nyc_taxi_2019-07.csv\",\n",
    "                usecols=[\"tpep_pickup_datetime\"])"
   ]
  },
  {
   "cell_type": "code",
   "execution_count": 25,
   "id": "4594c42d-736d-4191-9538-d80010492256",
   "metadata": {},
   "outputs": [
    {
     "name": "stdout",
     "output_type": "stream",
     "text": [
      "1.75 s ± 7.44 ms per loop (mean ± std. dev. of 7 runs, 1 loop each)\n"
     ]
    }
   ],
   "source": [
    "%%timeit\n",
    "pd.to_datetime(df[\"tpep_pickup_datetime\"])"
   ]
  },
  {
   "cell_type": "code",
   "execution_count": null,
   "id": "9ee364f7-6967-435c-81b3-fad19072f796",
   "metadata": {},
   "outputs": [],
   "source": []
  }
 ],
 "metadata": {
  "kernelspec": {
   "display_name": "Python 3 (ipykernel)",
   "language": "python",
   "name": "python3"
  },
  "language_info": {
   "codemirror_mode": {
    "name": "ipython",
    "version": 3
   },
   "file_extension": ".py",
   "mimetype": "text/x-python",
   "name": "python",
   "nbconvert_exporter": "python",
   "pygments_lexer": "ipython3",
   "version": "3.12.4"
  }
 },
 "nbformat": 4,
 "nbformat_minor": 5
}
