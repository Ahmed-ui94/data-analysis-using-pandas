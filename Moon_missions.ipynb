{
 "cells": [
  {
   "cell_type": "code",
   "execution_count": 1,
   "metadata": {},
   "outputs": [],
   "source": [
    "import pandas as pd\n",
    "import numpy as np\n"
   ]
  },
  {
   "cell_type": "code",
   "execution_count": 15,
   "metadata": {},
   "outputs": [],
   "source": [
    "url = \"https://en.wikipedia.org/wiki/List_of_missions_to_the_Moon\"\n",
    "df = pd.read_html(url)[1]\n",
    "df.columns = df.columns.str.replace(r\" \", \"_\", regex=True)"
   ]
  },
  {
   "cell_type": "code",
   "execution_count": 19,
   "metadata": {},
   "outputs": [],
   "source": [
    "df = (df.loc[df[\"Spacecraft\"] != df[\"Launch_date\"]]\n",
    ".assign(Launch_date=lambda df_ : df[\"Launch_date\"].str.replace(r\"\\[\\d+\\]\", \"\", regex=True)))"
   ]
  },
  {
   "cell_type": "code",
   "execution_count": 24,
   "metadata": {},
   "outputs": [
    {
     "data": {
      "text/plain": [
       "Index(['Mission.1', 'Launch_date', 'Carrier_rocket', 'Operator',\n",
       "       'Mission_type', 'Outcome'],\n",
       "      dtype='object')"
      ]
     },
     "execution_count": 24,
     "metadata": {},
     "output_type": "execute_result"
    }
   ],
   "source": [
    "df = df.set_index([\"Mission\", \"Spacecraft\"])\n"
   ]
  },
  {
   "cell_type": "code",
   "execution_count": 27,
   "metadata": {},
   "outputs": [],
   "source": [
    "df[\"Launch_date\"] = pd.to_datetime(df[\"Launch_date\"])"
   ]
  },
  {
   "cell_type": "code",
   "execution_count": 36,
   "metadata": {},
   "outputs": [
    {
     "data": {
      "text/plain": [
       "Operator                                                   Outcome           \n",
       "ASI                                                        Operational            1\n",
       "Astrobotic Technology                                      Spacecraft failure     1\n",
       "CAS                                                        En route               2\n",
       "CMU                                                        Precluded              1\n",
       "CNSA                                                       Success               10\n",
       "                                                           Operational            8\n",
       "                                                           In Orbit               2\n",
       "                                                           Spacecraft failure     1\n",
       "Deep Space Exploration Laboratory (DSEL, Tiandu Lab)[106]  Operational            2\n",
       "ERAU                                                       Partial failure        1\n",
       "ESA                                                        En route               1\n",
       "                                                           Success                1\n",
       "Fluid & Reason                                             Success                1\n",
       "ISRO                                                       Success                5\n",
       "                                                           Operational            1\n",
       "                                                           Precluded              1\n",
       "                                                           Spacecraft failure     1\n",
       "Intuitive Machines                                         Success                1\n",
       "JAXA                                                       Success                4\n",
       "                                                           Operational            2\n",
       "                                                           Spacecraft failure     1\n",
       "KARI                                                       Operational            1\n",
       "Lockheed Martin                                            Success                1\n",
       "LuxSpace                                                   Success                1\n",
       "NASA                                                       Success               10\n",
       "                                                           Spacecraft failure     5\n",
       "                                                           Operational            4\n",
       "Roscosmos                                                  Spacecraft failure     1\n",
       "SUPARCO[a][113]                                            Operational            1\n",
       "SpaceIL                                                    Spacecraft failure     1\n",
       "Tomy / JAXA / Doshisha University                          Success                1\n",
       "Tomy/JAXA/Dodai                                            Precluded              1\n",
       "UAESA/MBRSC                                                Precluded              1\n",
       "UNAM                                                       Precluded              1\n",
       "ispace                                                     Spacecraft failure     1\n",
       "Name: count, dtype: int64"
      ]
     },
     "execution_count": 36,
     "metadata": {},
     "output_type": "execute_result"
    }
   ],
   "source": [
    "df.groupby(\"Operator\")[\"Outcome\"].value_counts()"
   ]
  },
  {
   "cell_type": "code",
   "execution_count": 32,
   "metadata": {},
   "outputs": [
    {
     "data": {
      "text/html": [
       "<div>\n",
       "<style scoped>\n",
       "    .dataframe tbody tr th:only-of-type {\n",
       "        vertical-align: middle;\n",
       "    }\n",
       "\n",
       "    .dataframe tbody tr th {\n",
       "        vertical-align: top;\n",
       "    }\n",
       "\n",
       "    .dataframe thead th {\n",
       "        text-align: right;\n",
       "    }\n",
       "</style>\n",
       "<table border=\"1\" class=\"dataframe\">\n",
       "  <thead>\n",
       "    <tr style=\"text-align: right;\">\n",
       "      <th></th>\n",
       "      <th></th>\n",
       "      <th>Mission.1</th>\n",
       "      <th>Launch_date</th>\n",
       "      <th>Carrier_rocket</th>\n",
       "      <th>Operator</th>\n",
       "      <th>Mission_type</th>\n",
       "      <th>Outcome</th>\n",
       "    </tr>\n",
       "    <tr>\n",
       "      <th>Mission</th>\n",
       "      <th>Spacecraft</th>\n",
       "      <th></th>\n",
       "      <th></th>\n",
       "      <th></th>\n",
       "      <th></th>\n",
       "      <th></th>\n",
       "      <th></th>\n",
       "    </tr>\n",
       "  </thead>\n",
       "  <tbody>\n",
       "    <tr>\n",
       "      <th>107</th>\n",
       "      <th>WMAP</th>\n",
       "      <td>WMAP</td>\n",
       "      <td>2001-06-30</td>\n",
       "      <td>Delta II 7425-10</td>\n",
       "      <td>NASA</td>\n",
       "      <td>Flyby</td>\n",
       "      <td>Success</td>\n",
       "    </tr>\n",
       "    <tr>\n",
       "      <th>108</th>\n",
       "      <th>SMART-1</th>\n",
       "      <td>SMART-1</td>\n",
       "      <td>2003-09-27</td>\n",
       "      <td>Ariane 5G</td>\n",
       "      <td>ESA</td>\n",
       "      <td>Orbiter</td>\n",
       "      <td>Success</td>\n",
       "    </tr>\n",
       "    <tr>\n",
       "      <th rowspan=\"2\" valign=\"top\">109</th>\n",
       "      <th>STEREO A</th>\n",
       "      <td>STEREO</td>\n",
       "      <td>2006-10-25</td>\n",
       "      <td>Delta II 7925-10L</td>\n",
       "      <td>NASA</td>\n",
       "      <td>Flyby</td>\n",
       "      <td>Success</td>\n",
       "    </tr>\n",
       "    <tr>\n",
       "      <th>STEREO B</th>\n",
       "      <td>STEREO</td>\n",
       "      <td>2006-10-25</td>\n",
       "      <td>Delta II 7925-10L</td>\n",
       "      <td>NASA</td>\n",
       "      <td>Flyby</td>\n",
       "      <td>Success</td>\n",
       "    </tr>\n",
       "    <tr>\n",
       "      <th>110</th>\n",
       "      <th>ARTEMIS P1</th>\n",
       "      <td>ARTEMIS</td>\n",
       "      <td>2007-02-17</td>\n",
       "      <td>Delta II 7925</td>\n",
       "      <td>NASA</td>\n",
       "      <td>Orbiter</td>\n",
       "      <td>Operational</td>\n",
       "    </tr>\n",
       "    <tr>\n",
       "      <th>...</th>\n",
       "      <th>...</th>\n",
       "      <td>...</td>\n",
       "      <td>...</td>\n",
       "      <td>...</td>\n",
       "      <td>...</td>\n",
       "      <td>...</td>\n",
       "      <td>...</td>\n",
       "    </tr>\n",
       "    <tr>\n",
       "      <th rowspan=\"5\" valign=\"top\">142</th>\n",
       "      <th>Chang'e 6 Lander</th>\n",
       "      <td>Chang'e 6</td>\n",
       "      <td>2024-05-03</td>\n",
       "      <td>Long March 5</td>\n",
       "      <td>CNSA</td>\n",
       "      <td>Lander</td>\n",
       "      <td>Success</td>\n",
       "    </tr>\n",
       "    <tr>\n",
       "      <th>Chang'e 6 Ascender</th>\n",
       "      <td>Chang'e 6</td>\n",
       "      <td>2024-05-03</td>\n",
       "      <td>Long March 5</td>\n",
       "      <td>CNSA</td>\n",
       "      <td>Launch Vehicle</td>\n",
       "      <td>In Orbit</td>\n",
       "    </tr>\n",
       "    <tr>\n",
       "      <th>Chang'e 6 Returner</th>\n",
       "      <td>Chang'e 6</td>\n",
       "      <td>2024-05-03</td>\n",
       "      <td>Long March 5</td>\n",
       "      <td>CNSA</td>\n",
       "      <td>Sample Return</td>\n",
       "      <td>In Orbit</td>\n",
       "    </tr>\n",
       "    <tr>\n",
       "      <th>Mini-rover[110]</th>\n",
       "      <td>Chang'e 6</td>\n",
       "      <td>2024-05-03</td>\n",
       "      <td>Long March 5</td>\n",
       "      <td>CNSA</td>\n",
       "      <td>Rover</td>\n",
       "      <td>Success</td>\n",
       "    </tr>\n",
       "    <tr>\n",
       "      <th>⚀ ICUBE-Q[111]</th>\n",
       "      <td>Chang'e 6</td>\n",
       "      <td>2024-05-03</td>\n",
       "      <td>Long March 5</td>\n",
       "      <td>SUPARCO[a][113]</td>\n",
       "      <td>Orbiter</td>\n",
       "      <td>Operational</td>\n",
       "    </tr>\n",
       "  </tbody>\n",
       "</table>\n",
       "<p>78 rows × 6 columns</p>\n",
       "</div>"
      ],
      "text/plain": [
       "                            Mission.1 Launch_date     Carrier_rocket  \\\n",
       "Mission Spacecraft                                                     \n",
       "107     WMAP                     WMAP  2001-06-30   Delta II 7425-10   \n",
       "108     SMART-1               SMART-1  2003-09-27          Ariane 5G   \n",
       "109     STEREO A               STEREO  2006-10-25  Delta II 7925-10L   \n",
       "        STEREO B               STEREO  2006-10-25  Delta II 7925-10L   \n",
       "110     ARTEMIS P1            ARTEMIS  2007-02-17      Delta II 7925   \n",
       "...                               ...         ...                ...   \n",
       "142     Chang'e 6 Lander    Chang'e 6  2024-05-03       Long March 5   \n",
       "        Chang'e 6 Ascender  Chang'e 6  2024-05-03       Long March 5   \n",
       "        Chang'e 6 Returner  Chang'e 6  2024-05-03       Long March 5   \n",
       "        Mini-rover[110]     Chang'e 6  2024-05-03       Long March 5   \n",
       "        ⚀ ICUBE-Q[111]      Chang'e 6  2024-05-03       Long March 5   \n",
       "\n",
       "                                   Operator    Mission_type      Outcome  \n",
       "Mission Spacecraft                                                        \n",
       "107     WMAP                           NASA           Flyby      Success  \n",
       "108     SMART-1                         ESA         Orbiter      Success  \n",
       "109     STEREO A                       NASA           Flyby      Success  \n",
       "        STEREO B                       NASA           Flyby      Success  \n",
       "110     ARTEMIS P1                     NASA         Orbiter  Operational  \n",
       "...                                     ...             ...          ...  \n",
       "142     Chang'e 6 Lander               CNSA          Lander      Success  \n",
       "        Chang'e 6 Ascender             CNSA  Launch Vehicle     In Orbit  \n",
       "        Chang'e 6 Returner             CNSA   Sample Return     In Orbit  \n",
       "        Mini-rover[110]                CNSA           Rover      Success  \n",
       "        ⚀ ICUBE-Q[111]      SUPARCO[a][113]         Orbiter  Operational  \n",
       "\n",
       "[78 rows x 6 columns]"
      ]
     },
     "execution_count": 32,
     "metadata": {},
     "output_type": "execute_result"
    }
   ],
   "source": [
    "df"
   ]
  },
  {
   "cell_type": "code",
   "execution_count": null,
   "metadata": {},
   "outputs": [],
   "source": []
  }
 ],
 "metadata": {
  "kernelspec": {
   "display_name": "base",
   "language": "python",
   "name": "python3"
  },
  "language_info": {
   "codemirror_mode": {
    "name": "ipython",
    "version": 3
   },
   "file_extension": ".py",
   "mimetype": "text/x-python",
   "name": "python",
   "nbconvert_exporter": "python",
   "pygments_lexer": "ipython3",
   "version": "3.9.19"
  }
 },
 "nbformat": 4,
 "nbformat_minor": 2
}
