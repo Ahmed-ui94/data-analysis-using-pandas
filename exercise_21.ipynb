{
 "cells": [
  {
   "cell_type": "code",
   "execution_count": 1,
   "id": "00e3595e-0092-4fd2-8bdc-eb682c6d919f",
   "metadata": {},
   "outputs": [],
   "source": [
    "import pandas as pd \n",
    "import numpy as np \n",
    "import pyarrow"
   ]
  },
  {
   "cell_type": "code",
   "execution_count": 2,
   "id": "66c6d727-1682-4d95-9039-baa0665d866f",
   "metadata": {},
   "outputs": [
    {
     "data": {
      "text/html": [
       "<div>\n",
       "<style scoped>\n",
       "    .dataframe tbody tr th:only-of-type {\n",
       "        vertical-align: middle;\n",
       "    }\n",
       "\n",
       "    .dataframe tbody tr th {\n",
       "        vertical-align: top;\n",
       "    }\n",
       "\n",
       "    .dataframe thead th {\n",
       "        text-align: right;\n",
       "    }\n",
       "</style>\n",
       "<table border=\"1\" class=\"dataframe\">\n",
       "  <thead>\n",
       "    <tr style=\"text-align: right;\">\n",
       "      <th></th>\n",
       "      <th>Plate ID</th>\n",
       "      <th>Registration State</th>\n",
       "      <th>Issue Date</th>\n",
       "      <th>Vehicle Make</th>\n",
       "      <th>Street Name</th>\n",
       "      <th>Date First Observed</th>\n",
       "      <th>Vehicle Color</th>\n",
       "    </tr>\n",
       "  </thead>\n",
       "  <tbody>\n",
       "    <tr>\n",
       "      <th>0</th>\n",
       "      <td>J58JKX</td>\n",
       "      <td>NJ</td>\n",
       "      <td>05/08/1972 12:00:00 AM</td>\n",
       "      <td>HONDA</td>\n",
       "      <td>43 ST</td>\n",
       "      <td>0</td>\n",
       "      <td>BK</td>\n",
       "    </tr>\n",
       "    <tr>\n",
       "      <th>1</th>\n",
       "      <td>KRE6058</td>\n",
       "      <td>PA</td>\n",
       "      <td>08/29/1977 12:00:00 AM</td>\n",
       "      <td>ME/BE</td>\n",
       "      <td>UNION ST</td>\n",
       "      <td>0</td>\n",
       "      <td>BLK</td>\n",
       "    </tr>\n",
       "    <tr>\n",
       "      <th>2</th>\n",
       "      <td>444326R</td>\n",
       "      <td>NJ</td>\n",
       "      <td>10/03/1988 12:00:00 AM</td>\n",
       "      <td>LEXUS</td>\n",
       "      <td>CLERMONT AVENUE</td>\n",
       "      <td>0</td>\n",
       "      <td>BLACK</td>\n",
       "    </tr>\n",
       "    <tr>\n",
       "      <th>3</th>\n",
       "      <td>F728330</td>\n",
       "      <td>OH</td>\n",
       "      <td>01/03/1990 12:00:00 AM</td>\n",
       "      <td>CHEVR</td>\n",
       "      <td>DIVISION AVE</td>\n",
       "      <td>0</td>\n",
       "      <td>NaN</td>\n",
       "    </tr>\n",
       "    <tr>\n",
       "      <th>4</th>\n",
       "      <td>FMY9090</td>\n",
       "      <td>NY</td>\n",
       "      <td>02/14/1990 12:00:00 AM</td>\n",
       "      <td>JEEP</td>\n",
       "      <td>GRAND ST</td>\n",
       "      <td>0</td>\n",
       "      <td>GREY</td>\n",
       "    </tr>\n",
       "    <tr>\n",
       "      <th>...</th>\n",
       "      <td>...</td>\n",
       "      <td>...</td>\n",
       "      <td>...</td>\n",
       "      <td>...</td>\n",
       "      <td>...</td>\n",
       "      <td>...</td>\n",
       "      <td>...</td>\n",
       "    </tr>\n",
       "    <tr>\n",
       "      <th>12495729</th>\n",
       "      <td>62161MM</td>\n",
       "      <td>NY</td>\n",
       "      <td>01/03/2040 12:00:00 AM</td>\n",
       "      <td>FORD</td>\n",
       "      <td>3RD AVE</td>\n",
       "      <td>0</td>\n",
       "      <td>BR</td>\n",
       "    </tr>\n",
       "    <tr>\n",
       "      <th>12495730</th>\n",
       "      <td>GYE7330</td>\n",
       "      <td>NY</td>\n",
       "      <td>04/19/2045 12:00:00 AM</td>\n",
       "      <td>HONDA</td>\n",
       "      <td>PELHAM PARK DR</td>\n",
       "      <td>0</td>\n",
       "      <td>BLK</td>\n",
       "    </tr>\n",
       "    <tr>\n",
       "      <th>12495731</th>\n",
       "      <td>HNY4802</td>\n",
       "      <td>NY</td>\n",
       "      <td>01/17/2049 12:00:00 AM</td>\n",
       "      <td>FORD</td>\n",
       "      <td>LYDIG AVE</td>\n",
       "      <td>0</td>\n",
       "      <td>GY</td>\n",
       "    </tr>\n",
       "    <tr>\n",
       "      <th>12495732</th>\n",
       "      <td>T687081C</td>\n",
       "      <td>NY</td>\n",
       "      <td>12/19/2063 12:00:00 AM</td>\n",
       "      <td>TOYOT</td>\n",
       "      <td>E 68 STREET</td>\n",
       "      <td>0</td>\n",
       "      <td>BLK</td>\n",
       "    </tr>\n",
       "    <tr>\n",
       "      <th>12495733</th>\n",
       "      <td>3497ZN</td>\n",
       "      <td>WA</td>\n",
       "      <td>06/04/2064 12:00:00 AM</td>\n",
       "      <td>UTILI</td>\n",
       "      <td>W/S/O 182 STREET</td>\n",
       "      <td>0</td>\n",
       "      <td>WHITE</td>\n",
       "    </tr>\n",
       "  </tbody>\n",
       "</table>\n",
       "<p>12495734 rows × 7 columns</p>\n",
       "</div>"
      ],
      "text/plain": [
       "          Plate ID Registration State              Issue Date Vehicle Make  \\\n",
       "0           J58JKX                 NJ  05/08/1972 12:00:00 AM        HONDA   \n",
       "1          KRE6058                 PA  08/29/1977 12:00:00 AM        ME/BE   \n",
       "2          444326R                 NJ  10/03/1988 12:00:00 AM        LEXUS   \n",
       "3          F728330                 OH  01/03/1990 12:00:00 AM        CHEVR   \n",
       "4          FMY9090                 NY  02/14/1990 12:00:00 AM         JEEP   \n",
       "...            ...                ...                     ...          ...   \n",
       "12495729   62161MM                 NY  01/03/2040 12:00:00 AM         FORD   \n",
       "12495730   GYE7330                 NY  04/19/2045 12:00:00 AM        HONDA   \n",
       "12495731   HNY4802                 NY  01/17/2049 12:00:00 AM         FORD   \n",
       "12495732  T687081C                 NY  12/19/2063 12:00:00 AM        TOYOT   \n",
       "12495733    3497ZN                 WA  06/04/2064 12:00:00 AM        UTILI   \n",
       "\n",
       "               Street Name  Date First Observed Vehicle Color  \n",
       "0                    43 ST                    0            BK  \n",
       "1                 UNION ST                    0           BLK  \n",
       "2          CLERMONT AVENUE                    0         BLACK  \n",
       "3             DIVISION AVE                    0           NaN  \n",
       "4                 GRAND ST                    0          GREY  \n",
       "...                    ...                  ...           ...  \n",
       "12495729           3RD AVE                    0            BR  \n",
       "12495730    PELHAM PARK DR                    0           BLK  \n",
       "12495731         LYDIG AVE                    0            GY  \n",
       "12495732       E 68 STREET                    0           BLK  \n",
       "12495733  W/S/O 182 STREET                    0         WHITE  \n",
       "\n",
       "[12495734 rows x 7 columns]"
      ]
     },
     "execution_count": 2,
     "metadata": {},
     "output_type": "execute_result"
    }
   ],
   "source": [
    "df = pd.read_csv(\"/Users/ahmedabukar/Downloads/pandas-workout-data/data/nyc-parking-violations-2020.csv\", \n",
    "                 usecols=[\"Date First Observed\", \"Plate ID\", \"Registration State\", \"Issue Date\", \n",
    "                         \"Vehicle Make\", \"Street Name\", \"Vehicle Color\"], parse_dates=True)\n",
    "df"
   ]
  },
  {
   "cell_type": "code",
   "execution_count": 3,
   "id": "f92f5ce1-00a5-40fc-ba20-9e6bbae70c9e",
   "metadata": {},
   "outputs": [],
   "source": [
    "df = df.set_index(\"Issue Date\")"
   ]
  },
  {
   "cell_type": "code",
   "execution_count": 4,
   "id": "ad7bcacd-9daf-43be-a41a-36e3f566258b",
   "metadata": {},
   "outputs": [
    {
     "data": {
      "text/plain": [
       "Vehicle Make\n",
       "TOYOT    3829\n",
       "HONDA    3593\n",
       "FORD     3164\n",
       "Name: count, dtype: int64"
      ]
     },
     "execution_count": 4,
     "metadata": {},
     "output_type": "execute_result"
    }
   ],
   "source": [
    "#what 3 makes were most frequently ticketed on january 02 2020?\n",
    "df.loc[\"01/02/2020 12:00:00 AM\", \"Vehicle Make\"].value_counts().head(3)"
   ]
  },
  {
   "cell_type": "code",
   "execution_count": 5,
   "id": "a2f11d41-cb4a-410a-88ea-3820642bd71b",
   "metadata": {},
   "outputs": [
    {
     "data": {
      "text/plain": [
       "Street Name\n",
       "WB CONDUIT BLVD @ LI    1068\n",
       "SB WEST ST @ LEROY S     335\n",
       "EB HORACE HARDING EX     273\n",
       "EB QUEENS BLVD @ 82N     245\n",
       "WB ATLANTIC AVE @ CL     229\n",
       "Name: count, dtype: int64"
      ]
     },
     "execution_count": 5,
     "metadata": {},
     "output_type": "execute_result"
    }
   ],
   "source": [
    "#the five streets on which cars got the most tickets on june 1, 2020?\n",
    "df.loc[\"06/01/2020 12:00:00 AM\", \"Street Name\"].value_counts().head()"
   ]
  },
  {
   "cell_type": "code",
   "execution_count": 6,
   "id": "979bb3ac-c977-4323-8de0-9990895c2c74",
   "metadata": {},
   "outputs": [],
   "source": [
    "#set the index to vehicle color?\n",
    "df = (df\n",
    "      .reset_index()\n",
    "      .set_index(\"Vehicle Color\"))"
   ]
  },
  {
   "cell_type": "code",
   "execution_count": 7,
   "id": "9b4a2d1d-0afa-48ed-82f8-ef774276be68",
   "metadata": {},
   "outputs": [
    {
     "data": {
      "text/plain": [
       "Vehicle Make\n",
       "HONDA    39353\n",
       "FORD     30990\n",
       "TOYOT    30925\n",
       "NISSA    24950\n",
       "FRUEH    18506\n",
       "CHEVR    16975\n",
       "DODGE    14542\n",
       "HYUND    13244\n",
       "BMW      11176\n",
       "NS/OT    11159\n",
       "Name: count, dtype: int64"
      ]
     },
     "execution_count": 7,
     "metadata": {},
     "output_type": "execute_result"
    }
   ],
   "source": [
    "#the most common make of vehicles that were either red or blue?\n",
    "df.loc[[\"RED\", \"BLUE\"], \"Vehicle Make\"]. value_counts().head(10)"
   ]
  },
  {
   "cell_type": "code",
   "execution_count": 8,
   "id": "823a723e-ba12-49a9-a014-673fffd716b9",
   "metadata": {},
   "outputs": [
    {
     "data": {
      "text/html": [
       "<div>\n",
       "<style scoped>\n",
       "    .dataframe tbody tr th:only-of-type {\n",
       "        vertical-align: middle;\n",
       "    }\n",
       "\n",
       "    .dataframe tbody tr th {\n",
       "        vertical-align: top;\n",
       "    }\n",
       "\n",
       "    .dataframe thead th {\n",
       "        text-align: right;\n",
       "    }\n",
       "</style>\n",
       "<table border=\"1\" class=\"dataframe\">\n",
       "  <thead>\n",
       "    <tr style=\"text-align: right;\">\n",
       "      <th></th>\n",
       "      <th>Issue Date</th>\n",
       "      <th>Plate ID</th>\n",
       "      <th>Registration State</th>\n",
       "      <th>Vehicle Make</th>\n",
       "      <th>Street Name</th>\n",
       "      <th>Date First Observed</th>\n",
       "    </tr>\n",
       "    <tr>\n",
       "      <th>Vehicle Color</th>\n",
       "      <th></th>\n",
       "      <th></th>\n",
       "      <th></th>\n",
       "      <th></th>\n",
       "      <th></th>\n",
       "      <th></th>\n",
       "    </tr>\n",
       "  </thead>\n",
       "  <tbody>\n",
       "    <tr>\n",
       "      <th>BK</th>\n",
       "      <td>05/08/1972 12:00:00 AM</td>\n",
       "      <td>J58JKX</td>\n",
       "      <td>NJ</td>\n",
       "      <td>HONDA</td>\n",
       "      <td>43 ST</td>\n",
       "      <td>0</td>\n",
       "    </tr>\n",
       "    <tr>\n",
       "      <th>BLK</th>\n",
       "      <td>08/29/1977 12:00:00 AM</td>\n",
       "      <td>KRE6058</td>\n",
       "      <td>PA</td>\n",
       "      <td>ME/BE</td>\n",
       "      <td>UNION ST</td>\n",
       "      <td>0</td>\n",
       "    </tr>\n",
       "    <tr>\n",
       "      <th>BLACK</th>\n",
       "      <td>10/03/1988 12:00:00 AM</td>\n",
       "      <td>444326R</td>\n",
       "      <td>NJ</td>\n",
       "      <td>LEXUS</td>\n",
       "      <td>CLERMONT AVENUE</td>\n",
       "      <td>0</td>\n",
       "    </tr>\n",
       "    <tr>\n",
       "      <th>NaN</th>\n",
       "      <td>01/03/1990 12:00:00 AM</td>\n",
       "      <td>F728330</td>\n",
       "      <td>OH</td>\n",
       "      <td>CHEVR</td>\n",
       "      <td>DIVISION AVE</td>\n",
       "      <td>0</td>\n",
       "    </tr>\n",
       "    <tr>\n",
       "      <th>GREY</th>\n",
       "      <td>02/14/1990 12:00:00 AM</td>\n",
       "      <td>FMY9090</td>\n",
       "      <td>NY</td>\n",
       "      <td>JEEP</td>\n",
       "      <td>GRAND ST</td>\n",
       "      <td>0</td>\n",
       "    </tr>\n",
       "    <tr>\n",
       "      <th>...</th>\n",
       "      <td>...</td>\n",
       "      <td>...</td>\n",
       "      <td>...</td>\n",
       "      <td>...</td>\n",
       "      <td>...</td>\n",
       "      <td>...</td>\n",
       "    </tr>\n",
       "    <tr>\n",
       "      <th>BR</th>\n",
       "      <td>01/03/2040 12:00:00 AM</td>\n",
       "      <td>62161MM</td>\n",
       "      <td>NY</td>\n",
       "      <td>FORD</td>\n",
       "      <td>3RD AVE</td>\n",
       "      <td>0</td>\n",
       "    </tr>\n",
       "    <tr>\n",
       "      <th>BLK</th>\n",
       "      <td>04/19/2045 12:00:00 AM</td>\n",
       "      <td>GYE7330</td>\n",
       "      <td>NY</td>\n",
       "      <td>HONDA</td>\n",
       "      <td>PELHAM PARK DR</td>\n",
       "      <td>0</td>\n",
       "    </tr>\n",
       "    <tr>\n",
       "      <th>GY</th>\n",
       "      <td>01/17/2049 12:00:00 AM</td>\n",
       "      <td>HNY4802</td>\n",
       "      <td>NY</td>\n",
       "      <td>FORD</td>\n",
       "      <td>LYDIG AVE</td>\n",
       "      <td>0</td>\n",
       "    </tr>\n",
       "    <tr>\n",
       "      <th>BLK</th>\n",
       "      <td>12/19/2063 12:00:00 AM</td>\n",
       "      <td>T687081C</td>\n",
       "      <td>NY</td>\n",
       "      <td>TOYOT</td>\n",
       "      <td>E 68 STREET</td>\n",
       "      <td>0</td>\n",
       "    </tr>\n",
       "    <tr>\n",
       "      <th>WHITE</th>\n",
       "      <td>06/04/2064 12:00:00 AM</td>\n",
       "      <td>3497ZN</td>\n",
       "      <td>WA</td>\n",
       "      <td>UTILI</td>\n",
       "      <td>W/S/O 182 STREET</td>\n",
       "      <td>0</td>\n",
       "    </tr>\n",
       "  </tbody>\n",
       "</table>\n",
       "<p>12495734 rows × 6 columns</p>\n",
       "</div>"
      ],
      "text/plain": [
       "                           Issue Date  Plate ID Registration State  \\\n",
       "Vehicle Color                                                        \n",
       "BK             05/08/1972 12:00:00 AM    J58JKX                 NJ   \n",
       "BLK            08/29/1977 12:00:00 AM   KRE6058                 PA   \n",
       "BLACK          10/03/1988 12:00:00 AM   444326R                 NJ   \n",
       "NaN            01/03/1990 12:00:00 AM   F728330                 OH   \n",
       "GREY           02/14/1990 12:00:00 AM   FMY9090                 NY   \n",
       "...                               ...       ...                ...   \n",
       "BR             01/03/2040 12:00:00 AM   62161MM                 NY   \n",
       "BLK            04/19/2045 12:00:00 AM   GYE7330                 NY   \n",
       "GY             01/17/2049 12:00:00 AM   HNY4802                 NY   \n",
       "BLK            12/19/2063 12:00:00 AM  T687081C                 NY   \n",
       "WHITE          06/04/2064 12:00:00 AM    3497ZN                 WA   \n",
       "\n",
       "              Vehicle Make       Street Name  Date First Observed  \n",
       "Vehicle Color                                                      \n",
       "BK                   HONDA             43 ST                    0  \n",
       "BLK                  ME/BE          UNION ST                    0  \n",
       "BLACK                LEXUS   CLERMONT AVENUE                    0  \n",
       "NaN                  CHEVR      DIVISION AVE                    0  \n",
       "GREY                  JEEP          GRAND ST                    0  \n",
       "...                    ...               ...                  ...  \n",
       "BR                    FORD           3RD AVE                    0  \n",
       "BLK                  HONDA    PELHAM PARK DR                    0  \n",
       "GY                    FORD         LYDIG AVE                    0  \n",
       "BLK                  TOYOT       E 68 STREET                    0  \n",
       "WHITE                UTILI  W/S/O 182 STREET                    0  \n",
       "\n",
       "[12495734 rows x 6 columns]"
      ]
     },
     "execution_count": 8,
     "metadata": {},
     "output_type": "execute_result"
    }
   ],
   "source": [
    "df"
   ]
  },
  {
   "cell_type": "code",
   "execution_count": 14,
   "id": "f22f1ee3-7a4b-431b-b7bc-662cf6c925ad",
   "metadata": {},
   "outputs": [
    {
     "ename": "KeyError",
     "evalue": "\"Cannot get left slice bound for non-unique label: '01/01/2020 12:00:00 AM'\"",
     "output_type": "error",
     "traceback": [
      "\u001b[0;31m---------------------------------------------------------------------------\u001b[0m",
      "\u001b[0;31mKeyError\u001b[0m                                  Traceback (most recent call last)",
      "Cell \u001b[0;32mIn[14], line 3\u001b[0m\n\u001b[1;32m      1\u001b[0m \u001b[38;5;66;03m#what 3 car makes were most often ticketed from january 2 through january 10? \u001b[39;00m\n\u001b[1;32m      2\u001b[0m df \u001b[38;5;241m=\u001b[39m df\u001b[38;5;241m.\u001b[39mreset_index()\u001b[38;5;241m.\u001b[39mset_index(\u001b[38;5;124m\"\u001b[39m\u001b[38;5;124mIssue Date\u001b[39m\u001b[38;5;124m\"\u001b[39m)\n\u001b[0;32m----> 3\u001b[0m df\u001b[38;5;241m.\u001b[39mloc[\u001b[38;5;124m\"\u001b[39m\u001b[38;5;124m01/01/2020 12:00:00 AM\u001b[39m\u001b[38;5;124m\"\u001b[39m: \u001b[38;5;124m\"\u001b[39m\u001b[38;5;124m01/10/2020 12:00:00 AM\u001b[39m\u001b[38;5;124m\"\u001b[39m, \u001b[38;5;124m\"\u001b[39m\u001b[38;5;124mVehicle Make\u001b[39m\u001b[38;5;124m\"\u001b[39m]\u001b[38;5;241m.\u001b[39mvalue_counts()\n",
      "File \u001b[0;32m/opt/anaconda3/lib/python3.11/site-packages/pandas/core/indexing.py:1184\u001b[0m, in \u001b[0;36m_LocationIndexer.__getitem__\u001b[0;34m(self, key)\u001b[0m\n\u001b[1;32m   1182\u001b[0m     \u001b[38;5;28;01mif\u001b[39;00m \u001b[38;5;28mself\u001b[39m\u001b[38;5;241m.\u001b[39m_is_scalar_access(key):\n\u001b[1;32m   1183\u001b[0m         \u001b[38;5;28;01mreturn\u001b[39;00m \u001b[38;5;28mself\u001b[39m\u001b[38;5;241m.\u001b[39mobj\u001b[38;5;241m.\u001b[39m_get_value(\u001b[38;5;241m*\u001b[39mkey, takeable\u001b[38;5;241m=\u001b[39m\u001b[38;5;28mself\u001b[39m\u001b[38;5;241m.\u001b[39m_takeable)\n\u001b[0;32m-> 1184\u001b[0m     \u001b[38;5;28;01mreturn\u001b[39;00m \u001b[38;5;28mself\u001b[39m\u001b[38;5;241m.\u001b[39m_getitem_tuple(key)\n\u001b[1;32m   1185\u001b[0m \u001b[38;5;28;01melse\u001b[39;00m:\n\u001b[1;32m   1186\u001b[0m     \u001b[38;5;66;03m# we by definition only have the 0th axis\u001b[39;00m\n\u001b[1;32m   1187\u001b[0m     axis \u001b[38;5;241m=\u001b[39m \u001b[38;5;28mself\u001b[39m\u001b[38;5;241m.\u001b[39maxis \u001b[38;5;129;01mor\u001b[39;00m \u001b[38;5;241m0\u001b[39m\n",
      "File \u001b[0;32m/opt/anaconda3/lib/python3.11/site-packages/pandas/core/indexing.py:1368\u001b[0m, in \u001b[0;36m_LocIndexer._getitem_tuple\u001b[0;34m(self, tup)\u001b[0m\n\u001b[1;32m   1366\u001b[0m \u001b[38;5;28;01mwith\u001b[39;00m suppress(IndexingError):\n\u001b[1;32m   1367\u001b[0m     tup \u001b[38;5;241m=\u001b[39m \u001b[38;5;28mself\u001b[39m\u001b[38;5;241m.\u001b[39m_expand_ellipsis(tup)\n\u001b[0;32m-> 1368\u001b[0m     \u001b[38;5;28;01mreturn\u001b[39;00m \u001b[38;5;28mself\u001b[39m\u001b[38;5;241m.\u001b[39m_getitem_lowerdim(tup)\n\u001b[1;32m   1370\u001b[0m \u001b[38;5;66;03m# no multi-index, so validate all of the indexers\u001b[39;00m\n\u001b[1;32m   1371\u001b[0m tup \u001b[38;5;241m=\u001b[39m \u001b[38;5;28mself\u001b[39m\u001b[38;5;241m.\u001b[39m_validate_tuple_indexer(tup)\n",
      "File \u001b[0;32m/opt/anaconda3/lib/python3.11/site-packages/pandas/core/indexing.py:1089\u001b[0m, in \u001b[0;36m_LocationIndexer._getitem_lowerdim\u001b[0;34m(self, tup)\u001b[0m\n\u001b[1;32m   1087\u001b[0m             \u001b[38;5;28;01mreturn\u001b[39;00m section\n\u001b[1;32m   1088\u001b[0m         \u001b[38;5;66;03m# This is an elided recursive call to iloc/loc\u001b[39;00m\n\u001b[0;32m-> 1089\u001b[0m         \u001b[38;5;28;01mreturn\u001b[39;00m \u001b[38;5;28mgetattr\u001b[39m(section, \u001b[38;5;28mself\u001b[39m\u001b[38;5;241m.\u001b[39mname)[new_key]\n\u001b[1;32m   1091\u001b[0m \u001b[38;5;28;01mraise\u001b[39;00m IndexingError(\u001b[38;5;124m\"\u001b[39m\u001b[38;5;124mnot applicable\u001b[39m\u001b[38;5;124m\"\u001b[39m)\n",
      "File \u001b[0;32m/opt/anaconda3/lib/python3.11/site-packages/pandas/core/indexing.py:1191\u001b[0m, in \u001b[0;36m_LocationIndexer.__getitem__\u001b[0;34m(self, key)\u001b[0m\n\u001b[1;32m   1189\u001b[0m maybe_callable \u001b[38;5;241m=\u001b[39m com\u001b[38;5;241m.\u001b[39mapply_if_callable(key, \u001b[38;5;28mself\u001b[39m\u001b[38;5;241m.\u001b[39mobj)\n\u001b[1;32m   1190\u001b[0m maybe_callable \u001b[38;5;241m=\u001b[39m \u001b[38;5;28mself\u001b[39m\u001b[38;5;241m.\u001b[39m_check_deprecated_callable_usage(key, maybe_callable)\n\u001b[0;32m-> 1191\u001b[0m \u001b[38;5;28;01mreturn\u001b[39;00m \u001b[38;5;28mself\u001b[39m\u001b[38;5;241m.\u001b[39m_getitem_axis(maybe_callable, axis\u001b[38;5;241m=\u001b[39maxis)\n",
      "File \u001b[0;32m/opt/anaconda3/lib/python3.11/site-packages/pandas/core/indexing.py:1411\u001b[0m, in \u001b[0;36m_LocIndexer._getitem_axis\u001b[0;34m(self, key, axis)\u001b[0m\n\u001b[1;32m   1409\u001b[0m \u001b[38;5;28;01mif\u001b[39;00m \u001b[38;5;28misinstance\u001b[39m(key, \u001b[38;5;28mslice\u001b[39m):\n\u001b[1;32m   1410\u001b[0m     \u001b[38;5;28mself\u001b[39m\u001b[38;5;241m.\u001b[39m_validate_key(key, axis)\n\u001b[0;32m-> 1411\u001b[0m     \u001b[38;5;28;01mreturn\u001b[39;00m \u001b[38;5;28mself\u001b[39m\u001b[38;5;241m.\u001b[39m_get_slice_axis(key, axis\u001b[38;5;241m=\u001b[39maxis)\n\u001b[1;32m   1412\u001b[0m \u001b[38;5;28;01melif\u001b[39;00m com\u001b[38;5;241m.\u001b[39mis_bool_indexer(key):\n\u001b[1;32m   1413\u001b[0m     \u001b[38;5;28;01mreturn\u001b[39;00m \u001b[38;5;28mself\u001b[39m\u001b[38;5;241m.\u001b[39m_getbool_axis(key, axis\u001b[38;5;241m=\u001b[39maxis)\n",
      "File \u001b[0;32m/opt/anaconda3/lib/python3.11/site-packages/pandas/core/indexing.py:1443\u001b[0m, in \u001b[0;36m_LocIndexer._get_slice_axis\u001b[0;34m(self, slice_obj, axis)\u001b[0m\n\u001b[1;32m   1440\u001b[0m     \u001b[38;5;28;01mreturn\u001b[39;00m obj\u001b[38;5;241m.\u001b[39mcopy(deep\u001b[38;5;241m=\u001b[39m\u001b[38;5;28;01mFalse\u001b[39;00m)\n\u001b[1;32m   1442\u001b[0m labels \u001b[38;5;241m=\u001b[39m obj\u001b[38;5;241m.\u001b[39m_get_axis(axis)\n\u001b[0;32m-> 1443\u001b[0m indexer \u001b[38;5;241m=\u001b[39m labels\u001b[38;5;241m.\u001b[39mslice_indexer(slice_obj\u001b[38;5;241m.\u001b[39mstart, slice_obj\u001b[38;5;241m.\u001b[39mstop, slice_obj\u001b[38;5;241m.\u001b[39mstep)\n\u001b[1;32m   1445\u001b[0m \u001b[38;5;28;01mif\u001b[39;00m \u001b[38;5;28misinstance\u001b[39m(indexer, \u001b[38;5;28mslice\u001b[39m):\n\u001b[1;32m   1446\u001b[0m     \u001b[38;5;28;01mreturn\u001b[39;00m \u001b[38;5;28mself\u001b[39m\u001b[38;5;241m.\u001b[39mobj\u001b[38;5;241m.\u001b[39m_slice(indexer, axis\u001b[38;5;241m=\u001b[39maxis)\n",
      "File \u001b[0;32m/opt/anaconda3/lib/python3.11/site-packages/pandas/core/indexes/base.py:6662\u001b[0m, in \u001b[0;36mIndex.slice_indexer\u001b[0;34m(self, start, end, step)\u001b[0m\n\u001b[1;32m   6618\u001b[0m \u001b[38;5;28;01mdef\u001b[39;00m \u001b[38;5;21mslice_indexer\u001b[39m(\n\u001b[1;32m   6619\u001b[0m     \u001b[38;5;28mself\u001b[39m,\n\u001b[1;32m   6620\u001b[0m     start: Hashable \u001b[38;5;241m|\u001b[39m \u001b[38;5;28;01mNone\u001b[39;00m \u001b[38;5;241m=\u001b[39m \u001b[38;5;28;01mNone\u001b[39;00m,\n\u001b[1;32m   6621\u001b[0m     end: Hashable \u001b[38;5;241m|\u001b[39m \u001b[38;5;28;01mNone\u001b[39;00m \u001b[38;5;241m=\u001b[39m \u001b[38;5;28;01mNone\u001b[39;00m,\n\u001b[1;32m   6622\u001b[0m     step: \u001b[38;5;28mint\u001b[39m \u001b[38;5;241m|\u001b[39m \u001b[38;5;28;01mNone\u001b[39;00m \u001b[38;5;241m=\u001b[39m \u001b[38;5;28;01mNone\u001b[39;00m,\n\u001b[1;32m   6623\u001b[0m ) \u001b[38;5;241m-\u001b[39m\u001b[38;5;241m>\u001b[39m \u001b[38;5;28mslice\u001b[39m:\n\u001b[1;32m   6624\u001b[0m \u001b[38;5;250m    \u001b[39m\u001b[38;5;124;03m\"\"\"\u001b[39;00m\n\u001b[1;32m   6625\u001b[0m \u001b[38;5;124;03m    Compute the slice indexer for input labels and step.\u001b[39;00m\n\u001b[1;32m   6626\u001b[0m \n\u001b[0;32m   (...)\u001b[0m\n\u001b[1;32m   6660\u001b[0m \u001b[38;5;124;03m    slice(1, 3, None)\u001b[39;00m\n\u001b[1;32m   6661\u001b[0m \u001b[38;5;124;03m    \"\"\"\u001b[39;00m\n\u001b[0;32m-> 6662\u001b[0m     start_slice, end_slice \u001b[38;5;241m=\u001b[39m \u001b[38;5;28mself\u001b[39m\u001b[38;5;241m.\u001b[39mslice_locs(start, end, step\u001b[38;5;241m=\u001b[39mstep)\n\u001b[1;32m   6664\u001b[0m     \u001b[38;5;66;03m# return a slice\u001b[39;00m\n\u001b[1;32m   6665\u001b[0m     \u001b[38;5;28;01mif\u001b[39;00m \u001b[38;5;129;01mnot\u001b[39;00m is_scalar(start_slice):\n",
      "File \u001b[0;32m/opt/anaconda3/lib/python3.11/site-packages/pandas/core/indexes/base.py:6879\u001b[0m, in \u001b[0;36mIndex.slice_locs\u001b[0;34m(self, start, end, step)\u001b[0m\n\u001b[1;32m   6877\u001b[0m start_slice \u001b[38;5;241m=\u001b[39m \u001b[38;5;28;01mNone\u001b[39;00m\n\u001b[1;32m   6878\u001b[0m \u001b[38;5;28;01mif\u001b[39;00m start \u001b[38;5;129;01mis\u001b[39;00m \u001b[38;5;129;01mnot\u001b[39;00m \u001b[38;5;28;01mNone\u001b[39;00m:\n\u001b[0;32m-> 6879\u001b[0m     start_slice \u001b[38;5;241m=\u001b[39m \u001b[38;5;28mself\u001b[39m\u001b[38;5;241m.\u001b[39mget_slice_bound(start, \u001b[38;5;124m\"\u001b[39m\u001b[38;5;124mleft\u001b[39m\u001b[38;5;124m\"\u001b[39m)\n\u001b[1;32m   6880\u001b[0m \u001b[38;5;28;01mif\u001b[39;00m start_slice \u001b[38;5;129;01mis\u001b[39;00m \u001b[38;5;28;01mNone\u001b[39;00m:\n\u001b[1;32m   6881\u001b[0m     start_slice \u001b[38;5;241m=\u001b[39m \u001b[38;5;241m0\u001b[39m\n",
      "File \u001b[0;32m/opt/anaconda3/lib/python3.11/site-packages/pandas/core/indexes/base.py:6812\u001b[0m, in \u001b[0;36mIndex.get_slice_bound\u001b[0;34m(self, label, side)\u001b[0m\n\u001b[1;32m   6810\u001b[0m     slc \u001b[38;5;241m=\u001b[39m lib\u001b[38;5;241m.\u001b[39mmaybe_booleans_to_slice(slc\u001b[38;5;241m.\u001b[39mview(\u001b[38;5;124m\"\u001b[39m\u001b[38;5;124mu1\u001b[39m\u001b[38;5;124m\"\u001b[39m))\n\u001b[1;32m   6811\u001b[0m     \u001b[38;5;28;01mif\u001b[39;00m \u001b[38;5;28misinstance\u001b[39m(slc, np\u001b[38;5;241m.\u001b[39mndarray):\n\u001b[0;32m-> 6812\u001b[0m         \u001b[38;5;28;01mraise\u001b[39;00m \u001b[38;5;167;01mKeyError\u001b[39;00m(\n\u001b[1;32m   6813\u001b[0m             \u001b[38;5;124mf\u001b[39m\u001b[38;5;124m\"\u001b[39m\u001b[38;5;124mCannot get \u001b[39m\u001b[38;5;132;01m{\u001b[39;00mside\u001b[38;5;132;01m}\u001b[39;00m\u001b[38;5;124m slice bound for non-unique \u001b[39m\u001b[38;5;124m\"\u001b[39m\n\u001b[1;32m   6814\u001b[0m             \u001b[38;5;124mf\u001b[39m\u001b[38;5;124m\"\u001b[39m\u001b[38;5;124mlabel: \u001b[39m\u001b[38;5;132;01m{\u001b[39;00m\u001b[38;5;28mrepr\u001b[39m(original_label)\u001b[38;5;132;01m}\u001b[39;00m\u001b[38;5;124m\"\u001b[39m\n\u001b[1;32m   6815\u001b[0m         )\n\u001b[1;32m   6817\u001b[0m \u001b[38;5;28;01mif\u001b[39;00m \u001b[38;5;28misinstance\u001b[39m(slc, \u001b[38;5;28mslice\u001b[39m):\n\u001b[1;32m   6818\u001b[0m     \u001b[38;5;28;01mif\u001b[39;00m side \u001b[38;5;241m==\u001b[39m \u001b[38;5;124m\"\u001b[39m\u001b[38;5;124mleft\u001b[39m\u001b[38;5;124m\"\u001b[39m:\n",
      "\u001b[0;31mKeyError\u001b[0m: \"Cannot get left slice bound for non-unique label: '01/01/2020 12:00:00 AM'\""
     ]
    }
   ],
   "source": [
    "#what 3 car makes were most often ticketed from january 2 through january 10? \n",
    "df = df.reset_index().set_index(\"Issue Date\")\n",
    "df.loc[\"01/02/2020 12:00:00 AM\" : \"01/10/2020 12:00:00 AM\", \"Vehicle Make\"].value_counts()"
   ]
  },
  {
   "cell_type": "code",
   "execution_count": 20,
   "id": "d53ea2e0-9f99-4a8a-a553-e13946b592ec",
   "metadata": {},
   "outputs": [],
   "source": [
    "df = df.sort_index()"
   ]
  },
  {
   "cell_type": "code",
   "execution_count": 22,
   "id": "b7c0bc3c-3fa8-466e-9b2e-9ec9e0177211",
   "metadata": {},
   "outputs": [
    {
     "data": {
      "text/plain": [
       "Vehicle Make\n",
       "FORD     38958\n",
       "TOYOT    37096\n",
       "HONDA    35962\n",
       "Name: count, dtype: int64"
      ]
     },
     "execution_count": 22,
     "metadata": {},
     "output_type": "execute_result"
    }
   ],
   "source": [
    "#what 3 car makes were most often ticketed from january 2 through january 10?\n",
    "df.loc[\"01/02/2020 12:00:00 AM\" : \"01/10/2020 12:00:00 AM\", \"Vehicle Make\"].value_counts().head(3)"
   ]
  },
  {
   "cell_type": "markdown",
   "id": "dc659ec8-53d5-43e3-82c9-e3a59c61b9cd",
   "metadata": {},
   "source": [
    "## Beyond 2"
   ]
  },
  {
   "cell_type": "markdown",
   "id": "f20b153e-f23b-4302-be43-354c6195742d",
   "metadata": {},
   "source": [
    "how many tickets did the second-most-ticketed car get in 2020? (and why iam not interested in the\n",
    "most ticketed plate) what state was that car from, and was it always ticketed in the same location."
   ]
  },
  {
   "cell_type": "code",
   "execution_count": 33,
   "id": "732b2918-2cac-4d15-bb4b-412d100704bf",
   "metadata": {},
   "outputs": [
    {
     "data": {
      "text/plain": [
       "Plate ID\n",
       "BLANKPLATE    8882\n",
       "2704819       1535\n",
       "Name: count, dtype: int64"
      ]
     },
     "execution_count": 33,
     "metadata": {},
     "output_type": "execute_result"
    }
   ],
   "source": [
    "# most ticketed?\n",
    "# second most ticketed \n",
    "df[\"Plate ID\"].value_counts().head(2)"
   ]
  },
  {
   "cell_type": "code",
   "execution_count": 36,
   "id": "4a5c8402-0cbc-4a56-a35d-bc1b5571c982",
   "metadata": {},
   "outputs": [
    {
     "data": {
      "text/plain": [
       "Plate ID\n",
       "2704819    IN\n",
       "Name: Registration State, dtype: object"
      ]
     },
     "execution_count": 36,
     "metadata": {},
     "output_type": "execute_result"
    }
   ],
   "source": [
    "#what state was it from?\n",
    "df.set_index(\"Plate ID\").loc[\"2704819\", \"Registration State\"].head(1)"
   ]
  },
  {
   "cell_type": "code",
   "execution_count": 38,
   "id": "0d60b44e-f6a1-4a5d-8c5b-3a4c9501d858",
   "metadata": {},
   "outputs": [
    {
     "data": {
      "text/plain": [
       "Street Name\n",
       "8th Ave              395\n",
       "Penn Plz             230\n",
       "7th Ave               92\n",
       "9th Ave               63\n",
       "Broadway              57\n",
       "                    ... \n",
       "6TH AVE                1\n",
       "W 54TH ST              1\n",
       "E 39th St              1\n",
       "N/S NW C/O W 30TH      1\n",
       "E 49th St              1\n",
       "Name: count, Length: 113, dtype: int64"
      ]
     },
     "execution_count": 38,
     "metadata": {},
     "output_type": "execute_result"
    }
   ],
   "source": [
    "#was it always ticketed in the same location? No, but there alot in the same area ...\n",
    "df.set_index(\"Plate ID\").loc[\"2704819\", \"Street Name\"].value_counts()"
   ]
  },
  {
   "cell_type": "code",
   "execution_count": null,
   "id": "b20f72a2-692a-4682-87b3-7caf2207f53f",
   "metadata": {},
   "outputs": [],
   "source": []
  }
 ],
 "metadata": {
  "kernelspec": {
   "display_name": "Python 3 (ipykernel)",
   "language": "python",
   "name": "python3"
  },
  "language_info": {
   "codemirror_mode": {
    "name": "ipython",
    "version": 3
   },
   "file_extension": ".py",
   "mimetype": "text/x-python",
   "name": "python",
   "nbconvert_exporter": "python",
   "pygments_lexer": "ipython3",
   "version": "3.11.7"
  }
 },
 "nbformat": 4,
 "nbformat_minor": 5
}
