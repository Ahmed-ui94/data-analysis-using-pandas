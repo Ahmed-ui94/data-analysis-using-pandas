{
 "cells": [
  {
   "cell_type": "code",
   "execution_count": 1,
   "id": "e9b494c8-490e-482f-a812-9bb54d5709fb",
   "metadata": {},
   "outputs": [
    {
     "name": "stderr",
     "output_type": "stream",
     "text": [
      "/Users/ahmedabukar/opt/anaconda3/lib/python3.9/site-packages/pandas/core/arrays/masked.py:60: UserWarning: Pandas requires version '1.3.6' or newer of 'bottleneck' (version '1.3.2' currently installed).\n",
      "  from pandas.core import (\n"
     ]
    }
   ],
   "source": [
    "import pandas as pd\n",
    "import numpy as np\n",
    "import pyarrow as pyrr"
   ]
  },
  {
   "cell_type": "code",
   "execution_count": 3,
   "id": "c4d26230-0fb1-4906-8e6a-ab8eaa977f22",
   "metadata": {},
   "outputs": [],
   "source": [
    "distance = pd.read_csv(\"/Users/ahmedabukar/Downloads/pandas-workout-data/data/taxi-distance.csv\").squeeze()"
   ]
  },
  {
   "cell_type": "code",
   "execution_count": 7,
   "id": "cb2f2d6d-4277-4697-a7f3-ab51020c5f91",
   "metadata": {},
   "outputs": [],
   "source": [
    "passenger = pd.read_csv(\"/Users/ahmedabukar/Downloads/pandas-workout-data/data/taxi-passenger-count.csv\").squeeze()"
   ]
  },
  {
   "cell_type": "code",
   "execution_count": 21,
   "id": "5da78830-71e5-4139-aed7-d515ffb57ff8",
   "metadata": {},
   "outputs": [],
   "source": [
    "trip_data = pd.DataFrame({\"passenger_count\": passenger,\n",
    "              \"distance\": distance})"
   ]
  },
  {
   "cell_type": "code",
   "execution_count": 11,
   "id": "730c8fcb-6256-4476-b16f-0d26357f146e",
   "metadata": {},
   "outputs": [
    {
     "data": {
      "text/plain": [
       "0       1\n",
       "1       1\n",
       "2       1\n",
       "3       1\n",
       "4       1\n",
       "       ..\n",
       "9993    1\n",
       "9994    1\n",
       "9995    1\n",
       "9996    6\n",
       "9997    1\n",
       "Name: 1, Length: 9998, dtype: int64"
      ]
     },
     "execution_count": 11,
     "metadata": {},
     "output_type": "execute_result"
    }
   ],
   "source": [
    "passenger"
   ]
  },
  {
   "cell_type": "code",
   "execution_count": 25,
   "id": "596c836c-fa30-41a8-84c4-2a98b3de669e",
   "metadata": {},
   "outputs": [
    {
     "data": {
      "text/html": [
       "<div>\n",
       "<style scoped>\n",
       "    .dataframe tbody tr th:only-of-type {\n",
       "        vertical-align: middle;\n",
       "    }\n",
       "\n",
       "    .dataframe tbody tr th {\n",
       "        vertical-align: top;\n",
       "    }\n",
       "\n",
       "    .dataframe thead th {\n",
       "        text-align: right;\n",
       "    }\n",
       "</style>\n",
       "<table border=\"1\" class=\"dataframe\">\n",
       "  <thead>\n",
       "    <tr style=\"text-align: right;\">\n",
       "      <th></th>\n",
       "      <th>passenger_count</th>\n",
       "      <th>distance</th>\n",
       "    </tr>\n",
       "  </thead>\n",
       "  <tbody>\n",
       "    <tr>\n",
       "      <th>6</th>\n",
       "      <td>4</td>\n",
       "      <td>11.90</td>\n",
       "    </tr>\n",
       "    <tr>\n",
       "      <th>38</th>\n",
       "      <td>2</td>\n",
       "      <td>5.28</td>\n",
       "    </tr>\n",
       "    <tr>\n",
       "      <th>42</th>\n",
       "      <td>2</td>\n",
       "      <td>5.30</td>\n",
       "    </tr>\n",
       "    <tr>\n",
       "      <th>55</th>\n",
       "      <td>1</td>\n",
       "      <td>4.71</td>\n",
       "    </tr>\n",
       "    <tr>\n",
       "      <th>59</th>\n",
       "      <td>1</td>\n",
       "      <td>9.30</td>\n",
       "    </tr>\n",
       "    <tr>\n",
       "      <th>...</th>\n",
       "      <td>...</td>\n",
       "      <td>...</td>\n",
       "    </tr>\n",
       "    <tr>\n",
       "      <th>9991</th>\n",
       "      <td>1</td>\n",
       "      <td>6.37</td>\n",
       "    </tr>\n",
       "    <tr>\n",
       "      <th>9992</th>\n",
       "      <td>1</td>\n",
       "      <td>4.10</td>\n",
       "    </tr>\n",
       "    <tr>\n",
       "      <th>9994</th>\n",
       "      <td>1</td>\n",
       "      <td>4.50</td>\n",
       "    </tr>\n",
       "    <tr>\n",
       "      <th>9995</th>\n",
       "      <td>1</td>\n",
       "      <td>5.59</td>\n",
       "    </tr>\n",
       "    <tr>\n",
       "      <th>9997</th>\n",
       "      <td>1</td>\n",
       "      <td>5.80</td>\n",
       "    </tr>\n",
       "  </tbody>\n",
       "</table>\n",
       "<p>2051 rows × 2 columns</p>\n",
       "</div>"
      ],
      "text/plain": [
       "      passenger_count  distance\n",
       "6                   4     11.90\n",
       "38                  2      5.28\n",
       "42                  2      5.30\n",
       "55                  1      4.71\n",
       "59                  1      9.30\n",
       "...               ...       ...\n",
       "9991                1      6.37\n",
       "9992                1      4.10\n",
       "9994                1      4.50\n",
       "9995                1      5.59\n",
       "9997                1      5.80\n",
       "\n",
       "[2051 rows x 2 columns]"
      ]
     },
     "execution_count": 25,
     "metadata": {},
     "output_type": "execute_result"
    }
   ],
   "source": [
    "iqr = (trip_data['distance'].quantile(0.75)\n",
    "       - trip_data['distance'].quantile(0.25))\n",
    "\n",
    "trip_data[trip_data['distance']\n",
    "    > trip_data['distance'].quantile(0.10) + 1.5*iqr]"
   ]
  },
  {
   "cell_type": "code",
   "execution_count": null,
   "id": "1981c90c-0d75-41b8-a04e-20c3acbc797d",
   "metadata": {},
   "outputs": [],
   "source": []
  }
 ],
 "metadata": {
  "kernelspec": {
   "display_name": "Python 3 (ipykernel)",
   "language": "python",
   "name": "python3"
  },
  "language_info": {
   "codemirror_mode": {
    "name": "ipython",
    "version": 3
   },
   "file_extension": ".py",
   "mimetype": "text/x-python",
   "name": "python",
   "nbconvert_exporter": "python",
   "pygments_lexer": "ipython3",
   "version": "3.9.19"
  }
 },
 "nbformat": 4,
 "nbformat_minor": 5
}
