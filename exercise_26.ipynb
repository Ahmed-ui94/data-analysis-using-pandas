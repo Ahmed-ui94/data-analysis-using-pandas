{
 "cells": [
  {
   "cell_type": "code",
   "execution_count": 1,
   "id": "28be3ad2-62f3-4fb5-8a96-05ce926df14a",
   "metadata": {},
   "outputs": [],
   "source": [
    "import pandas as pd\n",
    "import numpy as np"
   ]
  },
  {
   "cell_type": "code",
   "execution_count": 2,
   "id": "d2ca579a-0043-4d4f-bc8d-af0d19637bcb",
   "metadata": {},
   "outputs": [
    {
     "data": {
      "text/html": [
       "<div>\n",
       "<style scoped>\n",
       "    .dataframe tbody tr th:only-of-type {\n",
       "        vertical-align: middle;\n",
       "    }\n",
       "\n",
       "    .dataframe tbody tr th {\n",
       "        vertical-align: top;\n",
       "    }\n",
       "\n",
       "    .dataframe thead th {\n",
       "        text-align: right;\n",
       "    }\n",
       "</style>\n",
       "<table border=\"1\" class=\"dataframe\">\n",
       "  <thead>\n",
       "    <tr style=\"text-align: right;\">\n",
       "      <th></th>\n",
       "      <th>dateofdeath</th>\n",
       "      <th>age</th>\n",
       "    </tr>\n",
       "  </thead>\n",
       "  <tbody>\n",
       "    <tr>\n",
       "      <th>0</th>\n",
       "      <td>2016-01-01</td>\n",
       "      <td>71</td>\n",
       "    </tr>\n",
       "    <tr>\n",
       "      <th>1</th>\n",
       "      <td>2016-01-01</td>\n",
       "      <td>74</td>\n",
       "    </tr>\n",
       "    <tr>\n",
       "      <th>2</th>\n",
       "      <td>2016-01-01</td>\n",
       "      <td>79</td>\n",
       "    </tr>\n",
       "    <tr>\n",
       "      <th>3</th>\n",
       "      <td>2016-01-01</td>\n",
       "      <td>45</td>\n",
       "    </tr>\n",
       "    <tr>\n",
       "      <th>4</th>\n",
       "      <td>2016-01-01</td>\n",
       "      <td>83</td>\n",
       "    </tr>\n",
       "    <tr>\n",
       "      <th>...</th>\n",
       "      <td>...</td>\n",
       "      <td>...</td>\n",
       "    </tr>\n",
       "    <tr>\n",
       "      <th>6538</th>\n",
       "      <td>2016-12-27</td>\n",
       "      <td>74</td>\n",
       "    </tr>\n",
       "    <tr>\n",
       "      <th>6539</th>\n",
       "      <td>2016-12-27</td>\n",
       "      <td>85</td>\n",
       "    </tr>\n",
       "    <tr>\n",
       "      <th>6540</th>\n",
       "      <td>2016-12-27</td>\n",
       "      <td>83</td>\n",
       "    </tr>\n",
       "    <tr>\n",
       "      <th>6541</th>\n",
       "      <td>2016-12-27</td>\n",
       "      <td>23</td>\n",
       "    </tr>\n",
       "    <tr>\n",
       "      <th>6542</th>\n",
       "      <td>2016-12-27</td>\n",
       "      <td>84</td>\n",
       "    </tr>\n",
       "  </tbody>\n",
       "</table>\n",
       "<p>6543 rows × 2 columns</p>\n",
       "</div>"
      ],
      "text/plain": [
       "     dateofdeath age\n",
       "0     2016-01-01  71\n",
       "1     2016-01-01  74\n",
       "2     2016-01-01  79\n",
       "3     2016-01-01  45\n",
       "4     2016-01-01  83\n",
       "...          ...  ..\n",
       "6538  2016-12-27  74\n",
       "6539  2016-12-27  85\n",
       "6540  2016-12-27  83\n",
       "6541  2016-12-27  23\n",
       "6542  2016-12-27  84\n",
       "\n",
       "[6543 rows x 2 columns]"
      ]
     },
     "execution_count": 2,
     "metadata": {},
     "output_type": "execute_result"
    }
   ],
   "source": [
    "df = pd.read_csv(\"/Users/ahmedabukar/Downloads/pandas-workout-data/data/celebrity_deaths_2016.csv\",\n",
    "                usecols=[\"dateofdeath\", \"age\"])\n",
    "df"
   ]
  },
  {
   "cell_type": "code",
   "execution_count": 13,
   "id": "3cb2f826-832c-47dd-be3c-a17ce446388d",
   "metadata": {},
   "outputs": [],
   "source": [
    "#create a new month column containing the month from the dateofdeath column\n",
    "df[\"month\"] = df[\"dateofdeath\"].str.slice(5,7)"
   ]
  },
  {
   "cell_type": "code",
   "execution_count": 14,
   "id": "9e1c09be-8fc8-49dc-a3e3-b901a54ddd52",
   "metadata": {},
   "outputs": [],
   "source": [
    "#make the month column the index\n",
    "df = df.set_index(df[\"month\"])"
   ]
  },
  {
   "cell_type": "code",
   "execution_count": 15,
   "id": "1195635b-05a6-4dc2-aca1-e1e540666a8e",
   "metadata": {},
   "outputs": [],
   "source": [
    "#sort the dataframe the index \n",
    "df = df.sort_index()"
   ]
  },
  {
   "cell_type": "code",
   "execution_count": 16,
   "id": "d6cfb928-6c0d-43bd-aabc-6e95db4b146f",
   "metadata": {},
   "outputs": [],
   "source": [
    "#clean all nonintegers from the age column\n",
    "df[\"age\"] = pd.to_numeric(df[\"age\"], errors='coerce')"
   ]
  },
  {
   "cell_type": "code",
   "execution_count": 17,
   "id": "ac9fc794-c5ed-43e2-a5f4-ca0a2d3e58ab",
   "metadata": {},
   "outputs": [],
   "source": [
    "# turn the age column into integer dtype\n",
    "df = df.dropna(subset=\"age\")\n",
    "df['age'] = df[\"age\"].astype(np.int16)"
   ]
  },
  {
   "cell_type": "code",
   "execution_count": 18,
   "id": "5b5ae206-08a5-4491-92a9-d24377ddca34",
   "metadata": {},
   "outputs": [
    {
     "data": {
      "text/plain": [
       "77.0192871470452"
      ]
     },
     "execution_count": 18,
     "metadata": {},
     "output_type": "execute_result"
    }
   ],
   "source": [
    "#find the average age of celebrities who died during that period?\n",
    "df[\"age\"].mean()"
   ]
  },
  {
   "cell_type": "code",
   "execution_count": 19,
   "id": "9f8c2539-f820-4835-98d5-75e630098bc8",
   "metadata": {},
   "outputs": [],
   "source": [
    "#add a new column 'day' from the day of the month in which the celebrity died,\n",
    "df[\"day\"] = df[\"dateofdeath\"].str.slice(8,10)"
   ]
  },
  {
   "cell_type": "code",
   "execution_count": 21,
   "id": "16c7e934-0538-4492-9f44-9059fa51703e",
   "metadata": {},
   "outputs": [],
   "source": [
    "#Then a create a multi-index(day and month) \n",
    "df = df.set_index(\"day\", append=True)"
   ]
  },
  {
   "cell_type": "code",
   "execution_count": 30,
   "id": "25fcf8ca-068f-4ead-b19f-e7eb40f14609",
   "metadata": {},
   "outputs": [
    {
     "data": {
      "text/plain": [
       "month  day\n",
       "02     15     58\n",
       "       15     59\n",
       "       15     57\n",
       "       15     88\n",
       "       15     88\n",
       "       15     90\n",
       "       15     92\n",
       "       15     96\n",
       "       15     98\n",
       "       15     85\n",
       "       15     83\n",
       "       15     84\n",
       "       15     73\n",
       "       15     50\n",
       "       15     91\n",
       "       15     92\n",
       "       15     96\n",
       "       15     59\n",
       "       15     67\n",
       "       15     68\n",
       "       15     88\n",
       "       15     78\n",
       "03     15     81\n",
       "       15     79\n",
       "       15     94\n",
       "       15     88\n",
       "       15     88\n",
       "       15     93\n",
       "       15     37\n",
       "       15     86\n",
       "       15     85\n",
       "       15     83\n",
       "       15     86\n",
       "       15     77\n",
       "       15     68\n",
       "       15     72\n",
       "       15     97\n",
       "       15     30\n",
       "       15     47\n",
       "       15     60\n",
       "       15     67\n",
       "       15     67\n",
       "       15     66\n",
       "       15     62\n",
       "       15     61\n",
       "04     15     94\n",
       "       15     93\n",
       "       15     81\n",
       "       15     84\n",
       "       15     49\n",
       "Name: age, dtype: int16"
      ]
     },
     "execution_count": 30,
     "metadata": {},
     "output_type": "execute_result"
    }
   ],
   "source": [
    "#what was the average age of death from feb 15 through july 15\n",
    "df = df.sort_index()\n",
    "df.loc[(slice(\"02\", \"07\"), slice(\"15\", \"15\")), \"age\"].head(50)"
   ]
  },
  {
   "cell_type": "code",
   "execution_count": 33,
   "id": "7416b036-3038-489a-828e-72f1aab125fe",
   "metadata": {},
   "outputs": [
    {
     "data": {
      "text/html": [
       "<div>\n",
       "<style scoped>\n",
       "    .dataframe tbody tr th:only-of-type {\n",
       "        vertical-align: middle;\n",
       "    }\n",
       "\n",
       "    .dataframe tbody tr th {\n",
       "        vertical-align: top;\n",
       "    }\n",
       "\n",
       "    .dataframe thead th {\n",
       "        text-align: right;\n",
       "    }\n",
       "</style>\n",
       "<table border=\"1\" class=\"dataframe\">\n",
       "  <thead>\n",
       "    <tr style=\"text-align: right;\">\n",
       "      <th></th>\n",
       "      <th>causeofdeath</th>\n",
       "    </tr>\n",
       "  </thead>\n",
       "  <tbody>\n",
       "    <tr>\n",
       "      <th>0</th>\n",
       "      <td>brain cancer</td>\n",
       "    </tr>\n",
       "    <tr>\n",
       "      <th>1</th>\n",
       "      <td>cancer</td>\n",
       "    </tr>\n",
       "    <tr>\n",
       "      <th>2</th>\n",
       "      <td>cancer</td>\n",
       "    </tr>\n",
       "    <tr>\n",
       "      <th>3</th>\n",
       "      <td>complications of a stroke</td>\n",
       "    </tr>\n",
       "    <tr>\n",
       "      <th>4</th>\n",
       "      <td>heart failure</td>\n",
       "    </tr>\n",
       "    <tr>\n",
       "      <th>...</th>\n",
       "      <td>...</td>\n",
       "    </tr>\n",
       "    <tr>\n",
       "      <th>6538</th>\n",
       "      <td>NaN</td>\n",
       "    </tr>\n",
       "    <tr>\n",
       "      <th>6539</th>\n",
       "      <td>NaN</td>\n",
       "    </tr>\n",
       "    <tr>\n",
       "      <th>6540</th>\n",
       "      <td>NaN</td>\n",
       "    </tr>\n",
       "    <tr>\n",
       "      <th>6541</th>\n",
       "      <td>euthanized</td>\n",
       "    </tr>\n",
       "    <tr>\n",
       "      <th>6542</th>\n",
       "      <td>NaN</td>\n",
       "    </tr>\n",
       "  </tbody>\n",
       "</table>\n",
       "<p>6543 rows × 1 columns</p>\n",
       "</div>"
      ],
      "text/plain": [
       "                    causeofdeath\n",
       "0                   brain cancer\n",
       "1                         cancer\n",
       "2                         cancer\n",
       "3      complications of a stroke\n",
       "4                  heart failure\n",
       "...                          ...\n",
       "6538                         NaN\n",
       "6539                         NaN\n",
       "6540                         NaN\n",
       "6541                  euthanized\n",
       "6542                         NaN\n",
       "\n",
       "[6543 rows x 1 columns]"
      ]
     },
     "execution_count": 33,
     "metadata": {},
     "output_type": "execute_result"
    }
   ],
   "source": [
    "df1 = pd.read_csv(\"/Users/ahmedabukar/Downloads/pandas-workout-data/data/celebrity_deaths_2016.csv\",\n",
    "                  usecols=[\"causeofdeath\"])\n",
    "\n",
    "df1"
   ]
  },
  {
   "cell_type": "code",
   "execution_count": 36,
   "id": "20df4269-3fd1-4dd3-8c71-aad65a6d2edc",
   "metadata": {},
   "outputs": [
    {
     "data": {
      "text/plain": [
       "causeofdeath     \n",
       "cancer               248\n",
       "heart attack         125\n",
       "traffic collision     56\n",
       "lung cancer           51\n",
       "pneumonia             50\n",
       "Name: count, dtype: int64"
      ]
     },
     "execution_count": 36,
     "metadata": {},
     "output_type": "execute_result"
    }
   ],
   "source": [
    "#find the five most common cause of deaths?\n",
    "df1.value_counts().head()"
   ]
  },
  {
   "cell_type": "code",
   "execution_count": 39,
   "id": "4a6d2f78-e307-42e8-b895-dbc1a71a42ff",
   "metadata": {},
   "outputs": [],
   "source": [
    "#replace any NAN value with \"unknown\" in the causeofdeath column?\n",
    "df1 = df1.fillna(\"Unknown\")"
   ]
  },
  {
   "cell_type": "code",
   "execution_count": 42,
   "id": "efb7170a-91cd-42f6-85f0-045333a857fe",
   "metadata": {},
   "outputs": [
    {
     "data": {
      "text/plain": [
       "causeofdeath                        \n",
       "Unknown                                 5008\n",
       " cancer                                  248\n",
       " heart attack                            125\n",
       " traffic collision                        56\n",
       " lung cancer                              51\n",
       " pneumonia                                50\n",
       " heart failure                            49\n",
       " shot                                     42\n",
       " stroke                                   36\n",
       " pancreatic cancer                        35\n",
       " brain cancer                             33\n",
       " injuries sustained in a plane crash      23\n",
       " Alzheimer's disease                      22\n",
       " prostate cancer                          17\n",
       " cardiac arrest                           17\n",
       " leukemia                                 17\n",
       " liver cancer                             16\n",
       " Parkinson's disease                      15\n",
       " fall                                     15\n",
       " complications from a stroke              15\n",
       "Name: count, dtype: int64"
      ]
     },
     "execution_count": 42,
     "metadata": {},
     "output_type": "execute_result"
    }
   ],
   "source": [
    "#again find the five most causes of death?\n",
    "df1.value_counts().head(20)"
   ]
  },
  {
   "cell_type": "code",
   "execution_count": null,
   "id": "67fad987-0a6a-4cd6-b51c-c193631dff15",
   "metadata": {},
   "outputs": [],
   "source": []
  }
 ],
 "metadata": {
  "kernelspec": {
   "display_name": "Python 3 (ipykernel)",
   "language": "python",
   "name": "python3"
  },
  "language_info": {
   "codemirror_mode": {
    "name": "ipython",
    "version": 3
   },
   "file_extension": ".py",
   "mimetype": "text/x-python",
   "name": "python",
   "nbconvert_exporter": "python",
   "pygments_lexer": "ipython3",
   "version": "3.11.7"
  }
 },
 "nbformat": 4,
 "nbformat_minor": 5
}
