{
 "cells": [
  {
   "cell_type": "code",
   "execution_count": 1,
   "id": "d43fd3d4-f1d2-41ea-8212-0ab36f79c6ac",
   "metadata": {},
   "outputs": [],
   "source": [
    "import pandas as pd\n",
    "import numpy as np"
   ]
  },
  {
   "cell_type": "code",
   "execution_count": 2,
   "id": "bfe52775-c1f4-4b7b-aef6-213d146f6283",
   "metadata": {},
   "outputs": [
    {
     "data": {
      "text/html": [
       "<div>\n",
       "<style scoped>\n",
       "    .dataframe tbody tr th:only-of-type {\n",
       "        vertical-align: middle;\n",
       "    }\n",
       "\n",
       "    .dataframe tbody tr th {\n",
       "        vertical-align: top;\n",
       "    }\n",
       "\n",
       "    .dataframe thead th {\n",
       "        text-align: right;\n",
       "    }\n",
       "</style>\n",
       "<table border=\"1\" class=\"dataframe\">\n",
       "  <thead>\n",
       "    <tr style=\"text-align: right;\">\n",
       "      <th></th>\n",
       "      <th>city</th>\n",
       "      <th>growth_from_2000_to_2013</th>\n",
       "      <th>latitude</th>\n",
       "      <th>longitude</th>\n",
       "      <th>population</th>\n",
       "      <th>rank</th>\n",
       "      <th>state</th>\n",
       "    </tr>\n",
       "  </thead>\n",
       "  <tbody>\n",
       "    <tr>\n",
       "      <th>0</th>\n",
       "      <td>New York</td>\n",
       "      <td>4.8%</td>\n",
       "      <td>40.712784</td>\n",
       "      <td>-74.005941</td>\n",
       "      <td>8405837</td>\n",
       "      <td>1</td>\n",
       "      <td>New York</td>\n",
       "    </tr>\n",
       "    <tr>\n",
       "      <th>1</th>\n",
       "      <td>Los Angeles</td>\n",
       "      <td>4.8%</td>\n",
       "      <td>34.052234</td>\n",
       "      <td>-118.243685</td>\n",
       "      <td>3884307</td>\n",
       "      <td>2</td>\n",
       "      <td>California</td>\n",
       "    </tr>\n",
       "    <tr>\n",
       "      <th>2</th>\n",
       "      <td>Chicago</td>\n",
       "      <td>-6.1%</td>\n",
       "      <td>41.878114</td>\n",
       "      <td>-87.629798</td>\n",
       "      <td>2718782</td>\n",
       "      <td>3</td>\n",
       "      <td>Illinois</td>\n",
       "    </tr>\n",
       "    <tr>\n",
       "      <th>3</th>\n",
       "      <td>Houston</td>\n",
       "      <td>11.0%</td>\n",
       "      <td>29.760427</td>\n",
       "      <td>-95.369803</td>\n",
       "      <td>2195914</td>\n",
       "      <td>4</td>\n",
       "      <td>Texas</td>\n",
       "    </tr>\n",
       "    <tr>\n",
       "      <th>4</th>\n",
       "      <td>Philadelphia</td>\n",
       "      <td>2.6%</td>\n",
       "      <td>39.952584</td>\n",
       "      <td>-75.165222</td>\n",
       "      <td>1553165</td>\n",
       "      <td>5</td>\n",
       "      <td>Pennsylvania</td>\n",
       "    </tr>\n",
       "    <tr>\n",
       "      <th>...</th>\n",
       "      <td>...</td>\n",
       "      <td>...</td>\n",
       "      <td>...</td>\n",
       "      <td>...</td>\n",
       "      <td>...</td>\n",
       "      <td>...</td>\n",
       "      <td>...</td>\n",
       "    </tr>\n",
       "    <tr>\n",
       "      <th>995</th>\n",
       "      <td>Weslaco</td>\n",
       "      <td>28.8%</td>\n",
       "      <td>26.159519</td>\n",
       "      <td>-97.990837</td>\n",
       "      <td>37093</td>\n",
       "      <td>996</td>\n",
       "      <td>Texas</td>\n",
       "    </tr>\n",
       "    <tr>\n",
       "      <th>996</th>\n",
       "      <td>Keizer</td>\n",
       "      <td>14.4%</td>\n",
       "      <td>44.990119</td>\n",
       "      <td>-123.026208</td>\n",
       "      <td>37064</td>\n",
       "      <td>997</td>\n",
       "      <td>Oregon</td>\n",
       "    </tr>\n",
       "    <tr>\n",
       "      <th>997</th>\n",
       "      <td>Spanish Fork</td>\n",
       "      <td>78.1%</td>\n",
       "      <td>40.114955</td>\n",
       "      <td>-111.654923</td>\n",
       "      <td>36956</td>\n",
       "      <td>998</td>\n",
       "      <td>Utah</td>\n",
       "    </tr>\n",
       "    <tr>\n",
       "      <th>998</th>\n",
       "      <td>Beloit</td>\n",
       "      <td>2.9%</td>\n",
       "      <td>42.508348</td>\n",
       "      <td>-89.031776</td>\n",
       "      <td>36888</td>\n",
       "      <td>999</td>\n",
       "      <td>Wisconsin</td>\n",
       "    </tr>\n",
       "    <tr>\n",
       "      <th>999</th>\n",
       "      <td>Panama City</td>\n",
       "      <td>0.1%</td>\n",
       "      <td>30.158813</td>\n",
       "      <td>-85.660206</td>\n",
       "      <td>36877</td>\n",
       "      <td>1000</td>\n",
       "      <td>Florida</td>\n",
       "    </tr>\n",
       "  </tbody>\n",
       "</table>\n",
       "<p>1000 rows × 7 columns</p>\n",
       "</div>"
      ],
      "text/plain": [
       "             city growth_from_2000_to_2013   latitude   longitude  population  \\\n",
       "0        New York                     4.8%  40.712784  -74.005941     8405837   \n",
       "1     Los Angeles                     4.8%  34.052234 -118.243685     3884307   \n",
       "2         Chicago                    -6.1%  41.878114  -87.629798     2718782   \n",
       "3         Houston                    11.0%  29.760427  -95.369803     2195914   \n",
       "4    Philadelphia                     2.6%  39.952584  -75.165222     1553165   \n",
       "..            ...                      ...        ...         ...         ...   \n",
       "995       Weslaco                    28.8%  26.159519  -97.990837       37093   \n",
       "996        Keizer                    14.4%  44.990119 -123.026208       37064   \n",
       "997  Spanish Fork                    78.1%  40.114955 -111.654923       36956   \n",
       "998        Beloit                     2.9%  42.508348  -89.031776       36888   \n",
       "999   Panama City                     0.1%  30.158813  -85.660206       36877   \n",
       "\n",
       "     rank         state  \n",
       "0       1      New York  \n",
       "1       2    California  \n",
       "2       3      Illinois  \n",
       "3       4         Texas  \n",
       "4       5  Pennsylvania  \n",
       "..    ...           ...  \n",
       "995   996         Texas  \n",
       "996   997        Oregon  \n",
       "997   998          Utah  \n",
       "998   999     Wisconsin  \n",
       "999  1000       Florida  \n",
       "\n",
       "[1000 rows x 7 columns]"
      ]
     },
     "execution_count": 2,
     "metadata": {},
     "output_type": "execute_result"
    }
   ],
   "source": [
    "df = pd.read_json(\"/Users/ahmedabukar/Downloads/pandas-workout-data/data/cities.json\")\n",
    "df"
   ]
  },
  {
   "cell_type": "code",
   "execution_count": 3,
   "id": "483ee77e-cc66-4d3a-98b7-9741b632871e",
   "metadata": {},
   "outputs": [
    {
     "data": {
      "text/plain": [
       "mean    131132.443\n",
       "50%      68207.000\n",
       "Name: population, dtype: float64"
      ]
     },
     "execution_count": 3,
     "metadata": {},
     "output_type": "execute_result"
    }
   ],
   "source": [
    "#what are the mean and median population for cities\n",
    "df[\"population\"].describe()[[\"mean\", \"50%\"]]"
   ]
  },
  {
   "cell_type": "code",
   "execution_count": 4,
   "id": "11dd4bf7-fb3e-493d-90fa-b90ae8f8bc5f",
   "metadata": {},
   "outputs": [
    {
     "data": {
      "text/plain": [
       "mean    130883.74975\n",
       "50%      68190.00000\n",
       "Name: population, dtype: float64"
      ]
     },
     "execution_count": 4,
     "metadata": {},
     "output_type": "execute_result"
    }
   ],
   "source": [
    "# if you remove the 50 most populous city, what happens to mean and median?\n",
    "df.drop(index=49, axis=0)[\"population\"].describe()[[\"mean\", \"50%\"]]"
   ]
  },
  {
   "cell_type": "code",
   "execution_count": 5,
   "id": "d89f9659-f8c3-460e-9975-362113f157d5",
   "metadata": {},
   "outputs": [
    {
     "data": {
      "text/plain": [
       "city    Honolulu\n",
       "rank          54\n",
       "Name: 53, dtype: object"
      ]
     },
     "execution_count": 5,
     "metadata": {},
     "output_type": "execute_result"
    }
   ],
   "source": [
    "#what is the northernmost city and where does it rank?\n",
    "(df.loc[\n",
    " df.loc[df[\"latitude\"] < 90, \"latitude\"].idxmin(), \n",
    " [\"city\", \"rank\"]])"
   ]
  },
  {
   "cell_type": "code",
   "execution_count": 6,
   "id": "864b3785-0185-4594-91df-a06101ddb09a",
   "metadata": {},
   "outputs": [
    {
     "data": {
      "text/plain": [
       "state\n",
       "California    212\n",
       "Name: count, dtype: int64"
      ]
     },
     "execution_count": 6,
     "metadata": {},
     "output_type": "execute_result"
    }
   ],
   "source": [
    "#which state has the most cities in this list?\n",
    "df[\"state\"].value_counts().head(1)"
   ]
  },
  {
   "cell_type": "code",
   "execution_count": 7,
   "id": "557c50ce-72e7-46ac-8b36-10a58ddca515",
   "metadata": {},
   "outputs": [
    {
     "data": {
      "text/plain": [
       "state\n",
       "Vermont    1\n",
       "Name: count, dtype: int64"
      ]
     },
     "execution_count": 7,
     "metadata": {},
     "output_type": "execute_result"
    }
   ],
   "source": [
    "#which state has the smallest number of city in this list\n",
    "df[\"state\"].value_counts().tail(1)"
   ]
  },
  {
   "cell_type": "code",
   "execution_count": 8,
   "id": "96c9f896-3e3f-40b2-bb95-87656c68e0be",
   "metadata": {},
   "outputs": [],
   "source": [
    "#convert the growth_from_2000_to_2013 to floating point value?\n",
    "df[\"growth_from_2000_to_2013\"] = (df[\"growth_from_2000_to_2013\"].replace(r\"%$\", \"0\", regex=True))"
   ]
  },
  {
   "cell_type": "code",
   "execution_count": 9,
   "id": "d125e4f0-c121-42a3-b547-a8f805eeac8a",
   "metadata": {},
   "outputs": [],
   "source": [
    "df[\"growth_from_2000_to_2013\"] = pd.to_numeric(df[\"growth_from_2000_to_2013\"], errors='coerce')"
   ]
  },
  {
   "cell_type": "code",
   "execution_count": 10,
   "id": "b6b06066-9792-4aa4-80b8-09e50a8ff9e1",
   "metadata": {},
   "outputs": [],
   "source": [
    "df[\"growth_from_2000_to_2013\"] = df[\"growth_from_2000_to_2013\"].fillna(0)"
   ]
  },
  {
   "cell_type": "code",
   "execution_count": 11,
   "id": "ad503293-21bc-46fe-bc89-e84262d80b3d",
   "metadata": {},
   "outputs": [
    {
     "data": {
      "text/plain": [
       "50%      9.650\n",
       "mean    22.936\n",
       "Name: growth_from_2000_to_2013, dtype: float64"
      ]
     },
     "execution_count": 11,
     "metadata": {},
     "output_type": "execute_result"
    }
   ],
   "source": [
    "df[\"growth_from_2000_to_2013\"].describe()[[\"50%\", \"mean\"]]"
   ]
  },
  {
   "cell_type": "code",
   "execution_count": 12,
   "id": "917f7206-12dc-4d6d-a10e-a6492e85657a",
   "metadata": {},
   "outputs": [
    {
     "data": {
      "text/plain": [
       "847"
      ]
     },
     "execution_count": 12,
     "metadata": {},
     "output_type": "execute_result"
    }
   ],
   "source": [
    "#how many cities had positive growth in this period?\n",
    "df.loc[df[\"growth_from_2000_to_2013\"] > 0, \"growth_from_2000_to_2013\"].count()"
   ]
  },
  {
   "cell_type": "code",
   "execution_count": 13,
   "id": "5d5eb840-ca2d-480f-9fe4-42d3504c875e",
   "metadata": {},
   "outputs": [
    {
     "data": {
      "text/plain": [
       "142"
      ]
     },
     "execution_count": 13,
     "metadata": {},
     "output_type": "execute_result"
    }
   ],
   "source": [
    "#how many had negative growth rate in this period?\n",
    "df.loc[df[\"growth_from_2000_to_2013\"] < 0, \"growth_from_2000_to_2013\"].count()"
   ]
  },
  {
   "cell_type": "code",
   "execution_count": 14,
   "id": "2a4be622-0cb2-4abc-99f4-00239d9a4ecc",
   "metadata": {},
   "outputs": [
    {
     "data": {
      "text/html": [
       "<div>\n",
       "<style scoped>\n",
       "    .dataframe tbody tr th:only-of-type {\n",
       "        vertical-align: middle;\n",
       "    }\n",
       "\n",
       "    .dataframe tbody tr th {\n",
       "        vertical-align: top;\n",
       "    }\n",
       "\n",
       "    .dataframe thead th {\n",
       "        text-align: right;\n",
       "    }\n",
       "</style>\n",
       "<table border=\"1\" class=\"dataframe\">\n",
       "  <thead>\n",
       "    <tr style=\"text-align: right;\">\n",
       "      <th></th>\n",
       "      <th>city</th>\n",
       "      <th>latitude</th>\n",
       "    </tr>\n",
       "  </thead>\n",
       "  <tbody>\n",
       "    <tr>\n",
       "      <th>62</th>\n",
       "      <td>Anchorage</td>\n",
       "      <td>61.218056</td>\n",
       "    </tr>\n",
       "    <tr>\n",
       "      <th>268</th>\n",
       "      <td>Everett</td>\n",
       "      <td>47.978985</td>\n",
       "    </tr>\n",
       "    <tr>\n",
       "      <th>389</th>\n",
       "      <td>Bellingham</td>\n",
       "      <td>48.749080</td>\n",
       "    </tr>\n",
       "    <tr>\n",
       "      <th>551</th>\n",
       "      <td>Marysville</td>\n",
       "      <td>48.051764</td>\n",
       "    </tr>\n",
       "    <tr>\n",
       "      <th>664</th>\n",
       "      <td>Grand Forks</td>\n",
       "      <td>47.925257</td>\n",
       "    </tr>\n",
       "    <tr>\n",
       "      <th>802</th>\n",
       "      <td>Minot</td>\n",
       "      <td>48.232967</td>\n",
       "    </tr>\n",
       "  </tbody>\n",
       "</table>\n",
       "</div>"
      ],
      "text/plain": [
       "            city   latitude\n",
       "62     Anchorage  61.218056\n",
       "268      Everett  47.978985\n",
       "389   Bellingham  48.749080\n",
       "551   Marysville  48.051764\n",
       "664  Grand Forks  47.925257\n",
       "802        Minot  48.232967"
      ]
     },
     "execution_count": 14,
     "metadata": {},
     "output_type": "execute_result"
    }
   ],
   "source": [
    "#find the cities or city with latitudes more than two standard deviations from the mean?\n",
    "condition = (df[\"latitude\"] - df[\"latitude\"].mean()) > 2 * df[\"latitude\"].describe()[\"std\"]\n",
    "df.loc[condition, [\"city\", \"latitude\"]]"
   ]
  },
  {
   "cell_type": "code",
   "execution_count": 15,
   "id": "a5c808f2-a6cb-40e3-ac3d-612ba083daeb",
   "metadata": {},
   "outputs": [
    {
     "ename": "ModuleNotFoundError",
     "evalue": "No module named 'pandas_profiling'",
     "output_type": "error",
     "traceback": [
      "\u001b[0;31m---------------------------------------------------------------------------\u001b[0m",
      "\u001b[0;31mModuleNotFoundError\u001b[0m                       Traceback (most recent call last)",
      "Cell \u001b[0;32mIn[15], line 1\u001b[0m\n\u001b[0;32m----> 1\u001b[0m \u001b[38;5;28;01mimport\u001b[39;00m \u001b[38;5;21;01mpandas_profiling\u001b[39;00m\n",
      "\u001b[0;31mModuleNotFoundError\u001b[0m: No module named 'pandas_profiling'"
     ]
    }
   ],
   "source": [
    "import pandas_profiling"
   ]
  },
  {
   "cell_type": "code",
   "execution_count": null,
   "id": "26ea12cb-cb23-4096-816c-43963ad4d601",
   "metadata": {},
   "outputs": [],
   "source": []
  }
 ],
 "metadata": {
  "kernelspec": {
   "display_name": "Python 3 (ipykernel)",
   "language": "python",
   "name": "python3"
  },
  "language_info": {
   "codemirror_mode": {
    "name": "ipython",
    "version": 3
   },
   "file_extension": ".py",
   "mimetype": "text/x-python",
   "name": "python",
   "nbconvert_exporter": "python",
   "pygments_lexer": "ipython3",
   "version": "3.11.7"
  }
 },
 "nbformat": 4,
 "nbformat_minor": 5
}
