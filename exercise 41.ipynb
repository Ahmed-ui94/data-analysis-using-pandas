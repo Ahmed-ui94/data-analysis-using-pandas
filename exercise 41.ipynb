{
 "cells": [
  {
   "cell_type": "code",
   "execution_count": 6,
   "id": "f556e4c3-ebf7-4a11-83f0-daae5f9fe2d2",
   "metadata": {},
   "outputs": [],
   "source": [
    "import pandas as pd\n",
    "import numpy as np\n",
    "import dataflows"
   ]
  },
  {
   "cell_type": "code",
   "execution_count": 12,
   "id": "66749d32-0f6b-43ec-a68b-3f546a084297",
   "metadata": {},
   "outputs": [
    {
     "data": {
      "text/html": [
       "<div>\n",
       "<style scoped>\n",
       "    .dataframe tbody tr th:only-of-type {\n",
       "        vertical-align: middle;\n",
       "    }\n",
       "\n",
       "    .dataframe tbody tr th {\n",
       "        vertical-align: top;\n",
       "    }\n",
       "\n",
       "    .dataframe thead th {\n",
       "        text-align: right;\n",
       "    }\n",
       "</style>\n",
       "<table border=\"1\" class=\"dataframe\">\n",
       "  <thead>\n",
       "    <tr style=\"text-align: right;\">\n",
       "      <th></th>\n",
       "      <th>Price</th>\n",
       "    </tr>\n",
       "    <tr>\n",
       "      <th>Date</th>\n",
       "      <th></th>\n",
       "    </tr>\n",
       "  </thead>\n",
       "  <tbody>\n",
       "    <tr>\n",
       "      <th>1987-10-12</th>\n",
       "      <td>19.67</td>\n",
       "    </tr>\n",
       "    <tr>\n",
       "      <th>2003-07-17</th>\n",
       "      <td>31.44</td>\n",
       "    </tr>\n",
       "    <tr>\n",
       "      <th>2000-01-14</th>\n",
       "      <td>28.01</td>\n",
       "    </tr>\n",
       "    <tr>\n",
       "      <th>2012-06-04</th>\n",
       "      <td>83.95</td>\n",
       "    </tr>\n",
       "    <tr>\n",
       "      <th>2001-03-26</th>\n",
       "      <td>27.40</td>\n",
       "    </tr>\n",
       "    <tr>\n",
       "      <th>...</th>\n",
       "      <td>...</td>\n",
       "    </tr>\n",
       "    <tr>\n",
       "      <th>2021-02-11</th>\n",
       "      <td>58.22</td>\n",
       "    </tr>\n",
       "    <tr>\n",
       "      <th>2009-04-29</th>\n",
       "      <td>50.19</td>\n",
       "    </tr>\n",
       "    <tr>\n",
       "      <th>1997-01-10</th>\n",
       "      <td>26.15</td>\n",
       "    </tr>\n",
       "    <tr>\n",
       "      <th>2002-03-01</th>\n",
       "      <td>22.37</td>\n",
       "    </tr>\n",
       "    <tr>\n",
       "      <th>2021-10-22</th>\n",
       "      <td>84.53</td>\n",
       "    </tr>\n",
       "  </tbody>\n",
       "</table>\n",
       "<p>950 rows × 1 columns</p>\n",
       "</div>"
      ],
      "text/plain": [
       "            Price\n",
       "Date             \n",
       "1987-10-12  19.67\n",
       "2003-07-17  31.44\n",
       "2000-01-14  28.01\n",
       "2012-06-04  83.95\n",
       "2001-03-26  27.40\n",
       "...           ...\n",
       "2021-02-11  58.22\n",
       "2009-04-29  50.19\n",
       "1997-01-10  26.15\n",
       "2002-03-01  22.37\n",
       "2021-10-22  84.53\n",
       "\n",
       "[950 rows x 1 columns]"
      ]
     },
     "execution_count": 12,
     "metadata": {},
     "output_type": "execute_result"
    }
   ],
   "source": [
    "df = pd.read_csv(\"/Users/ahmedabukar/Downloads/wti-daily.csv\",\n",
    "                parse_dates=[\"Date\"],\n",
    "                index_col=\"Date\")\n",
    "df.sample(frac=0.1)"
   ]
  },
  {
   "cell_type": "code",
   "execution_count": 17,
   "id": "251f021c-ac15-40f1-8a94-c30dc03b72ea",
   "metadata": {},
   "outputs": [
    {
     "data": {
      "text/plain": [
       "Price    22.384545\n",
       "dtype: float64"
      ]
     },
     "execution_count": 17,
     "metadata": {},
     "output_type": "execute_result"
    }
   ],
   "source": [
    "# what was the average price of oil in June 1992?\n",
    "df.loc[\"1992-06\"].mean()"
   ]
  },
  {
   "cell_type": "code",
   "execution_count": 16,
   "id": "13d6e8f5-60f8-489c-8397-09c3d8c4bd7f",
   "metadata": {},
   "outputs": [
    {
     "data": {
      "text/plain": [
       "Price    19.200512\n",
       "dtype: float64"
      ]
     },
     "execution_count": 16,
     "metadata": {},
     "output_type": "execute_result"
    }
   ],
   "source": [
    "# what was the average of a barrel in all of 1987?\n",
    "df.loc[\"1987\"].mean()"
   ]
  },
  {
   "cell_type": "code",
   "execution_count": 15,
   "id": "067a9f63-171d-4ce5-b517-0bbee94c3b53",
   "metadata": {},
   "outputs": [
    {
     "data": {
      "text/plain": [
       "Price    76.457834\n",
       "dtype: float64"
      ]
     },
     "execution_count": 15,
     "metadata": {},
     "output_type": "execute_result"
    }
   ],
   "source": [
    "# what was the average of oil from september 2003 through July 2014?\n",
    "df.loc[\"2003-9\" : \"2014-07\"].mean()"
   ]
  },
  {
   "cell_type": "code",
   "execution_count": 47,
   "id": "33035f56-4208-4163-ac86-38752c6ee643",
   "metadata": {},
   "outputs": [
    {
     "data": {
      "text/html": [
       "<div>\n",
       "<style scoped>\n",
       "    .dataframe tbody tr th:only-of-type {\n",
       "        vertical-align: middle;\n",
       "    }\n",
       "\n",
       "    .dataframe tbody tr th {\n",
       "        vertical-align: top;\n",
       "    }\n",
       "\n",
       "    .dataframe thead th {\n",
       "        text-align: right;\n",
       "    }\n",
       "</style>\n",
       "<table border=\"1\" class=\"dataframe\">\n",
       "  <thead>\n",
       "    <tr style=\"text-align: right;\">\n",
       "      <th></th>\n",
       "      <th>Price</th>\n",
       "    </tr>\n",
       "    <tr>\n",
       "      <th>Date</th>\n",
       "      <th></th>\n",
       "    </tr>\n",
       "  </thead>\n",
       "  <tbody>\n",
       "    <tr>\n",
       "      <th>1986-03-31</th>\n",
       "      <td>10.25</td>\n",
       "    </tr>\n",
       "    <tr>\n",
       "      <th>1986-06-30</th>\n",
       "      <td>12.80</td>\n",
       "    </tr>\n",
       "    <tr>\n",
       "      <th>1986-09-30</th>\n",
       "      <td>14.70</td>\n",
       "    </tr>\n",
       "    <tr>\n",
       "      <th>1986-12-31</th>\n",
       "      <td>17.93</td>\n",
       "    </tr>\n",
       "    <tr>\n",
       "      <th>1987-03-31</th>\n",
       "      <td>18.82</td>\n",
       "    </tr>\n",
       "    <tr>\n",
       "      <th>...</th>\n",
       "      <td>...</td>\n",
       "    </tr>\n",
       "    <tr>\n",
       "      <th>2022-03-31</th>\n",
       "      <td>100.53</td>\n",
       "    </tr>\n",
       "    <tr>\n",
       "      <th>2022-06-30</th>\n",
       "      <td>107.76</td>\n",
       "    </tr>\n",
       "    <tr>\n",
       "      <th>2022-09-30</th>\n",
       "      <td>79.91</td>\n",
       "    </tr>\n",
       "    <tr>\n",
       "      <th>2023-03-31</th>\n",
       "      <td>75.68</td>\n",
       "    </tr>\n",
       "    <tr>\n",
       "      <th>2023-06-30</th>\n",
       "      <td>70.66</td>\n",
       "    </tr>\n",
       "  </tbody>\n",
       "</table>\n",
       "<p>105 rows × 1 columns</p>\n",
       "</div>"
      ],
      "text/plain": [
       "             Price\n",
       "Date              \n",
       "1986-03-31   10.25\n",
       "1986-06-30   12.80\n",
       "1986-09-30   14.70\n",
       "1986-12-31   17.93\n",
       "1987-03-31   18.82\n",
       "...            ...\n",
       "2022-03-31  100.53\n",
       "2022-06-30  107.76\n",
       "2022-09-30   79.91\n",
       "2023-03-31   75.68\n",
       "2023-06-30   70.66\n",
       "\n",
       "[105 rows x 1 columns]"
      ]
     },
     "execution_count": 47,
     "metadata": {},
     "output_type": "execute_result"
    }
   ],
   "source": [
    "# show the price of oil at the end of each quarter in the data set?\n",
    "df[df.index.is_quarter_end]"
   ]
  },
  {
   "cell_type": "code",
   "execution_count": 26,
   "id": "9751c0e3-6a7b-4a4a-a8fd-6bcbe2626fc5",
   "metadata": {},
   "outputs": [
    {
     "data": {
      "text/plain": [
       "Date\n",
       "1986-12-31    15.047689\n",
       "1987-12-31    19.200512\n",
       "1988-12-31    15.965409\n",
       "1989-12-31    19.635486\n",
       "1990-12-31    24.526576\n",
       "1991-12-31    21.541367\n",
       "1992-12-31    20.575564\n",
       "1993-12-31    18.432200\n",
       "1994-12-31    17.196429\n",
       "1995-12-31    18.428805\n",
       "1996-12-31    22.119173\n",
       "1997-12-31    20.608254\n",
       "1998-12-31    14.422072\n",
       "1999-12-31    19.344980\n",
       "2000-12-31    30.378520\n",
       "2001-12-31    25.983120\n",
       "2002-12-31    26.184960\n",
       "2003-12-31    31.075240\n",
       "2004-12-31    41.506024\n",
       "2005-12-31    56.637251\n",
       "2006-12-31    66.054659\n",
       "2007-12-31    72.340595\n",
       "2008-12-31    99.671502\n",
       "2009-12-31    61.950437\n",
       "2010-12-31    79.475714\n",
       "2011-12-31    94.880873\n",
       "2012-12-31    94.053333\n",
       "2013-12-31    97.982540\n",
       "2014-12-31    93.172222\n",
       "2015-12-31    48.656706\n",
       "2016-12-31    43.293651\n",
       "2017-12-31    50.800320\n",
       "2018-12-31    65.227470\n",
       "2019-12-31    56.988320\n",
       "2020-12-31    39.160437\n",
       "2021-12-31    68.135100\n",
       "2022-12-31    94.902869\n",
       "2023-12-31    76.582753\n",
       "Freq: YE-DEC, Name: Price, dtype: float64"
      ]
     },
     "execution_count": 26,
     "metadata": {},
     "output_type": "execute_result"
    }
   ],
   "source": [
    "# for each year in the data set, show the average price?\n",
    "df.resample(\"YE\")[\"Price\"].mean()"
   ]
  },
  {
   "cell_type": "code",
   "execution_count": 48,
   "id": "b3b15c6c-5b54-4a9f-88f6-d506cbeaed90",
   "metadata": {},
   "outputs": [
    {
     "data": {
      "text/plain": [
       "idxmax   2008-07-03\n",
       "idxmin   2020-04-20\n",
       "Name: Price, dtype: datetime64[ns]"
      ]
     },
     "execution_count": 48,
     "metadata": {},
     "output_type": "execute_result"
    }
   ],
   "source": [
    "# On which dates were the oil prices highest? which were they lowest?\n",
    "df[\"Price\"].agg([\"idxmax\", \"idxmin\"])"
   ]
  },
  {
   "cell_type": "code",
   "execution_count": 49,
   "id": "23b87f82-b1b3-4fb3-b873-a2456fc51ff6",
   "metadata": {},
   "outputs": [
    {
     "data": {
      "text/html": [
       "<div>\n",
       "<style scoped>\n",
       "    .dataframe tbody tr th:only-of-type {\n",
       "        vertical-align: middle;\n",
       "    }\n",
       "\n",
       "    .dataframe tbody tr th {\n",
       "        vertical-align: top;\n",
       "    }\n",
       "\n",
       "    .dataframe thead th {\n",
       "        text-align: right;\n",
       "    }\n",
       "</style>\n",
       "<table border=\"1\" class=\"dataframe\">\n",
       "  <thead>\n",
       "    <tr style=\"text-align: right;\">\n",
       "      <th></th>\n",
       "      <th>mean</th>\n",
       "      <th>std</th>\n",
       "    </tr>\n",
       "    <tr>\n",
       "      <th>Date</th>\n",
       "      <th></th>\n",
       "      <th></th>\n",
       "    </tr>\n",
       "  </thead>\n",
       "  <tbody>\n",
       "    <tr>\n",
       "      <th>1986-03-31</th>\n",
       "      <td>17.217213</td>\n",
       "      <td>4.856866</td>\n",
       "    </tr>\n",
       "    <tr>\n",
       "      <th>1986-06-30</th>\n",
       "      <td>13.866094</td>\n",
       "      <td>1.346364</td>\n",
       "    </tr>\n",
       "    <tr>\n",
       "      <th>1986-09-30</th>\n",
       "      <td>13.813906</td>\n",
       "      <td>1.809548</td>\n",
       "    </tr>\n",
       "    <tr>\n",
       "      <th>1986-12-31</th>\n",
       "      <td>15.406452</td>\n",
       "      <td>0.824353</td>\n",
       "    </tr>\n",
       "    <tr>\n",
       "      <th>1987-03-31</th>\n",
       "      <td>18.250328</td>\n",
       "      <td>0.661624</td>\n",
       "    </tr>\n",
       "    <tr>\n",
       "      <th>...</th>\n",
       "      <td>...</td>\n",
       "      <td>...</td>\n",
       "    </tr>\n",
       "    <tr>\n",
       "      <th>2022-09-30</th>\n",
       "      <td>93.064063</td>\n",
       "      <td>7.675559</td>\n",
       "    </tr>\n",
       "    <tr>\n",
       "      <th>2022-12-31</th>\n",
       "      <td>82.787460</td>\n",
       "      <td>5.940568</td>\n",
       "    </tr>\n",
       "    <tr>\n",
       "      <th>2023-03-31</th>\n",
       "      <td>75.930161</td>\n",
       "      <td>3.759721</td>\n",
       "    </tr>\n",
       "    <tr>\n",
       "      <th>2023-06-30</th>\n",
       "      <td>73.538871</td>\n",
       "      <td>4.460238</td>\n",
       "    </tr>\n",
       "    <tr>\n",
       "      <th>2023-09-30</th>\n",
       "      <td>80.826852</td>\n",
       "      <td>5.056451</td>\n",
       "    </tr>\n",
       "  </tbody>\n",
       "</table>\n",
       "<p>151 rows × 2 columns</p>\n",
       "</div>"
      ],
      "text/plain": [
       "                 mean       std\n",
       "Date                           \n",
       "1986-03-31  17.217213  4.856866\n",
       "1986-06-30  13.866094  1.346364\n",
       "1986-09-30  13.813906  1.809548\n",
       "1986-12-31  15.406452  0.824353\n",
       "1987-03-31  18.250328  0.661624\n",
       "...               ...       ...\n",
       "2022-09-30  93.064063  7.675559\n",
       "2022-12-31  82.787460  5.940568\n",
       "2023-03-31  75.930161  3.759721\n",
       "2023-06-30  73.538871  4.460238\n",
       "2023-09-30  80.826852  5.056451\n",
       "\n",
       "[151 rows x 2 columns]"
      ]
     },
     "execution_count": 49,
     "metadata": {},
     "output_type": "execute_result"
    }
   ],
   "source": [
    "# find for each quarter, the mean and standard deviations in price?\n",
    "df.resample(\"QE\")[\"Price\"].agg([\"mean\", \"std\"])"
   ]
  },
  {
   "cell_type": "code",
   "execution_count": 54,
   "id": "a249d1ed-5d72-407b-a281-2f1902faffeb",
   "metadata": {},
   "outputs": [
    {
     "data": {
      "text/plain": [
       "Timestamp('2008-06-30 00:00:00')"
      ]
     },
     "execution_count": 54,
     "metadata": {},
     "output_type": "execute_result"
    }
   ],
   "source": [
    "# in which quarter did you see the biggest increase in mean price from the previous quarter?\n",
    "df.resample(\"QE\")[\"Price\"].mean().diff().idxmax()"
   ]
  },
  {
   "cell_type": "code",
   "execution_count": 58,
   "id": "b67ac2cb-3434-43a6-a476-40f45f75a5b7",
   "metadata": {},
   "outputs": [
    {
     "data": {
      "text/plain": [
       "0.47545580101006646"
      ]
     },
     "execution_count": 58,
     "metadata": {},
     "output_type": "execute_result"
    }
   ],
   "source": [
    "# what was the biggest percentage increase in oil prices across quarters?\n",
    "df.resample(\"QE\")[\"Price\"].mean().pct_change().max()"
   ]
  },
  {
   "cell_type": "code",
   "execution_count": null,
   "id": "01727860-be00-4bd9-84ac-79ae60f51017",
   "metadata": {},
   "outputs": [],
   "source": []
  }
 ],
 "metadata": {
  "kernelspec": {
   "display_name": "Python 3 (ipykernel)",
   "language": "python",
   "name": "python3"
  },
  "language_info": {
   "codemirror_mode": {
    "name": "ipython",
    "version": 3
   },
   "file_extension": ".py",
   "mimetype": "text/x-python",
   "name": "python",
   "nbconvert_exporter": "python",
   "pygments_lexer": "ipython3",
   "version": "3.12.4"
  }
 },
 "nbformat": 4,
 "nbformat_minor": 5
}
