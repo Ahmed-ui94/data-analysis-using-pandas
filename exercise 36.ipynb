{
 "cells": [
  {
   "cell_type": "code",
   "execution_count": 1,
   "id": "c8e27556-fe93-4e47-a1ce-6ee82c8ec46b",
   "metadata": {},
   "outputs": [],
   "source": [
    "import numpy as np\n",
    "import pandas as pd\n",
    "import string\n",
    "import re"
   ]
  },
  {
   "cell_type": "code",
   "execution_count": 2,
   "id": "6c3301d2-dfce-4860-8756-a53f749e09c9",
   "metadata": {},
   "outputs": [
    {
     "data": {
      "text/plain": [
       "0       [This, eBook, is, for, the, use, of, anyone, a...\n",
       "1       [almost, no, restrictions, whatsoever., You, m...\n",
       "2       [re-use, it, under, the, terms, of, the, Proje...\n",
       "3       [with, this, eBook, or, online, at, www.gutenb...\n",
       "4                         [Title:, Alice, in, Wonderland]\n",
       "                              ...                        \n",
       "1237                           [http://www.gutenberg.org]\n",
       "1238    [This, Web, site, includes, information, about...\n",
       "1239    [including, how, to, make, donations, to, the,...\n",
       "1240    [Archive, Foundation,, how, to, help, produce,...\n",
       "1241    [subscribe, to, our, email, newsletter, to, he...\n",
       "Name: The Project Gutenberg EBook of Alice in Wonderland, by Lewis Carroll, Length: 1242, dtype: object"
      ]
     },
     "execution_count": 2,
     "metadata": {},
     "output_type": "execute_result"
    }
   ],
   "source": [
    "df = (pd.read_csv(\"/Users/ahmedabukar/Downloads/:/data/alice-in-wonderland.txt\",\n",
    "                sep=\"\\t\")\n",
    "      .squeeze()\n",
    "      .str.split()\n",
    "     )\n",
    "df"
   ]
  },
  {
   "cell_type": "code",
   "execution_count": 3,
   "id": "14477c89-eeb0-4df1-88f1-1e4dc923c9ed",
   "metadata": {},
   "outputs": [
    {
     "data": {
      "text/plain": [
       "The Project Gutenberg EBook of Alice in Wonderland, by Lewis Carroll\n",
       "the     732\n",
       "and     363\n",
       "a       321\n",
       "to      311\n",
       "of      299\n",
       "in      210\n",
       "she     197\n",
       "was     160\n",
       "said    129\n",
       "you     122\n",
       "Name: count, dtype: int64"
      ]
     },
     "execution_count": 3,
     "metadata": {},
     "output_type": "execute_result"
    }
   ],
   "source": [
    "# what are the 10 most common words in the book?\n",
    "df.explode().value_counts().head(10)"
   ]
  },
  {
   "cell_type": "code",
   "execution_count": 4,
   "id": "b2815bc1-e871-41c0-a079-e91ec8da6b63",
   "metadata": {},
   "outputs": [
    {
     "data": {
      "text/plain": [
       "The Project Gutenberg EBook of Alice in Wonderland, by Lewis Carroll\n",
       "the    795\n",
       "and    381\n",
       "a      326\n",
       "to     318\n",
       "of     313\n",
       "she    233\n",
       "in     223\n",
       "was    160\n",
       "you    150\n",
       "it     140\n",
       "Name: count, dtype: int64"
      ]
     },
     "execution_count": 4,
     "metadata": {},
     "output_type": "execute_result"
    }
   ],
   "source": [
    "# does this change if count the words without regard to case?\n",
    "df.explode().str.lower().value_counts().head(10)"
   ]
  },
  {
   "cell_type": "code",
   "execution_count": 5,
   "id": "ceeac4eb-3c2a-4b81-9d9c-7926f510cefb",
   "metadata": {},
   "outputs": [],
   "source": [
    "# Does this change if you remove all the punctuations from the begining and ending?\n",
    "df = df.explode().reindex()\n",
    "\n",
    "def remove_punctuation(val):\n",
    "    if val[0] in string.punctuation:\n",
    "        val = val[1:]\n",
    "\n",
    "    if len(val) > 1:\n",
    "        if val[-1] in string.punctuation:\n",
    "            suffix = val[-1]\n",
    "            val = val[:-1]\n",
    "\n",
    "    return val\n",
    "\n"
   ]
  },
  {
   "cell_type": "code",
   "execution_count": 6,
   "id": "78d07973-828d-414e-b394-ea72c298ae46",
   "metadata": {},
   "outputs": [],
   "source": [
    "df = df.reset_index(drop=True)"
   ]
  },
  {
   "cell_type": "code",
   "execution_count": 7,
   "id": "94aff1e4-9506-4998-8400-c73ab183c343",
   "metadata": {},
   "outputs": [
    {
     "data": {
      "text/plain": [
       "The Project Gutenberg EBook of Alice in Wonderland, by Lewis Carroll\n",
       "the      734\n",
       "and      384\n",
       "a        322\n",
       "to       319\n",
       "of       300\n",
       "in       213\n",
       "she      200\n",
       "was      166\n",
       "Alice    163\n",
       "it       160\n",
       "Name: count, dtype: int64"
      ]
     },
     "execution_count": 7,
     "metadata": {},
     "output_type": "execute_result"
    }
   ],
   "source": [
    "df.apply(remove_punctuation).value_counts().head(10)"
   ]
  },
  {
   "cell_type": "code",
   "execution_count": 8,
   "id": "18f0f898-d05e-44e0-b7ad-43a45fe6b4a2",
   "metadata": {},
   "outputs": [
    {
     "data": {
      "text/plain": [
       "1524"
      ]
     },
     "execution_count": 8,
     "metadata": {},
     "output_type": "execute_result"
    }
   ],
   "source": [
    "# how many capitalized words does the book contain?\n",
    "df.loc[df.str.istitle()].count()"
   ]
  },
  {
   "cell_type": "code",
   "execution_count": 9,
   "id": "34e9f620-ed7f-48c1-b623-cd89fc5396f2",
   "metadata": {},
   "outputs": [
    {
     "data": {
      "text/plain": [
       "1524"
      ]
     },
     "execution_count": 9,
     "metadata": {},
     "output_type": "execute_result"
    }
   ],
   "source": [
    "# if you ignore punctuation and quotes before the start of a word, h\n",
    "# how many capitalized words does the book contain? -- 1524, no change\n",
    "(\n",
    "    df\n",
    "    .str\n",
    "    .lstrip(string.punctuation)\n",
    "    .str\n",
    "    .istitle()\n",
    "    .sum()\n",
    ")"
   ]
  },
  {
   "cell_type": "code",
   "execution_count": 10,
   "id": "794bcde1-992b-44c0-9a32-de4a1c934c06",
   "metadata": {},
   "outputs": [
    {
     "data": {
      "text/plain": [
       "1.5788111668757843"
      ]
     },
     "execution_count": 10,
     "metadata": {},
     "output_type": "execute_result"
    }
   ],
   "source": [
    "# count the number of vowels in each word.\n",
    "# what is the average number of vowels per word?\n",
    "def count_vowels(val):\n",
    "    pattern = re.compile(r\"[aeiou]\")\n",
    "\n",
    "    return len(pattern.findall(val))\n",
    "\n",
    "df.apply(count_vowels).mean()"
   ]
  },
  {
   "cell_type": "code",
   "execution_count": 11,
   "id": "b1c5cbe4-a4aa-48d5-bdf8-faea4275df78",
   "metadata": {},
   "outputs": [
    {
     "data": {
      "text/plain": [
       "The Project Gutenberg EBook of Alice in Wonderland, by Lewis Carroll\n",
       "the      735\n",
       "and      384\n",
       "a        322\n",
       "to       320\n",
       "of       302\n",
       "in       213\n",
       "she      201\n",
       "was      167\n",
       "Alice    165\n",
       "it       164\n",
       "Name: count, dtype: int64"
      ]
     },
     "execution_count": 11,
     "metadata": {},
     "output_type": "execute_result"
    }
   ],
   "source": [
    "# remove the punctuation from start and end and the \n",
    "df.str.strip(string.punctuation).value_counts().head(10)"
   ]
  },
  {
   "cell_type": "code",
   "execution_count": 12,
   "id": "d90ef7c2-eb3e-420d-b98c-32858d81d897",
   "metadata": {},
   "outputs": [
    {
     "data": {
      "text/plain": [
       "1679"
      ]
     },
     "execution_count": 12,
     "metadata": {},
     "output_type": "execute_result"
    }
   ],
   "source": [
    "(\n",
    "    df\n",
    "    .loc[df.str.strip(string.punctuation )\n",
    "    .str\n",
    "\n",
    "    .contains(r'^[A-Z]\\w*$', regex=True)]\n",
    ".count() \n",
    ")\n"
   ]
  },
  {
   "cell_type": "code",
   "execution_count": 13,
   "id": "0f2d5727-52a2-43d7-bfaa-a014c19d4e35",
   "metadata": {},
   "outputs": [
    {
     "data": {
      "text/plain": [
       "766.8333333333334"
      ]
     },
     "execution_count": 13,
     "metadata": {},
     "output_type": "execute_result"
    }
   ],
   "source": [
    "# what is the mean of all integers in Alice?\n",
    "df.loc[df.str.isdigit()].astype(int).mean()"
   ]
  },
  {
   "cell_type": "code",
   "execution_count": 14,
   "id": "9984d350-92d2-49b6-8fcd-089fd2d40eb1",
   "metadata": {},
   "outputs": [],
   "source": [
    "s = df[df.str.contains(r\"\\d+\", regex=True)].str.strip(string.punctuation + string.ascii_letters)"
   ]
  },
  {
   "cell_type": "code",
   "execution_count": 15,
   "id": "5395d4a0-5af2-478b-81e5-e6c5eae52e12",
   "metadata": {},
   "outputs": [
    {
     "data": {
      "text/plain": [
       "'1.E.3'"
      ]
     },
     "execution_count": 15,
     "metadata": {},
     "output_type": "execute_result"
    }
   ],
   "source": [
    "s.str.replace(string.ascii_letters + string.punctuation, \"\").iloc[22]"
   ]
  },
  {
   "cell_type": "code",
   "execution_count": 16,
   "id": "8cb9923b-24c1-424a-a9f8-5ec6b964570c",
   "metadata": {},
   "outputs": [
    {
     "data": {
      "text/plain": [
       "6023.444444444444"
      ]
     },
     "execution_count": 16,
     "metadata": {},
     "output_type": "execute_result"
    }
   ],
   "source": [
    "pd.to_numeric(s, errors=\"coerce\").dropna().mean()"
   ]
  },
  {
   "cell_type": "code",
   "execution_count": 19,
   "id": "4507006a-ad36-4cd4-aceb-ff5b8f098a7d",
   "metadata": {},
   "outputs": [
    {
     "data": {
      "text/plain": [
       "The Project Gutenberg EBook of Alice in Wonderland, by Lewis Carroll\n",
       "Project         77\n",
       "Gutenberg-tm    53\n",
       "She             36\n",
       "Alice,          29\n",
       "Alice.          27\n",
       "Name: count, dtype: int64"
      ]
     },
     "execution_count": 19,
     "metadata": {},
     "output_type": "execute_result"
    }
   ],
   "source": [
    "#what words in Alice don't appear in the dictionary?\n",
    "# and what are the five most common words?\n",
    "filename = \"/Users/ahmedabukar/Downloads/words_dictionary/words.txt\"\n",
    "dictionary = pd.Series(open(filename).read().split())\n",
    "\n",
    "df.loc[~(df.isin(dictionary))].value_counts().head()"
   ]
  },
  {
   "cell_type": "code",
   "execution_count": 35,
   "id": "e419c763-c682-496e-b7b3-6130b51b15ca",
   "metadata": {},
   "outputs": [
    {
     "data": {
      "text/plain": [
       "count         1.0\n",
       "mean     235886.0\n",
       "std           NaN\n",
       "min      235886.0\n",
       "25%      235886.0\n",
       "50%      235886.0\n",
       "75%      235886.0\n",
       "max      235886.0\n",
       "dtype: float64"
      ]
     },
     "execution_count": 35,
     "metadata": {},
     "output_type": "execute_result"
    }
   ],
   "source": [
    "# what are the minimum and maximum number of words per paragraph?\n",
    "# identify paragraph points in the alice book\n",
    "s = pd.Series(open(filename).read().split(\"\\n\\n\"))\n",
    "s.str.split().str.len().describe()"
   ]
  },
  {
   "cell_type": "code",
   "execution_count": null,
   "id": "7db6c01a-267f-4de1-94a0-e11c523133ba",
   "metadata": {},
   "outputs": [],
   "source": []
  }
 ],
 "metadata": {
  "kernelspec": {
   "display_name": "Python 3 (ipykernel)",
   "language": "python",
   "name": "python3"
  },
  "language_info": {
   "codemirror_mode": {
    "name": "ipython",
    "version": 3
   },
   "file_extension": ".py",
   "mimetype": "text/x-python",
   "name": "python",
   "nbconvert_exporter": "python",
   "pygments_lexer": "ipython3",
   "version": "3.12.4"
  }
 },
 "nbformat": 4,
 "nbformat_minor": 5
}
