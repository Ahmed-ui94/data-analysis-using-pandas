{
 "cells": [
  {
   "cell_type": "code",
   "execution_count": 2,
   "id": "158eacfc-d4f7-43b5-bbba-c6df270d0cf6",
   "metadata": {},
   "outputs": [],
   "source": [
    "import numpy as np\n",
    "import pandas as pd"
   ]
  },
  {
   "cell_type": "code",
   "execution_count": 3,
   "id": "2de1a485-5cc7-4c8b-942f-4ffc7f7a4c35",
   "metadata": {},
   "outputs": [],
   "source": [
    "g = np.random.default_rng(0)\n",
    "measurement = pd.Series(g.normal(0, 100, 100_000))"
   ]
  },
  {
   "cell_type": "code",
   "execution_count": 4,
   "id": "d9d5f09f-d014-464c-a005-2d48cc759e98",
   "metadata": {},
   "outputs": [
    {
     "data": {
      "text/plain": [
       "count    100000.000000\n",
       "mean         -0.090825\n",
       "std         100.013350\n",
       "min        -449.411704\n",
       "25%         -67.292120\n",
       "50%          -0.414699\n",
       "75%          67.636542\n",
       "max         473.195769\n",
       "dtype: float64"
      ]
     },
     "execution_count": 4,
     "metadata": {},
     "output_type": "execute_result"
    }
   ],
   "source": [
    "measurement.describe()"
   ]
  },
  {
   "cell_type": "code",
   "execution_count": 5,
   "id": "83131870-8c54-4fc0-8ae8-794de915f6e5",
   "metadata": {},
   "outputs": [],
   "source": [
    "std = measurement.describe()[\"std\"]\n",
    "mean = measurement.describe()[\"mean\"]"
   ]
  },
  {
   "cell_type": "code",
   "execution_count": 7,
   "id": "3416864c-ad4f-4823-b4ed-958e22e188d5",
   "metadata": {},
   "outputs": [
    {
     "data": {
      "text/plain": [
       "0.68396"
      ]
     },
     "execution_count": 7,
     "metadata": {},
     "output_type": "execute_result"
    }
   ],
   "source": [
    "np.sum(np.abs(measurement - mean) < std) / 100_000"
   ]
  },
  {
   "cell_type": "code",
   "execution_count": 12,
   "id": "dce2ee9d-3934-484e-90c1-100009851b4e",
   "metadata": {},
   "outputs": [],
   "source": [
    "# Calculate the mean of numbers greater than s.mean()\n",
    "above = measurement.loc[measurement > measurement.mean()].mean()"
   ]
  },
  {
   "cell_type": "code",
   "execution_count": 13,
   "id": "655cf55b-3f58-4fd2-9318-67fa04e0297a",
   "metadata": {},
   "outputs": [],
   "source": [
    "# Calculate the mean of numbers less than s.mean()\n",
    "below = measurement.loc[measurement < measurement.mean()].mean()"
   ]
  },
  {
   "cell_type": "code",
   "execution_count": 14,
   "id": "0f7559eb-6588-4ecd-a683-7bf3bd99c5ee",
   "metadata": {},
   "outputs": [
    {
     "data": {
      "text/plain": [
       "0.12941477214820907"
      ]
     },
     "execution_count": 14,
     "metadata": {},
     "output_type": "execute_result"
    }
   ],
   "source": [
    "(above + below)/2"
   ]
  },
  {
   "cell_type": "code",
   "execution_count": 18,
   "id": "46426553-12f3-434e-a9cf-ada3c4db9c33",
   "metadata": {},
   "outputs": [
    {
     "data": {
      "text/plain": [
       "330.1412595672123"
      ]
     },
     "execution_count": 18,
     "metadata": {},
     "output_type": "execute_result"
    }
   ],
   "source": [
    "measurement.loc[measurement > (3 * std)].mean()"
   ]
  },
  {
   "cell_type": "code",
   "execution_count": 23,
   "id": "e42b7100-46a2-4b4e-89ab-f57aab4d6cfc",
   "metadata": {},
   "outputs": [],
   "source": [
    "temperature = pd.Series(g.normal(20, 5, 28), index = \"Sun Mon Tue Wed Thur Fri Sat\".split() * 4).round().astype(np.int8)"
   ]
  },
  {
   "cell_type": "code",
   "execution_count": 24,
   "id": "9f109a6e-e86c-40b0-9e7e-bae07b85210b",
   "metadata": {},
   "outputs": [
    {
     "data": {
      "text/plain": [
       "Sun     16\n",
       "Mon     21\n",
       "Tue     11\n",
       "Wed     28\n",
       "Thur    19\n",
       "Fri     23\n",
       "Sat     19\n",
       "Sun     22\n",
       "Mon     23\n",
       "Tue     14\n",
       "Wed     20\n",
       "Thur    20\n",
       "Fri     19\n",
       "Sat     23\n",
       "Sun     23\n",
       "Mon     19\n",
       "Tue     17\n",
       "Wed     26\n",
       "Thur    23\n",
       "Fri     26\n",
       "Sat     21\n",
       "Sun     20\n",
       "Mon     21\n",
       "Tue     18\n",
       "Wed     16\n",
       "Thur    21\n",
       "Fri     11\n",
       "Sat     23\n",
       "dtype: int8"
      ]
     },
     "execution_count": 24,
     "metadata": {},
     "output_type": "execute_result"
    }
   ],
   "source": [
    "temperature"
   ]
  },
  {
   "cell_type": "code",
   "execution_count": 26,
   "id": "5b9cf28a-97e0-482e-87e4-2c4dab4a4c77",
   "metadata": {},
   "outputs": [
    {
     "data": {
      "text/plain": [
       "Mon    21\n",
       "Mon    23\n",
       "Mon    19\n",
       "Mon    21\n",
       "dtype: int8"
      ]
     },
     "execution_count": 26,
     "metadata": {},
     "output_type": "execute_result"
    }
   ],
   "source": [
    "temperature.loc[\"Mon\"]"
   ]
  },
  {
   "cell_type": "code",
   "execution_count": 28,
   "id": "8ff08287-f51c-4a3f-9882-0d41bd7c2e44",
   "metadata": {},
   "outputs": [
    {
     "data": {
      "text/plain": [
       "20.875"
      ]
     },
     "execution_count": 28,
     "metadata": {},
     "output_type": "execute_result"
    }
   ],
   "source": [
    "# What was the average weekend temperature (i.e., Saturdays and Sundays)?\n",
    "temperature.loc[[\"Sat\", \"Sun\"]].mean()"
   ]
  },
  {
   "cell_type": "code",
   "execution_count": 39,
   "id": "8ccfa86d-bee0-4278-9af2-926a60fc8e09",
   "metadata": {},
   "outputs": [
    {
     "data": {
      "text/plain": [
       "Mon     21\n",
       "Wed     28\n",
       "Fri     23\n",
       "Wed     20\n",
       "Sat     23\n",
       "Wed     26\n",
       "Thur    21\n",
       "Sat     23\n",
       "dtype: int8"
      ]
     },
     "execution_count": 39,
     "metadata": {},
     "output_type": "execute_result"
    }
   ],
   "source": [
    "# How many times is the change in temperature from the previous day greater\n",
    "# than 2 degrees?\n",
    "temperature[temperature.pct_change() * 10 > 2]"
   ]
  },
  {
   "cell_type": "code",
   "execution_count": 41,
   "id": "15f9986f-9a7d-42da-b40b-d8e0f9a1970b",
   "metadata": {},
   "outputs": [
    {
     "data": {
      "text/plain": [
       "23    6\n",
       "21    4\n",
       "dtype: int64"
      ]
     },
     "execution_count": 41,
     "metadata": {},
     "output_type": "execute_result"
    }
   ],
   "source": [
    "# What are the two most common temperatures in our data set, and how often\n",
    "# does each appear?\n",
    "temperature.value_counts().head(2)"
   ]
  },
  {
   "cell_type": "code",
   "execution_count": null,
   "id": "80dba432-0177-49ee-985b-d5c41156876d",
   "metadata": {},
   "outputs": [],
   "source": []
  }
 ],
 "metadata": {
  "kernelspec": {
   "display_name": "Python 3 (ipykernel)",
   "language": "python",
   "name": "python3"
  },
  "language_info": {
   "codemirror_mode": {
    "name": "ipython",
    "version": 3
   },
   "file_extension": ".py",
   "mimetype": "text/x-python",
   "name": "python",
   "nbconvert_exporter": "python",
   "pygments_lexer": "ipython3",
   "version": "3.9.19"
  }
 },
 "nbformat": 4,
 "nbformat_minor": 5
}
