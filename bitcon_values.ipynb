{
 "cells": [
  {
   "cell_type": "code",
   "execution_count": 1,
   "id": "85b2f21b-1fe0-4fdd-b56a-3ac81a8a9edc",
   "metadata": {},
   "outputs": [],
   "source": [
    "import pandas as pd\n",
    "import numpy as np\n",
    "import pyarrow\n",
    "import requests\n",
    "from io import StringIO\n",
    "from datetime import date, datetime"
   ]
  },
  {
   "cell_type": "code",
   "execution_count": 2,
   "id": "0496fdd4-7f9c-4aff-86b3-3a80ae5efcd6",
   "metadata": {},
   "outputs": [
    {
     "data": {
      "text/html": [
       "<div>\n",
       "<style scoped>\n",
       "    .dataframe tbody tr th:only-of-type {\n",
       "        vertical-align: middle;\n",
       "    }\n",
       "\n",
       "    .dataframe tbody tr th {\n",
       "        vertical-align: top;\n",
       "    }\n",
       "\n",
       "    .dataframe thead th {\n",
       "        text-align: right;\n",
       "    }\n",
       "</style>\n",
       "<table border=\"1\" class=\"dataframe\">\n",
       "  <thead>\n",
       "    <tr style=\"text-align: right;\">\n",
       "      <th></th>\n",
       "      <th>Date</th>\n",
       "      <th>market_price</th>\n",
       "    </tr>\n",
       "  </thead>\n",
       "  <tbody>\n",
       "    <tr>\n",
       "      <th>0</th>\n",
       "      <td>2023-06-26 00:00:00</td>\n",
       "      <td>30458.97</td>\n",
       "    </tr>\n",
       "    <tr>\n",
       "      <th>1</th>\n",
       "      <td>2023-06-27 00:00:00</td>\n",
       "      <td>30266.70</td>\n",
       "    </tr>\n",
       "    <tr>\n",
       "      <th>2</th>\n",
       "      <td>2023-06-28 00:00:00</td>\n",
       "      <td>30699.11</td>\n",
       "    </tr>\n",
       "    <tr>\n",
       "      <th>3</th>\n",
       "      <td>2023-06-29 00:00:00</td>\n",
       "      <td>30083.59</td>\n",
       "    </tr>\n",
       "    <tr>\n",
       "      <th>4</th>\n",
       "      <td>2023-06-30 00:00:00</td>\n",
       "      <td>30449.16</td>\n",
       "    </tr>\n",
       "    <tr>\n",
       "      <th>...</th>\n",
       "      <td>...</td>\n",
       "      <td>...</td>\n",
       "    </tr>\n",
       "    <tr>\n",
       "      <th>361</th>\n",
       "      <td>2024-06-21 00:00:00</td>\n",
       "      <td>64830.29</td>\n",
       "    </tr>\n",
       "    <tr>\n",
       "      <th>362</th>\n",
       "      <td>2024-06-22 00:00:00</td>\n",
       "      <td>64095.50</td>\n",
       "    </tr>\n",
       "    <tr>\n",
       "      <th>363</th>\n",
       "      <td>2024-06-23 00:00:00</td>\n",
       "      <td>64251.26</td>\n",
       "    </tr>\n",
       "    <tr>\n",
       "      <th>364</th>\n",
       "      <td>2024-06-24 00:00:00</td>\n",
       "      <td>63167.30</td>\n",
       "    </tr>\n",
       "    <tr>\n",
       "      <th>365</th>\n",
       "      <td>2024-06-25 00:00:00</td>\n",
       "      <td>60279.54</td>\n",
       "    </tr>\n",
       "  </tbody>\n",
       "</table>\n",
       "<p>366 rows × 2 columns</p>\n",
       "</div>"
      ],
      "text/plain": [
       "                    Date  market_price\n",
       "0    2023-06-26 00:00:00      30458.97\n",
       "1    2023-06-27 00:00:00      30266.70\n",
       "2    2023-06-28 00:00:00      30699.11\n",
       "3    2023-06-29 00:00:00      30083.59\n",
       "4    2023-06-30 00:00:00      30449.16\n",
       "..                   ...           ...\n",
       "361  2024-06-21 00:00:00      64830.29\n",
       "362  2024-06-22 00:00:00      64095.50\n",
       "363  2024-06-23 00:00:00      64251.26\n",
       "364  2024-06-24 00:00:00      63167.30\n",
       "365  2024-06-25 00:00:00      60279.54\n",
       "\n",
       "[366 rows x 2 columns]"
      ]
     },
     "execution_count": 2,
     "metadata": {},
     "output_type": "execute_result"
    }
   ],
   "source": [
    "df = pd.read_csv(\"/Users/ahmedabukar/Downloads/market-price.csv\", \n",
    "                names=[\"Date\", \"market_price\"])\n",
    "df"
   ]
  },
  {
   "cell_type": "code",
   "execution_count": 3,
   "id": "1febea16-5b1a-48fd-b241-dcf2451ccc25",
   "metadata": {},
   "outputs": [],
   "source": [
    "df[\"Date\"] = pd.to_datetime(df[\"Date\"])"
   ]
  },
  {
   "cell_type": "code",
   "execution_count": 4,
   "id": "78802666-96d3-4ce4-9093-8b27b940c4e7",
   "metadata": {},
   "outputs": [
    {
     "data": {
      "text/plain": [
       "Series([], Name: market_price, dtype: float64)"
      ]
     },
     "execution_count": 4,
     "metadata": {},
     "output_type": "execute_result"
    }
   ],
   "source": [
    "#closing price for most recent day\n",
    "today = date.today().strftime(\"%Y-%m-%d\")\n",
    "df.loc[df[\"Date\"] == today, \"market_price\"]"
   ]
  },
  {
   "cell_type": "code",
   "execution_count": 5,
   "id": "085636a3-a9a7-44b9-a10f-5a6ef234b86d",
   "metadata": {},
   "outputs": [
    {
     "data": {
      "text/html": [
       "<div>\n",
       "<style scoped>\n",
       "    .dataframe tbody tr th:only-of-type {\n",
       "        vertical-align: middle;\n",
       "    }\n",
       "\n",
       "    .dataframe tbody tr th {\n",
       "        vertical-align: top;\n",
       "    }\n",
       "\n",
       "    .dataframe thead th {\n",
       "        text-align: right;\n",
       "    }\n",
       "</style>\n",
       "<table border=\"1\" class=\"dataframe\">\n",
       "  <thead>\n",
       "    <tr style=\"text-align: right;\">\n",
       "      <th></th>\n",
       "      <th>Date</th>\n",
       "      <th>market_price</th>\n",
       "    </tr>\n",
       "  </thead>\n",
       "  <tbody>\n",
       "    <tr>\n",
       "      <th>78</th>\n",
       "      <td>2023-09-12</td>\n",
       "      <td>25162.7</td>\n",
       "    </tr>\n",
       "  </tbody>\n",
       "</table>\n",
       "</div>"
      ],
      "text/plain": [
       "         Date  market_price\n",
       "78 2023-09-12       25162.7"
      ]
     },
     "execution_count": 5,
     "metadata": {},
     "output_type": "execute_result"
    }
   ],
   "source": [
    "# the lowest historical price and its date\n",
    "df.loc[df[\"market_price\"] == df[\"market_price\"].min()]"
   ]
  },
  {
   "cell_type": "code",
   "execution_count": 6,
   "id": "50c6d710-1c70-4aa3-abfc-35d834bfcad3",
   "metadata": {},
   "outputs": [
    {
     "data": {
      "text/html": [
       "<div>\n",
       "<style scoped>\n",
       "    .dataframe tbody tr th:only-of-type {\n",
       "        vertical-align: middle;\n",
       "    }\n",
       "\n",
       "    .dataframe tbody tr th {\n",
       "        vertical-align: top;\n",
       "    }\n",
       "\n",
       "    .dataframe thead th {\n",
       "        text-align: right;\n",
       "    }\n",
       "</style>\n",
       "<table border=\"1\" class=\"dataframe\">\n",
       "  <thead>\n",
       "    <tr style=\"text-align: right;\">\n",
       "      <th></th>\n",
       "      <th>Date</th>\n",
       "      <th>market_price</th>\n",
       "    </tr>\n",
       "  </thead>\n",
       "  <tbody>\n",
       "    <tr>\n",
       "      <th>262</th>\n",
       "      <td>2024-03-14</td>\n",
       "      <td>73094.37</td>\n",
       "    </tr>\n",
       "  </tbody>\n",
       "</table>\n",
       "</div>"
      ],
      "text/plain": [
       "          Date  market_price\n",
       "262 2024-03-14      73094.37"
      ]
     },
     "execution_count": 6,
     "metadata": {},
     "output_type": "execute_result"
    }
   ],
   "source": [
    "# the highest historical price and its date\n",
    "df.loc[df[\"market_price\"] == df[\"market_price\"].max()]"
   ]
  },
  {
   "cell_type": "markdown",
   "id": "0b9c3569-9f9b-4e82-ad2b-3548513a8d67",
   "metadata": {},
   "source": [
    "# beyond exercise"
   ]
  },
  {
   "cell_type": "code",
   "execution_count": 7,
   "id": "e149d167-270f-4dd0-9215-133fb897f984",
   "metadata": {},
   "outputs": [],
   "source": [
    "r = requests.get(\"https://finance.yahoo.com/quote/%5EGSPC/history?p=% 5EGSPC\",\n",
    "                headers={\"User-Agent\" : \"Mozilla/5.0 (Windows NT 10.0; WOW64) \\\n",
    "                   AppleWebKit/537.36 (KHTML, like Gecko) Chrome/54.0.2840.99 Safari/537.36\"})\n",
    "s = StringIO(r.content.decode())\n",
    "df1 = pd.read_html(s, parse_dates=True)"
   ]
  },
  {
   "cell_type": "code",
   "execution_count": 8,
   "id": "e47b12a8-ced2-4ba8-92e7-65fc3b152a29",
   "metadata": {},
   "outputs": [],
   "source": [
    "df2 = df1[0].loc[:, [\"Date\", \"Close Close price adjusted for splits.\", \"Volume\"]]"
   ]
  },
  {
   "cell_type": "code",
   "execution_count": 9,
   "id": "c70ee80d-00ec-4466-b0fa-9668b8b7461a",
   "metadata": {},
   "outputs": [],
   "source": [
    "df2 = df2.rename({\"Close Close price adjusted for splits.\" : \"Close\"}, axis=1)"
   ]
  },
  {
   "cell_type": "code",
   "execution_count": 10,
   "id": "081b4b16-2ed5-4b24-a4fa-d4b7def83a3b",
   "metadata": {},
   "outputs": [
    {
     "data": {
      "text/html": [
       "<div>\n",
       "<style scoped>\n",
       "    .dataframe tbody tr th:only-of-type {\n",
       "        vertical-align: middle;\n",
       "    }\n",
       "\n",
       "    .dataframe tbody tr th {\n",
       "        vertical-align: top;\n",
       "    }\n",
       "\n",
       "    .dataframe thead th {\n",
       "        text-align: right;\n",
       "    }\n",
       "</style>\n",
       "<table border=\"1\" class=\"dataframe\">\n",
       "  <thead>\n",
       "    <tr style=\"text-align: right;\">\n",
       "      <th></th>\n",
       "      <th>Date</th>\n",
       "      <th>Close</th>\n",
       "      <th>Volume</th>\n",
       "    </tr>\n",
       "  </thead>\n",
       "  <tbody>\n",
       "    <tr>\n",
       "      <th>0</th>\n",
       "      <td>Jun 28, 2024</td>\n",
       "      <td>5460.48</td>\n",
       "      <td>7199220000</td>\n",
       "    </tr>\n",
       "    <tr>\n",
       "      <th>1</th>\n",
       "      <td>Jun 27, 2024</td>\n",
       "      <td>5482.87</td>\n",
       "      <td>3589530000</td>\n",
       "    </tr>\n",
       "    <tr>\n",
       "      <th>2</th>\n",
       "      <td>Jun 26, 2024</td>\n",
       "      <td>5477.90</td>\n",
       "      <td>3563920000</td>\n",
       "    </tr>\n",
       "    <tr>\n",
       "      <th>3</th>\n",
       "      <td>Jun 25, 2024</td>\n",
       "      <td>5469.30</td>\n",
       "      <td>3591960000</td>\n",
       "    </tr>\n",
       "    <tr>\n",
       "      <th>4</th>\n",
       "      <td>Jun 24, 2024</td>\n",
       "      <td>5447.87</td>\n",
       "      <td>3696750000</td>\n",
       "    </tr>\n",
       "    <tr>\n",
       "      <th>...</th>\n",
       "      <td>...</td>\n",
       "      <td>...</td>\n",
       "      <td>...</td>\n",
       "    </tr>\n",
       "    <tr>\n",
       "      <th>247</th>\n",
       "      <td>Jul 6, 2023</td>\n",
       "      <td>4411.59</td>\n",
       "      <td>3682020000</td>\n",
       "    </tr>\n",
       "    <tr>\n",
       "      <th>248</th>\n",
       "      <td>Jul 5, 2023</td>\n",
       "      <td>4446.82</td>\n",
       "      <td>3482620000</td>\n",
       "    </tr>\n",
       "    <tr>\n",
       "      <th>249</th>\n",
       "      <td>Jul 3, 2023</td>\n",
       "      <td>4455.59</td>\n",
       "      <td>2034280000</td>\n",
       "    </tr>\n",
       "    <tr>\n",
       "      <th>250</th>\n",
       "      <td>Jun 30, 2023</td>\n",
       "      <td>4450.38</td>\n",
       "      <td>3923450000</td>\n",
       "    </tr>\n",
       "    <tr>\n",
       "      <th>251</th>\n",
       "      <td>Jun 29, 2023</td>\n",
       "      <td>4396.44</td>\n",
       "      <td>3696660000</td>\n",
       "    </tr>\n",
       "  </tbody>\n",
       "</table>\n",
       "<p>252 rows × 3 columns</p>\n",
       "</div>"
      ],
      "text/plain": [
       "             Date    Close      Volume\n",
       "0    Jun 28, 2024  5460.48  7199220000\n",
       "1    Jun 27, 2024  5482.87  3589530000\n",
       "2    Jun 26, 2024  5477.90  3563920000\n",
       "3    Jun 25, 2024  5469.30  3591960000\n",
       "4    Jun 24, 2024  5447.87  3696750000\n",
       "..            ...      ...         ...\n",
       "247   Jul 6, 2023  4411.59  3682020000\n",
       "248   Jul 5, 2023  4446.82  3482620000\n",
       "249   Jul 3, 2023  4455.59  2034280000\n",
       "250  Jun 30, 2023  4450.38  3923450000\n",
       "251  Jun 29, 2023  4396.44  3696660000\n",
       "\n",
       "[252 rows x 3 columns]"
      ]
     },
     "execution_count": 10,
     "metadata": {},
     "output_type": "execute_result"
    }
   ],
   "source": [
    "df2"
   ]
  },
  {
   "cell_type": "code",
   "execution_count": 13,
   "id": "eb77fdac-4b2e-4b7a-bbea-fa1d251fae66",
   "metadata": {},
   "outputs": [
    {
     "name": "stdout",
     "output_type": "stream",
     "text": [
      "1.59 ms ± 55.8 µs per loop (mean ± std. dev. of 7 runs, 1,000 loops each)\n"
     ]
    }
   ],
   "source": [
    "%%timeit\n",
    "#create a two dataframe and write to csv file\n",
    "df_to_csv = df1[0].loc[:, [\"High\", \"Low\"]]\n",
    "df_to_csv.to_csv(\"S & P 500.csv\", index=False)"
   ]
  },
  {
   "cell_type": "code",
   "execution_count": null,
   "id": "6f1be188-b561-41cc-aced-7189c97ca293",
   "metadata": {},
   "outputs": [],
   "source": []
  }
 ],
 "metadata": {
  "kernelspec": {
   "display_name": "Python 3 (ipykernel)",
   "language": "python",
   "name": "python3"
  },
  "language_info": {
   "codemirror_mode": {
    "name": "ipython",
    "version": 3
   },
   "file_extension": ".py",
   "mimetype": "text/x-python",
   "name": "python",
   "nbconvert_exporter": "python",
   "pygments_lexer": "ipython3",
   "version": "3.11.7"
  }
 },
 "nbformat": 4,
 "nbformat_minor": 5
}
